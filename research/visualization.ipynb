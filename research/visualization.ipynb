{
 "cells": [
  {
   "cell_type": "markdown",
   "metadata": {},
   "source": [
    "## Ratings visualization notebook\n",
    "\n",
    "Notebook containing implementations for different Elo rating visualizations. I figured\n",
    "this would be a little more intuitive than yet another script."
   ]
  },
  {
   "cell_type": "code",
   "execution_count": 206,
   "metadata": {},
   "outputs": [],
   "source": [
    "from bs4 import BeautifulSoup\n",
    "from datetime import date, datetime, timedelta\n",
    "import matplotlib.pyplot as plt\n",
    "import os\n",
    "import pandas as pd\n",
    "import plotly.graph_objects as go\n",
    "import requests\n",
    "import sys\n",
    "\n",
    "sys.path.append('/Users/samuelhmorton/indiv_projects/work/velo-research')\n",
    "from ratings import utils"
   ]
  },
  {
   "cell_type": "code",
   "execution_count": 207,
   "metadata": {},
   "outputs": [],
   "source": [
    "# ===== notebook constants ===== #\n",
    "RACE_TYPE = 'GC'\n",
    "GENDER = 'women'\n",
    "RATINGS_DATA_PATH = f'../data/system-data/{RACE_TYPE.lower()}_{GENDER}.csv'\n",
    "RACE_RESULTS_PATH = f'../data/{GENDER}_velodata.csv'\n",
    "\n",
    "# ===== individual race params ===== #\n",
    "RACE = 'tour-de-suisse-women'\n",
    "YEAR = 2022"
   ]
  },
  {
   "cell_type": "code",
   "execution_count": 208,
   "metadata": {},
   "outputs": [],
   "source": [
    "# ===== brief constant compatibility check ===== #\n",
    "if RACE_TYPE not in ['GC', 'ITT', 'Sprints']:\n",
    "    raise ValueError('Given race type must be GC, ITT, or Sprints.')\n",
    "\n",
    "if GENDER not in ['men', 'women']:\n",
    "    raise ValueError('Given gender must be men or women.')\n",
    "\n",
    "if not os.path.exists(RATINGS_DATA_PATH):\n",
    "    raise ValueError(f'Something went wrong. Given ratings path, {RATINGS_DATA_PATH}, does not exist.')\n",
    "\n",
    "if not os.path.exists(RACE_RESULTS_PATH):\n",
    "    raise ValueError(f'Something went wrong. Given race results path, {RACE_RESULTS_PATH}, does not exist.')"
   ]
  },
  {
   "cell_type": "code",
   "execution_count": 209,
   "metadata": {},
   "outputs": [
    {
     "data": {
      "text/html": [
       "<div>\n",
       "<style scoped>\n",
       "    .dataframe tbody tr th:only-of-type {\n",
       "        vertical-align: middle;\n",
       "    }\n",
       "\n",
       "    .dataframe tbody tr th {\n",
       "        vertical-align: top;\n",
       "    }\n",
       "\n",
       "    .dataframe thead th {\n",
       "        text-align: right;\n",
       "    }\n",
       "</style>\n",
       "<table border=\"1\" class=\"dataframe\">\n",
       "  <thead>\n",
       "    <tr style=\"text-align: right;\">\n",
       "      <th></th>\n",
       "      <th>year</th>\n",
       "      <th>month</th>\n",
       "      <th>day</th>\n",
       "      <th>VOS Marianne</th>\n",
       "      <th>VAN DER BREGGEN Anna</th>\n",
       "      <th>BRAND Lucinda</th>\n",
       "      <th>SPRATT Amanda</th>\n",
       "      <th>MAJERUS Christine</th>\n",
       "      <th>CROMWELL Tiffany</th>\n",
       "      <th>DEIGNAN Elizabeth</th>\n",
       "      <th>...</th>\n",
       "      <th>STUART Sammie</th>\n",
       "      <th>PATUELLI Alessia</th>\n",
       "      <th>HÄBERLIN Steffi</th>\n",
       "      <th>FUCHS Lea</th>\n",
       "      <th>IVANCHENKO Alena</th>\n",
       "      <th>BARALE Francesca</th>\n",
       "      <th>ALLIONE Marine</th>\n",
       "      <th>TRAXLER Anna Gabrielle</th>\n",
       "      <th>ACHTEREEKTE Carlijn</th>\n",
       "      <th>LIECHTI Jasmin</th>\n",
       "    </tr>\n",
       "  </thead>\n",
       "  <tbody>\n",
       "    <tr>\n",
       "      <th>0</th>\n",
       "      <td>2010</td>\n",
       "      <td>1</td>\n",
       "      <td>1</td>\n",
       "      <td>1500.000000</td>\n",
       "      <td>1500.000000</td>\n",
       "      <td>1500.000000</td>\n",
       "      <td>1500.000000</td>\n",
       "      <td>1500.000000</td>\n",
       "      <td>1500.000000</td>\n",
       "      <td>1500.00000</td>\n",
       "      <td>...</td>\n",
       "      <td>1500.0</td>\n",
       "      <td>1500.0</td>\n",
       "      <td>1500.0</td>\n",
       "      <td>1500.0</td>\n",
       "      <td>1500.0</td>\n",
       "      <td>1500.0</td>\n",
       "      <td>1500.0</td>\n",
       "      <td>1500.0</td>\n",
       "      <td>1500.0</td>\n",
       "      <td>1500.0</td>\n",
       "    </tr>\n",
       "    <tr>\n",
       "      <th>1</th>\n",
       "      <td>2011</td>\n",
       "      <td>1</td>\n",
       "      <td>1</td>\n",
       "      <td>1500.000000</td>\n",
       "      <td>1500.000000</td>\n",
       "      <td>1500.000000</td>\n",
       "      <td>1500.000000</td>\n",
       "      <td>1500.000000</td>\n",
       "      <td>1500.000000</td>\n",
       "      <td>1500.00000</td>\n",
       "      <td>...</td>\n",
       "      <td>1500.0</td>\n",
       "      <td>1500.0</td>\n",
       "      <td>1500.0</td>\n",
       "      <td>1500.0</td>\n",
       "      <td>1500.0</td>\n",
       "      <td>1500.0</td>\n",
       "      <td>1500.0</td>\n",
       "      <td>1500.0</td>\n",
       "      <td>1500.0</td>\n",
       "      <td>1500.0</td>\n",
       "    </tr>\n",
       "    <tr>\n",
       "      <th>2</th>\n",
       "      <td>2012</td>\n",
       "      <td>1</td>\n",
       "      <td>1</td>\n",
       "      <td>1500.000000</td>\n",
       "      <td>1500.000000</td>\n",
       "      <td>1500.000000</td>\n",
       "      <td>1500.000000</td>\n",
       "      <td>1500.000000</td>\n",
       "      <td>1500.000000</td>\n",
       "      <td>1500.00000</td>\n",
       "      <td>...</td>\n",
       "      <td>1500.0</td>\n",
       "      <td>1500.0</td>\n",
       "      <td>1500.0</td>\n",
       "      <td>1500.0</td>\n",
       "      <td>1500.0</td>\n",
       "      <td>1500.0</td>\n",
       "      <td>1500.0</td>\n",
       "      <td>1500.0</td>\n",
       "      <td>1500.0</td>\n",
       "      <td>1500.0</td>\n",
       "    </tr>\n",
       "    <tr>\n",
       "      <th>3</th>\n",
       "      <td>2013</td>\n",
       "      <td>4</td>\n",
       "      <td>28</td>\n",
       "      <td>1512.451411</td>\n",
       "      <td>1501.947726</td>\n",
       "      <td>1500.943983</td>\n",
       "      <td>1501.081520</td>\n",
       "      <td>1501.303881</td>\n",
       "      <td>1501.145605</td>\n",
       "      <td>1500.91816</td>\n",
       "      <td>...</td>\n",
       "      <td>1500.0</td>\n",
       "      <td>1500.0</td>\n",
       "      <td>1500.0</td>\n",
       "      <td>1500.0</td>\n",
       "      <td>1500.0</td>\n",
       "      <td>1500.0</td>\n",
       "      <td>1500.0</td>\n",
       "      <td>1500.0</td>\n",
       "      <td>1500.0</td>\n",
       "      <td>1500.0</td>\n",
       "    </tr>\n",
       "    <tr>\n",
       "      <th>4</th>\n",
       "      <td>2013</td>\n",
       "      <td>7</td>\n",
       "      <td>7</td>\n",
       "      <td>1522.905276</td>\n",
       "      <td>1500.969726</td>\n",
       "      <td>1497.777381</td>\n",
       "      <td>1499.715766</td>\n",
       "      <td>1501.303881</td>\n",
       "      <td>1501.547359</td>\n",
       "      <td>1500.91816</td>\n",
       "      <td>...</td>\n",
       "      <td>1500.0</td>\n",
       "      <td>1500.0</td>\n",
       "      <td>1500.0</td>\n",
       "      <td>1500.0</td>\n",
       "      <td>1500.0</td>\n",
       "      <td>1500.0</td>\n",
       "      <td>1500.0</td>\n",
       "      <td>1500.0</td>\n",
       "      <td>1500.0</td>\n",
       "      <td>1500.0</td>\n",
       "    </tr>\n",
       "  </tbody>\n",
       "</table>\n",
       "<p>5 rows × 859 columns</p>\n",
       "</div>"
      ],
      "text/plain": [
       "   year  month  day  VOS Marianne  VAN DER BREGGEN Anna  BRAND Lucinda  \\\n",
       "0  2010      1    1   1500.000000           1500.000000    1500.000000   \n",
       "1  2011      1    1   1500.000000           1500.000000    1500.000000   \n",
       "2  2012      1    1   1500.000000           1500.000000    1500.000000   \n",
       "3  2013      4   28   1512.451411           1501.947726    1500.943983   \n",
       "4  2013      7    7   1522.905276           1500.969726    1497.777381   \n",
       "\n",
       "   SPRATT Amanda  MAJERUS Christine  CROMWELL Tiffany  DEIGNAN Elizabeth  ...  \\\n",
       "0    1500.000000        1500.000000       1500.000000         1500.00000  ...   \n",
       "1    1500.000000        1500.000000       1500.000000         1500.00000  ...   \n",
       "2    1500.000000        1500.000000       1500.000000         1500.00000  ...   \n",
       "3    1501.081520        1501.303881       1501.145605         1500.91816  ...   \n",
       "4    1499.715766        1501.303881       1501.547359         1500.91816  ...   \n",
       "\n",
       "   STUART Sammie  PATUELLI Alessia  HÄBERLIN Steffi  FUCHS Lea  \\\n",
       "0         1500.0            1500.0           1500.0     1500.0   \n",
       "1         1500.0            1500.0           1500.0     1500.0   \n",
       "2         1500.0            1500.0           1500.0     1500.0   \n",
       "3         1500.0            1500.0           1500.0     1500.0   \n",
       "4         1500.0            1500.0           1500.0     1500.0   \n",
       "\n",
       "   IVANCHENKO Alena  BARALE Francesca  ALLIONE Marine  TRAXLER Anna Gabrielle  \\\n",
       "0            1500.0            1500.0          1500.0                  1500.0   \n",
       "1            1500.0            1500.0          1500.0                  1500.0   \n",
       "2            1500.0            1500.0          1500.0                  1500.0   \n",
       "3            1500.0            1500.0          1500.0                  1500.0   \n",
       "4            1500.0            1500.0          1500.0                  1500.0   \n",
       "\n",
       "   ACHTEREEKTE Carlijn  LIECHTI Jasmin  \n",
       "0               1500.0          1500.0  \n",
       "1               1500.0          1500.0  \n",
       "2               1500.0          1500.0  \n",
       "3               1500.0          1500.0  \n",
       "4               1500.0          1500.0  \n",
       "\n",
       "[5 rows x 859 columns]"
      ]
     },
     "metadata": {},
     "output_type": "display_data"
    },
    {
     "data": {
      "text/html": [
       "<div>\n",
       "<style scoped>\n",
       "    .dataframe tbody tr th:only-of-type {\n",
       "        vertical-align: middle;\n",
       "    }\n",
       "\n",
       "    .dataframe tbody tr th {\n",
       "        vertical-align: top;\n",
       "    }\n",
       "\n",
       "    .dataframe thead th {\n",
       "        text-align: right;\n",
       "    }\n",
       "</style>\n",
       "<table border=\"1\" class=\"dataframe\">\n",
       "  <thead>\n",
       "    <tr style=\"text-align: right;\">\n",
       "      <th></th>\n",
       "      <th>name</th>\n",
       "      <th>stage</th>\n",
       "      <th>points_scale</th>\n",
       "      <th>parcours_type</th>\n",
       "      <th>year</th>\n",
       "      <th>month</th>\n",
       "      <th>day</th>\n",
       "      <th>type</th>\n",
       "      <th>length</th>\n",
       "      <th>profile_score</th>\n",
       "      <th>avg_speed</th>\n",
       "      <th>vertical_meters</th>\n",
       "      <th>won_how</th>\n",
       "      <th>place</th>\n",
       "      <th>rider</th>\n",
       "      <th>team</th>\n",
       "      <th>age</th>\n",
       "      <th>time</th>\n",
       "    </tr>\n",
       "  </thead>\n",
       "  <tbody>\n",
       "    <tr>\n",
       "      <th>0</th>\n",
       "      <td>giro-d-italia-femminile</td>\n",
       "      <td>stage-1</td>\n",
       "      <td>F-2.1.Stage</td>\n",
       "      <td>p0</td>\n",
       "      <td>2010.0</td>\n",
       "      <td>7.0</td>\n",
       "      <td>2.0</td>\n",
       "      <td>standard</td>\n",
       "      <td>59.0</td>\n",
       "      <td>NaN</td>\n",
       "      <td>44.678 km/h</td>\n",
       "      <td>NaN</td>\n",
       "      <td>? - let us know!</td>\n",
       "      <td>1.0</td>\n",
       "      <td>TEUTENBERG Ina-Yoko</td>\n",
       "      <td>Team Columbia Women</td>\n",
       "      <td>35.0</td>\n",
       "      <td>0.0</td>\n",
       "    </tr>\n",
       "    <tr>\n",
       "      <th>1</th>\n",
       "      <td>giro-d-italia-femminile</td>\n",
       "      <td>stage-1</td>\n",
       "      <td>F-2.1.Stage</td>\n",
       "      <td>p0</td>\n",
       "      <td>2010.0</td>\n",
       "      <td>7.0</td>\n",
       "      <td>2.0</td>\n",
       "      <td>standard</td>\n",
       "      <td>59.0</td>\n",
       "      <td>NaN</td>\n",
       "      <td>44.678 km/h</td>\n",
       "      <td>NaN</td>\n",
       "      <td>? - let us know!</td>\n",
       "      <td>2.0</td>\n",
       "      <td>BRONZINI Giorgia</td>\n",
       "      <td>Safi - Pasta Zara</td>\n",
       "      <td>26.0</td>\n",
       "      <td>0.0</td>\n",
       "    </tr>\n",
       "    <tr>\n",
       "      <th>2</th>\n",
       "      <td>giro-d-italia-femminile</td>\n",
       "      <td>stage-1</td>\n",
       "      <td>F-2.1.Stage</td>\n",
       "      <td>p0</td>\n",
       "      <td>2010.0</td>\n",
       "      <td>7.0</td>\n",
       "      <td>2.0</td>\n",
       "      <td>standard</td>\n",
       "      <td>59.0</td>\n",
       "      <td>NaN</td>\n",
       "      <td>44.678 km/h</td>\n",
       "      <td>NaN</td>\n",
       "      <td>? - let us know!</td>\n",
       "      <td>3.0</td>\n",
       "      <td>WILD Kirsten</td>\n",
       "      <td>Cervelo Test Team</td>\n",
       "      <td>27.0</td>\n",
       "      <td>0.0</td>\n",
       "    </tr>\n",
       "    <tr>\n",
       "      <th>3</th>\n",
       "      <td>giro-d-italia-femminile</td>\n",
       "      <td>stage-1</td>\n",
       "      <td>F-2.1.Stage</td>\n",
       "      <td>p0</td>\n",
       "      <td>2010.0</td>\n",
       "      <td>7.0</td>\n",
       "      <td>2.0</td>\n",
       "      <td>standard</td>\n",
       "      <td>59.0</td>\n",
       "      <td>NaN</td>\n",
       "      <td>44.678 km/h</td>\n",
       "      <td>NaN</td>\n",
       "      <td>? - let us know!</td>\n",
       "      <td>4.0</td>\n",
       "      <td>VOS Marianne</td>\n",
       "      <td>Nederland bloeit</td>\n",
       "      <td>23.0</td>\n",
       "      <td>0.0</td>\n",
       "    </tr>\n",
       "    <tr>\n",
       "      <th>4</th>\n",
       "      <td>giro-d-italia-femminile</td>\n",
       "      <td>stage-1</td>\n",
       "      <td>F-2.1.Stage</td>\n",
       "      <td>p0</td>\n",
       "      <td>2010.0</td>\n",
       "      <td>7.0</td>\n",
       "      <td>2.0</td>\n",
       "      <td>standard</td>\n",
       "      <td>59.0</td>\n",
       "      <td>NaN</td>\n",
       "      <td>44.678 km/h</td>\n",
       "      <td>NaN</td>\n",
       "      <td>? - let us know!</td>\n",
       "      <td>5.0</td>\n",
       "      <td>GUARISCHI Barbara</td>\n",
       "      <td>S.C. Michela Fanini Rox</td>\n",
       "      <td>19.0</td>\n",
       "      <td>0.0</td>\n",
       "    </tr>\n",
       "  </tbody>\n",
       "</table>\n",
       "</div>"
      ],
      "text/plain": [
       "                      name    stage points_scale parcours_type    year  month  \\\n",
       "0  giro-d-italia-femminile  stage-1  F-2.1.Stage            p0  2010.0    7.0   \n",
       "1  giro-d-italia-femminile  stage-1  F-2.1.Stage            p0  2010.0    7.0   \n",
       "2  giro-d-italia-femminile  stage-1  F-2.1.Stage            p0  2010.0    7.0   \n",
       "3  giro-d-italia-femminile  stage-1  F-2.1.Stage            p0  2010.0    7.0   \n",
       "4  giro-d-italia-femminile  stage-1  F-2.1.Stage            p0  2010.0    7.0   \n",
       "\n",
       "   day      type  length  profile_score    avg_speed  vertical_meters  \\\n",
       "0  2.0  standard    59.0            NaN  44.678 km/h              NaN   \n",
       "1  2.0  standard    59.0            NaN  44.678 km/h              NaN   \n",
       "2  2.0  standard    59.0            NaN  44.678 km/h              NaN   \n",
       "3  2.0  standard    59.0            NaN  44.678 km/h              NaN   \n",
       "4  2.0  standard    59.0            NaN  44.678 km/h              NaN   \n",
       "\n",
       "            won_how  place                rider                     team  \\\n",
       "0  ? - let us know!    1.0  TEUTENBERG Ina-Yoko      Team Columbia Women   \n",
       "1  ? - let us know!    2.0     BRONZINI Giorgia        Safi - Pasta Zara   \n",
       "2  ? - let us know!    3.0         WILD Kirsten        Cervelo Test Team   \n",
       "3  ? - let us know!    4.0         VOS Marianne         Nederland bloeit   \n",
       "4  ? - let us know!    5.0    GUARISCHI Barbara  S.C. Michela Fanini Rox   \n",
       "\n",
       "    age  time  \n",
       "0  35.0   0.0  \n",
       "1  26.0   0.0  \n",
       "2  27.0   0.0  \n",
       "3  23.0   0.0  \n",
       "4  19.0   0.0  "
      ]
     },
     "execution_count": 209,
     "metadata": {},
     "output_type": "execute_result"
    }
   ],
   "source": [
    "ratings = pd.read_csv(RATINGS_DATA_PATH)\n",
    "results = pd.read_csv(RACE_RESULTS_PATH)\n",
    "\n",
    "display(ratings.head(5))\n",
    "results.head(5)"
   ]
  },
  {
   "cell_type": "code",
   "execution_count": null,
   "metadata": {},
   "outputs": [],
   "source": []
  },
  {
   "cell_type": "code",
   "execution_count": 210,
   "metadata": {},
   "outputs": [],
   "source": [
    "STARTLIST = [rider for rider in utils.get_startlist(RACE, YEAR) if rider in ratings.columns]"
   ]
  },
  {
   "cell_type": "code",
   "execution_count": 211,
   "metadata": {},
   "outputs": [],
   "source": [
    "def gen_table_figure(df, title, width = 1300, height = 650):\n",
    "    \n",
    "#     n = len(df.index)\n",
    "#     font_color = []\n",
    "#     for col in ['Rank', 'Rider', 'Delta', 'Team', 'Rating']:\n",
    "#         if col == 'Delta':\n",
    "            \n",
    "#             delta_font = []\n",
    "#             for val in df.Delta:\n",
    "#                 if val == '':\n",
    "#                     delta_font.append('black')\n",
    "#                 elif val > 0:\n",
    "#                     delta_font.append('green')\n",
    "#                 else:\n",
    "#                     delta_font.append('red')\n",
    "#             font_color.append(delta_font)\n",
    "        \n",
    "#         else:\n",
    "#             font_color.append(['black'] * n)\n",
    "    \n",
    "    fig = go.Figure(\n",
    "        \n",
    "        # table data\n",
    "        data = [\n",
    "            go.Table(\n",
    "                header = dict(\n",
    "                    values = list(df.columns),\n",
    "                    font_color = 'black',\n",
    "                    fill_color = '#FF8500',\n",
    "                    align = 'center'\n",
    "                ),\n",
    "                cells = dict(\n",
    "                    values = [df.Rank, df.Rider, df.Team, df.Rating],\n",
    "                    #font_color = font_color,\n",
    "                    fill_color = 'white',\n",
    "                    align = 'center'\n",
    "                )\n",
    "            )\n",
    "        ],\n",
    "        \n",
    "        # table layout settings\n",
    "        layout = go.Layout(\n",
    "            title = dict(\n",
    "                text = title,\n",
    "                x = 0.5,\n",
    "                font_color = 'black'\n",
    "            ),\n",
    "            \n",
    "            width = width,\n",
    "            height = height,\n",
    "        )\n",
    "    )\n",
    "    \n",
    "    return fig\n",
    "\n",
    "def gen_rankings_viz(ratings, results, rating_limit = 20, \n",
    "                     period_date = date(year = 2022, month = 6, day = 12), title = '', fname = None):\n",
    "    \"\"\"\n",
    "    Given both ranking and race results data, output a table displaying the rankings\n",
    "    in order for this race type and gender. If a filename is given with the fname\n",
    "    variable, then the image will be saved.\n",
    "    \"\"\"\n",
    "    \n",
    "    # ensure df is sorted chronologically\n",
    "    sorted_ratings = ratings#ratings.sort_values(by = ['year', 'month', 'day'])\n",
    "    \n",
    "    # get most recent ranking\n",
    "    most_recent_ratings = sorted_ratings.iloc[-1, :]\n",
    "    \n",
    "    # get date of most recent ranking and then drop date cols\n",
    "    ranking_date = date(\n",
    "        year = int(most_recent_ratings['year']),\n",
    "        month = int(most_recent_ratings['month']),\n",
    "        day = int(most_recent_ratings['day'])\n",
    "    )\n",
    "    most_recent_ratings = most_recent_ratings.drop(index = ['year', 'month', 'day'])\n",
    "    \n",
    "    delta_idx = len(ratings.index) - 1\n",
    "    deltas = {}\n",
    "    for i in range(len(ratings.index) - 1, -1, -1):\n",
    "        idx_date = date(\n",
    "            year = int(ratings['year'].iloc[i]),\n",
    "            month = int(ratings['month'].iloc[i]),\n",
    "            day = int(ratings['day'].iloc[i])\n",
    "        )\n",
    "        if idx_date >= period_date:\n",
    "            delta_idx = i\n",
    "        else:\n",
    "            break\n",
    "    \n",
    "    deltas = [\n",
    "            round(most_recent_ratings[col] - ratings[col].iloc[delta_idx], 2)\n",
    "            for col in most_recent_ratings.index\n",
    "    ]\n",
    "    for col in most_recent_ratings.index:\n",
    "        rating_diff = most_recent_ratings[col] - ratings[col].iloc[delta_idx]\n",
    "        if col == 'GROENEWEGEN Dylan':\n",
    "            print(most_recent_ratings[col], ratings[col].iloc[delta_idx])\n",
    "    #deltas = [d if d != 0 else '' for d in deltas]\n",
    "    \n",
    "    # get rider names and ratings\n",
    "    riders = sorted(list(zip(\n",
    "        list(most_recent_ratings.index),\n",
    "        [round(r, 2) for r in most_recent_ratings],\n",
    "        deltas\n",
    "    )), key = lambda t: t[1], reverse = True)\n",
    "    \n",
    "    # get only rider individual race days\n",
    "    indiv_race_days = results[results['type'] != 'gc']\n",
    "    \n",
    "    # get rider race days and teams\n",
    "    rider_names = []\n",
    "    rider_ratings = []\n",
    "    rider_deltas = []\n",
    "    race_days = []\n",
    "    teams = []\n",
    "    num = 0\n",
    "    for rider in riders:\n",
    "\n",
    "        rider_res = indiv_race_days[indiv_race_days['rider'] == rider[0]].sort_values(by = ['year', 'month', 'day'])\n",
    "        rider_year_df = rider_res[rider_res['year'] == ranking_date.year]\n",
    "        \n",
    "        if len(rider_year_df.index) > 0:\n",
    "            rider_names.append(rider[0])\n",
    "            rider_ratings.append(rider[1])\n",
    "            rider_deltas.append(rider[2])\n",
    "            teams.append(rider_res['team'].iloc[-1])\n",
    "            race_days.append(len(rider_year_df.index))\n",
    "            num += 1\n",
    "        \n",
    "        if num >= rating_limit:\n",
    "            break\n",
    "    \n",
    "    table_df = pd.DataFrame(data = {\n",
    "        'Rank': [i + 1 for i in range(len(rider_names))],\n",
    "        'Rider': rider_names,\n",
    "        #'Delta': rider_deltas,\n",
    "        'Team': teams,\n",
    "        'Rating': rider_ratings,\n",
    "    })\n",
    "    \n",
    "    fig = gen_table_figure(table_df, title)\n",
    "    \n",
    "    if fname is not None:\n",
    "        fig.write_image(f'figures/{fname}')\n",
    "    \n",
    "    return fig"
   ]
  },
  {
   "cell_type": "code",
   "execution_count": 212,
   "metadata": {
    "scrolled": false
   },
   "outputs": [
    {
     "data": {
      "application/vnd.plotly.v1+json": {
       "config": {
        "plotlyServerURL": "https://plot.ly"
       },
       "data": [
        {
         "cells": {
          "align": "center",
          "fill": {
           "color": "white"
          },
          "values": [
           [
            1,
            2,
            3,
            4,
            5,
            6,
            7,
            8,
            9,
            10,
            11,
            12,
            13,
            14,
            15,
            16,
            17,
            18,
            19,
            20
           ],
           [
            "VAN VLEUTEN Annemiek",
            "VOLLERING Demi",
            "NIEWIADOMA Katarzyna",
            "LONGO BORGHINI Elisa",
            "BRAND Lucinda",
            "MOOLMAN Ashleigh",
            "LABOUS Juliette",
            "LUDWIG Cecilie Uttrup",
            "BRENNAUER Lisa",
            "GARCÍA Mavi",
            "VOS Marianne",
            "FAULKNER Kristen",
            "VAN DIJK Ellen",
            "CAVALLI Marta",
            "VAN DEN BROEK-BLAAK Chantal",
            "REUSSER Marlen",
            "SPRATT Amanda",
            "ROOIJAKKERS Pauliena",
            "BROWN Grace",
            "THOMAS Leah"
           ],
           [
            "Movistar Team",
            "Team SD Worx",
            "Canyon//SRAM Racing",
            "Trek - Segafredo",
            "Trek - Segafredo",
            "Team SD Worx",
            "Team DSM",
            "FDJ Nouvelle-Aquitaine Futuroscope",
            "Ceratizit-WNT Pro Cycling",
            "UAE Team ADQ",
            "Team Jumbo-Visma",
            "Team BikeExchange - Jayco",
            "Trek - Segafredo",
            "FDJ Nouvelle-Aquitaine Futuroscope",
            "Team SD Worx",
            "Team SD Worx",
            "Team BikeExchange - Jayco",
            "Canyon//SRAM Racing",
            "FDJ Nouvelle-Aquitaine Futuroscope",
            "Trek - Segafredo"
           ],
           [
            1741.04,
            1646.99,
            1603.61,
            1601.27,
            1598.69,
            1596.5,
            1578.7,
            1573.12,
            1561.85,
            1557.65,
            1557.02,
            1555.29,
            1549.36,
            1547.11,
            1546.76,
            1545.79,
            1544.6,
            1542.33,
            1539.95,
            1533.53
           ]
          ]
         },
         "header": {
          "align": "center",
          "fill": {
           "color": "#FF8500"
          },
          "font": {
           "color": "black"
          },
          "values": [
           "Rank",
           "Rider",
           "Team",
           "Rating"
          ]
         },
         "type": "table"
        }
       ],
       "layout": {
        "height": 650,
        "template": {
         "data": {
          "bar": [
           {
            "error_x": {
             "color": "#2a3f5f"
            },
            "error_y": {
             "color": "#2a3f5f"
            },
            "marker": {
             "line": {
              "color": "#E5ECF6",
              "width": 0.5
             },
             "pattern": {
              "fillmode": "overlay",
              "size": 10,
              "solidity": 0.2
             }
            },
            "type": "bar"
           }
          ],
          "barpolar": [
           {
            "marker": {
             "line": {
              "color": "#E5ECF6",
              "width": 0.5
             },
             "pattern": {
              "fillmode": "overlay",
              "size": 10,
              "solidity": 0.2
             }
            },
            "type": "barpolar"
           }
          ],
          "carpet": [
           {
            "aaxis": {
             "endlinecolor": "#2a3f5f",
             "gridcolor": "white",
             "linecolor": "white",
             "minorgridcolor": "white",
             "startlinecolor": "#2a3f5f"
            },
            "baxis": {
             "endlinecolor": "#2a3f5f",
             "gridcolor": "white",
             "linecolor": "white",
             "minorgridcolor": "white",
             "startlinecolor": "#2a3f5f"
            },
            "type": "carpet"
           }
          ],
          "choropleth": [
           {
            "colorbar": {
             "outlinewidth": 0,
             "ticks": ""
            },
            "type": "choropleth"
           }
          ],
          "contour": [
           {
            "colorbar": {
             "outlinewidth": 0,
             "ticks": ""
            },
            "colorscale": [
             [
              0,
              "#0d0887"
             ],
             [
              0.1111111111111111,
              "#46039f"
             ],
             [
              0.2222222222222222,
              "#7201a8"
             ],
             [
              0.3333333333333333,
              "#9c179e"
             ],
             [
              0.4444444444444444,
              "#bd3786"
             ],
             [
              0.5555555555555556,
              "#d8576b"
             ],
             [
              0.6666666666666666,
              "#ed7953"
             ],
             [
              0.7777777777777778,
              "#fb9f3a"
             ],
             [
              0.8888888888888888,
              "#fdca26"
             ],
             [
              1,
              "#f0f921"
             ]
            ],
            "type": "contour"
           }
          ],
          "contourcarpet": [
           {
            "colorbar": {
             "outlinewidth": 0,
             "ticks": ""
            },
            "type": "contourcarpet"
           }
          ],
          "heatmap": [
           {
            "colorbar": {
             "outlinewidth": 0,
             "ticks": ""
            },
            "colorscale": [
             [
              0,
              "#0d0887"
             ],
             [
              0.1111111111111111,
              "#46039f"
             ],
             [
              0.2222222222222222,
              "#7201a8"
             ],
             [
              0.3333333333333333,
              "#9c179e"
             ],
             [
              0.4444444444444444,
              "#bd3786"
             ],
             [
              0.5555555555555556,
              "#d8576b"
             ],
             [
              0.6666666666666666,
              "#ed7953"
             ],
             [
              0.7777777777777778,
              "#fb9f3a"
             ],
             [
              0.8888888888888888,
              "#fdca26"
             ],
             [
              1,
              "#f0f921"
             ]
            ],
            "type": "heatmap"
           }
          ],
          "heatmapgl": [
           {
            "colorbar": {
             "outlinewidth": 0,
             "ticks": ""
            },
            "colorscale": [
             [
              0,
              "#0d0887"
             ],
             [
              0.1111111111111111,
              "#46039f"
             ],
             [
              0.2222222222222222,
              "#7201a8"
             ],
             [
              0.3333333333333333,
              "#9c179e"
             ],
             [
              0.4444444444444444,
              "#bd3786"
             ],
             [
              0.5555555555555556,
              "#d8576b"
             ],
             [
              0.6666666666666666,
              "#ed7953"
             ],
             [
              0.7777777777777778,
              "#fb9f3a"
             ],
             [
              0.8888888888888888,
              "#fdca26"
             ],
             [
              1,
              "#f0f921"
             ]
            ],
            "type": "heatmapgl"
           }
          ],
          "histogram": [
           {
            "marker": {
             "pattern": {
              "fillmode": "overlay",
              "size": 10,
              "solidity": 0.2
             }
            },
            "type": "histogram"
           }
          ],
          "histogram2d": [
           {
            "colorbar": {
             "outlinewidth": 0,
             "ticks": ""
            },
            "colorscale": [
             [
              0,
              "#0d0887"
             ],
             [
              0.1111111111111111,
              "#46039f"
             ],
             [
              0.2222222222222222,
              "#7201a8"
             ],
             [
              0.3333333333333333,
              "#9c179e"
             ],
             [
              0.4444444444444444,
              "#bd3786"
             ],
             [
              0.5555555555555556,
              "#d8576b"
             ],
             [
              0.6666666666666666,
              "#ed7953"
             ],
             [
              0.7777777777777778,
              "#fb9f3a"
             ],
             [
              0.8888888888888888,
              "#fdca26"
             ],
             [
              1,
              "#f0f921"
             ]
            ],
            "type": "histogram2d"
           }
          ],
          "histogram2dcontour": [
           {
            "colorbar": {
             "outlinewidth": 0,
             "ticks": ""
            },
            "colorscale": [
             [
              0,
              "#0d0887"
             ],
             [
              0.1111111111111111,
              "#46039f"
             ],
             [
              0.2222222222222222,
              "#7201a8"
             ],
             [
              0.3333333333333333,
              "#9c179e"
             ],
             [
              0.4444444444444444,
              "#bd3786"
             ],
             [
              0.5555555555555556,
              "#d8576b"
             ],
             [
              0.6666666666666666,
              "#ed7953"
             ],
             [
              0.7777777777777778,
              "#fb9f3a"
             ],
             [
              0.8888888888888888,
              "#fdca26"
             ],
             [
              1,
              "#f0f921"
             ]
            ],
            "type": "histogram2dcontour"
           }
          ],
          "mesh3d": [
           {
            "colorbar": {
             "outlinewidth": 0,
             "ticks": ""
            },
            "type": "mesh3d"
           }
          ],
          "parcoords": [
           {
            "line": {
             "colorbar": {
              "outlinewidth": 0,
              "ticks": ""
             }
            },
            "type": "parcoords"
           }
          ],
          "pie": [
           {
            "automargin": true,
            "type": "pie"
           }
          ],
          "scatter": [
           {
            "fillpattern": {
             "fillmode": "overlay",
             "size": 10,
             "solidity": 0.2
            },
            "type": "scatter"
           }
          ],
          "scatter3d": [
           {
            "line": {
             "colorbar": {
              "outlinewidth": 0,
              "ticks": ""
             }
            },
            "marker": {
             "colorbar": {
              "outlinewidth": 0,
              "ticks": ""
             }
            },
            "type": "scatter3d"
           }
          ],
          "scattercarpet": [
           {
            "marker": {
             "colorbar": {
              "outlinewidth": 0,
              "ticks": ""
             }
            },
            "type": "scattercarpet"
           }
          ],
          "scattergeo": [
           {
            "marker": {
             "colorbar": {
              "outlinewidth": 0,
              "ticks": ""
             }
            },
            "type": "scattergeo"
           }
          ],
          "scattergl": [
           {
            "marker": {
             "colorbar": {
              "outlinewidth": 0,
              "ticks": ""
             }
            },
            "type": "scattergl"
           }
          ],
          "scattermapbox": [
           {
            "marker": {
             "colorbar": {
              "outlinewidth": 0,
              "ticks": ""
             }
            },
            "type": "scattermapbox"
           }
          ],
          "scatterpolar": [
           {
            "marker": {
             "colorbar": {
              "outlinewidth": 0,
              "ticks": ""
             }
            },
            "type": "scatterpolar"
           }
          ],
          "scatterpolargl": [
           {
            "marker": {
             "colorbar": {
              "outlinewidth": 0,
              "ticks": ""
             }
            },
            "type": "scatterpolargl"
           }
          ],
          "scatterternary": [
           {
            "marker": {
             "colorbar": {
              "outlinewidth": 0,
              "ticks": ""
             }
            },
            "type": "scatterternary"
           }
          ],
          "surface": [
           {
            "colorbar": {
             "outlinewidth": 0,
             "ticks": ""
            },
            "colorscale": [
             [
              0,
              "#0d0887"
             ],
             [
              0.1111111111111111,
              "#46039f"
             ],
             [
              0.2222222222222222,
              "#7201a8"
             ],
             [
              0.3333333333333333,
              "#9c179e"
             ],
             [
              0.4444444444444444,
              "#bd3786"
             ],
             [
              0.5555555555555556,
              "#d8576b"
             ],
             [
              0.6666666666666666,
              "#ed7953"
             ],
             [
              0.7777777777777778,
              "#fb9f3a"
             ],
             [
              0.8888888888888888,
              "#fdca26"
             ],
             [
              1,
              "#f0f921"
             ]
            ],
            "type": "surface"
           }
          ],
          "table": [
           {
            "cells": {
             "fill": {
              "color": "#EBF0F8"
             },
             "line": {
              "color": "white"
             }
            },
            "header": {
             "fill": {
              "color": "#C8D4E3"
             },
             "line": {
              "color": "white"
             }
            },
            "type": "table"
           }
          ]
         },
         "layout": {
          "annotationdefaults": {
           "arrowcolor": "#2a3f5f",
           "arrowhead": 0,
           "arrowwidth": 1
          },
          "autotypenumbers": "strict",
          "coloraxis": {
           "colorbar": {
            "outlinewidth": 0,
            "ticks": ""
           }
          },
          "colorscale": {
           "diverging": [
            [
             0,
             "#8e0152"
            ],
            [
             0.1,
             "#c51b7d"
            ],
            [
             0.2,
             "#de77ae"
            ],
            [
             0.3,
             "#f1b6da"
            ],
            [
             0.4,
             "#fde0ef"
            ],
            [
             0.5,
             "#f7f7f7"
            ],
            [
             0.6,
             "#e6f5d0"
            ],
            [
             0.7,
             "#b8e186"
            ],
            [
             0.8,
             "#7fbc41"
            ],
            [
             0.9,
             "#4d9221"
            ],
            [
             1,
             "#276419"
            ]
           ],
           "sequential": [
            [
             0,
             "#0d0887"
            ],
            [
             0.1111111111111111,
             "#46039f"
            ],
            [
             0.2222222222222222,
             "#7201a8"
            ],
            [
             0.3333333333333333,
             "#9c179e"
            ],
            [
             0.4444444444444444,
             "#bd3786"
            ],
            [
             0.5555555555555556,
             "#d8576b"
            ],
            [
             0.6666666666666666,
             "#ed7953"
            ],
            [
             0.7777777777777778,
             "#fb9f3a"
            ],
            [
             0.8888888888888888,
             "#fdca26"
            ],
            [
             1,
             "#f0f921"
            ]
           ],
           "sequentialminus": [
            [
             0,
             "#0d0887"
            ],
            [
             0.1111111111111111,
             "#46039f"
            ],
            [
             0.2222222222222222,
             "#7201a8"
            ],
            [
             0.3333333333333333,
             "#9c179e"
            ],
            [
             0.4444444444444444,
             "#bd3786"
            ],
            [
             0.5555555555555556,
             "#d8576b"
            ],
            [
             0.6666666666666666,
             "#ed7953"
            ],
            [
             0.7777777777777778,
             "#fb9f3a"
            ],
            [
             0.8888888888888888,
             "#fdca26"
            ],
            [
             1,
             "#f0f921"
            ]
           ]
          },
          "colorway": [
           "#636efa",
           "#EF553B",
           "#00cc96",
           "#ab63fa",
           "#FFA15A",
           "#19d3f3",
           "#FF6692",
           "#B6E880",
           "#FF97FF",
           "#FECB52"
          ],
          "font": {
           "color": "#2a3f5f"
          },
          "geo": {
           "bgcolor": "white",
           "lakecolor": "white",
           "landcolor": "#E5ECF6",
           "showlakes": true,
           "showland": true,
           "subunitcolor": "white"
          },
          "hoverlabel": {
           "align": "left"
          },
          "hovermode": "closest",
          "mapbox": {
           "style": "light"
          },
          "paper_bgcolor": "white",
          "plot_bgcolor": "#E5ECF6",
          "polar": {
           "angularaxis": {
            "gridcolor": "white",
            "linecolor": "white",
            "ticks": ""
           },
           "bgcolor": "#E5ECF6",
           "radialaxis": {
            "gridcolor": "white",
            "linecolor": "white",
            "ticks": ""
           }
          },
          "scene": {
           "xaxis": {
            "backgroundcolor": "#E5ECF6",
            "gridcolor": "white",
            "gridwidth": 2,
            "linecolor": "white",
            "showbackground": true,
            "ticks": "",
            "zerolinecolor": "white"
           },
           "yaxis": {
            "backgroundcolor": "#E5ECF6",
            "gridcolor": "white",
            "gridwidth": 2,
            "linecolor": "white",
            "showbackground": true,
            "ticks": "",
            "zerolinecolor": "white"
           },
           "zaxis": {
            "backgroundcolor": "#E5ECF6",
            "gridcolor": "white",
            "gridwidth": 2,
            "linecolor": "white",
            "showbackground": true,
            "ticks": "",
            "zerolinecolor": "white"
           }
          },
          "shapedefaults": {
           "line": {
            "color": "#2a3f5f"
           }
          },
          "ternary": {
           "aaxis": {
            "gridcolor": "white",
            "linecolor": "white",
            "ticks": ""
           },
           "baxis": {
            "gridcolor": "white",
            "linecolor": "white",
            "ticks": ""
           },
           "bgcolor": "#E5ECF6",
           "caxis": {
            "gridcolor": "white",
            "linecolor": "white",
            "ticks": ""
           }
          },
          "title": {
           "x": 0.05
          },
          "xaxis": {
           "automargin": true,
           "gridcolor": "white",
           "linecolor": "white",
           "ticks": "",
           "title": {
            "standoff": 15
           },
           "zerolinecolor": "white",
           "zerolinewidth": 2
          },
          "yaxis": {
           "automargin": true,
           "gridcolor": "white",
           "linecolor": "white",
           "ticks": "",
           "title": {
            "standoff": 15
           },
           "zerolinecolor": "white",
           "zerolinewidth": 2
          }
         }
        },
        "title": {
         "font": {
          "color": "black"
         },
         "text": "GC Elo Ranking",
         "x": 0.5
        },
        "width": 1300
       }
      },
      "text/html": [
       "<div>                            <div id=\"e66aa96b-e9ab-4cd6-b0b1-7e6d632c3ac7\" class=\"plotly-graph-div\" style=\"height:650px; width:1300px;\"></div>            <script type=\"text/javascript\">                require([\"plotly\"], function(Plotly) {                    window.PLOTLYENV=window.PLOTLYENV || {};                                    if (document.getElementById(\"e66aa96b-e9ab-4cd6-b0b1-7e6d632c3ac7\")) {                    Plotly.newPlot(                        \"e66aa96b-e9ab-4cd6-b0b1-7e6d632c3ac7\",                        [{\"cells\":{\"align\":\"center\",\"fill\":{\"color\":\"white\"},\"values\":[[1,2,3,4,5,6,7,8,9,10,11,12,13,14,15,16,17,18,19,20],[\"VAN VLEUTEN Annemiek\",\"VOLLERING Demi\",\"NIEWIADOMA Katarzyna\",\"LONGO BORGHINI Elisa\",\"BRAND Lucinda\",\"MOOLMAN Ashleigh\",\"LABOUS Juliette\",\"LUDWIG Cecilie Uttrup\",\"BRENNAUER Lisa\",\"GARC\\u00cdA Mavi\",\"VOS Marianne\",\"FAULKNER Kristen\",\"VAN DIJK Ellen\",\"CAVALLI Marta\",\"VAN DEN BROEK-BLAAK Chantal\",\"REUSSER Marlen\",\"SPRATT Amanda\",\"ROOIJAKKERS Pauliena\",\"BROWN Grace\",\"THOMAS Leah\"],[\"Movistar Team\",\"Team SD Worx\",\"Canyon//SRAM Racing\",\"Trek - Segafredo\",\"Trek - Segafredo\",\"Team SD Worx\",\"Team DSM\",\"FDJ Nouvelle-Aquitaine Futuroscope\",\"Ceratizit-WNT Pro Cycling\",\"UAE Team ADQ\",\"Team Jumbo-Visma\",\"Team BikeExchange - Jayco\",\"Trek - Segafredo\",\"FDJ Nouvelle-Aquitaine Futuroscope\",\"Team SD Worx\",\"Team SD Worx\",\"Team BikeExchange - Jayco\",\"Canyon//SRAM Racing\",\"FDJ Nouvelle-Aquitaine Futuroscope\",\"Trek - Segafredo\"],[1741.04,1646.99,1603.61,1601.27,1598.69,1596.5,1578.7,1573.12,1561.85,1557.65,1557.02,1555.29,1549.36,1547.11,1546.76,1545.79,1544.6,1542.33,1539.95,1533.53]]},\"header\":{\"align\":\"center\",\"fill\":{\"color\":\"#FF8500\"},\"font\":{\"color\":\"black\"},\"values\":[\"Rank\",\"Rider\",\"Team\",\"Rating\"]},\"type\":\"table\"}],                        {\"height\":650,\"title\":{\"font\":{\"color\":\"black\"},\"text\":\"GC Elo Ranking\",\"x\":0.5},\"width\":1300,\"template\":{\"data\":{\"histogram2dcontour\":[{\"type\":\"histogram2dcontour\",\"colorbar\":{\"outlinewidth\":0,\"ticks\":\"\"},\"colorscale\":[[0.0,\"#0d0887\"],[0.1111111111111111,\"#46039f\"],[0.2222222222222222,\"#7201a8\"],[0.3333333333333333,\"#9c179e\"],[0.4444444444444444,\"#bd3786\"],[0.5555555555555556,\"#d8576b\"],[0.6666666666666666,\"#ed7953\"],[0.7777777777777778,\"#fb9f3a\"],[0.8888888888888888,\"#fdca26\"],[1.0,\"#f0f921\"]]}],\"choropleth\":[{\"type\":\"choropleth\",\"colorbar\":{\"outlinewidth\":0,\"ticks\":\"\"}}],\"histogram2d\":[{\"type\":\"histogram2d\",\"colorbar\":{\"outlinewidth\":0,\"ticks\":\"\"},\"colorscale\":[[0.0,\"#0d0887\"],[0.1111111111111111,\"#46039f\"],[0.2222222222222222,\"#7201a8\"],[0.3333333333333333,\"#9c179e\"],[0.4444444444444444,\"#bd3786\"],[0.5555555555555556,\"#d8576b\"],[0.6666666666666666,\"#ed7953\"],[0.7777777777777778,\"#fb9f3a\"],[0.8888888888888888,\"#fdca26\"],[1.0,\"#f0f921\"]]}],\"heatmap\":[{\"type\":\"heatmap\",\"colorbar\":{\"outlinewidth\":0,\"ticks\":\"\"},\"colorscale\":[[0.0,\"#0d0887\"],[0.1111111111111111,\"#46039f\"],[0.2222222222222222,\"#7201a8\"],[0.3333333333333333,\"#9c179e\"],[0.4444444444444444,\"#bd3786\"],[0.5555555555555556,\"#d8576b\"],[0.6666666666666666,\"#ed7953\"],[0.7777777777777778,\"#fb9f3a\"],[0.8888888888888888,\"#fdca26\"],[1.0,\"#f0f921\"]]}],\"heatmapgl\":[{\"type\":\"heatmapgl\",\"colorbar\":{\"outlinewidth\":0,\"ticks\":\"\"},\"colorscale\":[[0.0,\"#0d0887\"],[0.1111111111111111,\"#46039f\"],[0.2222222222222222,\"#7201a8\"],[0.3333333333333333,\"#9c179e\"],[0.4444444444444444,\"#bd3786\"],[0.5555555555555556,\"#d8576b\"],[0.6666666666666666,\"#ed7953\"],[0.7777777777777778,\"#fb9f3a\"],[0.8888888888888888,\"#fdca26\"],[1.0,\"#f0f921\"]]}],\"contourcarpet\":[{\"type\":\"contourcarpet\",\"colorbar\":{\"outlinewidth\":0,\"ticks\":\"\"}}],\"contour\":[{\"type\":\"contour\",\"colorbar\":{\"outlinewidth\":0,\"ticks\":\"\"},\"colorscale\":[[0.0,\"#0d0887\"],[0.1111111111111111,\"#46039f\"],[0.2222222222222222,\"#7201a8\"],[0.3333333333333333,\"#9c179e\"],[0.4444444444444444,\"#bd3786\"],[0.5555555555555556,\"#d8576b\"],[0.6666666666666666,\"#ed7953\"],[0.7777777777777778,\"#fb9f3a\"],[0.8888888888888888,\"#fdca26\"],[1.0,\"#f0f921\"]]}],\"surface\":[{\"type\":\"surface\",\"colorbar\":{\"outlinewidth\":0,\"ticks\":\"\"},\"colorscale\":[[0.0,\"#0d0887\"],[0.1111111111111111,\"#46039f\"],[0.2222222222222222,\"#7201a8\"],[0.3333333333333333,\"#9c179e\"],[0.4444444444444444,\"#bd3786\"],[0.5555555555555556,\"#d8576b\"],[0.6666666666666666,\"#ed7953\"],[0.7777777777777778,\"#fb9f3a\"],[0.8888888888888888,\"#fdca26\"],[1.0,\"#f0f921\"]]}],\"mesh3d\":[{\"type\":\"mesh3d\",\"colorbar\":{\"outlinewidth\":0,\"ticks\":\"\"}}],\"scatter\":[{\"fillpattern\":{\"fillmode\":\"overlay\",\"size\":10,\"solidity\":0.2},\"type\":\"scatter\"}],\"parcoords\":[{\"type\":\"parcoords\",\"line\":{\"colorbar\":{\"outlinewidth\":0,\"ticks\":\"\"}}}],\"scatterpolargl\":[{\"type\":\"scatterpolargl\",\"marker\":{\"colorbar\":{\"outlinewidth\":0,\"ticks\":\"\"}}}],\"bar\":[{\"error_x\":{\"color\":\"#2a3f5f\"},\"error_y\":{\"color\":\"#2a3f5f\"},\"marker\":{\"line\":{\"color\":\"#E5ECF6\",\"width\":0.5},\"pattern\":{\"fillmode\":\"overlay\",\"size\":10,\"solidity\":0.2}},\"type\":\"bar\"}],\"scattergeo\":[{\"type\":\"scattergeo\",\"marker\":{\"colorbar\":{\"outlinewidth\":0,\"ticks\":\"\"}}}],\"scatterpolar\":[{\"type\":\"scatterpolar\",\"marker\":{\"colorbar\":{\"outlinewidth\":0,\"ticks\":\"\"}}}],\"histogram\":[{\"marker\":{\"pattern\":{\"fillmode\":\"overlay\",\"size\":10,\"solidity\":0.2}},\"type\":\"histogram\"}],\"scattergl\":[{\"type\":\"scattergl\",\"marker\":{\"colorbar\":{\"outlinewidth\":0,\"ticks\":\"\"}}}],\"scatter3d\":[{\"type\":\"scatter3d\",\"line\":{\"colorbar\":{\"outlinewidth\":0,\"ticks\":\"\"}},\"marker\":{\"colorbar\":{\"outlinewidth\":0,\"ticks\":\"\"}}}],\"scattermapbox\":[{\"type\":\"scattermapbox\",\"marker\":{\"colorbar\":{\"outlinewidth\":0,\"ticks\":\"\"}}}],\"scatterternary\":[{\"type\":\"scatterternary\",\"marker\":{\"colorbar\":{\"outlinewidth\":0,\"ticks\":\"\"}}}],\"scattercarpet\":[{\"type\":\"scattercarpet\",\"marker\":{\"colorbar\":{\"outlinewidth\":0,\"ticks\":\"\"}}}],\"carpet\":[{\"aaxis\":{\"endlinecolor\":\"#2a3f5f\",\"gridcolor\":\"white\",\"linecolor\":\"white\",\"minorgridcolor\":\"white\",\"startlinecolor\":\"#2a3f5f\"},\"baxis\":{\"endlinecolor\":\"#2a3f5f\",\"gridcolor\":\"white\",\"linecolor\":\"white\",\"minorgridcolor\":\"white\",\"startlinecolor\":\"#2a3f5f\"},\"type\":\"carpet\"}],\"table\":[{\"cells\":{\"fill\":{\"color\":\"#EBF0F8\"},\"line\":{\"color\":\"white\"}},\"header\":{\"fill\":{\"color\":\"#C8D4E3\"},\"line\":{\"color\":\"white\"}},\"type\":\"table\"}],\"barpolar\":[{\"marker\":{\"line\":{\"color\":\"#E5ECF6\",\"width\":0.5},\"pattern\":{\"fillmode\":\"overlay\",\"size\":10,\"solidity\":0.2}},\"type\":\"barpolar\"}],\"pie\":[{\"automargin\":true,\"type\":\"pie\"}]},\"layout\":{\"autotypenumbers\":\"strict\",\"colorway\":[\"#636efa\",\"#EF553B\",\"#00cc96\",\"#ab63fa\",\"#FFA15A\",\"#19d3f3\",\"#FF6692\",\"#B6E880\",\"#FF97FF\",\"#FECB52\"],\"font\":{\"color\":\"#2a3f5f\"},\"hovermode\":\"closest\",\"hoverlabel\":{\"align\":\"left\"},\"paper_bgcolor\":\"white\",\"plot_bgcolor\":\"#E5ECF6\",\"polar\":{\"bgcolor\":\"#E5ECF6\",\"angularaxis\":{\"gridcolor\":\"white\",\"linecolor\":\"white\",\"ticks\":\"\"},\"radialaxis\":{\"gridcolor\":\"white\",\"linecolor\":\"white\",\"ticks\":\"\"}},\"ternary\":{\"bgcolor\":\"#E5ECF6\",\"aaxis\":{\"gridcolor\":\"white\",\"linecolor\":\"white\",\"ticks\":\"\"},\"baxis\":{\"gridcolor\":\"white\",\"linecolor\":\"white\",\"ticks\":\"\"},\"caxis\":{\"gridcolor\":\"white\",\"linecolor\":\"white\",\"ticks\":\"\"}},\"coloraxis\":{\"colorbar\":{\"outlinewidth\":0,\"ticks\":\"\"}},\"colorscale\":{\"sequential\":[[0.0,\"#0d0887\"],[0.1111111111111111,\"#46039f\"],[0.2222222222222222,\"#7201a8\"],[0.3333333333333333,\"#9c179e\"],[0.4444444444444444,\"#bd3786\"],[0.5555555555555556,\"#d8576b\"],[0.6666666666666666,\"#ed7953\"],[0.7777777777777778,\"#fb9f3a\"],[0.8888888888888888,\"#fdca26\"],[1.0,\"#f0f921\"]],\"sequentialminus\":[[0.0,\"#0d0887\"],[0.1111111111111111,\"#46039f\"],[0.2222222222222222,\"#7201a8\"],[0.3333333333333333,\"#9c179e\"],[0.4444444444444444,\"#bd3786\"],[0.5555555555555556,\"#d8576b\"],[0.6666666666666666,\"#ed7953\"],[0.7777777777777778,\"#fb9f3a\"],[0.8888888888888888,\"#fdca26\"],[1.0,\"#f0f921\"]],\"diverging\":[[0,\"#8e0152\"],[0.1,\"#c51b7d\"],[0.2,\"#de77ae\"],[0.3,\"#f1b6da\"],[0.4,\"#fde0ef\"],[0.5,\"#f7f7f7\"],[0.6,\"#e6f5d0\"],[0.7,\"#b8e186\"],[0.8,\"#7fbc41\"],[0.9,\"#4d9221\"],[1,\"#276419\"]]},\"xaxis\":{\"gridcolor\":\"white\",\"linecolor\":\"white\",\"ticks\":\"\",\"title\":{\"standoff\":15},\"zerolinecolor\":\"white\",\"automargin\":true,\"zerolinewidth\":2},\"yaxis\":{\"gridcolor\":\"white\",\"linecolor\":\"white\",\"ticks\":\"\",\"title\":{\"standoff\":15},\"zerolinecolor\":\"white\",\"automargin\":true,\"zerolinewidth\":2},\"scene\":{\"xaxis\":{\"backgroundcolor\":\"#E5ECF6\",\"gridcolor\":\"white\",\"linecolor\":\"white\",\"showbackground\":true,\"ticks\":\"\",\"zerolinecolor\":\"white\",\"gridwidth\":2},\"yaxis\":{\"backgroundcolor\":\"#E5ECF6\",\"gridcolor\":\"white\",\"linecolor\":\"white\",\"showbackground\":true,\"ticks\":\"\",\"zerolinecolor\":\"white\",\"gridwidth\":2},\"zaxis\":{\"backgroundcolor\":\"#E5ECF6\",\"gridcolor\":\"white\",\"linecolor\":\"white\",\"showbackground\":true,\"ticks\":\"\",\"zerolinecolor\":\"white\",\"gridwidth\":2}},\"shapedefaults\":{\"line\":{\"color\":\"#2a3f5f\"}},\"annotationdefaults\":{\"arrowcolor\":\"#2a3f5f\",\"arrowhead\":0,\"arrowwidth\":1},\"geo\":{\"bgcolor\":\"white\",\"landcolor\":\"#E5ECF6\",\"subunitcolor\":\"white\",\"showland\":true,\"showlakes\":true,\"lakecolor\":\"white\"},\"title\":{\"x\":0.05},\"mapbox\":{\"style\":\"light\"}}}},                        {\"responsive\": true}                    ).then(function(){\n",
       "                            \n",
       "var gd = document.getElementById('e66aa96b-e9ab-4cd6-b0b1-7e6d632c3ac7');\n",
       "var x = new MutationObserver(function (mutations, observer) {{\n",
       "        var display = window.getComputedStyle(gd).display;\n",
       "        if (!display || display === 'none') {{\n",
       "            console.log([gd, 'removed!']);\n",
       "            Plotly.purge(gd);\n",
       "            observer.disconnect();\n",
       "        }}\n",
       "}});\n",
       "\n",
       "// Listen for the removal of the full notebook cells\n",
       "var notebookContainer = gd.closest('#notebook-container');\n",
       "if (notebookContainer) {{\n",
       "    x.observe(notebookContainer, {childList: true});\n",
       "}}\n",
       "\n",
       "// Listen for the clearing of the current output cell\n",
       "var outputEl = gd.closest('.output');\n",
       "if (outputEl) {{\n",
       "    x.observe(outputEl, {childList: true});\n",
       "}}\n",
       "\n",
       "                        })                };                });            </script>        </div>"
      ]
     },
     "metadata": {},
     "output_type": "display_data"
    }
   ],
   "source": [
    "# ===== generate and save most recent rankings for RACE_TYPE ===== #\n",
    "curr_date = datetime.today().strftime('%Y%m%d')\n",
    "fname = f'{RACE_TYPE.lower()}-{GENDER}-{curr_date}.png'\n",
    "gen_rankings_viz(ratings, results, title = f'{RACE_TYPE} Elo Ranking', fname = fname)"
   ]
  },
  {
   "cell_type": "code",
   "execution_count": 213,
   "metadata": {},
   "outputs": [],
   "source": [
    "def gen_lolli_plot(startlist_ratings, startlist, race_name, rating_type, year, width = 1000, height = 750):\n",
    "    \"\"\"\n",
    "    Given the starlist for a race, output a lollipop plot ranking the riders\n",
    "    by their Elo rating.\n",
    "    \"\"\"\n",
    "    \n",
    "    # get the rating for each rider in the order that they appear in startlist\n",
    "    ratings = [startlist_ratings[rider].iloc[-1] for rider in startlist]\n",
    "    \n",
    "    fig = go.Figure()\n",
    "    \n",
    "    # add a line for each rider in the given startlist\n",
    "    for i in range(0, len(startlist)):\n",
    "        fig.add_shape(\n",
    "            type = 'line',\n",
    "            \n",
    "            # x and y coordinates determine the length of the line\n",
    "            x0 = min(ratings) - 50,\n",
    "            y0 = i,\n",
    "            x1 = list(reversed(ratings))[i],\n",
    "            y1 = i,\n",
    "\n",
    "            line = dict(color = 'darkblue', width = 3)\n",
    "        )\n",
    "    \n",
    "    # rider ratings are effectively a scatterplot, with rider name as the y axis\n",
    "    ratings_rev = [round(r, 2) for r in list(reversed(ratings))]\n",
    "    riders_rev = list(reversed(startlist))\n",
    "    fig.add_trace(\n",
    "        go.Scatter(\n",
    "            x = ratings_rev, \n",
    "            y = riders_rev,\n",
    "            text = ratings_rev,\n",
    "            mode = 'markers+text',\n",
    "            marker_color = 'darkblue',\n",
    "            marker_size = 14,\n",
    "            textposition = 'top center'\n",
    "    ))\n",
    "    \n",
    "    # ensure the race name to be ranked is formatted properly\n",
    "    race_name = race_name.replace('-', ' ').title()\n",
    "    \n",
    "    # update the layout of the plot to add finishing touches\n",
    "    fig.update_layout(\n",
    "        title = dict(\n",
    "            text = f'{race_name} {year} {rating_type} Contenders',\n",
    "            x = 0.5,\n",
    "            y = 0.9,\n",
    "            font_color = 'black'\n",
    "        ),\n",
    "        \n",
    "        width = width,\n",
    "        height = height,\n",
    "        \n",
    "        paper_bgcolor = 'white',\n",
    "        plot_bgcolor = 'white',\n",
    "        xaxis = dict(showgrid = False),\n",
    "        yaxis = dict(showgrid = False)\n",
    "    )\n",
    "\n",
    "    return fig\n",
    "\n",
    "def plot_startlist_timeseries(ratings, given_startlist, race_name, \n",
    "            year, rating_type, fname = None, riders_to_plot = 20):\n",
    "    \"\"\"\n",
    "    Driver method for generating the lolliplop plot from the given startlist of a race. Can be applied\n",
    "    to the Elo ratings of all riders (not just the startlist of a given race) if given_startlist is None.\n",
    "    \n",
    "    As with the table above, the figure can be saved if a filename is given using the fname param.\n",
    "    \"\"\"\n",
    "    \n",
    "    if given_startlist is None:\n",
    "        given_startlist = [col for col in ratings.columns if col not in ['year', 'month', 'day']]\n",
    "    \n",
    "    # adjust the given Elo ratings to include only the ratings of the top riders in the startlist\n",
    "    startlist = [rider for rider in given_startlist if rider in ratings.columns]\n",
    "    startlist.sort(key = lambda rider: ratings.iloc[-1, :].loc[rider], reverse = True)\n",
    "    startlist = startlist[0: riders_to_plot]\n",
    "    startlist_ratings = ratings[['year', 'month', 'day'] + startlist]\n",
    "    \n",
    "    # generate lollipop figure\n",
    "    fig = gen_lolli_plot(startlist_ratings, startlist, race_name, rating_type, year)\n",
    "    \n",
    "    if fname is not None:\n",
    "        fig.write_image(f'figures/lollis/{fname}')\n",
    "    \n",
    "    return fig"
   ]
  },
  {
   "cell_type": "code",
   "execution_count": 214,
   "metadata": {},
   "outputs": [
    {
     "data": {
      "application/vnd.plotly.v1+json": {
       "config": {
        "plotlyServerURL": "https://plot.ly"
       },
       "data": [
        {
         "marker": {
          "color": "darkblue",
          "size": 14
         },
         "mode": "markers+text",
         "text": [
          "1501.14",
          "1501.6",
          "1502.14",
          "1505.15",
          "1506.6",
          "1510.9",
          "1511.58",
          "1514.13",
          "1519.23",
          "1522.92",
          "1528.72",
          "1542.33",
          "1555.29",
          "1561.85",
          "1598.69"
         ],
         "textposition": "top center",
         "type": "scatter",
         "x": [
          1501.14,
          1501.6,
          1502.14,
          1505.15,
          1506.6,
          1510.9,
          1511.58,
          1514.13,
          1519.23,
          1522.92,
          1528.72,
          1542.33,
          1555.29,
          1561.85,
          1598.69
         ],
         "y": [
          "HÄBERLIN Steffi",
          "BARIL Olivia",
          "BUJAK Eugenia",
          "NEFF Jolanda",
          "PALADIN Soraya",
          "MACKAIJ Floortje",
          "CHAPMAN Brodie",
          "LIPPERT Liane",
          "KOPPENBURG Clara",
          "MUZIC Évita",
          "MAGNALDI Erica",
          "ROOIJAKKERS Pauliena",
          "FAULKNER Kristen",
          "BRENNAUER Lisa",
          "BRAND Lucinda"
         ]
        }
       ],
       "layout": {
        "height": 750,
        "paper_bgcolor": "white",
        "plot_bgcolor": "white",
        "shapes": [
         {
          "line": {
           "color": "darkblue",
           "width": 3
          },
          "type": "line",
          "x0": 1451.1407753386718,
          "x1": 1501.1407753386718,
          "y0": 0,
          "y1": 0
         },
         {
          "line": {
           "color": "darkblue",
           "width": 3
          },
          "type": "line",
          "x0": 1451.1407753386718,
          "x1": 1501.5995759754644,
          "y0": 1,
          "y1": 1
         },
         {
          "line": {
           "color": "darkblue",
           "width": 3
          },
          "type": "line",
          "x0": 1451.1407753386718,
          "x1": 1502.1415563408937,
          "y0": 2,
          "y1": 2
         },
         {
          "line": {
           "color": "darkblue",
           "width": 3
          },
          "type": "line",
          "x0": 1451.1407753386718,
          "x1": 1505.1534758951168,
          "y0": 3,
          "y1": 3
         },
         {
          "line": {
           "color": "darkblue",
           "width": 3
          },
          "type": "line",
          "x0": 1451.1407753386718,
          "x1": 1506.6009240624244,
          "y0": 4,
          "y1": 4
         },
         {
          "line": {
           "color": "darkblue",
           "width": 3
          },
          "type": "line",
          "x0": 1451.1407753386718,
          "x1": 1510.8963323388853,
          "y0": 5,
          "y1": 5
         },
         {
          "line": {
           "color": "darkblue",
           "width": 3
          },
          "type": "line",
          "x0": 1451.1407753386718,
          "x1": 1511.5782508228424,
          "y0": 6,
          "y1": 6
         },
         {
          "line": {
           "color": "darkblue",
           "width": 3
          },
          "type": "line",
          "x0": 1451.1407753386718,
          "x1": 1514.1293927854929,
          "y0": 7,
          "y1": 7
         },
         {
          "line": {
           "color": "darkblue",
           "width": 3
          },
          "type": "line",
          "x0": 1451.1407753386718,
          "x1": 1519.2323352532055,
          "y0": 8,
          "y1": 8
         },
         {
          "line": {
           "color": "darkblue",
           "width": 3
          },
          "type": "line",
          "x0": 1451.1407753386718,
          "x1": 1522.91679276615,
          "y0": 9,
          "y1": 9
         },
         {
          "line": {
           "color": "darkblue",
           "width": 3
          },
          "type": "line",
          "x0": 1451.1407753386718,
          "x1": 1528.7175295005127,
          "y0": 10,
          "y1": 10
         },
         {
          "line": {
           "color": "darkblue",
           "width": 3
          },
          "type": "line",
          "x0": 1451.1407753386718,
          "x1": 1542.3327509332817,
          "y0": 11,
          "y1": 11
         },
         {
          "line": {
           "color": "darkblue",
           "width": 3
          },
          "type": "line",
          "x0": 1451.1407753386718,
          "x1": 1555.2909433544787,
          "y0": 12,
          "y1": 12
         },
         {
          "line": {
           "color": "darkblue",
           "width": 3
          },
          "type": "line",
          "x0": 1451.1407753386718,
          "x1": 1561.853748209415,
          "y0": 13,
          "y1": 13
         },
         {
          "line": {
           "color": "darkblue",
           "width": 3
          },
          "type": "line",
          "x0": 1451.1407753386718,
          "x1": 1598.6924716562405,
          "y0": 14,
          "y1": 14
         }
        ],
        "template": {
         "data": {
          "bar": [
           {
            "error_x": {
             "color": "#2a3f5f"
            },
            "error_y": {
             "color": "#2a3f5f"
            },
            "marker": {
             "line": {
              "color": "#E5ECF6",
              "width": 0.5
             },
             "pattern": {
              "fillmode": "overlay",
              "size": 10,
              "solidity": 0.2
             }
            },
            "type": "bar"
           }
          ],
          "barpolar": [
           {
            "marker": {
             "line": {
              "color": "#E5ECF6",
              "width": 0.5
             },
             "pattern": {
              "fillmode": "overlay",
              "size": 10,
              "solidity": 0.2
             }
            },
            "type": "barpolar"
           }
          ],
          "carpet": [
           {
            "aaxis": {
             "endlinecolor": "#2a3f5f",
             "gridcolor": "white",
             "linecolor": "white",
             "minorgridcolor": "white",
             "startlinecolor": "#2a3f5f"
            },
            "baxis": {
             "endlinecolor": "#2a3f5f",
             "gridcolor": "white",
             "linecolor": "white",
             "minorgridcolor": "white",
             "startlinecolor": "#2a3f5f"
            },
            "type": "carpet"
           }
          ],
          "choropleth": [
           {
            "colorbar": {
             "outlinewidth": 0,
             "ticks": ""
            },
            "type": "choropleth"
           }
          ],
          "contour": [
           {
            "colorbar": {
             "outlinewidth": 0,
             "ticks": ""
            },
            "colorscale": [
             [
              0,
              "#0d0887"
             ],
             [
              0.1111111111111111,
              "#46039f"
             ],
             [
              0.2222222222222222,
              "#7201a8"
             ],
             [
              0.3333333333333333,
              "#9c179e"
             ],
             [
              0.4444444444444444,
              "#bd3786"
             ],
             [
              0.5555555555555556,
              "#d8576b"
             ],
             [
              0.6666666666666666,
              "#ed7953"
             ],
             [
              0.7777777777777778,
              "#fb9f3a"
             ],
             [
              0.8888888888888888,
              "#fdca26"
             ],
             [
              1,
              "#f0f921"
             ]
            ],
            "type": "contour"
           }
          ],
          "contourcarpet": [
           {
            "colorbar": {
             "outlinewidth": 0,
             "ticks": ""
            },
            "type": "contourcarpet"
           }
          ],
          "heatmap": [
           {
            "colorbar": {
             "outlinewidth": 0,
             "ticks": ""
            },
            "colorscale": [
             [
              0,
              "#0d0887"
             ],
             [
              0.1111111111111111,
              "#46039f"
             ],
             [
              0.2222222222222222,
              "#7201a8"
             ],
             [
              0.3333333333333333,
              "#9c179e"
             ],
             [
              0.4444444444444444,
              "#bd3786"
             ],
             [
              0.5555555555555556,
              "#d8576b"
             ],
             [
              0.6666666666666666,
              "#ed7953"
             ],
             [
              0.7777777777777778,
              "#fb9f3a"
             ],
             [
              0.8888888888888888,
              "#fdca26"
             ],
             [
              1,
              "#f0f921"
             ]
            ],
            "type": "heatmap"
           }
          ],
          "heatmapgl": [
           {
            "colorbar": {
             "outlinewidth": 0,
             "ticks": ""
            },
            "colorscale": [
             [
              0,
              "#0d0887"
             ],
             [
              0.1111111111111111,
              "#46039f"
             ],
             [
              0.2222222222222222,
              "#7201a8"
             ],
             [
              0.3333333333333333,
              "#9c179e"
             ],
             [
              0.4444444444444444,
              "#bd3786"
             ],
             [
              0.5555555555555556,
              "#d8576b"
             ],
             [
              0.6666666666666666,
              "#ed7953"
             ],
             [
              0.7777777777777778,
              "#fb9f3a"
             ],
             [
              0.8888888888888888,
              "#fdca26"
             ],
             [
              1,
              "#f0f921"
             ]
            ],
            "type": "heatmapgl"
           }
          ],
          "histogram": [
           {
            "marker": {
             "pattern": {
              "fillmode": "overlay",
              "size": 10,
              "solidity": 0.2
             }
            },
            "type": "histogram"
           }
          ],
          "histogram2d": [
           {
            "colorbar": {
             "outlinewidth": 0,
             "ticks": ""
            },
            "colorscale": [
             [
              0,
              "#0d0887"
             ],
             [
              0.1111111111111111,
              "#46039f"
             ],
             [
              0.2222222222222222,
              "#7201a8"
             ],
             [
              0.3333333333333333,
              "#9c179e"
             ],
             [
              0.4444444444444444,
              "#bd3786"
             ],
             [
              0.5555555555555556,
              "#d8576b"
             ],
             [
              0.6666666666666666,
              "#ed7953"
             ],
             [
              0.7777777777777778,
              "#fb9f3a"
             ],
             [
              0.8888888888888888,
              "#fdca26"
             ],
             [
              1,
              "#f0f921"
             ]
            ],
            "type": "histogram2d"
           }
          ],
          "histogram2dcontour": [
           {
            "colorbar": {
             "outlinewidth": 0,
             "ticks": ""
            },
            "colorscale": [
             [
              0,
              "#0d0887"
             ],
             [
              0.1111111111111111,
              "#46039f"
             ],
             [
              0.2222222222222222,
              "#7201a8"
             ],
             [
              0.3333333333333333,
              "#9c179e"
             ],
             [
              0.4444444444444444,
              "#bd3786"
             ],
             [
              0.5555555555555556,
              "#d8576b"
             ],
             [
              0.6666666666666666,
              "#ed7953"
             ],
             [
              0.7777777777777778,
              "#fb9f3a"
             ],
             [
              0.8888888888888888,
              "#fdca26"
             ],
             [
              1,
              "#f0f921"
             ]
            ],
            "type": "histogram2dcontour"
           }
          ],
          "mesh3d": [
           {
            "colorbar": {
             "outlinewidth": 0,
             "ticks": ""
            },
            "type": "mesh3d"
           }
          ],
          "parcoords": [
           {
            "line": {
             "colorbar": {
              "outlinewidth": 0,
              "ticks": ""
             }
            },
            "type": "parcoords"
           }
          ],
          "pie": [
           {
            "automargin": true,
            "type": "pie"
           }
          ],
          "scatter": [
           {
            "fillpattern": {
             "fillmode": "overlay",
             "size": 10,
             "solidity": 0.2
            },
            "type": "scatter"
           }
          ],
          "scatter3d": [
           {
            "line": {
             "colorbar": {
              "outlinewidth": 0,
              "ticks": ""
             }
            },
            "marker": {
             "colorbar": {
              "outlinewidth": 0,
              "ticks": ""
             }
            },
            "type": "scatter3d"
           }
          ],
          "scattercarpet": [
           {
            "marker": {
             "colorbar": {
              "outlinewidth": 0,
              "ticks": ""
             }
            },
            "type": "scattercarpet"
           }
          ],
          "scattergeo": [
           {
            "marker": {
             "colorbar": {
              "outlinewidth": 0,
              "ticks": ""
             }
            },
            "type": "scattergeo"
           }
          ],
          "scattergl": [
           {
            "marker": {
             "colorbar": {
              "outlinewidth": 0,
              "ticks": ""
             }
            },
            "type": "scattergl"
           }
          ],
          "scattermapbox": [
           {
            "marker": {
             "colorbar": {
              "outlinewidth": 0,
              "ticks": ""
             }
            },
            "type": "scattermapbox"
           }
          ],
          "scatterpolar": [
           {
            "marker": {
             "colorbar": {
              "outlinewidth": 0,
              "ticks": ""
             }
            },
            "type": "scatterpolar"
           }
          ],
          "scatterpolargl": [
           {
            "marker": {
             "colorbar": {
              "outlinewidth": 0,
              "ticks": ""
             }
            },
            "type": "scatterpolargl"
           }
          ],
          "scatterternary": [
           {
            "marker": {
             "colorbar": {
              "outlinewidth": 0,
              "ticks": ""
             }
            },
            "type": "scatterternary"
           }
          ],
          "surface": [
           {
            "colorbar": {
             "outlinewidth": 0,
             "ticks": ""
            },
            "colorscale": [
             [
              0,
              "#0d0887"
             ],
             [
              0.1111111111111111,
              "#46039f"
             ],
             [
              0.2222222222222222,
              "#7201a8"
             ],
             [
              0.3333333333333333,
              "#9c179e"
             ],
             [
              0.4444444444444444,
              "#bd3786"
             ],
             [
              0.5555555555555556,
              "#d8576b"
             ],
             [
              0.6666666666666666,
              "#ed7953"
             ],
             [
              0.7777777777777778,
              "#fb9f3a"
             ],
             [
              0.8888888888888888,
              "#fdca26"
             ],
             [
              1,
              "#f0f921"
             ]
            ],
            "type": "surface"
           }
          ],
          "table": [
           {
            "cells": {
             "fill": {
              "color": "#EBF0F8"
             },
             "line": {
              "color": "white"
             }
            },
            "header": {
             "fill": {
              "color": "#C8D4E3"
             },
             "line": {
              "color": "white"
             }
            },
            "type": "table"
           }
          ]
         },
         "layout": {
          "annotationdefaults": {
           "arrowcolor": "#2a3f5f",
           "arrowhead": 0,
           "arrowwidth": 1
          },
          "autotypenumbers": "strict",
          "coloraxis": {
           "colorbar": {
            "outlinewidth": 0,
            "ticks": ""
           }
          },
          "colorscale": {
           "diverging": [
            [
             0,
             "#8e0152"
            ],
            [
             0.1,
             "#c51b7d"
            ],
            [
             0.2,
             "#de77ae"
            ],
            [
             0.3,
             "#f1b6da"
            ],
            [
             0.4,
             "#fde0ef"
            ],
            [
             0.5,
             "#f7f7f7"
            ],
            [
             0.6,
             "#e6f5d0"
            ],
            [
             0.7,
             "#b8e186"
            ],
            [
             0.8,
             "#7fbc41"
            ],
            [
             0.9,
             "#4d9221"
            ],
            [
             1,
             "#276419"
            ]
           ],
           "sequential": [
            [
             0,
             "#0d0887"
            ],
            [
             0.1111111111111111,
             "#46039f"
            ],
            [
             0.2222222222222222,
             "#7201a8"
            ],
            [
             0.3333333333333333,
             "#9c179e"
            ],
            [
             0.4444444444444444,
             "#bd3786"
            ],
            [
             0.5555555555555556,
             "#d8576b"
            ],
            [
             0.6666666666666666,
             "#ed7953"
            ],
            [
             0.7777777777777778,
             "#fb9f3a"
            ],
            [
             0.8888888888888888,
             "#fdca26"
            ],
            [
             1,
             "#f0f921"
            ]
           ],
           "sequentialminus": [
            [
             0,
             "#0d0887"
            ],
            [
             0.1111111111111111,
             "#46039f"
            ],
            [
             0.2222222222222222,
             "#7201a8"
            ],
            [
             0.3333333333333333,
             "#9c179e"
            ],
            [
             0.4444444444444444,
             "#bd3786"
            ],
            [
             0.5555555555555556,
             "#d8576b"
            ],
            [
             0.6666666666666666,
             "#ed7953"
            ],
            [
             0.7777777777777778,
             "#fb9f3a"
            ],
            [
             0.8888888888888888,
             "#fdca26"
            ],
            [
             1,
             "#f0f921"
            ]
           ]
          },
          "colorway": [
           "#636efa",
           "#EF553B",
           "#00cc96",
           "#ab63fa",
           "#FFA15A",
           "#19d3f3",
           "#FF6692",
           "#B6E880",
           "#FF97FF",
           "#FECB52"
          ],
          "font": {
           "color": "#2a3f5f"
          },
          "geo": {
           "bgcolor": "white",
           "lakecolor": "white",
           "landcolor": "#E5ECF6",
           "showlakes": true,
           "showland": true,
           "subunitcolor": "white"
          },
          "hoverlabel": {
           "align": "left"
          },
          "hovermode": "closest",
          "mapbox": {
           "style": "light"
          },
          "paper_bgcolor": "white",
          "plot_bgcolor": "#E5ECF6",
          "polar": {
           "angularaxis": {
            "gridcolor": "white",
            "linecolor": "white",
            "ticks": ""
           },
           "bgcolor": "#E5ECF6",
           "radialaxis": {
            "gridcolor": "white",
            "linecolor": "white",
            "ticks": ""
           }
          },
          "scene": {
           "xaxis": {
            "backgroundcolor": "#E5ECF6",
            "gridcolor": "white",
            "gridwidth": 2,
            "linecolor": "white",
            "showbackground": true,
            "ticks": "",
            "zerolinecolor": "white"
           },
           "yaxis": {
            "backgroundcolor": "#E5ECF6",
            "gridcolor": "white",
            "gridwidth": 2,
            "linecolor": "white",
            "showbackground": true,
            "ticks": "",
            "zerolinecolor": "white"
           },
           "zaxis": {
            "backgroundcolor": "#E5ECF6",
            "gridcolor": "white",
            "gridwidth": 2,
            "linecolor": "white",
            "showbackground": true,
            "ticks": "",
            "zerolinecolor": "white"
           }
          },
          "shapedefaults": {
           "line": {
            "color": "#2a3f5f"
           }
          },
          "ternary": {
           "aaxis": {
            "gridcolor": "white",
            "linecolor": "white",
            "ticks": ""
           },
           "baxis": {
            "gridcolor": "white",
            "linecolor": "white",
            "ticks": ""
           },
           "bgcolor": "#E5ECF6",
           "caxis": {
            "gridcolor": "white",
            "linecolor": "white",
            "ticks": ""
           }
          },
          "title": {
           "x": 0.05
          },
          "xaxis": {
           "automargin": true,
           "gridcolor": "white",
           "linecolor": "white",
           "ticks": "",
           "title": {
            "standoff": 15
           },
           "zerolinecolor": "white",
           "zerolinewidth": 2
          },
          "yaxis": {
           "automargin": true,
           "gridcolor": "white",
           "linecolor": "white",
           "ticks": "",
           "title": {
            "standoff": 15
           },
           "zerolinecolor": "white",
           "zerolinewidth": 2
          }
         }
        },
        "title": {
         "font": {
          "color": "black"
         },
         "text": "Tour De Suisse Women 2022 GC Contenders",
         "x": 0.5,
         "y": 0.9
        },
        "width": 1000,
        "xaxis": {
         "showgrid": false
        },
        "yaxis": {
         "showgrid": false
        }
       }
      },
      "text/html": [
       "<div>                            <div id=\"66be89d8-6bb6-41e4-a73f-0d58e6a12d15\" class=\"plotly-graph-div\" style=\"height:750px; width:1000px;\"></div>            <script type=\"text/javascript\">                require([\"plotly\"], function(Plotly) {                    window.PLOTLYENV=window.PLOTLYENV || {};                                    if (document.getElementById(\"66be89d8-6bb6-41e4-a73f-0d58e6a12d15\")) {                    Plotly.newPlot(                        \"66be89d8-6bb6-41e4-a73f-0d58e6a12d15\",                        [{\"marker\":{\"color\":\"darkblue\",\"size\":14},\"mode\":\"markers+text\",\"text\":[\"1501.14\",\"1501.6\",\"1502.14\",\"1505.15\",\"1506.6\",\"1510.9\",\"1511.58\",\"1514.13\",\"1519.23\",\"1522.92\",\"1528.72\",\"1542.33\",\"1555.29\",\"1561.85\",\"1598.69\"],\"textposition\":\"top center\",\"x\":[1501.14,1501.6,1502.14,1505.15,1506.6,1510.9,1511.58,1514.13,1519.23,1522.92,1528.72,1542.33,1555.29,1561.85,1598.69],\"y\":[\"H\\u00c4BERLIN Steffi\",\"BARIL Olivia\",\"BUJAK Eugenia\",\"NEFF Jolanda\",\"PALADIN Soraya\",\"MACKAIJ Floortje\",\"CHAPMAN Brodie\",\"LIPPERT Liane\",\"KOPPENBURG Clara\",\"MUZIC \\u00c9vita\",\"MAGNALDI Erica\",\"ROOIJAKKERS Pauliena\",\"FAULKNER Kristen\",\"BRENNAUER Lisa\",\"BRAND Lucinda\"],\"type\":\"scatter\"}],                        {\"template\":{\"data\":{\"histogram2dcontour\":[{\"type\":\"histogram2dcontour\",\"colorbar\":{\"outlinewidth\":0,\"ticks\":\"\"},\"colorscale\":[[0.0,\"#0d0887\"],[0.1111111111111111,\"#46039f\"],[0.2222222222222222,\"#7201a8\"],[0.3333333333333333,\"#9c179e\"],[0.4444444444444444,\"#bd3786\"],[0.5555555555555556,\"#d8576b\"],[0.6666666666666666,\"#ed7953\"],[0.7777777777777778,\"#fb9f3a\"],[0.8888888888888888,\"#fdca26\"],[1.0,\"#f0f921\"]]}],\"choropleth\":[{\"type\":\"choropleth\",\"colorbar\":{\"outlinewidth\":0,\"ticks\":\"\"}}],\"histogram2d\":[{\"type\":\"histogram2d\",\"colorbar\":{\"outlinewidth\":0,\"ticks\":\"\"},\"colorscale\":[[0.0,\"#0d0887\"],[0.1111111111111111,\"#46039f\"],[0.2222222222222222,\"#7201a8\"],[0.3333333333333333,\"#9c179e\"],[0.4444444444444444,\"#bd3786\"],[0.5555555555555556,\"#d8576b\"],[0.6666666666666666,\"#ed7953\"],[0.7777777777777778,\"#fb9f3a\"],[0.8888888888888888,\"#fdca26\"],[1.0,\"#f0f921\"]]}],\"heatmap\":[{\"type\":\"heatmap\",\"colorbar\":{\"outlinewidth\":0,\"ticks\":\"\"},\"colorscale\":[[0.0,\"#0d0887\"],[0.1111111111111111,\"#46039f\"],[0.2222222222222222,\"#7201a8\"],[0.3333333333333333,\"#9c179e\"],[0.4444444444444444,\"#bd3786\"],[0.5555555555555556,\"#d8576b\"],[0.6666666666666666,\"#ed7953\"],[0.7777777777777778,\"#fb9f3a\"],[0.8888888888888888,\"#fdca26\"],[1.0,\"#f0f921\"]]}],\"heatmapgl\":[{\"type\":\"heatmapgl\",\"colorbar\":{\"outlinewidth\":0,\"ticks\":\"\"},\"colorscale\":[[0.0,\"#0d0887\"],[0.1111111111111111,\"#46039f\"],[0.2222222222222222,\"#7201a8\"],[0.3333333333333333,\"#9c179e\"],[0.4444444444444444,\"#bd3786\"],[0.5555555555555556,\"#d8576b\"],[0.6666666666666666,\"#ed7953\"],[0.7777777777777778,\"#fb9f3a\"],[0.8888888888888888,\"#fdca26\"],[1.0,\"#f0f921\"]]}],\"contourcarpet\":[{\"type\":\"contourcarpet\",\"colorbar\":{\"outlinewidth\":0,\"ticks\":\"\"}}],\"contour\":[{\"type\":\"contour\",\"colorbar\":{\"outlinewidth\":0,\"ticks\":\"\"},\"colorscale\":[[0.0,\"#0d0887\"],[0.1111111111111111,\"#46039f\"],[0.2222222222222222,\"#7201a8\"],[0.3333333333333333,\"#9c179e\"],[0.4444444444444444,\"#bd3786\"],[0.5555555555555556,\"#d8576b\"],[0.6666666666666666,\"#ed7953\"],[0.7777777777777778,\"#fb9f3a\"],[0.8888888888888888,\"#fdca26\"],[1.0,\"#f0f921\"]]}],\"surface\":[{\"type\":\"surface\",\"colorbar\":{\"outlinewidth\":0,\"ticks\":\"\"},\"colorscale\":[[0.0,\"#0d0887\"],[0.1111111111111111,\"#46039f\"],[0.2222222222222222,\"#7201a8\"],[0.3333333333333333,\"#9c179e\"],[0.4444444444444444,\"#bd3786\"],[0.5555555555555556,\"#d8576b\"],[0.6666666666666666,\"#ed7953\"],[0.7777777777777778,\"#fb9f3a\"],[0.8888888888888888,\"#fdca26\"],[1.0,\"#f0f921\"]]}],\"mesh3d\":[{\"type\":\"mesh3d\",\"colorbar\":{\"outlinewidth\":0,\"ticks\":\"\"}}],\"scatter\":[{\"fillpattern\":{\"fillmode\":\"overlay\",\"size\":10,\"solidity\":0.2},\"type\":\"scatter\"}],\"parcoords\":[{\"type\":\"parcoords\",\"line\":{\"colorbar\":{\"outlinewidth\":0,\"ticks\":\"\"}}}],\"scatterpolargl\":[{\"type\":\"scatterpolargl\",\"marker\":{\"colorbar\":{\"outlinewidth\":0,\"ticks\":\"\"}}}],\"bar\":[{\"error_x\":{\"color\":\"#2a3f5f\"},\"error_y\":{\"color\":\"#2a3f5f\"},\"marker\":{\"line\":{\"color\":\"#E5ECF6\",\"width\":0.5},\"pattern\":{\"fillmode\":\"overlay\",\"size\":10,\"solidity\":0.2}},\"type\":\"bar\"}],\"scattergeo\":[{\"type\":\"scattergeo\",\"marker\":{\"colorbar\":{\"outlinewidth\":0,\"ticks\":\"\"}}}],\"scatterpolar\":[{\"type\":\"scatterpolar\",\"marker\":{\"colorbar\":{\"outlinewidth\":0,\"ticks\":\"\"}}}],\"histogram\":[{\"marker\":{\"pattern\":{\"fillmode\":\"overlay\",\"size\":10,\"solidity\":0.2}},\"type\":\"histogram\"}],\"scattergl\":[{\"type\":\"scattergl\",\"marker\":{\"colorbar\":{\"outlinewidth\":0,\"ticks\":\"\"}}}],\"scatter3d\":[{\"type\":\"scatter3d\",\"line\":{\"colorbar\":{\"outlinewidth\":0,\"ticks\":\"\"}},\"marker\":{\"colorbar\":{\"outlinewidth\":0,\"ticks\":\"\"}}}],\"scattermapbox\":[{\"type\":\"scattermapbox\",\"marker\":{\"colorbar\":{\"outlinewidth\":0,\"ticks\":\"\"}}}],\"scatterternary\":[{\"type\":\"scatterternary\",\"marker\":{\"colorbar\":{\"outlinewidth\":0,\"ticks\":\"\"}}}],\"scattercarpet\":[{\"type\":\"scattercarpet\",\"marker\":{\"colorbar\":{\"outlinewidth\":0,\"ticks\":\"\"}}}],\"carpet\":[{\"aaxis\":{\"endlinecolor\":\"#2a3f5f\",\"gridcolor\":\"white\",\"linecolor\":\"white\",\"minorgridcolor\":\"white\",\"startlinecolor\":\"#2a3f5f\"},\"baxis\":{\"endlinecolor\":\"#2a3f5f\",\"gridcolor\":\"white\",\"linecolor\":\"white\",\"minorgridcolor\":\"white\",\"startlinecolor\":\"#2a3f5f\"},\"type\":\"carpet\"}],\"table\":[{\"cells\":{\"fill\":{\"color\":\"#EBF0F8\"},\"line\":{\"color\":\"white\"}},\"header\":{\"fill\":{\"color\":\"#C8D4E3\"},\"line\":{\"color\":\"white\"}},\"type\":\"table\"}],\"barpolar\":[{\"marker\":{\"line\":{\"color\":\"#E5ECF6\",\"width\":0.5},\"pattern\":{\"fillmode\":\"overlay\",\"size\":10,\"solidity\":0.2}},\"type\":\"barpolar\"}],\"pie\":[{\"automargin\":true,\"type\":\"pie\"}]},\"layout\":{\"autotypenumbers\":\"strict\",\"colorway\":[\"#636efa\",\"#EF553B\",\"#00cc96\",\"#ab63fa\",\"#FFA15A\",\"#19d3f3\",\"#FF6692\",\"#B6E880\",\"#FF97FF\",\"#FECB52\"],\"font\":{\"color\":\"#2a3f5f\"},\"hovermode\":\"closest\",\"hoverlabel\":{\"align\":\"left\"},\"paper_bgcolor\":\"white\",\"plot_bgcolor\":\"#E5ECF6\",\"polar\":{\"bgcolor\":\"#E5ECF6\",\"angularaxis\":{\"gridcolor\":\"white\",\"linecolor\":\"white\",\"ticks\":\"\"},\"radialaxis\":{\"gridcolor\":\"white\",\"linecolor\":\"white\",\"ticks\":\"\"}},\"ternary\":{\"bgcolor\":\"#E5ECF6\",\"aaxis\":{\"gridcolor\":\"white\",\"linecolor\":\"white\",\"ticks\":\"\"},\"baxis\":{\"gridcolor\":\"white\",\"linecolor\":\"white\",\"ticks\":\"\"},\"caxis\":{\"gridcolor\":\"white\",\"linecolor\":\"white\",\"ticks\":\"\"}},\"coloraxis\":{\"colorbar\":{\"outlinewidth\":0,\"ticks\":\"\"}},\"colorscale\":{\"sequential\":[[0.0,\"#0d0887\"],[0.1111111111111111,\"#46039f\"],[0.2222222222222222,\"#7201a8\"],[0.3333333333333333,\"#9c179e\"],[0.4444444444444444,\"#bd3786\"],[0.5555555555555556,\"#d8576b\"],[0.6666666666666666,\"#ed7953\"],[0.7777777777777778,\"#fb9f3a\"],[0.8888888888888888,\"#fdca26\"],[1.0,\"#f0f921\"]],\"sequentialminus\":[[0.0,\"#0d0887\"],[0.1111111111111111,\"#46039f\"],[0.2222222222222222,\"#7201a8\"],[0.3333333333333333,\"#9c179e\"],[0.4444444444444444,\"#bd3786\"],[0.5555555555555556,\"#d8576b\"],[0.6666666666666666,\"#ed7953\"],[0.7777777777777778,\"#fb9f3a\"],[0.8888888888888888,\"#fdca26\"],[1.0,\"#f0f921\"]],\"diverging\":[[0,\"#8e0152\"],[0.1,\"#c51b7d\"],[0.2,\"#de77ae\"],[0.3,\"#f1b6da\"],[0.4,\"#fde0ef\"],[0.5,\"#f7f7f7\"],[0.6,\"#e6f5d0\"],[0.7,\"#b8e186\"],[0.8,\"#7fbc41\"],[0.9,\"#4d9221\"],[1,\"#276419\"]]},\"xaxis\":{\"gridcolor\":\"white\",\"linecolor\":\"white\",\"ticks\":\"\",\"title\":{\"standoff\":15},\"zerolinecolor\":\"white\",\"automargin\":true,\"zerolinewidth\":2},\"yaxis\":{\"gridcolor\":\"white\",\"linecolor\":\"white\",\"ticks\":\"\",\"title\":{\"standoff\":15},\"zerolinecolor\":\"white\",\"automargin\":true,\"zerolinewidth\":2},\"scene\":{\"xaxis\":{\"backgroundcolor\":\"#E5ECF6\",\"gridcolor\":\"white\",\"linecolor\":\"white\",\"showbackground\":true,\"ticks\":\"\",\"zerolinecolor\":\"white\",\"gridwidth\":2},\"yaxis\":{\"backgroundcolor\":\"#E5ECF6\",\"gridcolor\":\"white\",\"linecolor\":\"white\",\"showbackground\":true,\"ticks\":\"\",\"zerolinecolor\":\"white\",\"gridwidth\":2},\"zaxis\":{\"backgroundcolor\":\"#E5ECF6\",\"gridcolor\":\"white\",\"linecolor\":\"white\",\"showbackground\":true,\"ticks\":\"\",\"zerolinecolor\":\"white\",\"gridwidth\":2}},\"shapedefaults\":{\"line\":{\"color\":\"#2a3f5f\"}},\"annotationdefaults\":{\"arrowcolor\":\"#2a3f5f\",\"arrowhead\":0,\"arrowwidth\":1},\"geo\":{\"bgcolor\":\"white\",\"landcolor\":\"#E5ECF6\",\"subunitcolor\":\"white\",\"showland\":true,\"showlakes\":true,\"lakecolor\":\"white\"},\"title\":{\"x\":0.05},\"mapbox\":{\"style\":\"light\"}}},\"shapes\":[{\"line\":{\"color\":\"darkblue\",\"width\":3},\"type\":\"line\",\"x0\":1451.1407753386718,\"x1\":1501.1407753386718,\"y0\":0,\"y1\":0},{\"line\":{\"color\":\"darkblue\",\"width\":3},\"type\":\"line\",\"x0\":1451.1407753386718,\"x1\":1501.5995759754644,\"y0\":1,\"y1\":1},{\"line\":{\"color\":\"darkblue\",\"width\":3},\"type\":\"line\",\"x0\":1451.1407753386718,\"x1\":1502.1415563408937,\"y0\":2,\"y1\":2},{\"line\":{\"color\":\"darkblue\",\"width\":3},\"type\":\"line\",\"x0\":1451.1407753386718,\"x1\":1505.1534758951168,\"y0\":3,\"y1\":3},{\"line\":{\"color\":\"darkblue\",\"width\":3},\"type\":\"line\",\"x0\":1451.1407753386718,\"x1\":1506.6009240624244,\"y0\":4,\"y1\":4},{\"line\":{\"color\":\"darkblue\",\"width\":3},\"type\":\"line\",\"x0\":1451.1407753386718,\"x1\":1510.8963323388853,\"y0\":5,\"y1\":5},{\"line\":{\"color\":\"darkblue\",\"width\":3},\"type\":\"line\",\"x0\":1451.1407753386718,\"x1\":1511.5782508228424,\"y0\":6,\"y1\":6},{\"line\":{\"color\":\"darkblue\",\"width\":3},\"type\":\"line\",\"x0\":1451.1407753386718,\"x1\":1514.1293927854929,\"y0\":7,\"y1\":7},{\"line\":{\"color\":\"darkblue\",\"width\":3},\"type\":\"line\",\"x0\":1451.1407753386718,\"x1\":1519.2323352532055,\"y0\":8,\"y1\":8},{\"line\":{\"color\":\"darkblue\",\"width\":3},\"type\":\"line\",\"x0\":1451.1407753386718,\"x1\":1522.91679276615,\"y0\":9,\"y1\":9},{\"line\":{\"color\":\"darkblue\",\"width\":3},\"type\":\"line\",\"x0\":1451.1407753386718,\"x1\":1528.7175295005127,\"y0\":10,\"y1\":10},{\"line\":{\"color\":\"darkblue\",\"width\":3},\"type\":\"line\",\"x0\":1451.1407753386718,\"x1\":1542.3327509332817,\"y0\":11,\"y1\":11},{\"line\":{\"color\":\"darkblue\",\"width\":3},\"type\":\"line\",\"x0\":1451.1407753386718,\"x1\":1555.2909433544787,\"y0\":12,\"y1\":12},{\"line\":{\"color\":\"darkblue\",\"width\":3},\"type\":\"line\",\"x0\":1451.1407753386718,\"x1\":1561.853748209415,\"y0\":13,\"y1\":13},{\"line\":{\"color\":\"darkblue\",\"width\":3},\"type\":\"line\",\"x0\":1451.1407753386718,\"x1\":1598.6924716562405,\"y0\":14,\"y1\":14}],\"title\":{\"font\":{\"color\":\"black\"},\"text\":\"Tour De Suisse Women 2022 GC Contenders\",\"x\":0.5,\"y\":0.9},\"xaxis\":{\"showgrid\":false},\"yaxis\":{\"showgrid\":false},\"width\":1000,\"height\":750,\"paper_bgcolor\":\"white\",\"plot_bgcolor\":\"white\"},                        {\"responsive\": true}                    ).then(function(){\n",
       "                            \n",
       "var gd = document.getElementById('66be89d8-6bb6-41e4-a73f-0d58e6a12d15');\n",
       "var x = new MutationObserver(function (mutations, observer) {{\n",
       "        var display = window.getComputedStyle(gd).display;\n",
       "        if (!display || display === 'none') {{\n",
       "            console.log([gd, 'removed!']);\n",
       "            Plotly.purge(gd);\n",
       "            observer.disconnect();\n",
       "        }}\n",
       "}});\n",
       "\n",
       "// Listen for the removal of the full notebook cells\n",
       "var notebookContainer = gd.closest('#notebook-container');\n",
       "if (notebookContainer) {{\n",
       "    x.observe(notebookContainer, {childList: true});\n",
       "}}\n",
       "\n",
       "// Listen for the clearing of the current output cell\n",
       "var outputEl = gd.closest('.output');\n",
       "if (outputEl) {{\n",
       "    x.observe(outputEl, {childList: true});\n",
       "}}\n",
       "\n",
       "                        })                };                });            </script>        </div>"
      ]
     },
     "metadata": {},
     "output_type": "display_data"
    }
   ],
   "source": [
    "# plot the lollipop\n",
    "plot_startlist_timeseries(\n",
    "    ratings, STARTLIST, RACE.replace('-', ' ').title(), YEAR, RACE_TYPE,\n",
    "    riders_to_plot = 15, fname = f'{RACE}-{YEAR}-{RACE_TYPE.lower()}-{GENDER}-lollipop.png'\n",
    ")"
   ]
  },
  {
   "cell_type": "code",
   "execution_count": 215,
   "metadata": {},
   "outputs": [
    {
     "data": {
      "text/plain": [
       "False"
      ]
     },
     "execution_count": 215,
     "metadata": {},
     "output_type": "execute_result"
    }
   ],
   "source": [
    "'LEKNUSSUND Andreas' in ratings.columns"
   ]
  },
  {
   "cell_type": "code",
   "execution_count": 216,
   "metadata": {
    "scrolled": false
   },
   "outputs": [],
   "source": [
    "def heatmap(ratings, startlist, race_name, year, rating_type, to_include = 15, q_base = 10, q_div = 400, fname = None):    \n",
    "    startlist_ratings = {rider: ratings[rider].iloc[-1] for rider in startlist if rider in ratings.columns}\n",
    "    startlist_ratings = list(sorted(startlist_ratings.items(), key = lambda tup: tup[1], reverse = True))[0: to_include]\n",
    "    \n",
    "    to_include = to_include if to_include <= len(startlist) else len(startlist)\n",
    "    \n",
    "    Z = [\n",
    "        [\n",
    "            round(\n",
    "                utils.get_elo_probabilities(\n",
    "                    startlist_ratings[i][1],\n",
    "                    startlist_ratings[j][1],\n",
    "                    q_base, q_div\n",
    "                )[0],\n",
    "                3\n",
    "            )\n",
    "            if startlist_ratings[i] != startlist_ratings[j] else None \n",
    "            for j in range(to_include)\n",
    "        ]\n",
    "        for i in range(to_include - 1, -1, -1)\n",
    "    ]\n",
    "    \n",
    "\n",
    "    fig = go.Figure(\n",
    "        data = go.Heatmap(\n",
    "            z = Z,\n",
    "            x = [t[0] for t in startlist_ratings][0: to_include],\n",
    "            y = list(reversed([t[0] for t in startlist_ratings][0: to_include])),\n",
    "            text = Z,\n",
    "            texttemplate = \"%{text}\",\n",
    "            textfont = {\"size\": 10},\n",
    "            colorscale = 'blues'\n",
    "    ))\n",
    "    fig.update_layout(\n",
    "        title = dict(\n",
    "                text = f'{race_name} {year} {rating_type} Contenders',\n",
    "                x = 0.5,\n",
    "                y = 0.9,\n",
    "                font_color = 'black'\n",
    "            ),\n",
    "            xaxis = dict(side = 'bottom'),\n",
    "            plot_bgcolor = 'white',\n",
    "            width = 1000,\n",
    "            height = 600\n",
    "    )\n",
    "#     ), layout = go.Layout(\n",
    "#             title = dict(\n",
    "#                 text = f'{race_name} {year} {rating_type} Contenders',\n",
    "#                 x = 0.5,\n",
    "#                 y = 0.9,\n",
    "#                 font_color = 'black'\n",
    "#             ),\n",
    "#             xaxis = dict(side = 'bottom'), plot_bgcolor = 'white'),\n",
    "#             width = 1000\n",
    "#     )\n",
    "    \n",
    "    if fname is not None:\n",
    "        fig.write_image(f'figures/heatmaps/{fname}')\n",
    "\n",
    "    return fig"
   ]
  },
  {
   "cell_type": "code",
   "execution_count": 217,
   "metadata": {},
   "outputs": [
    {
     "data": {
      "application/vnd.plotly.v1+json": {
       "config": {
        "plotlyServerURL": "https://plot.ly"
       },
       "data": [
        {
         "colorscale": [
          [
           0,
           "rgb(247,251,255)"
          ],
          [
           0.125,
           "rgb(222,235,247)"
          ],
          [
           0.25,
           "rgb(198,219,239)"
          ],
          [
           0.375,
           "rgb(158,202,225)"
          ],
          [
           0.5,
           "rgb(107,174,214)"
          ],
          [
           0.625,
           "rgb(66,146,198)"
          ],
          [
           0.75,
           "rgb(33,113,181)"
          ],
          [
           0.875,
           "rgb(8,81,156)"
          ],
          [
           1,
           "rgb(8,48,107)"
          ]
         ],
         "text": [
          [
           0.206,
           0.314,
           0.336,
           0.382,
           0.432,
           0.454,
           0.468,
           0.488,
           0.497,
           null
          ],
          [
           0.208,
           0.316,
           0.338,
           0.384,
           0.435,
           0.457,
           0.471,
           0.49,
           null,
           0.503
          ],
          [
           0.214,
           0.325,
           0.347,
           0.393,
           0.444,
           0.466,
           0.48,
           null,
           0.51,
           0.512
          ],
          [
           0.228,
           0.342,
           0.365,
           0.412,
           0.464,
           0.486,
           null,
           0.52,
           0.529,
           0.532
          ],
          [
           0.238,
           0.355,
           0.378,
           0.426,
           0.478,
           null,
           0.514,
           0.534,
           0.543,
           0.546
          ],
          [
           0.255,
           0.376,
           0.399,
           0.448,
           null,
           0.522,
           0.536,
           0.556,
           0.565,
           0.568
          ],
          [
           0.296,
           0.426,
           0.45,
           null,
           0.552,
           0.574,
           0.588,
           0.607,
           0.616,
           0.618
          ],
          [
           0.339,
           0.475,
           null,
           0.55,
           0.601,
           0.622,
           0.635,
           0.653,
           0.662,
           0.664
          ],
          [
           0.362,
           null,
           0.525,
           0.574,
           0.624,
           0.645,
           0.658,
           0.675,
           0.684,
           0.686
          ],
          [
           null,
           0.638,
           0.661,
           0.704,
           0.745,
           0.762,
           0.772,
           0.786,
           0.792,
           0.794
          ]
         ],
         "textfont": {
          "size": 10
         },
         "texttemplate": "%{text}",
         "type": "heatmap",
         "x": [
          "BRAND Lucinda",
          "BRENNAUER Lisa",
          "FAULKNER Kristen",
          "ROOIJAKKERS Pauliena",
          "MAGNALDI Erica",
          "MUZIC Évita",
          "KOPPENBURG Clara",
          "LIPPERT Liane",
          "CHAPMAN Brodie",
          "MACKAIJ Floortje"
         ],
         "y": [
          "MACKAIJ Floortje",
          "CHAPMAN Brodie",
          "LIPPERT Liane",
          "KOPPENBURG Clara",
          "MUZIC Évita",
          "MAGNALDI Erica",
          "ROOIJAKKERS Pauliena",
          "FAULKNER Kristen",
          "BRENNAUER Lisa",
          "BRAND Lucinda"
         ],
         "z": [
          [
           0.206,
           0.314,
           0.336,
           0.382,
           0.432,
           0.454,
           0.468,
           0.488,
           0.497,
           null
          ],
          [
           0.208,
           0.316,
           0.338,
           0.384,
           0.435,
           0.457,
           0.471,
           0.49,
           null,
           0.503
          ],
          [
           0.214,
           0.325,
           0.347,
           0.393,
           0.444,
           0.466,
           0.48,
           null,
           0.51,
           0.512
          ],
          [
           0.228,
           0.342,
           0.365,
           0.412,
           0.464,
           0.486,
           null,
           0.52,
           0.529,
           0.532
          ],
          [
           0.238,
           0.355,
           0.378,
           0.426,
           0.478,
           null,
           0.514,
           0.534,
           0.543,
           0.546
          ],
          [
           0.255,
           0.376,
           0.399,
           0.448,
           null,
           0.522,
           0.536,
           0.556,
           0.565,
           0.568
          ],
          [
           0.296,
           0.426,
           0.45,
           null,
           0.552,
           0.574,
           0.588,
           0.607,
           0.616,
           0.618
          ],
          [
           0.339,
           0.475,
           null,
           0.55,
           0.601,
           0.622,
           0.635,
           0.653,
           0.662,
           0.664
          ],
          [
           0.362,
           null,
           0.525,
           0.574,
           0.624,
           0.645,
           0.658,
           0.675,
           0.684,
           0.686
          ],
          [
           null,
           0.638,
           0.661,
           0.704,
           0.745,
           0.762,
           0.772,
           0.786,
           0.792,
           0.794
          ]
         ]
        }
       ],
       "layout": {
        "height": 600,
        "plot_bgcolor": "white",
        "template": {
         "data": {
          "bar": [
           {
            "error_x": {
             "color": "#2a3f5f"
            },
            "error_y": {
             "color": "#2a3f5f"
            },
            "marker": {
             "line": {
              "color": "#E5ECF6",
              "width": 0.5
             },
             "pattern": {
              "fillmode": "overlay",
              "size": 10,
              "solidity": 0.2
             }
            },
            "type": "bar"
           }
          ],
          "barpolar": [
           {
            "marker": {
             "line": {
              "color": "#E5ECF6",
              "width": 0.5
             },
             "pattern": {
              "fillmode": "overlay",
              "size": 10,
              "solidity": 0.2
             }
            },
            "type": "barpolar"
           }
          ],
          "carpet": [
           {
            "aaxis": {
             "endlinecolor": "#2a3f5f",
             "gridcolor": "white",
             "linecolor": "white",
             "minorgridcolor": "white",
             "startlinecolor": "#2a3f5f"
            },
            "baxis": {
             "endlinecolor": "#2a3f5f",
             "gridcolor": "white",
             "linecolor": "white",
             "minorgridcolor": "white",
             "startlinecolor": "#2a3f5f"
            },
            "type": "carpet"
           }
          ],
          "choropleth": [
           {
            "colorbar": {
             "outlinewidth": 0,
             "ticks": ""
            },
            "type": "choropleth"
           }
          ],
          "contour": [
           {
            "colorbar": {
             "outlinewidth": 0,
             "ticks": ""
            },
            "colorscale": [
             [
              0,
              "#0d0887"
             ],
             [
              0.1111111111111111,
              "#46039f"
             ],
             [
              0.2222222222222222,
              "#7201a8"
             ],
             [
              0.3333333333333333,
              "#9c179e"
             ],
             [
              0.4444444444444444,
              "#bd3786"
             ],
             [
              0.5555555555555556,
              "#d8576b"
             ],
             [
              0.6666666666666666,
              "#ed7953"
             ],
             [
              0.7777777777777778,
              "#fb9f3a"
             ],
             [
              0.8888888888888888,
              "#fdca26"
             ],
             [
              1,
              "#f0f921"
             ]
            ],
            "type": "contour"
           }
          ],
          "contourcarpet": [
           {
            "colorbar": {
             "outlinewidth": 0,
             "ticks": ""
            },
            "type": "contourcarpet"
           }
          ],
          "heatmap": [
           {
            "colorbar": {
             "outlinewidth": 0,
             "ticks": ""
            },
            "colorscale": [
             [
              0,
              "#0d0887"
             ],
             [
              0.1111111111111111,
              "#46039f"
             ],
             [
              0.2222222222222222,
              "#7201a8"
             ],
             [
              0.3333333333333333,
              "#9c179e"
             ],
             [
              0.4444444444444444,
              "#bd3786"
             ],
             [
              0.5555555555555556,
              "#d8576b"
             ],
             [
              0.6666666666666666,
              "#ed7953"
             ],
             [
              0.7777777777777778,
              "#fb9f3a"
             ],
             [
              0.8888888888888888,
              "#fdca26"
             ],
             [
              1,
              "#f0f921"
             ]
            ],
            "type": "heatmap"
           }
          ],
          "heatmapgl": [
           {
            "colorbar": {
             "outlinewidth": 0,
             "ticks": ""
            },
            "colorscale": [
             [
              0,
              "#0d0887"
             ],
             [
              0.1111111111111111,
              "#46039f"
             ],
             [
              0.2222222222222222,
              "#7201a8"
             ],
             [
              0.3333333333333333,
              "#9c179e"
             ],
             [
              0.4444444444444444,
              "#bd3786"
             ],
             [
              0.5555555555555556,
              "#d8576b"
             ],
             [
              0.6666666666666666,
              "#ed7953"
             ],
             [
              0.7777777777777778,
              "#fb9f3a"
             ],
             [
              0.8888888888888888,
              "#fdca26"
             ],
             [
              1,
              "#f0f921"
             ]
            ],
            "type": "heatmapgl"
           }
          ],
          "histogram": [
           {
            "marker": {
             "pattern": {
              "fillmode": "overlay",
              "size": 10,
              "solidity": 0.2
             }
            },
            "type": "histogram"
           }
          ],
          "histogram2d": [
           {
            "colorbar": {
             "outlinewidth": 0,
             "ticks": ""
            },
            "colorscale": [
             [
              0,
              "#0d0887"
             ],
             [
              0.1111111111111111,
              "#46039f"
             ],
             [
              0.2222222222222222,
              "#7201a8"
             ],
             [
              0.3333333333333333,
              "#9c179e"
             ],
             [
              0.4444444444444444,
              "#bd3786"
             ],
             [
              0.5555555555555556,
              "#d8576b"
             ],
             [
              0.6666666666666666,
              "#ed7953"
             ],
             [
              0.7777777777777778,
              "#fb9f3a"
             ],
             [
              0.8888888888888888,
              "#fdca26"
             ],
             [
              1,
              "#f0f921"
             ]
            ],
            "type": "histogram2d"
           }
          ],
          "histogram2dcontour": [
           {
            "colorbar": {
             "outlinewidth": 0,
             "ticks": ""
            },
            "colorscale": [
             [
              0,
              "#0d0887"
             ],
             [
              0.1111111111111111,
              "#46039f"
             ],
             [
              0.2222222222222222,
              "#7201a8"
             ],
             [
              0.3333333333333333,
              "#9c179e"
             ],
             [
              0.4444444444444444,
              "#bd3786"
             ],
             [
              0.5555555555555556,
              "#d8576b"
             ],
             [
              0.6666666666666666,
              "#ed7953"
             ],
             [
              0.7777777777777778,
              "#fb9f3a"
             ],
             [
              0.8888888888888888,
              "#fdca26"
             ],
             [
              1,
              "#f0f921"
             ]
            ],
            "type": "histogram2dcontour"
           }
          ],
          "mesh3d": [
           {
            "colorbar": {
             "outlinewidth": 0,
             "ticks": ""
            },
            "type": "mesh3d"
           }
          ],
          "parcoords": [
           {
            "line": {
             "colorbar": {
              "outlinewidth": 0,
              "ticks": ""
             }
            },
            "type": "parcoords"
           }
          ],
          "pie": [
           {
            "automargin": true,
            "type": "pie"
           }
          ],
          "scatter": [
           {
            "fillpattern": {
             "fillmode": "overlay",
             "size": 10,
             "solidity": 0.2
            },
            "type": "scatter"
           }
          ],
          "scatter3d": [
           {
            "line": {
             "colorbar": {
              "outlinewidth": 0,
              "ticks": ""
             }
            },
            "marker": {
             "colorbar": {
              "outlinewidth": 0,
              "ticks": ""
             }
            },
            "type": "scatter3d"
           }
          ],
          "scattercarpet": [
           {
            "marker": {
             "colorbar": {
              "outlinewidth": 0,
              "ticks": ""
             }
            },
            "type": "scattercarpet"
           }
          ],
          "scattergeo": [
           {
            "marker": {
             "colorbar": {
              "outlinewidth": 0,
              "ticks": ""
             }
            },
            "type": "scattergeo"
           }
          ],
          "scattergl": [
           {
            "marker": {
             "colorbar": {
              "outlinewidth": 0,
              "ticks": ""
             }
            },
            "type": "scattergl"
           }
          ],
          "scattermapbox": [
           {
            "marker": {
             "colorbar": {
              "outlinewidth": 0,
              "ticks": ""
             }
            },
            "type": "scattermapbox"
           }
          ],
          "scatterpolar": [
           {
            "marker": {
             "colorbar": {
              "outlinewidth": 0,
              "ticks": ""
             }
            },
            "type": "scatterpolar"
           }
          ],
          "scatterpolargl": [
           {
            "marker": {
             "colorbar": {
              "outlinewidth": 0,
              "ticks": ""
             }
            },
            "type": "scatterpolargl"
           }
          ],
          "scatterternary": [
           {
            "marker": {
             "colorbar": {
              "outlinewidth": 0,
              "ticks": ""
             }
            },
            "type": "scatterternary"
           }
          ],
          "surface": [
           {
            "colorbar": {
             "outlinewidth": 0,
             "ticks": ""
            },
            "colorscale": [
             [
              0,
              "#0d0887"
             ],
             [
              0.1111111111111111,
              "#46039f"
             ],
             [
              0.2222222222222222,
              "#7201a8"
             ],
             [
              0.3333333333333333,
              "#9c179e"
             ],
             [
              0.4444444444444444,
              "#bd3786"
             ],
             [
              0.5555555555555556,
              "#d8576b"
             ],
             [
              0.6666666666666666,
              "#ed7953"
             ],
             [
              0.7777777777777778,
              "#fb9f3a"
             ],
             [
              0.8888888888888888,
              "#fdca26"
             ],
             [
              1,
              "#f0f921"
             ]
            ],
            "type": "surface"
           }
          ],
          "table": [
           {
            "cells": {
             "fill": {
              "color": "#EBF0F8"
             },
             "line": {
              "color": "white"
             }
            },
            "header": {
             "fill": {
              "color": "#C8D4E3"
             },
             "line": {
              "color": "white"
             }
            },
            "type": "table"
           }
          ]
         },
         "layout": {
          "annotationdefaults": {
           "arrowcolor": "#2a3f5f",
           "arrowhead": 0,
           "arrowwidth": 1
          },
          "autotypenumbers": "strict",
          "coloraxis": {
           "colorbar": {
            "outlinewidth": 0,
            "ticks": ""
           }
          },
          "colorscale": {
           "diverging": [
            [
             0,
             "#8e0152"
            ],
            [
             0.1,
             "#c51b7d"
            ],
            [
             0.2,
             "#de77ae"
            ],
            [
             0.3,
             "#f1b6da"
            ],
            [
             0.4,
             "#fde0ef"
            ],
            [
             0.5,
             "#f7f7f7"
            ],
            [
             0.6,
             "#e6f5d0"
            ],
            [
             0.7,
             "#b8e186"
            ],
            [
             0.8,
             "#7fbc41"
            ],
            [
             0.9,
             "#4d9221"
            ],
            [
             1,
             "#276419"
            ]
           ],
           "sequential": [
            [
             0,
             "#0d0887"
            ],
            [
             0.1111111111111111,
             "#46039f"
            ],
            [
             0.2222222222222222,
             "#7201a8"
            ],
            [
             0.3333333333333333,
             "#9c179e"
            ],
            [
             0.4444444444444444,
             "#bd3786"
            ],
            [
             0.5555555555555556,
             "#d8576b"
            ],
            [
             0.6666666666666666,
             "#ed7953"
            ],
            [
             0.7777777777777778,
             "#fb9f3a"
            ],
            [
             0.8888888888888888,
             "#fdca26"
            ],
            [
             1,
             "#f0f921"
            ]
           ],
           "sequentialminus": [
            [
             0,
             "#0d0887"
            ],
            [
             0.1111111111111111,
             "#46039f"
            ],
            [
             0.2222222222222222,
             "#7201a8"
            ],
            [
             0.3333333333333333,
             "#9c179e"
            ],
            [
             0.4444444444444444,
             "#bd3786"
            ],
            [
             0.5555555555555556,
             "#d8576b"
            ],
            [
             0.6666666666666666,
             "#ed7953"
            ],
            [
             0.7777777777777778,
             "#fb9f3a"
            ],
            [
             0.8888888888888888,
             "#fdca26"
            ],
            [
             1,
             "#f0f921"
            ]
           ]
          },
          "colorway": [
           "#636efa",
           "#EF553B",
           "#00cc96",
           "#ab63fa",
           "#FFA15A",
           "#19d3f3",
           "#FF6692",
           "#B6E880",
           "#FF97FF",
           "#FECB52"
          ],
          "font": {
           "color": "#2a3f5f"
          },
          "geo": {
           "bgcolor": "white",
           "lakecolor": "white",
           "landcolor": "#E5ECF6",
           "showlakes": true,
           "showland": true,
           "subunitcolor": "white"
          },
          "hoverlabel": {
           "align": "left"
          },
          "hovermode": "closest",
          "mapbox": {
           "style": "light"
          },
          "paper_bgcolor": "white",
          "plot_bgcolor": "#E5ECF6",
          "polar": {
           "angularaxis": {
            "gridcolor": "white",
            "linecolor": "white",
            "ticks": ""
           },
           "bgcolor": "#E5ECF6",
           "radialaxis": {
            "gridcolor": "white",
            "linecolor": "white",
            "ticks": ""
           }
          },
          "scene": {
           "xaxis": {
            "backgroundcolor": "#E5ECF6",
            "gridcolor": "white",
            "gridwidth": 2,
            "linecolor": "white",
            "showbackground": true,
            "ticks": "",
            "zerolinecolor": "white"
           },
           "yaxis": {
            "backgroundcolor": "#E5ECF6",
            "gridcolor": "white",
            "gridwidth": 2,
            "linecolor": "white",
            "showbackground": true,
            "ticks": "",
            "zerolinecolor": "white"
           },
           "zaxis": {
            "backgroundcolor": "#E5ECF6",
            "gridcolor": "white",
            "gridwidth": 2,
            "linecolor": "white",
            "showbackground": true,
            "ticks": "",
            "zerolinecolor": "white"
           }
          },
          "shapedefaults": {
           "line": {
            "color": "#2a3f5f"
           }
          },
          "ternary": {
           "aaxis": {
            "gridcolor": "white",
            "linecolor": "white",
            "ticks": ""
           },
           "baxis": {
            "gridcolor": "white",
            "linecolor": "white",
            "ticks": ""
           },
           "bgcolor": "#E5ECF6",
           "caxis": {
            "gridcolor": "white",
            "linecolor": "white",
            "ticks": ""
           }
          },
          "title": {
           "x": 0.05
          },
          "xaxis": {
           "automargin": true,
           "gridcolor": "white",
           "linecolor": "white",
           "ticks": "",
           "title": {
            "standoff": 15
           },
           "zerolinecolor": "white",
           "zerolinewidth": 2
          },
          "yaxis": {
           "automargin": true,
           "gridcolor": "white",
           "linecolor": "white",
           "ticks": "",
           "title": {
            "standoff": 15
           },
           "zerolinecolor": "white",
           "zerolinewidth": 2
          }
         }
        },
        "title": {
         "font": {
          "color": "black"
         },
         "text": "Tour De Suisse Women 2022 GC Contenders",
         "x": 0.5,
         "y": 0.9
        },
        "width": 1000,
        "xaxis": {
         "side": "bottom"
        }
       }
      },
      "text/html": [
       "<div>                            <div id=\"d14996c0-4b35-4da8-8ae8-23d6f3b37778\" class=\"plotly-graph-div\" style=\"height:600px; width:1000px;\"></div>            <script type=\"text/javascript\">                require([\"plotly\"], function(Plotly) {                    window.PLOTLYENV=window.PLOTLYENV || {};                                    if (document.getElementById(\"d14996c0-4b35-4da8-8ae8-23d6f3b37778\")) {                    Plotly.newPlot(                        \"d14996c0-4b35-4da8-8ae8-23d6f3b37778\",                        [{\"colorscale\":[[0.0,\"rgb(247,251,255)\"],[0.125,\"rgb(222,235,247)\"],[0.25,\"rgb(198,219,239)\"],[0.375,\"rgb(158,202,225)\"],[0.5,\"rgb(107,174,214)\"],[0.625,\"rgb(66,146,198)\"],[0.75,\"rgb(33,113,181)\"],[0.875,\"rgb(8,81,156)\"],[1.0,\"rgb(8,48,107)\"]],\"text\":[[0.206,0.314,0.336,0.382,0.432,0.454,0.468,0.488,0.497,null],[0.208,0.316,0.338,0.384,0.435,0.457,0.471,0.49,null,0.503],[0.214,0.325,0.347,0.393,0.444,0.466,0.48,null,0.51,0.512],[0.228,0.342,0.365,0.412,0.464,0.486,null,0.52,0.529,0.532],[0.238,0.355,0.378,0.426,0.478,null,0.514,0.534,0.543,0.546],[0.255,0.376,0.399,0.448,null,0.522,0.536,0.556,0.565,0.568],[0.296,0.426,0.45,null,0.552,0.574,0.588,0.607,0.616,0.618],[0.339,0.475,null,0.55,0.601,0.622,0.635,0.653,0.662,0.664],[0.362,null,0.525,0.574,0.624,0.645,0.658,0.675,0.684,0.686],[null,0.638,0.661,0.704,0.745,0.762,0.772,0.786,0.792,0.794]],\"textfont\":{\"size\":10},\"texttemplate\":\"%{text}\",\"x\":[\"BRAND Lucinda\",\"BRENNAUER Lisa\",\"FAULKNER Kristen\",\"ROOIJAKKERS Pauliena\",\"MAGNALDI Erica\",\"MUZIC \\u00c9vita\",\"KOPPENBURG Clara\",\"LIPPERT Liane\",\"CHAPMAN Brodie\",\"MACKAIJ Floortje\"],\"y\":[\"MACKAIJ Floortje\",\"CHAPMAN Brodie\",\"LIPPERT Liane\",\"KOPPENBURG Clara\",\"MUZIC \\u00c9vita\",\"MAGNALDI Erica\",\"ROOIJAKKERS Pauliena\",\"FAULKNER Kristen\",\"BRENNAUER Lisa\",\"BRAND Lucinda\"],\"z\":[[0.206,0.314,0.336,0.382,0.432,0.454,0.468,0.488,0.497,null],[0.208,0.316,0.338,0.384,0.435,0.457,0.471,0.49,null,0.503],[0.214,0.325,0.347,0.393,0.444,0.466,0.48,null,0.51,0.512],[0.228,0.342,0.365,0.412,0.464,0.486,null,0.52,0.529,0.532],[0.238,0.355,0.378,0.426,0.478,null,0.514,0.534,0.543,0.546],[0.255,0.376,0.399,0.448,null,0.522,0.536,0.556,0.565,0.568],[0.296,0.426,0.45,null,0.552,0.574,0.588,0.607,0.616,0.618],[0.339,0.475,null,0.55,0.601,0.622,0.635,0.653,0.662,0.664],[0.362,null,0.525,0.574,0.624,0.645,0.658,0.675,0.684,0.686],[null,0.638,0.661,0.704,0.745,0.762,0.772,0.786,0.792,0.794]],\"type\":\"heatmap\"}],                        {\"template\":{\"data\":{\"histogram2dcontour\":[{\"type\":\"histogram2dcontour\",\"colorbar\":{\"outlinewidth\":0,\"ticks\":\"\"},\"colorscale\":[[0.0,\"#0d0887\"],[0.1111111111111111,\"#46039f\"],[0.2222222222222222,\"#7201a8\"],[0.3333333333333333,\"#9c179e\"],[0.4444444444444444,\"#bd3786\"],[0.5555555555555556,\"#d8576b\"],[0.6666666666666666,\"#ed7953\"],[0.7777777777777778,\"#fb9f3a\"],[0.8888888888888888,\"#fdca26\"],[1.0,\"#f0f921\"]]}],\"choropleth\":[{\"type\":\"choropleth\",\"colorbar\":{\"outlinewidth\":0,\"ticks\":\"\"}}],\"histogram2d\":[{\"type\":\"histogram2d\",\"colorbar\":{\"outlinewidth\":0,\"ticks\":\"\"},\"colorscale\":[[0.0,\"#0d0887\"],[0.1111111111111111,\"#46039f\"],[0.2222222222222222,\"#7201a8\"],[0.3333333333333333,\"#9c179e\"],[0.4444444444444444,\"#bd3786\"],[0.5555555555555556,\"#d8576b\"],[0.6666666666666666,\"#ed7953\"],[0.7777777777777778,\"#fb9f3a\"],[0.8888888888888888,\"#fdca26\"],[1.0,\"#f0f921\"]]}],\"heatmap\":[{\"type\":\"heatmap\",\"colorbar\":{\"outlinewidth\":0,\"ticks\":\"\"},\"colorscale\":[[0.0,\"#0d0887\"],[0.1111111111111111,\"#46039f\"],[0.2222222222222222,\"#7201a8\"],[0.3333333333333333,\"#9c179e\"],[0.4444444444444444,\"#bd3786\"],[0.5555555555555556,\"#d8576b\"],[0.6666666666666666,\"#ed7953\"],[0.7777777777777778,\"#fb9f3a\"],[0.8888888888888888,\"#fdca26\"],[1.0,\"#f0f921\"]]}],\"heatmapgl\":[{\"type\":\"heatmapgl\",\"colorbar\":{\"outlinewidth\":0,\"ticks\":\"\"},\"colorscale\":[[0.0,\"#0d0887\"],[0.1111111111111111,\"#46039f\"],[0.2222222222222222,\"#7201a8\"],[0.3333333333333333,\"#9c179e\"],[0.4444444444444444,\"#bd3786\"],[0.5555555555555556,\"#d8576b\"],[0.6666666666666666,\"#ed7953\"],[0.7777777777777778,\"#fb9f3a\"],[0.8888888888888888,\"#fdca26\"],[1.0,\"#f0f921\"]]}],\"contourcarpet\":[{\"type\":\"contourcarpet\",\"colorbar\":{\"outlinewidth\":0,\"ticks\":\"\"}}],\"contour\":[{\"type\":\"contour\",\"colorbar\":{\"outlinewidth\":0,\"ticks\":\"\"},\"colorscale\":[[0.0,\"#0d0887\"],[0.1111111111111111,\"#46039f\"],[0.2222222222222222,\"#7201a8\"],[0.3333333333333333,\"#9c179e\"],[0.4444444444444444,\"#bd3786\"],[0.5555555555555556,\"#d8576b\"],[0.6666666666666666,\"#ed7953\"],[0.7777777777777778,\"#fb9f3a\"],[0.8888888888888888,\"#fdca26\"],[1.0,\"#f0f921\"]]}],\"surface\":[{\"type\":\"surface\",\"colorbar\":{\"outlinewidth\":0,\"ticks\":\"\"},\"colorscale\":[[0.0,\"#0d0887\"],[0.1111111111111111,\"#46039f\"],[0.2222222222222222,\"#7201a8\"],[0.3333333333333333,\"#9c179e\"],[0.4444444444444444,\"#bd3786\"],[0.5555555555555556,\"#d8576b\"],[0.6666666666666666,\"#ed7953\"],[0.7777777777777778,\"#fb9f3a\"],[0.8888888888888888,\"#fdca26\"],[1.0,\"#f0f921\"]]}],\"mesh3d\":[{\"type\":\"mesh3d\",\"colorbar\":{\"outlinewidth\":0,\"ticks\":\"\"}}],\"scatter\":[{\"fillpattern\":{\"fillmode\":\"overlay\",\"size\":10,\"solidity\":0.2},\"type\":\"scatter\"}],\"parcoords\":[{\"type\":\"parcoords\",\"line\":{\"colorbar\":{\"outlinewidth\":0,\"ticks\":\"\"}}}],\"scatterpolargl\":[{\"type\":\"scatterpolargl\",\"marker\":{\"colorbar\":{\"outlinewidth\":0,\"ticks\":\"\"}}}],\"bar\":[{\"error_x\":{\"color\":\"#2a3f5f\"},\"error_y\":{\"color\":\"#2a3f5f\"},\"marker\":{\"line\":{\"color\":\"#E5ECF6\",\"width\":0.5},\"pattern\":{\"fillmode\":\"overlay\",\"size\":10,\"solidity\":0.2}},\"type\":\"bar\"}],\"scattergeo\":[{\"type\":\"scattergeo\",\"marker\":{\"colorbar\":{\"outlinewidth\":0,\"ticks\":\"\"}}}],\"scatterpolar\":[{\"type\":\"scatterpolar\",\"marker\":{\"colorbar\":{\"outlinewidth\":0,\"ticks\":\"\"}}}],\"histogram\":[{\"marker\":{\"pattern\":{\"fillmode\":\"overlay\",\"size\":10,\"solidity\":0.2}},\"type\":\"histogram\"}],\"scattergl\":[{\"type\":\"scattergl\",\"marker\":{\"colorbar\":{\"outlinewidth\":0,\"ticks\":\"\"}}}],\"scatter3d\":[{\"type\":\"scatter3d\",\"line\":{\"colorbar\":{\"outlinewidth\":0,\"ticks\":\"\"}},\"marker\":{\"colorbar\":{\"outlinewidth\":0,\"ticks\":\"\"}}}],\"scattermapbox\":[{\"type\":\"scattermapbox\",\"marker\":{\"colorbar\":{\"outlinewidth\":0,\"ticks\":\"\"}}}],\"scatterternary\":[{\"type\":\"scatterternary\",\"marker\":{\"colorbar\":{\"outlinewidth\":0,\"ticks\":\"\"}}}],\"scattercarpet\":[{\"type\":\"scattercarpet\",\"marker\":{\"colorbar\":{\"outlinewidth\":0,\"ticks\":\"\"}}}],\"carpet\":[{\"aaxis\":{\"endlinecolor\":\"#2a3f5f\",\"gridcolor\":\"white\",\"linecolor\":\"white\",\"minorgridcolor\":\"white\",\"startlinecolor\":\"#2a3f5f\"},\"baxis\":{\"endlinecolor\":\"#2a3f5f\",\"gridcolor\":\"white\",\"linecolor\":\"white\",\"minorgridcolor\":\"white\",\"startlinecolor\":\"#2a3f5f\"},\"type\":\"carpet\"}],\"table\":[{\"cells\":{\"fill\":{\"color\":\"#EBF0F8\"},\"line\":{\"color\":\"white\"}},\"header\":{\"fill\":{\"color\":\"#C8D4E3\"},\"line\":{\"color\":\"white\"}},\"type\":\"table\"}],\"barpolar\":[{\"marker\":{\"line\":{\"color\":\"#E5ECF6\",\"width\":0.5},\"pattern\":{\"fillmode\":\"overlay\",\"size\":10,\"solidity\":0.2}},\"type\":\"barpolar\"}],\"pie\":[{\"automargin\":true,\"type\":\"pie\"}]},\"layout\":{\"autotypenumbers\":\"strict\",\"colorway\":[\"#636efa\",\"#EF553B\",\"#00cc96\",\"#ab63fa\",\"#FFA15A\",\"#19d3f3\",\"#FF6692\",\"#B6E880\",\"#FF97FF\",\"#FECB52\"],\"font\":{\"color\":\"#2a3f5f\"},\"hovermode\":\"closest\",\"hoverlabel\":{\"align\":\"left\"},\"paper_bgcolor\":\"white\",\"plot_bgcolor\":\"#E5ECF6\",\"polar\":{\"bgcolor\":\"#E5ECF6\",\"angularaxis\":{\"gridcolor\":\"white\",\"linecolor\":\"white\",\"ticks\":\"\"},\"radialaxis\":{\"gridcolor\":\"white\",\"linecolor\":\"white\",\"ticks\":\"\"}},\"ternary\":{\"bgcolor\":\"#E5ECF6\",\"aaxis\":{\"gridcolor\":\"white\",\"linecolor\":\"white\",\"ticks\":\"\"},\"baxis\":{\"gridcolor\":\"white\",\"linecolor\":\"white\",\"ticks\":\"\"},\"caxis\":{\"gridcolor\":\"white\",\"linecolor\":\"white\",\"ticks\":\"\"}},\"coloraxis\":{\"colorbar\":{\"outlinewidth\":0,\"ticks\":\"\"}},\"colorscale\":{\"sequential\":[[0.0,\"#0d0887\"],[0.1111111111111111,\"#46039f\"],[0.2222222222222222,\"#7201a8\"],[0.3333333333333333,\"#9c179e\"],[0.4444444444444444,\"#bd3786\"],[0.5555555555555556,\"#d8576b\"],[0.6666666666666666,\"#ed7953\"],[0.7777777777777778,\"#fb9f3a\"],[0.8888888888888888,\"#fdca26\"],[1.0,\"#f0f921\"]],\"sequentialminus\":[[0.0,\"#0d0887\"],[0.1111111111111111,\"#46039f\"],[0.2222222222222222,\"#7201a8\"],[0.3333333333333333,\"#9c179e\"],[0.4444444444444444,\"#bd3786\"],[0.5555555555555556,\"#d8576b\"],[0.6666666666666666,\"#ed7953\"],[0.7777777777777778,\"#fb9f3a\"],[0.8888888888888888,\"#fdca26\"],[1.0,\"#f0f921\"]],\"diverging\":[[0,\"#8e0152\"],[0.1,\"#c51b7d\"],[0.2,\"#de77ae\"],[0.3,\"#f1b6da\"],[0.4,\"#fde0ef\"],[0.5,\"#f7f7f7\"],[0.6,\"#e6f5d0\"],[0.7,\"#b8e186\"],[0.8,\"#7fbc41\"],[0.9,\"#4d9221\"],[1,\"#276419\"]]},\"xaxis\":{\"gridcolor\":\"white\",\"linecolor\":\"white\",\"ticks\":\"\",\"title\":{\"standoff\":15},\"zerolinecolor\":\"white\",\"automargin\":true,\"zerolinewidth\":2},\"yaxis\":{\"gridcolor\":\"white\",\"linecolor\":\"white\",\"ticks\":\"\",\"title\":{\"standoff\":15},\"zerolinecolor\":\"white\",\"automargin\":true,\"zerolinewidth\":2},\"scene\":{\"xaxis\":{\"backgroundcolor\":\"#E5ECF6\",\"gridcolor\":\"white\",\"linecolor\":\"white\",\"showbackground\":true,\"ticks\":\"\",\"zerolinecolor\":\"white\",\"gridwidth\":2},\"yaxis\":{\"backgroundcolor\":\"#E5ECF6\",\"gridcolor\":\"white\",\"linecolor\":\"white\",\"showbackground\":true,\"ticks\":\"\",\"zerolinecolor\":\"white\",\"gridwidth\":2},\"zaxis\":{\"backgroundcolor\":\"#E5ECF6\",\"gridcolor\":\"white\",\"linecolor\":\"white\",\"showbackground\":true,\"ticks\":\"\",\"zerolinecolor\":\"white\",\"gridwidth\":2}},\"shapedefaults\":{\"line\":{\"color\":\"#2a3f5f\"}},\"annotationdefaults\":{\"arrowcolor\":\"#2a3f5f\",\"arrowhead\":0,\"arrowwidth\":1},\"geo\":{\"bgcolor\":\"white\",\"landcolor\":\"#E5ECF6\",\"subunitcolor\":\"white\",\"showland\":true,\"showlakes\":true,\"lakecolor\":\"white\"},\"title\":{\"x\":0.05},\"mapbox\":{\"style\":\"light\"}}},\"title\":{\"font\":{\"color\":\"black\"},\"text\":\"Tour De Suisse Women 2022 GC Contenders\",\"x\":0.5,\"y\":0.9},\"xaxis\":{\"side\":\"bottom\"},\"plot_bgcolor\":\"white\",\"width\":1000,\"height\":600},                        {\"responsive\": true}                    ).then(function(){\n",
       "                            \n",
       "var gd = document.getElementById('d14996c0-4b35-4da8-8ae8-23d6f3b37778');\n",
       "var x = new MutationObserver(function (mutations, observer) {{\n",
       "        var display = window.getComputedStyle(gd).display;\n",
       "        if (!display || display === 'none') {{\n",
       "            console.log([gd, 'removed!']);\n",
       "            Plotly.purge(gd);\n",
       "            observer.disconnect();\n",
       "        }}\n",
       "}});\n",
       "\n",
       "// Listen for the removal of the full notebook cells\n",
       "var notebookContainer = gd.closest('#notebook-container');\n",
       "if (notebookContainer) {{\n",
       "    x.observe(notebookContainer, {childList: true});\n",
       "}}\n",
       "\n",
       "// Listen for the clearing of the current output cell\n",
       "var outputEl = gd.closest('.output');\n",
       "if (outputEl) {{\n",
       "    x.observe(outputEl, {childList: true});\n",
       "}}\n",
       "\n",
       "                        })                };                });            </script>        </div>"
      ]
     },
     "metadata": {},
     "output_type": "display_data"
    }
   ],
   "source": [
    "heatmap(ratings, STARTLIST, RACE.replace('-', ' ').title(), YEAR, RACE_TYPE,\n",
    "        to_include = 10, q_base = 10, q_div = 150,\n",
    "        fname = f'{RACE}-{YEAR}-{RACE_TYPE.lower()}-{GENDER}-heatmap.png')"
   ]
  },
  {
   "cell_type": "code",
   "execution_count": null,
   "metadata": {},
   "outputs": [],
   "source": []
  }
 ],
 "metadata": {
  "kernelspec": {
   "display_name": "Python 3",
   "language": "python",
   "name": "python3"
  },
  "language_info": {
   "codemirror_mode": {
    "name": "ipython",
    "version": 3
   },
   "file_extension": ".py",
   "mimetype": "text/x-python",
   "name": "python",
   "nbconvert_exporter": "python",
   "pygments_lexer": "ipython3",
   "version": "3.7.6"
  }
 },
 "nbformat": 4,
 "nbformat_minor": 4
}
