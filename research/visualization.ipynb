{
 "cells": [
  {
   "cell_type": "markdown",
   "metadata": {},
   "source": [
    "## Ratings visualization notebook\n",
    "\n",
    "Notebook containing implementations for different Elo rating visualizations. I figured\n",
    "this would be a little more intuitive than yet another script."
   ]
  },
  {
   "cell_type": "code",
   "execution_count": 179,
   "metadata": {},
   "outputs": [],
   "source": [
    "from bs4 import BeautifulSoup\n",
    "from datetime import date, datetime, timedelta\n",
    "import matplotlib.pyplot as plt\n",
    "import os\n",
    "import pandas as pd\n",
    "import plotly.graph_objects as go\n",
    "import requests"
   ]
  },
  {
   "cell_type": "code",
   "execution_count": 221,
   "metadata": {},
   "outputs": [],
   "source": [
    "# ===== notebook constants ===== #\n",
    "RACE_TYPE = 'GC'\n",
    "GENDER = 'men'\n",
    "RATINGS_DATA_PATH = f'../data/system-data/{RACE_TYPE.lower()}_{GENDER}.csv'\n",
    "RACE_RESULTS_PATH = f'../data/{GENDER}_velodata.csv'\n",
    "\n",
    "# ===== individual race params ===== #\n",
    "RACE = 'tour-de-suisse'\n",
    "YEAR = 2022"
   ]
  },
  {
   "cell_type": "code",
   "execution_count": 222,
   "metadata": {},
   "outputs": [],
   "source": [
    "# ===== brief constant compatibility check ===== #\n",
    "if RACE_TYPE not in ['GC', 'ITT', 'SPRINTS']:\n",
    "    raise ValueError('Given race type must be GC, ITT, or SPRINTS.')\n",
    "\n",
    "if GENDER not in ['men', 'women']:\n",
    "    raise ValueError('Given gender must be men or women.')\n",
    "\n",
    "if not os.path.exists(RATINGS_DATA_PATH):\n",
    "    raise ValueError(f'Something went wrong. Given ratings path, {RATINGS_DATA_PATH}, does not exist.')\n",
    "\n",
    "if not os.path.exists(RACE_RESULTS_PATH):\n",
    "    raise ValueError(f'Something went wrong. Given race results path, {RACE_RESULTS_PATH}, does not exist.')"
   ]
  },
  {
   "cell_type": "code",
   "execution_count": 223,
   "metadata": {},
   "outputs": [
    {
     "data": {
      "text/html": [
       "<div>\n",
       "<style scoped>\n",
       "    .dataframe tbody tr th:only-of-type {\n",
       "        vertical-align: middle;\n",
       "    }\n",
       "\n",
       "    .dataframe tbody tr th {\n",
       "        vertical-align: top;\n",
       "    }\n",
       "\n",
       "    .dataframe thead th {\n",
       "        text-align: right;\n",
       "    }\n",
       "</style>\n",
       "<table border=\"1\" class=\"dataframe\">\n",
       "  <thead>\n",
       "    <tr style=\"text-align: right;\">\n",
       "      <th></th>\n",
       "      <th>year</th>\n",
       "      <th>month</th>\n",
       "      <th>day</th>\n",
       "      <th>GREIPEL André</th>\n",
       "      <th>SÁNCHEZ Luis León</th>\n",
       "      <th>ROELANDTS Jürgen</th>\n",
       "      <th>ROJAS José Joaquín</th>\n",
       "      <th>SABATINI Fabio</th>\n",
       "      <th>IZAGIRRE Gorka</th>\n",
       "      <th>SAGAN Peter</th>\n",
       "      <th>...</th>\n",
       "      <th>SANCHEZ Ruben</th>\n",
       "      <th>CARPENE Gianmarco</th>\n",
       "      <th>SENS Connor</th>\n",
       "      <th>ACCO Alessio</th>\n",
       "      <th>ZECCHIN Michael</th>\n",
       "      <th>KOPECKÝ Matyáš</th>\n",
       "      <th>BARONI Alessandro</th>\n",
       "      <th>DELLA LUNGA Francesco</th>\n",
       "      <th>SKERL Daniel</th>\n",
       "      <th>MORO Stefano</th>\n",
       "    </tr>\n",
       "  </thead>\n",
       "  <tbody>\n",
       "    <tr>\n",
       "      <th>0</th>\n",
       "      <td>2010</td>\n",
       "      <td>1</td>\n",
       "      <td>24</td>\n",
       "      <td>1500.000000</td>\n",
       "      <td>1500.000000</td>\n",
       "      <td>1500.000000</td>\n",
       "      <td>1500.000000</td>\n",
       "      <td>1500.000000</td>\n",
       "      <td>1500.000000</td>\n",
       "      <td>1500.000000</td>\n",
       "      <td>...</td>\n",
       "      <td>1500.0</td>\n",
       "      <td>1500.0</td>\n",
       "      <td>1500.0</td>\n",
       "      <td>1500.0</td>\n",
       "      <td>1500.0</td>\n",
       "      <td>1500.0</td>\n",
       "      <td>1500.0</td>\n",
       "      <td>1500.0</td>\n",
       "      <td>1500.0</td>\n",
       "      <td>1500.0</td>\n",
       "    </tr>\n",
       "    <tr>\n",
       "      <th>1</th>\n",
       "      <td>2010</td>\n",
       "      <td>1</td>\n",
       "      <td>24</td>\n",
       "      <td>1509.497719</td>\n",
       "      <td>1504.070962</td>\n",
       "      <td>1500.667603</td>\n",
       "      <td>1500.154592</td>\n",
       "      <td>1499.944018</td>\n",
       "      <td>1499.935795</td>\n",
       "      <td>1499.954348</td>\n",
       "      <td>...</td>\n",
       "      <td>1500.0</td>\n",
       "      <td>1500.0</td>\n",
       "      <td>1500.0</td>\n",
       "      <td>1500.0</td>\n",
       "      <td>1500.0</td>\n",
       "      <td>1500.0</td>\n",
       "      <td>1500.0</td>\n",
       "      <td>1500.0</td>\n",
       "      <td>1500.0</td>\n",
       "      <td>1500.0</td>\n",
       "    </tr>\n",
       "    <tr>\n",
       "      <th>2</th>\n",
       "      <td>2010</td>\n",
       "      <td>2</td>\n",
       "      <td>12</td>\n",
       "      <td>1509.497719</td>\n",
       "      <td>1504.070962</td>\n",
       "      <td>1500.667603</td>\n",
       "      <td>1500.154592</td>\n",
       "      <td>1499.944018</td>\n",
       "      <td>1499.935795</td>\n",
       "      <td>1499.954348</td>\n",
       "      <td>...</td>\n",
       "      <td>1500.0</td>\n",
       "      <td>1500.0</td>\n",
       "      <td>1500.0</td>\n",
       "      <td>1500.0</td>\n",
       "      <td>1500.0</td>\n",
       "      <td>1500.0</td>\n",
       "      <td>1500.0</td>\n",
       "      <td>1500.0</td>\n",
       "      <td>1500.0</td>\n",
       "      <td>1500.0</td>\n",
       "    </tr>\n",
       "    <tr>\n",
       "      <th>3</th>\n",
       "      <td>2010</td>\n",
       "      <td>2</td>\n",
       "      <td>12</td>\n",
       "      <td>1509.497719</td>\n",
       "      <td>1504.070962</td>\n",
       "      <td>1500.667603</td>\n",
       "      <td>1500.154592</td>\n",
       "      <td>1499.944018</td>\n",
       "      <td>1499.935795</td>\n",
       "      <td>1499.954348</td>\n",
       "      <td>...</td>\n",
       "      <td>1500.0</td>\n",
       "      <td>1500.0</td>\n",
       "      <td>1500.0</td>\n",
       "      <td>1500.0</td>\n",
       "      <td>1500.0</td>\n",
       "      <td>1500.0</td>\n",
       "      <td>1500.0</td>\n",
       "      <td>1500.0</td>\n",
       "      <td>1500.0</td>\n",
       "      <td>1500.0</td>\n",
       "    </tr>\n",
       "    <tr>\n",
       "      <th>4</th>\n",
       "      <td>2010</td>\n",
       "      <td>2</td>\n",
       "      <td>19</td>\n",
       "      <td>1509.497719</td>\n",
       "      <td>1504.070962</td>\n",
       "      <td>1500.667603</td>\n",
       "      <td>1500.154592</td>\n",
       "      <td>1499.944018</td>\n",
       "      <td>1499.935795</td>\n",
       "      <td>1499.954348</td>\n",
       "      <td>...</td>\n",
       "      <td>1500.0</td>\n",
       "      <td>1500.0</td>\n",
       "      <td>1500.0</td>\n",
       "      <td>1500.0</td>\n",
       "      <td>1500.0</td>\n",
       "      <td>1500.0</td>\n",
       "      <td>1500.0</td>\n",
       "      <td>1500.0</td>\n",
       "      <td>1500.0</td>\n",
       "      <td>1500.0</td>\n",
       "    </tr>\n",
       "  </tbody>\n",
       "</table>\n",
       "<p>5 rows × 2766 columns</p>\n",
       "</div>"
      ],
      "text/plain": [
       "   year  month  day  GREIPEL André  SÁNCHEZ Luis León  ROELANDTS Jürgen  \\\n",
       "0  2010      1   24    1500.000000        1500.000000       1500.000000   \n",
       "1  2010      1   24    1509.497719        1504.070962       1500.667603   \n",
       "2  2010      2   12    1509.497719        1504.070962       1500.667603   \n",
       "3  2010      2   12    1509.497719        1504.070962       1500.667603   \n",
       "4  2010      2   19    1509.497719        1504.070962       1500.667603   \n",
       "\n",
       "   ROJAS José Joaquín  SABATINI Fabio  IZAGIRRE Gorka  SAGAN Peter  ...  \\\n",
       "0         1500.000000     1500.000000     1500.000000  1500.000000  ...   \n",
       "1         1500.154592     1499.944018     1499.935795  1499.954348  ...   \n",
       "2         1500.154592     1499.944018     1499.935795  1499.954348  ...   \n",
       "3         1500.154592     1499.944018     1499.935795  1499.954348  ...   \n",
       "4         1500.154592     1499.944018     1499.935795  1499.954348  ...   \n",
       "\n",
       "   SANCHEZ Ruben  CARPENE Gianmarco  SENS Connor  ACCO Alessio  \\\n",
       "0         1500.0             1500.0       1500.0        1500.0   \n",
       "1         1500.0             1500.0       1500.0        1500.0   \n",
       "2         1500.0             1500.0       1500.0        1500.0   \n",
       "3         1500.0             1500.0       1500.0        1500.0   \n",
       "4         1500.0             1500.0       1500.0        1500.0   \n",
       "\n",
       "   ZECCHIN Michael  KOPECKÝ Matyáš  BARONI Alessandro  DELLA LUNGA Francesco  \\\n",
       "0           1500.0          1500.0             1500.0                 1500.0   \n",
       "1           1500.0          1500.0             1500.0                 1500.0   \n",
       "2           1500.0          1500.0             1500.0                 1500.0   \n",
       "3           1500.0          1500.0             1500.0                 1500.0   \n",
       "4           1500.0          1500.0             1500.0                 1500.0   \n",
       "\n",
       "   SKERL Daniel  MORO Stefano  \n",
       "0        1500.0        1500.0  \n",
       "1        1500.0        1500.0  \n",
       "2        1500.0        1500.0  \n",
       "3        1500.0        1500.0  \n",
       "4        1500.0        1500.0  \n",
       "\n",
       "[5 rows x 2766 columns]"
      ]
     },
     "metadata": {},
     "output_type": "display_data"
    },
    {
     "data": {
      "text/html": [
       "<div>\n",
       "<style scoped>\n",
       "    .dataframe tbody tr th:only-of-type {\n",
       "        vertical-align: middle;\n",
       "    }\n",
       "\n",
       "    .dataframe tbody tr th {\n",
       "        vertical-align: top;\n",
       "    }\n",
       "\n",
       "    .dataframe thead th {\n",
       "        text-align: right;\n",
       "    }\n",
       "</style>\n",
       "<table border=\"1\" class=\"dataframe\">\n",
       "  <thead>\n",
       "    <tr style=\"text-align: right;\">\n",
       "      <th></th>\n",
       "      <th>name</th>\n",
       "      <th>stage</th>\n",
       "      <th>points_scale</th>\n",
       "      <th>parcours_type</th>\n",
       "      <th>year</th>\n",
       "      <th>month</th>\n",
       "      <th>day</th>\n",
       "      <th>type</th>\n",
       "      <th>length</th>\n",
       "      <th>profile_score</th>\n",
       "      <th>avg_speed</th>\n",
       "      <th>vertical_meters</th>\n",
       "      <th>won_how</th>\n",
       "      <th>place</th>\n",
       "      <th>rider</th>\n",
       "      <th>team</th>\n",
       "      <th>age</th>\n",
       "      <th>time</th>\n",
       "    </tr>\n",
       "  </thead>\n",
       "  <tbody>\n",
       "    <tr>\n",
       "      <th>0</th>\n",
       "      <td>tour-de-france</td>\n",
       "      <td>stage-1</td>\n",
       "      <td>GT.A.Stage</td>\n",
       "      <td>p3</td>\n",
       "      <td>2021.0</td>\n",
       "      <td>6.0</td>\n",
       "      <td>26.0</td>\n",
       "      <td>standard</td>\n",
       "      <td>197.8</td>\n",
       "      <td>109.0</td>\n",
       "      <td>42.525 km/h</td>\n",
       "      <td>2843.0</td>\n",
       "      <td>2.2 km solo</td>\n",
       "      <td>1.0</td>\n",
       "      <td>ALAPHILIPPE Julian</td>\n",
       "      <td>Deceuninck - Quick Step</td>\n",
       "      <td>29.0</td>\n",
       "      <td>0.0</td>\n",
       "    </tr>\n",
       "    <tr>\n",
       "      <th>1</th>\n",
       "      <td>tour-de-france</td>\n",
       "      <td>stage-1</td>\n",
       "      <td>GT.A.Stage</td>\n",
       "      <td>p3</td>\n",
       "      <td>2021.0</td>\n",
       "      <td>6.0</td>\n",
       "      <td>26.0</td>\n",
       "      <td>standard</td>\n",
       "      <td>197.8</td>\n",
       "      <td>109.0</td>\n",
       "      <td>42.525 km/h</td>\n",
       "      <td>2843.0</td>\n",
       "      <td>2.2 km solo</td>\n",
       "      <td>2.0</td>\n",
       "      <td>MATTHEWS Michael</td>\n",
       "      <td>Team BikeExchange</td>\n",
       "      <td>30.0</td>\n",
       "      <td>8.0</td>\n",
       "    </tr>\n",
       "    <tr>\n",
       "      <th>2</th>\n",
       "      <td>tour-de-france</td>\n",
       "      <td>stage-1</td>\n",
       "      <td>GT.A.Stage</td>\n",
       "      <td>p3</td>\n",
       "      <td>2021.0</td>\n",
       "      <td>6.0</td>\n",
       "      <td>26.0</td>\n",
       "      <td>standard</td>\n",
       "      <td>197.8</td>\n",
       "      <td>109.0</td>\n",
       "      <td>42.525 km/h</td>\n",
       "      <td>2843.0</td>\n",
       "      <td>2.2 km solo</td>\n",
       "      <td>3.0</td>\n",
       "      <td>ROGLIČ Primož</td>\n",
       "      <td>Team Jumbo-Visma</td>\n",
       "      <td>31.0</td>\n",
       "      <td>8.0</td>\n",
       "    </tr>\n",
       "    <tr>\n",
       "      <th>3</th>\n",
       "      <td>tour-de-france</td>\n",
       "      <td>stage-1</td>\n",
       "      <td>GT.A.Stage</td>\n",
       "      <td>p3</td>\n",
       "      <td>2021.0</td>\n",
       "      <td>6.0</td>\n",
       "      <td>26.0</td>\n",
       "      <td>standard</td>\n",
       "      <td>197.8</td>\n",
       "      <td>109.0</td>\n",
       "      <td>42.525 km/h</td>\n",
       "      <td>2843.0</td>\n",
       "      <td>2.2 km solo</td>\n",
       "      <td>4.0</td>\n",
       "      <td>HAIG Jack</td>\n",
       "      <td>Bahrain - Victorious</td>\n",
       "      <td>27.0</td>\n",
       "      <td>8.0</td>\n",
       "    </tr>\n",
       "    <tr>\n",
       "      <th>4</th>\n",
       "      <td>tour-de-france</td>\n",
       "      <td>stage-1</td>\n",
       "      <td>GT.A.Stage</td>\n",
       "      <td>p3</td>\n",
       "      <td>2021.0</td>\n",
       "      <td>6.0</td>\n",
       "      <td>26.0</td>\n",
       "      <td>standard</td>\n",
       "      <td>197.8</td>\n",
       "      <td>109.0</td>\n",
       "      <td>42.525 km/h</td>\n",
       "      <td>2843.0</td>\n",
       "      <td>2.2 km solo</td>\n",
       "      <td>5.0</td>\n",
       "      <td>KELDERMAN Wilco</td>\n",
       "      <td>BORA - hansgrohe</td>\n",
       "      <td>30.0</td>\n",
       "      <td>8.0</td>\n",
       "    </tr>\n",
       "  </tbody>\n",
       "</table>\n",
       "</div>"
      ],
      "text/plain": [
       "             name    stage points_scale parcours_type    year  month   day  \\\n",
       "0  tour-de-france  stage-1   GT.A.Stage            p3  2021.0    6.0  26.0   \n",
       "1  tour-de-france  stage-1   GT.A.Stage            p3  2021.0    6.0  26.0   \n",
       "2  tour-de-france  stage-1   GT.A.Stage            p3  2021.0    6.0  26.0   \n",
       "3  tour-de-france  stage-1   GT.A.Stage            p3  2021.0    6.0  26.0   \n",
       "4  tour-de-france  stage-1   GT.A.Stage            p3  2021.0    6.0  26.0   \n",
       "\n",
       "       type  length  profile_score    avg_speed  vertical_meters      won_how  \\\n",
       "0  standard   197.8          109.0  42.525 km/h           2843.0  2.2 km solo   \n",
       "1  standard   197.8          109.0  42.525 km/h           2843.0  2.2 km solo   \n",
       "2  standard   197.8          109.0  42.525 km/h           2843.0  2.2 km solo   \n",
       "3  standard   197.8          109.0  42.525 km/h           2843.0  2.2 km solo   \n",
       "4  standard   197.8          109.0  42.525 km/h           2843.0  2.2 km solo   \n",
       "\n",
       "   place               rider                     team   age  time  \n",
       "0    1.0  ALAPHILIPPE Julian  Deceuninck - Quick Step  29.0   0.0  \n",
       "1    2.0    MATTHEWS Michael        Team BikeExchange  30.0   8.0  \n",
       "2    3.0       ROGLIČ Primož         Team Jumbo-Visma  31.0   8.0  \n",
       "3    4.0           HAIG Jack     Bahrain - Victorious  27.0   8.0  \n",
       "4    5.0     KELDERMAN Wilco         BORA - hansgrohe  30.0   8.0  "
      ]
     },
     "execution_count": 223,
     "metadata": {},
     "output_type": "execute_result"
    }
   ],
   "source": [
    "ratings = pd.read_csv(RATINGS_DATA_PATH)\n",
    "results = pd.read_csv(RACE_RESULTS_PATH)\n",
    "\n",
    "display(ratings.head(5))\n",
    "results.head(5)"
   ]
  },
  {
   "cell_type": "code",
   "execution_count": 224,
   "metadata": {},
   "outputs": [],
   "source": [
    "def gen_table_figure(df, title, width = 1300, height = 650):\n",
    "    \n",
    "    fig = go.Figure(\n",
    "        \n",
    "        # table data\n",
    "        data = [\n",
    "            go.Table(\n",
    "                header = dict(\n",
    "                    values = list(df.columns),\n",
    "                    font_color = 'black',\n",
    "                    fill_color = '#FF8500',\n",
    "                    align = 'center'\n",
    "                ),\n",
    "                cells = dict(\n",
    "                    values = [df.Rank, df.Rider, df.Team, df.Rating],\n",
    "                    font_color = 'black',\n",
    "                    fill_color = 'white',\n",
    "                    align = 'center'\n",
    "                )\n",
    "            )\n",
    "        ],\n",
    "        \n",
    "        # table layout settings\n",
    "        layout = go.Layout(\n",
    "            title = dict(\n",
    "                text = title,\n",
    "                x = 0.5,\n",
    "                font_color = 'black'\n",
    "            ),\n",
    "            \n",
    "            width = width,\n",
    "            height = height,\n",
    "        )\n",
    "    )\n",
    "    \n",
    "    return fig\n",
    "\n",
    "def gen_rankings_viz(ratings, results, rating_limit = 20, title = '', fname = None):\n",
    "    \"\"\"\n",
    "    Given both ranking and race results data, output a table displaying the rankings\n",
    "    in order for this race type and gender. If a filename is given with the fname\n",
    "    variable, then the image will be saved.\n",
    "    \"\"\"\n",
    "    \n",
    "    # ensure df is sorted chronologically\n",
    "    sorted_ratings = ratings.sort_values(by = ['year', 'month', 'day'])\n",
    "    \n",
    "    # get most recent ranking\n",
    "    most_recent_ratings = sorted_ratings.iloc[-1, :]\n",
    "    \n",
    "    # get date of most recent ranking and then drop date cols\n",
    "    ranking_date = date(\n",
    "        year = int(most_recent_ratings['year']),\n",
    "        month = int(most_recent_ratings['month']),\n",
    "        day = int(most_recent_ratings['day'])\n",
    "    )\n",
    "    most_recent_ratings = most_recent_ratings.drop(index = ['year', 'month', 'day'])\n",
    "    \n",
    "    # get rider names and ratings\n",
    "    riders = sorted(list(zip(\n",
    "        list(most_recent_ratings.index),\n",
    "        [round(r, 2) for r in most_recent_ratings]\n",
    "    )), key = lambda t: t[1], reverse = True)\n",
    "    \n",
    "    # get only rider individual race days\n",
    "    indiv_race_days = results[results['type'] != 'gc']\n",
    "    \n",
    "    # get rider race days and teams\n",
    "    rider_names = []\n",
    "    rider_ratings = []\n",
    "    race_days = []\n",
    "    teams = []\n",
    "    num = 0\n",
    "    for rider in riders:\n",
    "\n",
    "        rider_res = indiv_race_days[indiv_race_days['rider'] == rider[0]].sort_values(by = ['year', 'month', 'day'])\n",
    "        rider_year_df = rider_res[rider_res['year'] == ranking_date.year]\n",
    "        \n",
    "        if len(rider_year_df.index) > 0:\n",
    "            rider_names.append(rider[0])\n",
    "            rider_ratings.append(rider[1])\n",
    "            teams.append(rider_res['team'].iloc[-1])\n",
    "            race_days.append(len(rider_year_df.index))\n",
    "            num += 1\n",
    "        \n",
    "        if num >= rating_limit:\n",
    "            break\n",
    "    \n",
    "    table_df = pd.DataFrame(data = {\n",
    "        'Rank': [i + 1 for i in range(len(rider_names))],\n",
    "        'Rider': rider_names,\n",
    "        'Team': teams,\n",
    "        'Rating': rider_ratings,\n",
    "    })\n",
    "    \n",
    "    fig = gen_table_figure(table_df, title)\n",
    "    \n",
    "    if fname is not None:\n",
    "        fig.write_image(f'figures/{fname}')\n",
    "    \n",
    "    return fig"
   ]
  },
  {
   "cell_type": "code",
   "execution_count": 225,
   "metadata": {
    "scrolled": false
   },
   "outputs": [
    {
     "data": {
      "application/vnd.plotly.v1+json": {
       "config": {
        "plotlyServerURL": "https://plot.ly"
       },
       "data": [
        {
         "cells": {
          "align": "center",
          "fill": {
           "color": "white"
          },
          "font": {
           "color": "black"
          },
          "values": [
           [
            1,
            2,
            3,
            4,
            5,
            6,
            7,
            8,
            9,
            10,
            11,
            12,
            13,
            14,
            15,
            16,
            17,
            18,
            19,
            20
           ],
           [
            "POGAČAR Tadej",
            "ROGLIČ Primož",
            "HINDLEY Jai",
            "VINGEGAARD Jonas",
            "CARAPAZ Richard",
            "VLASOV Aleksandr",
            "MARTÍNEZ Daniel Felipe",
            "YATES Simon",
            "YATES Adam",
            "LANDA Mikel",
            "MAS Enric",
            "PORTE Richie",
            "O'CONNOR Ben",
            "CARUSO Damiano",
            "EVENEPOEL Remco",
            "HIGUITA Sergio",
            "HAIG Jack",
            "SCHACHMANN Maximilian",
            "BILBAO Pello",
            "ALMEIDA João"
           ],
           [
            "UAE Team Emirates",
            "Jumbo-Visma",
            "BORA - hansgrohe",
            "Jumbo-Visma",
            "INEOS Grenadiers",
            "BORA - hansgrohe",
            "INEOS Grenadiers",
            "Team BikeExchange - Jayco",
            "INEOS Grenadiers",
            "Bahrain - Victorious",
            "Movistar Team",
            "INEOS Grenadiers",
            "AG2R Citroën Team",
            "Bahrain - Victorious",
            "Quick-Step Alpha Vinyl Team",
            "BORA - hansgrohe",
            "Bahrain - Victorious",
            "BORA - hansgrohe",
            "Bahrain - Victorious",
            "UAE Team Emirates"
           ],
           [
            2116.49,
            2063.67,
            1982.57,
            1927.56,
            1894.11,
            1861.53,
            1854.38,
            1830.2,
            1824.54,
            1824.36,
            1817.73,
            1810.5,
            1787.68,
            1781.24,
            1772.18,
            1767.55,
            1764.69,
            1751.71,
            1747.3,
            1744.71
           ]
          ]
         },
         "header": {
          "align": "center",
          "fill": {
           "color": "#FF8500"
          },
          "font": {
           "color": "black"
          },
          "values": [
           "Rank",
           "Rider",
           "Team",
           "Rating"
          ]
         },
         "type": "table"
        }
       ],
       "layout": {
        "height": 650,
        "template": {
         "data": {
          "bar": [
           {
            "error_x": {
             "color": "#2a3f5f"
            },
            "error_y": {
             "color": "#2a3f5f"
            },
            "marker": {
             "line": {
              "color": "#E5ECF6",
              "width": 0.5
             }
            },
            "type": "bar"
           }
          ],
          "barpolar": [
           {
            "marker": {
             "line": {
              "color": "#E5ECF6",
              "width": 0.5
             }
            },
            "type": "barpolar"
           }
          ],
          "carpet": [
           {
            "aaxis": {
             "endlinecolor": "#2a3f5f",
             "gridcolor": "white",
             "linecolor": "white",
             "minorgridcolor": "white",
             "startlinecolor": "#2a3f5f"
            },
            "baxis": {
             "endlinecolor": "#2a3f5f",
             "gridcolor": "white",
             "linecolor": "white",
             "minorgridcolor": "white",
             "startlinecolor": "#2a3f5f"
            },
            "type": "carpet"
           }
          ],
          "choropleth": [
           {
            "colorbar": {
             "outlinewidth": 0,
             "ticks": ""
            },
            "type": "choropleth"
           }
          ],
          "contour": [
           {
            "colorbar": {
             "outlinewidth": 0,
             "ticks": ""
            },
            "colorscale": [
             [
              0,
              "#0d0887"
             ],
             [
              0.1111111111111111,
              "#46039f"
             ],
             [
              0.2222222222222222,
              "#7201a8"
             ],
             [
              0.3333333333333333,
              "#9c179e"
             ],
             [
              0.4444444444444444,
              "#bd3786"
             ],
             [
              0.5555555555555556,
              "#d8576b"
             ],
             [
              0.6666666666666666,
              "#ed7953"
             ],
             [
              0.7777777777777778,
              "#fb9f3a"
             ],
             [
              0.8888888888888888,
              "#fdca26"
             ],
             [
              1,
              "#f0f921"
             ]
            ],
            "type": "contour"
           }
          ],
          "contourcarpet": [
           {
            "colorbar": {
             "outlinewidth": 0,
             "ticks": ""
            },
            "type": "contourcarpet"
           }
          ],
          "heatmap": [
           {
            "colorbar": {
             "outlinewidth": 0,
             "ticks": ""
            },
            "colorscale": [
             [
              0,
              "#0d0887"
             ],
             [
              0.1111111111111111,
              "#46039f"
             ],
             [
              0.2222222222222222,
              "#7201a8"
             ],
             [
              0.3333333333333333,
              "#9c179e"
             ],
             [
              0.4444444444444444,
              "#bd3786"
             ],
             [
              0.5555555555555556,
              "#d8576b"
             ],
             [
              0.6666666666666666,
              "#ed7953"
             ],
             [
              0.7777777777777778,
              "#fb9f3a"
             ],
             [
              0.8888888888888888,
              "#fdca26"
             ],
             [
              1,
              "#f0f921"
             ]
            ],
            "type": "heatmap"
           }
          ],
          "heatmapgl": [
           {
            "colorbar": {
             "outlinewidth": 0,
             "ticks": ""
            },
            "colorscale": [
             [
              0,
              "#0d0887"
             ],
             [
              0.1111111111111111,
              "#46039f"
             ],
             [
              0.2222222222222222,
              "#7201a8"
             ],
             [
              0.3333333333333333,
              "#9c179e"
             ],
             [
              0.4444444444444444,
              "#bd3786"
             ],
             [
              0.5555555555555556,
              "#d8576b"
             ],
             [
              0.6666666666666666,
              "#ed7953"
             ],
             [
              0.7777777777777778,
              "#fb9f3a"
             ],
             [
              0.8888888888888888,
              "#fdca26"
             ],
             [
              1,
              "#f0f921"
             ]
            ],
            "type": "heatmapgl"
           }
          ],
          "histogram": [
           {
            "marker": {
             "colorbar": {
              "outlinewidth": 0,
              "ticks": ""
             }
            },
            "type": "histogram"
           }
          ],
          "histogram2d": [
           {
            "colorbar": {
             "outlinewidth": 0,
             "ticks": ""
            },
            "colorscale": [
             [
              0,
              "#0d0887"
             ],
             [
              0.1111111111111111,
              "#46039f"
             ],
             [
              0.2222222222222222,
              "#7201a8"
             ],
             [
              0.3333333333333333,
              "#9c179e"
             ],
             [
              0.4444444444444444,
              "#bd3786"
             ],
             [
              0.5555555555555556,
              "#d8576b"
             ],
             [
              0.6666666666666666,
              "#ed7953"
             ],
             [
              0.7777777777777778,
              "#fb9f3a"
             ],
             [
              0.8888888888888888,
              "#fdca26"
             ],
             [
              1,
              "#f0f921"
             ]
            ],
            "type": "histogram2d"
           }
          ],
          "histogram2dcontour": [
           {
            "colorbar": {
             "outlinewidth": 0,
             "ticks": ""
            },
            "colorscale": [
             [
              0,
              "#0d0887"
             ],
             [
              0.1111111111111111,
              "#46039f"
             ],
             [
              0.2222222222222222,
              "#7201a8"
             ],
             [
              0.3333333333333333,
              "#9c179e"
             ],
             [
              0.4444444444444444,
              "#bd3786"
             ],
             [
              0.5555555555555556,
              "#d8576b"
             ],
             [
              0.6666666666666666,
              "#ed7953"
             ],
             [
              0.7777777777777778,
              "#fb9f3a"
             ],
             [
              0.8888888888888888,
              "#fdca26"
             ],
             [
              1,
              "#f0f921"
             ]
            ],
            "type": "histogram2dcontour"
           }
          ],
          "mesh3d": [
           {
            "colorbar": {
             "outlinewidth": 0,
             "ticks": ""
            },
            "type": "mesh3d"
           }
          ],
          "parcoords": [
           {
            "line": {
             "colorbar": {
              "outlinewidth": 0,
              "ticks": ""
             }
            },
            "type": "parcoords"
           }
          ],
          "pie": [
           {
            "automargin": true,
            "type": "pie"
           }
          ],
          "scatter": [
           {
            "marker": {
             "colorbar": {
              "outlinewidth": 0,
              "ticks": ""
             }
            },
            "type": "scatter"
           }
          ],
          "scatter3d": [
           {
            "line": {
             "colorbar": {
              "outlinewidth": 0,
              "ticks": ""
             }
            },
            "marker": {
             "colorbar": {
              "outlinewidth": 0,
              "ticks": ""
             }
            },
            "type": "scatter3d"
           }
          ],
          "scattercarpet": [
           {
            "marker": {
             "colorbar": {
              "outlinewidth": 0,
              "ticks": ""
             }
            },
            "type": "scattercarpet"
           }
          ],
          "scattergeo": [
           {
            "marker": {
             "colorbar": {
              "outlinewidth": 0,
              "ticks": ""
             }
            },
            "type": "scattergeo"
           }
          ],
          "scattergl": [
           {
            "marker": {
             "colorbar": {
              "outlinewidth": 0,
              "ticks": ""
             }
            },
            "type": "scattergl"
           }
          ],
          "scattermapbox": [
           {
            "marker": {
             "colorbar": {
              "outlinewidth": 0,
              "ticks": ""
             }
            },
            "type": "scattermapbox"
           }
          ],
          "scatterpolar": [
           {
            "marker": {
             "colorbar": {
              "outlinewidth": 0,
              "ticks": ""
             }
            },
            "type": "scatterpolar"
           }
          ],
          "scatterpolargl": [
           {
            "marker": {
             "colorbar": {
              "outlinewidth": 0,
              "ticks": ""
             }
            },
            "type": "scatterpolargl"
           }
          ],
          "scatterternary": [
           {
            "marker": {
             "colorbar": {
              "outlinewidth": 0,
              "ticks": ""
             }
            },
            "type": "scatterternary"
           }
          ],
          "surface": [
           {
            "colorbar": {
             "outlinewidth": 0,
             "ticks": ""
            },
            "colorscale": [
             [
              0,
              "#0d0887"
             ],
             [
              0.1111111111111111,
              "#46039f"
             ],
             [
              0.2222222222222222,
              "#7201a8"
             ],
             [
              0.3333333333333333,
              "#9c179e"
             ],
             [
              0.4444444444444444,
              "#bd3786"
             ],
             [
              0.5555555555555556,
              "#d8576b"
             ],
             [
              0.6666666666666666,
              "#ed7953"
             ],
             [
              0.7777777777777778,
              "#fb9f3a"
             ],
             [
              0.8888888888888888,
              "#fdca26"
             ],
             [
              1,
              "#f0f921"
             ]
            ],
            "type": "surface"
           }
          ],
          "table": [
           {
            "cells": {
             "fill": {
              "color": "#EBF0F8"
             },
             "line": {
              "color": "white"
             }
            },
            "header": {
             "fill": {
              "color": "#C8D4E3"
             },
             "line": {
              "color": "white"
             }
            },
            "type": "table"
           }
          ]
         },
         "layout": {
          "annotationdefaults": {
           "arrowcolor": "#2a3f5f",
           "arrowhead": 0,
           "arrowwidth": 1
          },
          "coloraxis": {
           "colorbar": {
            "outlinewidth": 0,
            "ticks": ""
           }
          },
          "colorscale": {
           "diverging": [
            [
             0,
             "#8e0152"
            ],
            [
             0.1,
             "#c51b7d"
            ],
            [
             0.2,
             "#de77ae"
            ],
            [
             0.3,
             "#f1b6da"
            ],
            [
             0.4,
             "#fde0ef"
            ],
            [
             0.5,
             "#f7f7f7"
            ],
            [
             0.6,
             "#e6f5d0"
            ],
            [
             0.7,
             "#b8e186"
            ],
            [
             0.8,
             "#7fbc41"
            ],
            [
             0.9,
             "#4d9221"
            ],
            [
             1,
             "#276419"
            ]
           ],
           "sequential": [
            [
             0,
             "#0d0887"
            ],
            [
             0.1111111111111111,
             "#46039f"
            ],
            [
             0.2222222222222222,
             "#7201a8"
            ],
            [
             0.3333333333333333,
             "#9c179e"
            ],
            [
             0.4444444444444444,
             "#bd3786"
            ],
            [
             0.5555555555555556,
             "#d8576b"
            ],
            [
             0.6666666666666666,
             "#ed7953"
            ],
            [
             0.7777777777777778,
             "#fb9f3a"
            ],
            [
             0.8888888888888888,
             "#fdca26"
            ],
            [
             1,
             "#f0f921"
            ]
           ],
           "sequentialminus": [
            [
             0,
             "#0d0887"
            ],
            [
             0.1111111111111111,
             "#46039f"
            ],
            [
             0.2222222222222222,
             "#7201a8"
            ],
            [
             0.3333333333333333,
             "#9c179e"
            ],
            [
             0.4444444444444444,
             "#bd3786"
            ],
            [
             0.5555555555555556,
             "#d8576b"
            ],
            [
             0.6666666666666666,
             "#ed7953"
            ],
            [
             0.7777777777777778,
             "#fb9f3a"
            ],
            [
             0.8888888888888888,
             "#fdca26"
            ],
            [
             1,
             "#f0f921"
            ]
           ]
          },
          "colorway": [
           "#636efa",
           "#EF553B",
           "#00cc96",
           "#ab63fa",
           "#FFA15A",
           "#19d3f3",
           "#FF6692",
           "#B6E880",
           "#FF97FF",
           "#FECB52"
          ],
          "font": {
           "color": "#2a3f5f"
          },
          "geo": {
           "bgcolor": "white",
           "lakecolor": "white",
           "landcolor": "#E5ECF6",
           "showlakes": true,
           "showland": true,
           "subunitcolor": "white"
          },
          "hoverlabel": {
           "align": "left"
          },
          "hovermode": "closest",
          "mapbox": {
           "style": "light"
          },
          "paper_bgcolor": "white",
          "plot_bgcolor": "#E5ECF6",
          "polar": {
           "angularaxis": {
            "gridcolor": "white",
            "linecolor": "white",
            "ticks": ""
           },
           "bgcolor": "#E5ECF6",
           "radialaxis": {
            "gridcolor": "white",
            "linecolor": "white",
            "ticks": ""
           }
          },
          "scene": {
           "xaxis": {
            "backgroundcolor": "#E5ECF6",
            "gridcolor": "white",
            "gridwidth": 2,
            "linecolor": "white",
            "showbackground": true,
            "ticks": "",
            "zerolinecolor": "white"
           },
           "yaxis": {
            "backgroundcolor": "#E5ECF6",
            "gridcolor": "white",
            "gridwidth": 2,
            "linecolor": "white",
            "showbackground": true,
            "ticks": "",
            "zerolinecolor": "white"
           },
           "zaxis": {
            "backgroundcolor": "#E5ECF6",
            "gridcolor": "white",
            "gridwidth": 2,
            "linecolor": "white",
            "showbackground": true,
            "ticks": "",
            "zerolinecolor": "white"
           }
          },
          "shapedefaults": {
           "line": {
            "color": "#2a3f5f"
           }
          },
          "ternary": {
           "aaxis": {
            "gridcolor": "white",
            "linecolor": "white",
            "ticks": ""
           },
           "baxis": {
            "gridcolor": "white",
            "linecolor": "white",
            "ticks": ""
           },
           "bgcolor": "#E5ECF6",
           "caxis": {
            "gridcolor": "white",
            "linecolor": "white",
            "ticks": ""
           }
          },
          "title": {
           "x": 0.05
          },
          "xaxis": {
           "automargin": true,
           "gridcolor": "white",
           "linecolor": "white",
           "ticks": "",
           "title": {
            "standoff": 15
           },
           "zerolinecolor": "white",
           "zerolinewidth": 2
          },
          "yaxis": {
           "automargin": true,
           "gridcolor": "white",
           "linecolor": "white",
           "ticks": "",
           "title": {
            "standoff": 15
           },
           "zerolinecolor": "white",
           "zerolinewidth": 2
          }
         }
        },
        "title": {
         "font": {
          "color": "black"
         },
         "text": "GC Elo Ranking",
         "x": 0.5
        },
        "width": 1300
       }
      },
      "text/html": [
       "<div>                            <div id=\"6af3c7d8-dd6f-4c24-a0be-4a802982b0a4\" class=\"plotly-graph-div\" style=\"height:650px; width:1300px;\"></div>            <script type=\"text/javascript\">                require([\"plotly\"], function(Plotly) {                    window.PLOTLYENV=window.PLOTLYENV || {};                                    if (document.getElementById(\"6af3c7d8-dd6f-4c24-a0be-4a802982b0a4\")) {                    Plotly.newPlot(                        \"6af3c7d8-dd6f-4c24-a0be-4a802982b0a4\",                        [{\"cells\": {\"align\": \"center\", \"fill\": {\"color\": \"white\"}, \"font\": {\"color\": \"black\"}, \"values\": [[1, 2, 3, 4, 5, 6, 7, 8, 9, 10, 11, 12, 13, 14, 15, 16, 17, 18, 19, 20], [\"POGA\\u010cAR Tadej\", \"ROGLI\\u010c Primo\\u017e\", \"HINDLEY Jai\", \"VINGEGAARD Jonas\", \"CARAPAZ Richard\", \"VLASOV Aleksandr\", \"MART\\u00cdNEZ Daniel Felipe\", \"YATES Simon\", \"YATES Adam\", \"LANDA Mikel\", \"MAS Enric\", \"PORTE Richie\", \"O'CONNOR Ben\", \"CARUSO Damiano\", \"EVENEPOEL Remco\", \"HIGUITA Sergio\", \"HAIG Jack\", \"SCHACHMANN Maximilian\", \"BILBAO Pello\", \"ALMEIDA Jo\\u00e3o\"], [\"UAE Team Emirates\", \"Jumbo-Visma\", \"BORA - hansgrohe\", \"Jumbo-Visma\", \"INEOS Grenadiers\", \"BORA - hansgrohe\", \"INEOS Grenadiers\", \"Team BikeExchange - Jayco\", \"INEOS Grenadiers\", \"Bahrain - Victorious\", \"Movistar Team\", \"INEOS Grenadiers\", \"AG2R Citro\\u00ebn Team\", \"Bahrain - Victorious\", \"Quick-Step Alpha Vinyl Team\", \"BORA - hansgrohe\", \"Bahrain - Victorious\", \"BORA - hansgrohe\", \"Bahrain - Victorious\", \"UAE Team Emirates\"], [2116.49, 2063.67, 1982.57, 1927.56, 1894.11, 1861.53, 1854.38, 1830.2, 1824.54, 1824.36, 1817.73, 1810.5, 1787.68, 1781.24, 1772.18, 1767.55, 1764.69, 1751.71, 1747.3, 1744.71]]}, \"header\": {\"align\": \"center\", \"fill\": {\"color\": \"#FF8500\"}, \"font\": {\"color\": \"black\"}, \"values\": [\"Rank\", \"Rider\", \"Team\", \"Rating\"]}, \"type\": \"table\"}],                        {\"height\": 650, \"template\": {\"data\": {\"bar\": [{\"error_x\": {\"color\": \"#2a3f5f\"}, \"error_y\": {\"color\": \"#2a3f5f\"}, \"marker\": {\"line\": {\"color\": \"#E5ECF6\", \"width\": 0.5}}, \"type\": \"bar\"}], \"barpolar\": [{\"marker\": {\"line\": {\"color\": \"#E5ECF6\", \"width\": 0.5}}, \"type\": \"barpolar\"}], \"carpet\": [{\"aaxis\": {\"endlinecolor\": \"#2a3f5f\", \"gridcolor\": \"white\", \"linecolor\": \"white\", \"minorgridcolor\": \"white\", \"startlinecolor\": \"#2a3f5f\"}, \"baxis\": {\"endlinecolor\": \"#2a3f5f\", \"gridcolor\": \"white\", \"linecolor\": \"white\", \"minorgridcolor\": \"white\", \"startlinecolor\": \"#2a3f5f\"}, \"type\": \"carpet\"}], \"choropleth\": [{\"colorbar\": {\"outlinewidth\": 0, \"ticks\": \"\"}, \"type\": \"choropleth\"}], \"contour\": [{\"colorbar\": {\"outlinewidth\": 0, \"ticks\": \"\"}, \"colorscale\": [[0.0, \"#0d0887\"], [0.1111111111111111, \"#46039f\"], [0.2222222222222222, \"#7201a8\"], [0.3333333333333333, \"#9c179e\"], [0.4444444444444444, \"#bd3786\"], [0.5555555555555556, \"#d8576b\"], [0.6666666666666666, \"#ed7953\"], [0.7777777777777778, \"#fb9f3a\"], [0.8888888888888888, \"#fdca26\"], [1.0, \"#f0f921\"]], \"type\": \"contour\"}], \"contourcarpet\": [{\"colorbar\": {\"outlinewidth\": 0, \"ticks\": \"\"}, \"type\": \"contourcarpet\"}], \"heatmap\": [{\"colorbar\": {\"outlinewidth\": 0, \"ticks\": \"\"}, \"colorscale\": [[0.0, \"#0d0887\"], [0.1111111111111111, \"#46039f\"], [0.2222222222222222, \"#7201a8\"], [0.3333333333333333, \"#9c179e\"], [0.4444444444444444, \"#bd3786\"], [0.5555555555555556, \"#d8576b\"], [0.6666666666666666, \"#ed7953\"], [0.7777777777777778, \"#fb9f3a\"], [0.8888888888888888, \"#fdca26\"], [1.0, \"#f0f921\"]], \"type\": \"heatmap\"}], \"heatmapgl\": [{\"colorbar\": {\"outlinewidth\": 0, \"ticks\": \"\"}, \"colorscale\": [[0.0, \"#0d0887\"], [0.1111111111111111, \"#46039f\"], [0.2222222222222222, \"#7201a8\"], [0.3333333333333333, \"#9c179e\"], [0.4444444444444444, \"#bd3786\"], [0.5555555555555556, \"#d8576b\"], [0.6666666666666666, \"#ed7953\"], [0.7777777777777778, \"#fb9f3a\"], [0.8888888888888888, \"#fdca26\"], [1.0, \"#f0f921\"]], \"type\": \"heatmapgl\"}], \"histogram\": [{\"marker\": {\"colorbar\": {\"outlinewidth\": 0, \"ticks\": \"\"}}, \"type\": \"histogram\"}], \"histogram2d\": [{\"colorbar\": {\"outlinewidth\": 0, \"ticks\": \"\"}, \"colorscale\": [[0.0, \"#0d0887\"], [0.1111111111111111, \"#46039f\"], [0.2222222222222222, \"#7201a8\"], [0.3333333333333333, \"#9c179e\"], [0.4444444444444444, \"#bd3786\"], [0.5555555555555556, \"#d8576b\"], [0.6666666666666666, \"#ed7953\"], [0.7777777777777778, \"#fb9f3a\"], [0.8888888888888888, \"#fdca26\"], [1.0, \"#f0f921\"]], \"type\": \"histogram2d\"}], \"histogram2dcontour\": [{\"colorbar\": {\"outlinewidth\": 0, \"ticks\": \"\"}, \"colorscale\": [[0.0, \"#0d0887\"], [0.1111111111111111, \"#46039f\"], [0.2222222222222222, \"#7201a8\"], [0.3333333333333333, \"#9c179e\"], [0.4444444444444444, \"#bd3786\"], [0.5555555555555556, \"#d8576b\"], [0.6666666666666666, \"#ed7953\"], [0.7777777777777778, \"#fb9f3a\"], [0.8888888888888888, \"#fdca26\"], [1.0, \"#f0f921\"]], \"type\": \"histogram2dcontour\"}], \"mesh3d\": [{\"colorbar\": {\"outlinewidth\": 0, \"ticks\": \"\"}, \"type\": \"mesh3d\"}], \"parcoords\": [{\"line\": {\"colorbar\": {\"outlinewidth\": 0, \"ticks\": \"\"}}, \"type\": \"parcoords\"}], \"pie\": [{\"automargin\": true, \"type\": \"pie\"}], \"scatter\": [{\"marker\": {\"colorbar\": {\"outlinewidth\": 0, \"ticks\": \"\"}}, \"type\": \"scatter\"}], \"scatter3d\": [{\"line\": {\"colorbar\": {\"outlinewidth\": 0, \"ticks\": \"\"}}, \"marker\": {\"colorbar\": {\"outlinewidth\": 0, \"ticks\": \"\"}}, \"type\": \"scatter3d\"}], \"scattercarpet\": [{\"marker\": {\"colorbar\": {\"outlinewidth\": 0, \"ticks\": \"\"}}, \"type\": \"scattercarpet\"}], \"scattergeo\": [{\"marker\": {\"colorbar\": {\"outlinewidth\": 0, \"ticks\": \"\"}}, \"type\": \"scattergeo\"}], \"scattergl\": [{\"marker\": {\"colorbar\": {\"outlinewidth\": 0, \"ticks\": \"\"}}, \"type\": \"scattergl\"}], \"scattermapbox\": [{\"marker\": {\"colorbar\": {\"outlinewidth\": 0, \"ticks\": \"\"}}, \"type\": \"scattermapbox\"}], \"scatterpolar\": [{\"marker\": {\"colorbar\": {\"outlinewidth\": 0, \"ticks\": \"\"}}, \"type\": \"scatterpolar\"}], \"scatterpolargl\": [{\"marker\": {\"colorbar\": {\"outlinewidth\": 0, \"ticks\": \"\"}}, \"type\": \"scatterpolargl\"}], \"scatterternary\": [{\"marker\": {\"colorbar\": {\"outlinewidth\": 0, \"ticks\": \"\"}}, \"type\": \"scatterternary\"}], \"surface\": [{\"colorbar\": {\"outlinewidth\": 0, \"ticks\": \"\"}, \"colorscale\": [[0.0, \"#0d0887\"], [0.1111111111111111, \"#46039f\"], [0.2222222222222222, \"#7201a8\"], [0.3333333333333333, \"#9c179e\"], [0.4444444444444444, \"#bd3786\"], [0.5555555555555556, \"#d8576b\"], [0.6666666666666666, \"#ed7953\"], [0.7777777777777778, \"#fb9f3a\"], [0.8888888888888888, \"#fdca26\"], [1.0, \"#f0f921\"]], \"type\": \"surface\"}], \"table\": [{\"cells\": {\"fill\": {\"color\": \"#EBF0F8\"}, \"line\": {\"color\": \"white\"}}, \"header\": {\"fill\": {\"color\": \"#C8D4E3\"}, \"line\": {\"color\": \"white\"}}, \"type\": \"table\"}]}, \"layout\": {\"annotationdefaults\": {\"arrowcolor\": \"#2a3f5f\", \"arrowhead\": 0, \"arrowwidth\": 1}, \"coloraxis\": {\"colorbar\": {\"outlinewidth\": 0, \"ticks\": \"\"}}, \"colorscale\": {\"diverging\": [[0, \"#8e0152\"], [0.1, \"#c51b7d\"], [0.2, \"#de77ae\"], [0.3, \"#f1b6da\"], [0.4, \"#fde0ef\"], [0.5, \"#f7f7f7\"], [0.6, \"#e6f5d0\"], [0.7, \"#b8e186\"], [0.8, \"#7fbc41\"], [0.9, \"#4d9221\"], [1, \"#276419\"]], \"sequential\": [[0.0, \"#0d0887\"], [0.1111111111111111, \"#46039f\"], [0.2222222222222222, \"#7201a8\"], [0.3333333333333333, \"#9c179e\"], [0.4444444444444444, \"#bd3786\"], [0.5555555555555556, \"#d8576b\"], [0.6666666666666666, \"#ed7953\"], [0.7777777777777778, \"#fb9f3a\"], [0.8888888888888888, \"#fdca26\"], [1.0, \"#f0f921\"]], \"sequentialminus\": [[0.0, \"#0d0887\"], [0.1111111111111111, \"#46039f\"], [0.2222222222222222, \"#7201a8\"], [0.3333333333333333, \"#9c179e\"], [0.4444444444444444, \"#bd3786\"], [0.5555555555555556, \"#d8576b\"], [0.6666666666666666, \"#ed7953\"], [0.7777777777777778, \"#fb9f3a\"], [0.8888888888888888, \"#fdca26\"], [1.0, \"#f0f921\"]]}, \"colorway\": [\"#636efa\", \"#EF553B\", \"#00cc96\", \"#ab63fa\", \"#FFA15A\", \"#19d3f3\", \"#FF6692\", \"#B6E880\", \"#FF97FF\", \"#FECB52\"], \"font\": {\"color\": \"#2a3f5f\"}, \"geo\": {\"bgcolor\": \"white\", \"lakecolor\": \"white\", \"landcolor\": \"#E5ECF6\", \"showlakes\": true, \"showland\": true, \"subunitcolor\": \"white\"}, \"hoverlabel\": {\"align\": \"left\"}, \"hovermode\": \"closest\", \"mapbox\": {\"style\": \"light\"}, \"paper_bgcolor\": \"white\", \"plot_bgcolor\": \"#E5ECF6\", \"polar\": {\"angularaxis\": {\"gridcolor\": \"white\", \"linecolor\": \"white\", \"ticks\": \"\"}, \"bgcolor\": \"#E5ECF6\", \"radialaxis\": {\"gridcolor\": \"white\", \"linecolor\": \"white\", \"ticks\": \"\"}}, \"scene\": {\"xaxis\": {\"backgroundcolor\": \"#E5ECF6\", \"gridcolor\": \"white\", \"gridwidth\": 2, \"linecolor\": \"white\", \"showbackground\": true, \"ticks\": \"\", \"zerolinecolor\": \"white\"}, \"yaxis\": {\"backgroundcolor\": \"#E5ECF6\", \"gridcolor\": \"white\", \"gridwidth\": 2, \"linecolor\": \"white\", \"showbackground\": true, \"ticks\": \"\", \"zerolinecolor\": \"white\"}, \"zaxis\": {\"backgroundcolor\": \"#E5ECF6\", \"gridcolor\": \"white\", \"gridwidth\": 2, \"linecolor\": \"white\", \"showbackground\": true, \"ticks\": \"\", \"zerolinecolor\": \"white\"}}, \"shapedefaults\": {\"line\": {\"color\": \"#2a3f5f\"}}, \"ternary\": {\"aaxis\": {\"gridcolor\": \"white\", \"linecolor\": \"white\", \"ticks\": \"\"}, \"baxis\": {\"gridcolor\": \"white\", \"linecolor\": \"white\", \"ticks\": \"\"}, \"bgcolor\": \"#E5ECF6\", \"caxis\": {\"gridcolor\": \"white\", \"linecolor\": \"white\", \"ticks\": \"\"}}, \"title\": {\"x\": 0.05}, \"xaxis\": {\"automargin\": true, \"gridcolor\": \"white\", \"linecolor\": \"white\", \"ticks\": \"\", \"title\": {\"standoff\": 15}, \"zerolinecolor\": \"white\", \"zerolinewidth\": 2}, \"yaxis\": {\"automargin\": true, \"gridcolor\": \"white\", \"linecolor\": \"white\", \"ticks\": \"\", \"title\": {\"standoff\": 15}, \"zerolinecolor\": \"white\", \"zerolinewidth\": 2}}}, \"title\": {\"font\": {\"color\": \"black\"}, \"text\": \"GC Elo Ranking\", \"x\": 0.5}, \"width\": 1300},                        {\"responsive\": true}                    ).then(function(){\n",
       "                            \n",
       "var gd = document.getElementById('6af3c7d8-dd6f-4c24-a0be-4a802982b0a4');\n",
       "var x = new MutationObserver(function (mutations, observer) {{\n",
       "        var display = window.getComputedStyle(gd).display;\n",
       "        if (!display || display === 'none') {{\n",
       "            console.log([gd, 'removed!']);\n",
       "            Plotly.purge(gd);\n",
       "            observer.disconnect();\n",
       "        }}\n",
       "}});\n",
       "\n",
       "// Listen for the removal of the full notebook cells\n",
       "var notebookContainer = gd.closest('#notebook-container');\n",
       "if (notebookContainer) {{\n",
       "    x.observe(notebookContainer, {childList: true});\n",
       "}}\n",
       "\n",
       "// Listen for the clearing of the current output cell\n",
       "var outputEl = gd.closest('.output');\n",
       "if (outputEl) {{\n",
       "    x.observe(outputEl, {childList: true});\n",
       "}}\n",
       "\n",
       "                        })                };                });            </script>        </div>"
      ]
     },
     "metadata": {},
     "output_type": "display_data"
    }
   ],
   "source": [
    "# ===== generate and save most recent rankings for RACE_TYPE ===== #\n",
    "curr_date = datetime.today().strftime('%Y%m%d')\n",
    "fname = f'{RACE_TYPE.lower()}-{GENDER}-{curr_date}.png'\n",
    "gen_rankings_viz(ratings, results, title = f'{RACE_TYPE} Elo Ranking', fname = fname)"
   ]
  },
  {
   "cell_type": "code",
   "execution_count": 226,
   "metadata": {},
   "outputs": [],
   "source": [
    "def get_startlist(name, year):\n",
    "    \"\"\"\n",
    "    Given the name of a race and the year, return a list of riders on the startlist\n",
    "    for the race.\n",
    "    \n",
    "    NOTE: name param must be given in the format which ProCyclingStats uses in its\n",
    "    links. For example, if you'd like the startlist for the Tour de Suisse, you would\n",
    "    given 'tour-de-suisse' as the name param.\n",
    "    \"\"\"\n",
    "    \n",
    "    # get page html\n",
    "    link = f'https://www.procyclingstats.com/race/{name}/{year}/gc/startlist'\n",
    "    page = requests.get(link)\n",
    "    soup = BeautifulSoup(page.content, 'html.parser')\n",
    "    \n",
    "    # get the riders from each team starting the race\n",
    "    teams = {}\n",
    "    lis = soup.find_all('li', class_ = 'team')\n",
    "    for li in lis:\n",
    "        team = li.find_all('a')[0].text\n",
    "        uls = li.find_all('ul')[0]\n",
    "        roster = [rider.find_all('a')[0].text for rider in uls.find_all('li')]\n",
    "        teams[team] = roster\n",
    "    \n",
    "    # return the startlist as a list of rider names\n",
    "    startlist = [rider for team in teams for rider in teams[team]]\n",
    "    return startlist"
   ]
  },
  {
   "cell_type": "code",
   "execution_count": 227,
   "metadata": {},
   "outputs": [],
   "source": [
    "def gen_lolli_plot(startlist_ratings, startlist, race_name, rating_type, year, width = 1000, height = 750):\n",
    "    \"\"\"\n",
    "    Given the starlist for a race, output a lollipop plot ranking the riders\n",
    "    by their Elo rating.\n",
    "    \"\"\"\n",
    "    \n",
    "    # get the rating for each rider in the order that they appear in startlist\n",
    "    ratings = [startlist_ratings[rider].iloc[-1] for rider in startlist]\n",
    "    \n",
    "    fig = go.Figure()\n",
    "    \n",
    "    # add a line for each rider in the given startlist\n",
    "    for i in range(0, len(startlist)):\n",
    "        fig.add_shape(\n",
    "            type = 'line',\n",
    "            \n",
    "            # x and y coordinates determine the length of the line\n",
    "            x0 = min(ratings) - 50,\n",
    "            y0 = i,\n",
    "            x1 = list(reversed(ratings))[i],\n",
    "            y1 = i,\n",
    "\n",
    "            line = dict(color = 'darkblue', width = 3)\n",
    "        )\n",
    "    \n",
    "    # rider ratings are effectively a scatterplot, with rider name as the y axis\n",
    "    ratings_rev = [round(r, 2) for r in list(reversed(ratings))]\n",
    "    riders_rev = list(reversed(startlist))\n",
    "    fig.add_trace(\n",
    "        go.Scatter(\n",
    "            x = ratings_rev, \n",
    "            y = riders_rev,\n",
    "            text = ratings_rev,\n",
    "            mode = 'markers+text',\n",
    "            marker_color = 'darkblue',\n",
    "            marker_size = 14,\n",
    "            textposition = 'top center'\n",
    "    ))\n",
    "    \n",
    "    # ensure the race name to be ranked is formatted properly\n",
    "    race_name = race_name.replace('-', ' ').title()\n",
    "    \n",
    "    # update the layout of the plot to add finishing touches\n",
    "    fig.update_layout(\n",
    "        title = dict(\n",
    "            text = f'{race_name} {year} {rating_type} Contenders',\n",
    "            x = 0.5,\n",
    "            y = 0.9,\n",
    "            font_color = 'black'\n",
    "        ),\n",
    "        \n",
    "        width = width,\n",
    "        height = height,\n",
    "        \n",
    "        paper_bgcolor = 'white',\n",
    "        plot_bgcolor = 'white',\n",
    "        xaxis = dict(showgrid = False),\n",
    "        yaxis = dict(showgrid = False)\n",
    "    )\n",
    "\n",
    "    return fig\n",
    "\n",
    "def plot_startlist_timeseries(ratings, given_startlist, race_name, \n",
    "            year, rating_type, fname = None, riders_to_plot = 20):\n",
    "    \"\"\"\n",
    "    Driver method for generating the lolliplop plot from the given startlist of a race. Can be applied\n",
    "    to the Elo ratings of all riders (not just the startlist of a given race) if given_startlist is None.\n",
    "    \n",
    "    As with the table above, the figure can be saved if a filename is given using the fname param.\n",
    "    \"\"\"\n",
    "    \n",
    "    if given_startlist is None:\n",
    "        given_startlist = [col for col in ratings.columns if col not in ['year', 'month', 'day']]\n",
    "    \n",
    "    # adjust the given Elo ratings to include only the ratings of the top riders in the startlist\n",
    "    startlist = [rider for rider in given_startlist if rider in ratings.columns]\n",
    "    startlist.sort(key = lambda rider: ratings.iloc[-1, :].loc[rider], reverse = True)\n",
    "    startlist = startlist[0: riders_to_plot]\n",
    "    startlist_ratings = ratings[['year', 'month', 'day'] + startlist]\n",
    "    \n",
    "    # generate lollipop figure\n",
    "    fig = gen_lolli_plot(startlist_ratings, startlist, race_name, rating_type, year)\n",
    "    \n",
    "    if fname is not None:\n",
    "        fig.write_image(f'figures/{fname}')\n",
    "    \n",
    "    return fig"
   ]
  },
  {
   "cell_type": "code",
   "execution_count": 228,
   "metadata": {},
   "outputs": [
    {
     "data": {
      "application/vnd.plotly.v1+json": {
       "config": {
        "plotlyServerURL": "https://plot.ly"
       },
       "data": [
        {
         "marker": {
          "color": "darkblue",
          "size": 14
         },
         "mode": "markers+text",
         "text": [
          "1645.95",
          "1654.48",
          "1671.92",
          "1673.33",
          "1697.88",
          "1701.8",
          "1706.46",
          "1715.99",
          "1726.15",
          "1751.71",
          "1767.55",
          "1772.18",
          "1824.54",
          "1854.38",
          "1861.53"
         ],
         "textposition": "top center",
         "type": "scatter",
         "x": [
          1645.95,
          1654.48,
          1671.92,
          1673.33,
          1697.88,
          1701.8,
          1706.46,
          1715.99,
          1726.15,
          1751.71,
          1767.55,
          1772.18,
          1824.54,
          1854.38,
          1861.53
         ],
         "y": [
          "POZZOVIVO Domenico",
          "PINOT Thibaut",
          "CARTHY Hugh",
          "FUGLSANG Jakob",
          "MÄDER Gino",
          "URÁN Rigoberto",
          "IZAGIRRE Ion",
          "LUTSENKO Alexey",
          "THOMAS Geraint",
          "SCHACHMANN Maximilian",
          "HIGUITA Sergio",
          "EVENEPOEL Remco",
          "YATES Adam",
          "MARTÍNEZ Daniel Felipe",
          "VLASOV Aleksandr"
         ]
        }
       ],
       "layout": {
        "height": 750,
        "paper_bgcolor": "white",
        "plot_bgcolor": "white",
        "shapes": [
         {
          "line": {
           "color": "darkblue",
           "width": 3
          },
          "type": "line",
          "x0": 1595.9451563458792,
          "x1": 1645.9451563458792,
          "y0": 0,
          "y1": 0
         },
         {
          "line": {
           "color": "darkblue",
           "width": 3
          },
          "type": "line",
          "x0": 1595.9451563458792,
          "x1": 1654.4848604089175,
          "y0": 1,
          "y1": 1
         },
         {
          "line": {
           "color": "darkblue",
           "width": 3
          },
          "type": "line",
          "x0": 1595.9451563458792,
          "x1": 1671.9207297233395,
          "y0": 2,
          "y1": 2
         },
         {
          "line": {
           "color": "darkblue",
           "width": 3
          },
          "type": "line",
          "x0": 1595.9451563458792,
          "x1": 1673.3283032624302,
          "y0": 3,
          "y1": 3
         },
         {
          "line": {
           "color": "darkblue",
           "width": 3
          },
          "type": "line",
          "x0": 1595.9451563458792,
          "x1": 1697.8796417837539,
          "y0": 4,
          "y1": 4
         },
         {
          "line": {
           "color": "darkblue",
           "width": 3
          },
          "type": "line",
          "x0": 1595.9451563458792,
          "x1": 1701.7978616968328,
          "y0": 5,
          "y1": 5
         },
         {
          "line": {
           "color": "darkblue",
           "width": 3
          },
          "type": "line",
          "x0": 1595.9451563458792,
          "x1": 1706.4628985970712,
          "y0": 6,
          "y1": 6
         },
         {
          "line": {
           "color": "darkblue",
           "width": 3
          },
          "type": "line",
          "x0": 1595.9451563458792,
          "x1": 1715.986564185006,
          "y0": 7,
          "y1": 7
         },
         {
          "line": {
           "color": "darkblue",
           "width": 3
          },
          "type": "line",
          "x0": 1595.9451563458792,
          "x1": 1726.1477670268755,
          "y0": 8,
          "y1": 8
         },
         {
          "line": {
           "color": "darkblue",
           "width": 3
          },
          "type": "line",
          "x0": 1595.9451563458792,
          "x1": 1751.708312082218,
          "y0": 9,
          "y1": 9
         },
         {
          "line": {
           "color": "darkblue",
           "width": 3
          },
          "type": "line",
          "x0": 1595.9451563458792,
          "x1": 1767.5478475026362,
          "y0": 10,
          "y1": 10
         },
         {
          "line": {
           "color": "darkblue",
           "width": 3
          },
          "type": "line",
          "x0": 1595.9451563458792,
          "x1": 1772.1781463002205,
          "y0": 11,
          "y1": 11
         },
         {
          "line": {
           "color": "darkblue",
           "width": 3
          },
          "type": "line",
          "x0": 1595.9451563458792,
          "x1": 1824.542720705444,
          "y0": 12,
          "y1": 12
         },
         {
          "line": {
           "color": "darkblue",
           "width": 3
          },
          "type": "line",
          "x0": 1595.9451563458792,
          "x1": 1854.3801186763965,
          "y0": 13,
          "y1": 13
         },
         {
          "line": {
           "color": "darkblue",
           "width": 3
          },
          "type": "line",
          "x0": 1595.9451563458792,
          "x1": 1861.5291159810001,
          "y0": 14,
          "y1": 14
         }
        ],
        "template": {
         "data": {
          "bar": [
           {
            "error_x": {
             "color": "#2a3f5f"
            },
            "error_y": {
             "color": "#2a3f5f"
            },
            "marker": {
             "line": {
              "color": "#E5ECF6",
              "width": 0.5
             }
            },
            "type": "bar"
           }
          ],
          "barpolar": [
           {
            "marker": {
             "line": {
              "color": "#E5ECF6",
              "width": 0.5
             }
            },
            "type": "barpolar"
           }
          ],
          "carpet": [
           {
            "aaxis": {
             "endlinecolor": "#2a3f5f",
             "gridcolor": "white",
             "linecolor": "white",
             "minorgridcolor": "white",
             "startlinecolor": "#2a3f5f"
            },
            "baxis": {
             "endlinecolor": "#2a3f5f",
             "gridcolor": "white",
             "linecolor": "white",
             "minorgridcolor": "white",
             "startlinecolor": "#2a3f5f"
            },
            "type": "carpet"
           }
          ],
          "choropleth": [
           {
            "colorbar": {
             "outlinewidth": 0,
             "ticks": ""
            },
            "type": "choropleth"
           }
          ],
          "contour": [
           {
            "colorbar": {
             "outlinewidth": 0,
             "ticks": ""
            },
            "colorscale": [
             [
              0,
              "#0d0887"
             ],
             [
              0.1111111111111111,
              "#46039f"
             ],
             [
              0.2222222222222222,
              "#7201a8"
             ],
             [
              0.3333333333333333,
              "#9c179e"
             ],
             [
              0.4444444444444444,
              "#bd3786"
             ],
             [
              0.5555555555555556,
              "#d8576b"
             ],
             [
              0.6666666666666666,
              "#ed7953"
             ],
             [
              0.7777777777777778,
              "#fb9f3a"
             ],
             [
              0.8888888888888888,
              "#fdca26"
             ],
             [
              1,
              "#f0f921"
             ]
            ],
            "type": "contour"
           }
          ],
          "contourcarpet": [
           {
            "colorbar": {
             "outlinewidth": 0,
             "ticks": ""
            },
            "type": "contourcarpet"
           }
          ],
          "heatmap": [
           {
            "colorbar": {
             "outlinewidth": 0,
             "ticks": ""
            },
            "colorscale": [
             [
              0,
              "#0d0887"
             ],
             [
              0.1111111111111111,
              "#46039f"
             ],
             [
              0.2222222222222222,
              "#7201a8"
             ],
             [
              0.3333333333333333,
              "#9c179e"
             ],
             [
              0.4444444444444444,
              "#bd3786"
             ],
             [
              0.5555555555555556,
              "#d8576b"
             ],
             [
              0.6666666666666666,
              "#ed7953"
             ],
             [
              0.7777777777777778,
              "#fb9f3a"
             ],
             [
              0.8888888888888888,
              "#fdca26"
             ],
             [
              1,
              "#f0f921"
             ]
            ],
            "type": "heatmap"
           }
          ],
          "heatmapgl": [
           {
            "colorbar": {
             "outlinewidth": 0,
             "ticks": ""
            },
            "colorscale": [
             [
              0,
              "#0d0887"
             ],
             [
              0.1111111111111111,
              "#46039f"
             ],
             [
              0.2222222222222222,
              "#7201a8"
             ],
             [
              0.3333333333333333,
              "#9c179e"
             ],
             [
              0.4444444444444444,
              "#bd3786"
             ],
             [
              0.5555555555555556,
              "#d8576b"
             ],
             [
              0.6666666666666666,
              "#ed7953"
             ],
             [
              0.7777777777777778,
              "#fb9f3a"
             ],
             [
              0.8888888888888888,
              "#fdca26"
             ],
             [
              1,
              "#f0f921"
             ]
            ],
            "type": "heatmapgl"
           }
          ],
          "histogram": [
           {
            "marker": {
             "colorbar": {
              "outlinewidth": 0,
              "ticks": ""
             }
            },
            "type": "histogram"
           }
          ],
          "histogram2d": [
           {
            "colorbar": {
             "outlinewidth": 0,
             "ticks": ""
            },
            "colorscale": [
             [
              0,
              "#0d0887"
             ],
             [
              0.1111111111111111,
              "#46039f"
             ],
             [
              0.2222222222222222,
              "#7201a8"
             ],
             [
              0.3333333333333333,
              "#9c179e"
             ],
             [
              0.4444444444444444,
              "#bd3786"
             ],
             [
              0.5555555555555556,
              "#d8576b"
             ],
             [
              0.6666666666666666,
              "#ed7953"
             ],
             [
              0.7777777777777778,
              "#fb9f3a"
             ],
             [
              0.8888888888888888,
              "#fdca26"
             ],
             [
              1,
              "#f0f921"
             ]
            ],
            "type": "histogram2d"
           }
          ],
          "histogram2dcontour": [
           {
            "colorbar": {
             "outlinewidth": 0,
             "ticks": ""
            },
            "colorscale": [
             [
              0,
              "#0d0887"
             ],
             [
              0.1111111111111111,
              "#46039f"
             ],
             [
              0.2222222222222222,
              "#7201a8"
             ],
             [
              0.3333333333333333,
              "#9c179e"
             ],
             [
              0.4444444444444444,
              "#bd3786"
             ],
             [
              0.5555555555555556,
              "#d8576b"
             ],
             [
              0.6666666666666666,
              "#ed7953"
             ],
             [
              0.7777777777777778,
              "#fb9f3a"
             ],
             [
              0.8888888888888888,
              "#fdca26"
             ],
             [
              1,
              "#f0f921"
             ]
            ],
            "type": "histogram2dcontour"
           }
          ],
          "mesh3d": [
           {
            "colorbar": {
             "outlinewidth": 0,
             "ticks": ""
            },
            "type": "mesh3d"
           }
          ],
          "parcoords": [
           {
            "line": {
             "colorbar": {
              "outlinewidth": 0,
              "ticks": ""
             }
            },
            "type": "parcoords"
           }
          ],
          "pie": [
           {
            "automargin": true,
            "type": "pie"
           }
          ],
          "scatter": [
           {
            "marker": {
             "colorbar": {
              "outlinewidth": 0,
              "ticks": ""
             }
            },
            "type": "scatter"
           }
          ],
          "scatter3d": [
           {
            "line": {
             "colorbar": {
              "outlinewidth": 0,
              "ticks": ""
             }
            },
            "marker": {
             "colorbar": {
              "outlinewidth": 0,
              "ticks": ""
             }
            },
            "type": "scatter3d"
           }
          ],
          "scattercarpet": [
           {
            "marker": {
             "colorbar": {
              "outlinewidth": 0,
              "ticks": ""
             }
            },
            "type": "scattercarpet"
           }
          ],
          "scattergeo": [
           {
            "marker": {
             "colorbar": {
              "outlinewidth": 0,
              "ticks": ""
             }
            },
            "type": "scattergeo"
           }
          ],
          "scattergl": [
           {
            "marker": {
             "colorbar": {
              "outlinewidth": 0,
              "ticks": ""
             }
            },
            "type": "scattergl"
           }
          ],
          "scattermapbox": [
           {
            "marker": {
             "colorbar": {
              "outlinewidth": 0,
              "ticks": ""
             }
            },
            "type": "scattermapbox"
           }
          ],
          "scatterpolar": [
           {
            "marker": {
             "colorbar": {
              "outlinewidth": 0,
              "ticks": ""
             }
            },
            "type": "scatterpolar"
           }
          ],
          "scatterpolargl": [
           {
            "marker": {
             "colorbar": {
              "outlinewidth": 0,
              "ticks": ""
             }
            },
            "type": "scatterpolargl"
           }
          ],
          "scatterternary": [
           {
            "marker": {
             "colorbar": {
              "outlinewidth": 0,
              "ticks": ""
             }
            },
            "type": "scatterternary"
           }
          ],
          "surface": [
           {
            "colorbar": {
             "outlinewidth": 0,
             "ticks": ""
            },
            "colorscale": [
             [
              0,
              "#0d0887"
             ],
             [
              0.1111111111111111,
              "#46039f"
             ],
             [
              0.2222222222222222,
              "#7201a8"
             ],
             [
              0.3333333333333333,
              "#9c179e"
             ],
             [
              0.4444444444444444,
              "#bd3786"
             ],
             [
              0.5555555555555556,
              "#d8576b"
             ],
             [
              0.6666666666666666,
              "#ed7953"
             ],
             [
              0.7777777777777778,
              "#fb9f3a"
             ],
             [
              0.8888888888888888,
              "#fdca26"
             ],
             [
              1,
              "#f0f921"
             ]
            ],
            "type": "surface"
           }
          ],
          "table": [
           {
            "cells": {
             "fill": {
              "color": "#EBF0F8"
             },
             "line": {
              "color": "white"
             }
            },
            "header": {
             "fill": {
              "color": "#C8D4E3"
             },
             "line": {
              "color": "white"
             }
            },
            "type": "table"
           }
          ]
         },
         "layout": {
          "annotationdefaults": {
           "arrowcolor": "#2a3f5f",
           "arrowhead": 0,
           "arrowwidth": 1
          },
          "coloraxis": {
           "colorbar": {
            "outlinewidth": 0,
            "ticks": ""
           }
          },
          "colorscale": {
           "diverging": [
            [
             0,
             "#8e0152"
            ],
            [
             0.1,
             "#c51b7d"
            ],
            [
             0.2,
             "#de77ae"
            ],
            [
             0.3,
             "#f1b6da"
            ],
            [
             0.4,
             "#fde0ef"
            ],
            [
             0.5,
             "#f7f7f7"
            ],
            [
             0.6,
             "#e6f5d0"
            ],
            [
             0.7,
             "#b8e186"
            ],
            [
             0.8,
             "#7fbc41"
            ],
            [
             0.9,
             "#4d9221"
            ],
            [
             1,
             "#276419"
            ]
           ],
           "sequential": [
            [
             0,
             "#0d0887"
            ],
            [
             0.1111111111111111,
             "#46039f"
            ],
            [
             0.2222222222222222,
             "#7201a8"
            ],
            [
             0.3333333333333333,
             "#9c179e"
            ],
            [
             0.4444444444444444,
             "#bd3786"
            ],
            [
             0.5555555555555556,
             "#d8576b"
            ],
            [
             0.6666666666666666,
             "#ed7953"
            ],
            [
             0.7777777777777778,
             "#fb9f3a"
            ],
            [
             0.8888888888888888,
             "#fdca26"
            ],
            [
             1,
             "#f0f921"
            ]
           ],
           "sequentialminus": [
            [
             0,
             "#0d0887"
            ],
            [
             0.1111111111111111,
             "#46039f"
            ],
            [
             0.2222222222222222,
             "#7201a8"
            ],
            [
             0.3333333333333333,
             "#9c179e"
            ],
            [
             0.4444444444444444,
             "#bd3786"
            ],
            [
             0.5555555555555556,
             "#d8576b"
            ],
            [
             0.6666666666666666,
             "#ed7953"
            ],
            [
             0.7777777777777778,
             "#fb9f3a"
            ],
            [
             0.8888888888888888,
             "#fdca26"
            ],
            [
             1,
             "#f0f921"
            ]
           ]
          },
          "colorway": [
           "#636efa",
           "#EF553B",
           "#00cc96",
           "#ab63fa",
           "#FFA15A",
           "#19d3f3",
           "#FF6692",
           "#B6E880",
           "#FF97FF",
           "#FECB52"
          ],
          "font": {
           "color": "#2a3f5f"
          },
          "geo": {
           "bgcolor": "white",
           "lakecolor": "white",
           "landcolor": "#E5ECF6",
           "showlakes": true,
           "showland": true,
           "subunitcolor": "white"
          },
          "hoverlabel": {
           "align": "left"
          },
          "hovermode": "closest",
          "mapbox": {
           "style": "light"
          },
          "paper_bgcolor": "white",
          "plot_bgcolor": "#E5ECF6",
          "polar": {
           "angularaxis": {
            "gridcolor": "white",
            "linecolor": "white",
            "ticks": ""
           },
           "bgcolor": "#E5ECF6",
           "radialaxis": {
            "gridcolor": "white",
            "linecolor": "white",
            "ticks": ""
           }
          },
          "scene": {
           "xaxis": {
            "backgroundcolor": "#E5ECF6",
            "gridcolor": "white",
            "gridwidth": 2,
            "linecolor": "white",
            "showbackground": true,
            "ticks": "",
            "zerolinecolor": "white"
           },
           "yaxis": {
            "backgroundcolor": "#E5ECF6",
            "gridcolor": "white",
            "gridwidth": 2,
            "linecolor": "white",
            "showbackground": true,
            "ticks": "",
            "zerolinecolor": "white"
           },
           "zaxis": {
            "backgroundcolor": "#E5ECF6",
            "gridcolor": "white",
            "gridwidth": 2,
            "linecolor": "white",
            "showbackground": true,
            "ticks": "",
            "zerolinecolor": "white"
           }
          },
          "shapedefaults": {
           "line": {
            "color": "#2a3f5f"
           }
          },
          "ternary": {
           "aaxis": {
            "gridcolor": "white",
            "linecolor": "white",
            "ticks": ""
           },
           "baxis": {
            "gridcolor": "white",
            "linecolor": "white",
            "ticks": ""
           },
           "bgcolor": "#E5ECF6",
           "caxis": {
            "gridcolor": "white",
            "linecolor": "white",
            "ticks": ""
           }
          },
          "title": {
           "x": 0.05
          },
          "xaxis": {
           "automargin": true,
           "gridcolor": "white",
           "linecolor": "white",
           "ticks": "",
           "title": {
            "standoff": 15
           },
           "zerolinecolor": "white",
           "zerolinewidth": 2
          },
          "yaxis": {
           "automargin": true,
           "gridcolor": "white",
           "linecolor": "white",
           "ticks": "",
           "title": {
            "standoff": 15
           },
           "zerolinecolor": "white",
           "zerolinewidth": 2
          }
         }
        },
        "title": {
         "font": {
          "color": "black"
         },
         "text": "Tourdesuisse 2022 GC Contenders",
         "x": 0.5,
         "y": 0.9
        },
        "width": 1000,
        "xaxis": {
         "showgrid": false
        },
        "yaxis": {
         "showgrid": false
        }
       }
      },
      "text/html": [
       "<div>                            <div id=\"4cfe0df9-2be7-40bf-8d02-c3f8e1076494\" class=\"plotly-graph-div\" style=\"height:750px; width:1000px;\"></div>            <script type=\"text/javascript\">                require([\"plotly\"], function(Plotly) {                    window.PLOTLYENV=window.PLOTLYENV || {};                                    if (document.getElementById(\"4cfe0df9-2be7-40bf-8d02-c3f8e1076494\")) {                    Plotly.newPlot(                        \"4cfe0df9-2be7-40bf-8d02-c3f8e1076494\",                        [{\"marker\": {\"color\": \"darkblue\", \"size\": 14}, \"mode\": \"markers+text\", \"text\": [\"1645.95\", \"1654.48\", \"1671.92\", \"1673.33\", \"1697.88\", \"1701.8\", \"1706.46\", \"1715.99\", \"1726.15\", \"1751.71\", \"1767.55\", \"1772.18\", \"1824.54\", \"1854.38\", \"1861.53\"], \"textposition\": \"top center\", \"type\": \"scatter\", \"x\": [1645.95, 1654.48, 1671.92, 1673.33, 1697.88, 1701.8, 1706.46, 1715.99, 1726.15, 1751.71, 1767.55, 1772.18, 1824.54, 1854.38, 1861.53], \"y\": [\"POZZOVIVO Domenico\", \"PINOT Thibaut\", \"CARTHY Hugh\", \"FUGLSANG Jakob\", \"M\\u00c4DER Gino\", \"UR\\u00c1N Rigoberto\", \"IZAGIRRE Ion\", \"LUTSENKO Alexey\", \"THOMAS Geraint\", \"SCHACHMANN Maximilian\", \"HIGUITA Sergio\", \"EVENEPOEL Remco\", \"YATES Adam\", \"MART\\u00cdNEZ Daniel Felipe\", \"VLASOV Aleksandr\"]}],                        {\"height\": 750, \"paper_bgcolor\": \"white\", \"plot_bgcolor\": \"white\", \"shapes\": [{\"line\": {\"color\": \"darkblue\", \"width\": 3}, \"type\": \"line\", \"x0\": 1595.9451563458792, \"x1\": 1645.9451563458792, \"y0\": 0, \"y1\": 0}, {\"line\": {\"color\": \"darkblue\", \"width\": 3}, \"type\": \"line\", \"x0\": 1595.9451563458792, \"x1\": 1654.4848604089175, \"y0\": 1, \"y1\": 1}, {\"line\": {\"color\": \"darkblue\", \"width\": 3}, \"type\": \"line\", \"x0\": 1595.9451563458792, \"x1\": 1671.9207297233395, \"y0\": 2, \"y1\": 2}, {\"line\": {\"color\": \"darkblue\", \"width\": 3}, \"type\": \"line\", \"x0\": 1595.9451563458792, \"x1\": 1673.3283032624302, \"y0\": 3, \"y1\": 3}, {\"line\": {\"color\": \"darkblue\", \"width\": 3}, \"type\": \"line\", \"x0\": 1595.9451563458792, \"x1\": 1697.8796417837539, \"y0\": 4, \"y1\": 4}, {\"line\": {\"color\": \"darkblue\", \"width\": 3}, \"type\": \"line\", \"x0\": 1595.9451563458792, \"x1\": 1701.7978616968328, \"y0\": 5, \"y1\": 5}, {\"line\": {\"color\": \"darkblue\", \"width\": 3}, \"type\": \"line\", \"x0\": 1595.9451563458792, \"x1\": 1706.4628985970712, \"y0\": 6, \"y1\": 6}, {\"line\": {\"color\": \"darkblue\", \"width\": 3}, \"type\": \"line\", \"x0\": 1595.9451563458792, \"x1\": 1715.986564185006, \"y0\": 7, \"y1\": 7}, {\"line\": {\"color\": \"darkblue\", \"width\": 3}, \"type\": \"line\", \"x0\": 1595.9451563458792, \"x1\": 1726.1477670268755, \"y0\": 8, \"y1\": 8}, {\"line\": {\"color\": \"darkblue\", \"width\": 3}, \"type\": \"line\", \"x0\": 1595.9451563458792, \"x1\": 1751.708312082218, \"y0\": 9, \"y1\": 9}, {\"line\": {\"color\": \"darkblue\", \"width\": 3}, \"type\": \"line\", \"x0\": 1595.9451563458792, \"x1\": 1767.5478475026362, \"y0\": 10, \"y1\": 10}, {\"line\": {\"color\": \"darkblue\", \"width\": 3}, \"type\": \"line\", \"x0\": 1595.9451563458792, \"x1\": 1772.1781463002205, \"y0\": 11, \"y1\": 11}, {\"line\": {\"color\": \"darkblue\", \"width\": 3}, \"type\": \"line\", \"x0\": 1595.9451563458792, \"x1\": 1824.542720705444, \"y0\": 12, \"y1\": 12}, {\"line\": {\"color\": \"darkblue\", \"width\": 3}, \"type\": \"line\", \"x0\": 1595.9451563458792, \"x1\": 1854.3801186763965, \"y0\": 13, \"y1\": 13}, {\"line\": {\"color\": \"darkblue\", \"width\": 3}, \"type\": \"line\", \"x0\": 1595.9451563458792, \"x1\": 1861.5291159810001, \"y0\": 14, \"y1\": 14}], \"template\": {\"data\": {\"bar\": [{\"error_x\": {\"color\": \"#2a3f5f\"}, \"error_y\": {\"color\": \"#2a3f5f\"}, \"marker\": {\"line\": {\"color\": \"#E5ECF6\", \"width\": 0.5}}, \"type\": \"bar\"}], \"barpolar\": [{\"marker\": {\"line\": {\"color\": \"#E5ECF6\", \"width\": 0.5}}, \"type\": \"barpolar\"}], \"carpet\": [{\"aaxis\": {\"endlinecolor\": \"#2a3f5f\", \"gridcolor\": \"white\", \"linecolor\": \"white\", \"minorgridcolor\": \"white\", \"startlinecolor\": \"#2a3f5f\"}, \"baxis\": {\"endlinecolor\": \"#2a3f5f\", \"gridcolor\": \"white\", \"linecolor\": \"white\", \"minorgridcolor\": \"white\", \"startlinecolor\": \"#2a3f5f\"}, \"type\": \"carpet\"}], \"choropleth\": [{\"colorbar\": {\"outlinewidth\": 0, \"ticks\": \"\"}, \"type\": \"choropleth\"}], \"contour\": [{\"colorbar\": {\"outlinewidth\": 0, \"ticks\": \"\"}, \"colorscale\": [[0.0, \"#0d0887\"], [0.1111111111111111, \"#46039f\"], [0.2222222222222222, \"#7201a8\"], [0.3333333333333333, \"#9c179e\"], [0.4444444444444444, \"#bd3786\"], [0.5555555555555556, \"#d8576b\"], [0.6666666666666666, \"#ed7953\"], [0.7777777777777778, \"#fb9f3a\"], [0.8888888888888888, \"#fdca26\"], [1.0, \"#f0f921\"]], \"type\": \"contour\"}], \"contourcarpet\": [{\"colorbar\": {\"outlinewidth\": 0, \"ticks\": \"\"}, \"type\": \"contourcarpet\"}], \"heatmap\": [{\"colorbar\": {\"outlinewidth\": 0, \"ticks\": \"\"}, \"colorscale\": [[0.0, \"#0d0887\"], [0.1111111111111111, \"#46039f\"], [0.2222222222222222, \"#7201a8\"], [0.3333333333333333, \"#9c179e\"], [0.4444444444444444, \"#bd3786\"], [0.5555555555555556, \"#d8576b\"], [0.6666666666666666, \"#ed7953\"], [0.7777777777777778, \"#fb9f3a\"], [0.8888888888888888, \"#fdca26\"], [1.0, \"#f0f921\"]], \"type\": \"heatmap\"}], \"heatmapgl\": [{\"colorbar\": {\"outlinewidth\": 0, \"ticks\": \"\"}, \"colorscale\": [[0.0, \"#0d0887\"], [0.1111111111111111, \"#46039f\"], [0.2222222222222222, \"#7201a8\"], [0.3333333333333333, \"#9c179e\"], [0.4444444444444444, \"#bd3786\"], [0.5555555555555556, \"#d8576b\"], [0.6666666666666666, \"#ed7953\"], [0.7777777777777778, \"#fb9f3a\"], [0.8888888888888888, \"#fdca26\"], [1.0, \"#f0f921\"]], \"type\": \"heatmapgl\"}], \"histogram\": [{\"marker\": {\"colorbar\": {\"outlinewidth\": 0, \"ticks\": \"\"}}, \"type\": \"histogram\"}], \"histogram2d\": [{\"colorbar\": {\"outlinewidth\": 0, \"ticks\": \"\"}, \"colorscale\": [[0.0, \"#0d0887\"], [0.1111111111111111, \"#46039f\"], [0.2222222222222222, \"#7201a8\"], [0.3333333333333333, \"#9c179e\"], [0.4444444444444444, \"#bd3786\"], [0.5555555555555556, \"#d8576b\"], [0.6666666666666666, \"#ed7953\"], [0.7777777777777778, \"#fb9f3a\"], [0.8888888888888888, \"#fdca26\"], [1.0, \"#f0f921\"]], \"type\": \"histogram2d\"}], \"histogram2dcontour\": [{\"colorbar\": {\"outlinewidth\": 0, \"ticks\": \"\"}, \"colorscale\": [[0.0, \"#0d0887\"], [0.1111111111111111, \"#46039f\"], [0.2222222222222222, \"#7201a8\"], [0.3333333333333333, \"#9c179e\"], [0.4444444444444444, \"#bd3786\"], [0.5555555555555556, \"#d8576b\"], [0.6666666666666666, \"#ed7953\"], [0.7777777777777778, \"#fb9f3a\"], [0.8888888888888888, \"#fdca26\"], [1.0, \"#f0f921\"]], \"type\": \"histogram2dcontour\"}], \"mesh3d\": [{\"colorbar\": {\"outlinewidth\": 0, \"ticks\": \"\"}, \"type\": \"mesh3d\"}], \"parcoords\": [{\"line\": {\"colorbar\": {\"outlinewidth\": 0, \"ticks\": \"\"}}, \"type\": \"parcoords\"}], \"pie\": [{\"automargin\": true, \"type\": \"pie\"}], \"scatter\": [{\"marker\": {\"colorbar\": {\"outlinewidth\": 0, \"ticks\": \"\"}}, \"type\": \"scatter\"}], \"scatter3d\": [{\"line\": {\"colorbar\": {\"outlinewidth\": 0, \"ticks\": \"\"}}, \"marker\": {\"colorbar\": {\"outlinewidth\": 0, \"ticks\": \"\"}}, \"type\": \"scatter3d\"}], \"scattercarpet\": [{\"marker\": {\"colorbar\": {\"outlinewidth\": 0, \"ticks\": \"\"}}, \"type\": \"scattercarpet\"}], \"scattergeo\": [{\"marker\": {\"colorbar\": {\"outlinewidth\": 0, \"ticks\": \"\"}}, \"type\": \"scattergeo\"}], \"scattergl\": [{\"marker\": {\"colorbar\": {\"outlinewidth\": 0, \"ticks\": \"\"}}, \"type\": \"scattergl\"}], \"scattermapbox\": [{\"marker\": {\"colorbar\": {\"outlinewidth\": 0, \"ticks\": \"\"}}, \"type\": \"scattermapbox\"}], \"scatterpolar\": [{\"marker\": {\"colorbar\": {\"outlinewidth\": 0, \"ticks\": \"\"}}, \"type\": \"scatterpolar\"}], \"scatterpolargl\": [{\"marker\": {\"colorbar\": {\"outlinewidth\": 0, \"ticks\": \"\"}}, \"type\": \"scatterpolargl\"}], \"scatterternary\": [{\"marker\": {\"colorbar\": {\"outlinewidth\": 0, \"ticks\": \"\"}}, \"type\": \"scatterternary\"}], \"surface\": [{\"colorbar\": {\"outlinewidth\": 0, \"ticks\": \"\"}, \"colorscale\": [[0.0, \"#0d0887\"], [0.1111111111111111, \"#46039f\"], [0.2222222222222222, \"#7201a8\"], [0.3333333333333333, \"#9c179e\"], [0.4444444444444444, \"#bd3786\"], [0.5555555555555556, \"#d8576b\"], [0.6666666666666666, \"#ed7953\"], [0.7777777777777778, \"#fb9f3a\"], [0.8888888888888888, \"#fdca26\"], [1.0, \"#f0f921\"]], \"type\": \"surface\"}], \"table\": [{\"cells\": {\"fill\": {\"color\": \"#EBF0F8\"}, \"line\": {\"color\": \"white\"}}, \"header\": {\"fill\": {\"color\": \"#C8D4E3\"}, \"line\": {\"color\": \"white\"}}, \"type\": \"table\"}]}, \"layout\": {\"annotationdefaults\": {\"arrowcolor\": \"#2a3f5f\", \"arrowhead\": 0, \"arrowwidth\": 1}, \"coloraxis\": {\"colorbar\": {\"outlinewidth\": 0, \"ticks\": \"\"}}, \"colorscale\": {\"diverging\": [[0, \"#8e0152\"], [0.1, \"#c51b7d\"], [0.2, \"#de77ae\"], [0.3, \"#f1b6da\"], [0.4, \"#fde0ef\"], [0.5, \"#f7f7f7\"], [0.6, \"#e6f5d0\"], [0.7, \"#b8e186\"], [0.8, \"#7fbc41\"], [0.9, \"#4d9221\"], [1, \"#276419\"]], \"sequential\": [[0.0, \"#0d0887\"], [0.1111111111111111, \"#46039f\"], [0.2222222222222222, \"#7201a8\"], [0.3333333333333333, \"#9c179e\"], [0.4444444444444444, \"#bd3786\"], [0.5555555555555556, \"#d8576b\"], [0.6666666666666666, \"#ed7953\"], [0.7777777777777778, \"#fb9f3a\"], [0.8888888888888888, \"#fdca26\"], [1.0, \"#f0f921\"]], \"sequentialminus\": [[0.0, \"#0d0887\"], [0.1111111111111111, \"#46039f\"], [0.2222222222222222, \"#7201a8\"], [0.3333333333333333, \"#9c179e\"], [0.4444444444444444, \"#bd3786\"], [0.5555555555555556, \"#d8576b\"], [0.6666666666666666, \"#ed7953\"], [0.7777777777777778, \"#fb9f3a\"], [0.8888888888888888, \"#fdca26\"], [1.0, \"#f0f921\"]]}, \"colorway\": [\"#636efa\", \"#EF553B\", \"#00cc96\", \"#ab63fa\", \"#FFA15A\", \"#19d3f3\", \"#FF6692\", \"#B6E880\", \"#FF97FF\", \"#FECB52\"], \"font\": {\"color\": \"#2a3f5f\"}, \"geo\": {\"bgcolor\": \"white\", \"lakecolor\": \"white\", \"landcolor\": \"#E5ECF6\", \"showlakes\": true, \"showland\": true, \"subunitcolor\": \"white\"}, \"hoverlabel\": {\"align\": \"left\"}, \"hovermode\": \"closest\", \"mapbox\": {\"style\": \"light\"}, \"paper_bgcolor\": \"white\", \"plot_bgcolor\": \"#E5ECF6\", \"polar\": {\"angularaxis\": {\"gridcolor\": \"white\", \"linecolor\": \"white\", \"ticks\": \"\"}, \"bgcolor\": \"#E5ECF6\", \"radialaxis\": {\"gridcolor\": \"white\", \"linecolor\": \"white\", \"ticks\": \"\"}}, \"scene\": {\"xaxis\": {\"backgroundcolor\": \"#E5ECF6\", \"gridcolor\": \"white\", \"gridwidth\": 2, \"linecolor\": \"white\", \"showbackground\": true, \"ticks\": \"\", \"zerolinecolor\": \"white\"}, \"yaxis\": {\"backgroundcolor\": \"#E5ECF6\", \"gridcolor\": \"white\", \"gridwidth\": 2, \"linecolor\": \"white\", \"showbackground\": true, \"ticks\": \"\", \"zerolinecolor\": \"white\"}, \"zaxis\": {\"backgroundcolor\": \"#E5ECF6\", \"gridcolor\": \"white\", \"gridwidth\": 2, \"linecolor\": \"white\", \"showbackground\": true, \"ticks\": \"\", \"zerolinecolor\": \"white\"}}, \"shapedefaults\": {\"line\": {\"color\": \"#2a3f5f\"}}, \"ternary\": {\"aaxis\": {\"gridcolor\": \"white\", \"linecolor\": \"white\", \"ticks\": \"\"}, \"baxis\": {\"gridcolor\": \"white\", \"linecolor\": \"white\", \"ticks\": \"\"}, \"bgcolor\": \"#E5ECF6\", \"caxis\": {\"gridcolor\": \"white\", \"linecolor\": \"white\", \"ticks\": \"\"}}, \"title\": {\"x\": 0.05}, \"xaxis\": {\"automargin\": true, \"gridcolor\": \"white\", \"linecolor\": \"white\", \"ticks\": \"\", \"title\": {\"standoff\": 15}, \"zerolinecolor\": \"white\", \"zerolinewidth\": 2}, \"yaxis\": {\"automargin\": true, \"gridcolor\": \"white\", \"linecolor\": \"white\", \"ticks\": \"\", \"title\": {\"standoff\": 15}, \"zerolinecolor\": \"white\", \"zerolinewidth\": 2}}}, \"title\": {\"font\": {\"color\": \"black\"}, \"text\": \"Tourdesuisse 2022 GC Contenders\", \"x\": 0.5, \"y\": 0.9}, \"width\": 1000, \"xaxis\": {\"showgrid\": false}, \"yaxis\": {\"showgrid\": false}},                        {\"responsive\": true}                    ).then(function(){\n",
       "                            \n",
       "var gd = document.getElementById('4cfe0df9-2be7-40bf-8d02-c3f8e1076494');\n",
       "var x = new MutationObserver(function (mutations, observer) {{\n",
       "        var display = window.getComputedStyle(gd).display;\n",
       "        if (!display || display === 'none') {{\n",
       "            console.log([gd, 'removed!']);\n",
       "            Plotly.purge(gd);\n",
       "            observer.disconnect();\n",
       "        }}\n",
       "}});\n",
       "\n",
       "// Listen for the removal of the full notebook cells\n",
       "var notebookContainer = gd.closest('#notebook-container');\n",
       "if (notebookContainer) {{\n",
       "    x.observe(notebookContainer, {childList: true});\n",
       "}}\n",
       "\n",
       "// Listen for the clearing of the current output cell\n",
       "var outputEl = gd.closest('.output');\n",
       "if (outputEl) {{\n",
       "    x.observe(outputEl, {childList: true});\n",
       "}}\n",
       "\n",
       "                        })                };                });            </script>        </div>"
      ]
     },
     "metadata": {},
     "output_type": "display_data"
    }
   ],
   "source": [
    "# get a startlist to plot\n",
    "startlist = [rider for rider in get_startlist(RACE, YEAR) if rider in ratings.columns]\n",
    "\n",
    "# plot the lollipop\n",
    "plot_startlist_timeseries(\n",
    "    ratings, startlist, RACE.replace('-', '').title(), YEAR, RACE_TYPE,\n",
    "    riders_to_plot = 15, fname = f'{race}-{year}-{RACE_TYPE.lower()}-{GENDER}-lollipop.png'\n",
    ")"
   ]
  },
  {
   "cell_type": "code",
   "execution_count": null,
   "metadata": {},
   "outputs": [],
   "source": []
  }
 ],
 "metadata": {
  "kernelspec": {
   "display_name": "Python 3",
   "language": "python",
   "name": "python3"
  },
  "language_info": {
   "codemirror_mode": {
    "name": "ipython",
    "version": 3
   },
   "file_extension": ".py",
   "mimetype": "text/x-python",
   "name": "python",
   "nbconvert_exporter": "python",
   "pygments_lexer": "ipython3",
   "version": "3.7.6"
  }
 },
 "nbformat": 4,
 "nbformat_minor": 4
}
