{
 "cells": [
  {
   "cell_type": "markdown",
   "metadata": {},
   "source": [
    "## Ratings visualization notebook\n",
    "\n",
    "Notebook containing implementations for different Elo rating visualizations. I figured\n",
    "this would be a little more intuitive than yet another script."
   ]
  },
  {
   "cell_type": "code",
   "execution_count": 170,
   "metadata": {},
   "outputs": [],
   "source": [
    "from bs4 import BeautifulSoup\n",
    "from datetime import date, datetime, timedelta\n",
    "import matplotlib.pyplot as plt\n",
    "import os\n",
    "import pandas as pd\n",
    "import plotly.graph_objects as go\n",
    "import requests"
   ]
  },
  {
   "cell_type": "code",
   "execution_count": 171,
   "metadata": {},
   "outputs": [],
   "source": [
    "# ===== notebook constants ===== #\n",
    "RACE_TYPE = 'GC'\n",
    "GENDER = 'men'\n",
    "RATINGS_DATA_PATH = f'../data/system-data/{RACE_TYPE.lower()}_{GENDER}.csv'\n",
    "RACE_RESULTS_PATH = f'../data/{GENDER}_velodata2.csv'"
   ]
  },
  {
   "cell_type": "code",
   "execution_count": 172,
   "metadata": {},
   "outputs": [],
   "source": [
    "# ===== brief constant compatibility check ===== #\n",
    "if RACE_TYPE not in ['GC', 'ITT', 'SPRINTS']:\n",
    "    raise ValueError('Given race type must be GC, ITT, or SPRINTS.')\n",
    "\n",
    "if GENDER not in ['men', 'women']:\n",
    "    raise ValueError('Given gender must be men or women.')\n",
    "\n",
    "if not os.path.exists(RATINGS_DATA_PATH):\n",
    "    raise ValueError(f'Something went wrong. Given ratings path, {RATINGS_DATA_PATH}, does not exist.')\n",
    "\n",
    "if not os.path.exists(RACE_RESULTS_PATH):\n",
    "    raise ValueError(f'Something went wrong. Given race results path, {RACE_RESULTS_PATH}, does not exist.')"
   ]
  },
  {
   "cell_type": "code",
   "execution_count": 173,
   "metadata": {},
   "outputs": [
    {
     "data": {
      "text/html": [
       "<div>\n",
       "<style scoped>\n",
       "    .dataframe tbody tr th:only-of-type {\n",
       "        vertical-align: middle;\n",
       "    }\n",
       "\n",
       "    .dataframe tbody tr th {\n",
       "        vertical-align: top;\n",
       "    }\n",
       "\n",
       "    .dataframe thead th {\n",
       "        text-align: right;\n",
       "    }\n",
       "</style>\n",
       "<table border=\"1\" class=\"dataframe\">\n",
       "  <thead>\n",
       "    <tr style=\"text-align: right;\">\n",
       "      <th></th>\n",
       "      <th>year</th>\n",
       "      <th>month</th>\n",
       "      <th>day</th>\n",
       "      <th>GREIPEL André</th>\n",
       "      <th>SÁNCHEZ Luis León</th>\n",
       "      <th>HENDERSON Gregory</th>\n",
       "      <th>MCEWEN Robbie</th>\n",
       "      <th>ROBERTS Luke</th>\n",
       "      <th>EVANS Cadel</th>\n",
       "      <th>VORGANOV Eduard</th>\n",
       "      <th>...</th>\n",
       "      <th>MARCHIORI Leonardo</th>\n",
       "      <th>HORDIJK Bart</th>\n",
       "      <th>SOLYMOSI Marton</th>\n",
       "      <th>KOVÁCS Dávid</th>\n",
       "      <th>MÉSZÁROS Bence</th>\n",
       "      <th>EDDY Patrick</th>\n",
       "      <th>SZIJÁRTÓ Zétény</th>\n",
       "      <th>SVESTAD-BÅRDSENG Embret</th>\n",
       "      <th>GUDNITZ Joshua</th>\n",
       "      <th>KUHN Jan</th>\n",
       "    </tr>\n",
       "  </thead>\n",
       "  <tbody>\n",
       "    <tr>\n",
       "      <th>0</th>\n",
       "      <td>2010</td>\n",
       "      <td>1</td>\n",
       "      <td>24</td>\n",
       "      <td>1500.000000</td>\n",
       "      <td>1500.000000</td>\n",
       "      <td>1500.000000</td>\n",
       "      <td>1500.000000</td>\n",
       "      <td>1500.000000</td>\n",
       "      <td>1500.000000</td>\n",
       "      <td>1500.000000</td>\n",
       "      <td>...</td>\n",
       "      <td>1500.0</td>\n",
       "      <td>1500.0</td>\n",
       "      <td>1500.0</td>\n",
       "      <td>1500.0</td>\n",
       "      <td>1500.0</td>\n",
       "      <td>1500.0</td>\n",
       "      <td>1500.0</td>\n",
       "      <td>1500.0</td>\n",
       "      <td>1500.0</td>\n",
       "      <td>1500.0</td>\n",
       "    </tr>\n",
       "    <tr>\n",
       "      <th>1</th>\n",
       "      <td>2010</td>\n",
       "      <td>1</td>\n",
       "      <td>24</td>\n",
       "      <td>1503.277857</td>\n",
       "      <td>1501.155955</td>\n",
       "      <td>1500.681022</td>\n",
       "      <td>1500.493424</td>\n",
       "      <td>1500.623212</td>\n",
       "      <td>1500.350892</td>\n",
       "      <td>1500.147267</td>\n",
       "      <td>...</td>\n",
       "      <td>1500.0</td>\n",
       "      <td>1500.0</td>\n",
       "      <td>1500.0</td>\n",
       "      <td>1500.0</td>\n",
       "      <td>1500.0</td>\n",
       "      <td>1500.0</td>\n",
       "      <td>1500.0</td>\n",
       "      <td>1500.0</td>\n",
       "      <td>1500.0</td>\n",
       "      <td>1500.0</td>\n",
       "    </tr>\n",
       "    <tr>\n",
       "      <th>2</th>\n",
       "      <td>2010</td>\n",
       "      <td>2</td>\n",
       "      <td>12</td>\n",
       "      <td>1503.277857</td>\n",
       "      <td>1501.155955</td>\n",
       "      <td>1500.681022</td>\n",
       "      <td>1500.493424</td>\n",
       "      <td>1500.623212</td>\n",
       "      <td>1500.350892</td>\n",
       "      <td>1500.147267</td>\n",
       "      <td>...</td>\n",
       "      <td>1500.0</td>\n",
       "      <td>1500.0</td>\n",
       "      <td>1500.0</td>\n",
       "      <td>1500.0</td>\n",
       "      <td>1500.0</td>\n",
       "      <td>1500.0</td>\n",
       "      <td>1500.0</td>\n",
       "      <td>1500.0</td>\n",
       "      <td>1500.0</td>\n",
       "      <td>1500.0</td>\n",
       "    </tr>\n",
       "    <tr>\n",
       "      <th>3</th>\n",
       "      <td>2010</td>\n",
       "      <td>2</td>\n",
       "      <td>12</td>\n",
       "      <td>1503.277857</td>\n",
       "      <td>1501.155955</td>\n",
       "      <td>1500.681022</td>\n",
       "      <td>1500.493424</td>\n",
       "      <td>1500.623212</td>\n",
       "      <td>1500.350892</td>\n",
       "      <td>1500.147267</td>\n",
       "      <td>...</td>\n",
       "      <td>1500.0</td>\n",
       "      <td>1500.0</td>\n",
       "      <td>1500.0</td>\n",
       "      <td>1500.0</td>\n",
       "      <td>1500.0</td>\n",
       "      <td>1500.0</td>\n",
       "      <td>1500.0</td>\n",
       "      <td>1500.0</td>\n",
       "      <td>1500.0</td>\n",
       "      <td>1500.0</td>\n",
       "    </tr>\n",
       "    <tr>\n",
       "      <th>4</th>\n",
       "      <td>2010</td>\n",
       "      <td>2</td>\n",
       "      <td>19</td>\n",
       "      <td>1503.277857</td>\n",
       "      <td>1501.155955</td>\n",
       "      <td>1500.681022</td>\n",
       "      <td>1500.493424</td>\n",
       "      <td>1500.623212</td>\n",
       "      <td>1500.350892</td>\n",
       "      <td>1500.147267</td>\n",
       "      <td>...</td>\n",
       "      <td>1500.0</td>\n",
       "      <td>1500.0</td>\n",
       "      <td>1500.0</td>\n",
       "      <td>1500.0</td>\n",
       "      <td>1500.0</td>\n",
       "      <td>1500.0</td>\n",
       "      <td>1500.0</td>\n",
       "      <td>1500.0</td>\n",
       "      <td>1500.0</td>\n",
       "      <td>1500.0</td>\n",
       "    </tr>\n",
       "  </tbody>\n",
       "</table>\n",
       "<p>5 rows × 5001 columns</p>\n",
       "</div>"
      ],
      "text/plain": [
       "   year  month  day  GREIPEL André  SÁNCHEZ Luis León  HENDERSON Gregory  \\\n",
       "0  2010      1   24    1500.000000        1500.000000        1500.000000   \n",
       "1  2010      1   24    1503.277857        1501.155955        1500.681022   \n",
       "2  2010      2   12    1503.277857        1501.155955        1500.681022   \n",
       "3  2010      2   12    1503.277857        1501.155955        1500.681022   \n",
       "4  2010      2   19    1503.277857        1501.155955        1500.681022   \n",
       "\n",
       "   MCEWEN Robbie  ROBERTS Luke  EVANS Cadel  VORGANOV Eduard  ...  \\\n",
       "0    1500.000000   1500.000000  1500.000000      1500.000000  ...   \n",
       "1    1500.493424   1500.623212  1500.350892      1500.147267  ...   \n",
       "2    1500.493424   1500.623212  1500.350892      1500.147267  ...   \n",
       "3    1500.493424   1500.623212  1500.350892      1500.147267  ...   \n",
       "4    1500.493424   1500.623212  1500.350892      1500.147267  ...   \n",
       "\n",
       "   MARCHIORI Leonardo  HORDIJK Bart  SOLYMOSI Marton  KOVÁCS Dávid  \\\n",
       "0              1500.0        1500.0           1500.0        1500.0   \n",
       "1              1500.0        1500.0           1500.0        1500.0   \n",
       "2              1500.0        1500.0           1500.0        1500.0   \n",
       "3              1500.0        1500.0           1500.0        1500.0   \n",
       "4              1500.0        1500.0           1500.0        1500.0   \n",
       "\n",
       "   MÉSZÁROS Bence  EDDY Patrick  SZIJÁRTÓ Zétény  SVESTAD-BÅRDSENG Embret  \\\n",
       "0          1500.0        1500.0           1500.0                   1500.0   \n",
       "1          1500.0        1500.0           1500.0                   1500.0   \n",
       "2          1500.0        1500.0           1500.0                   1500.0   \n",
       "3          1500.0        1500.0           1500.0                   1500.0   \n",
       "4          1500.0        1500.0           1500.0                   1500.0   \n",
       "\n",
       "   GUDNITZ Joshua  KUHN Jan  \n",
       "0          1500.0    1500.0  \n",
       "1          1500.0    1500.0  \n",
       "2          1500.0    1500.0  \n",
       "3          1500.0    1500.0  \n",
       "4          1500.0    1500.0  \n",
       "\n",
       "[5 rows x 5001 columns]"
      ]
     },
     "metadata": {},
     "output_type": "display_data"
    },
    {
     "data": {
      "text/html": [
       "<div>\n",
       "<style scoped>\n",
       "    .dataframe tbody tr th:only-of-type {\n",
       "        vertical-align: middle;\n",
       "    }\n",
       "\n",
       "    .dataframe tbody tr th {\n",
       "        vertical-align: top;\n",
       "    }\n",
       "\n",
       "    .dataframe thead th {\n",
       "        text-align: right;\n",
       "    }\n",
       "</style>\n",
       "<table border=\"1\" class=\"dataframe\">\n",
       "  <thead>\n",
       "    <tr style=\"text-align: right;\">\n",
       "      <th></th>\n",
       "      <th>name</th>\n",
       "      <th>stage</th>\n",
       "      <th>points_scale</th>\n",
       "      <th>parcours_type</th>\n",
       "      <th>year</th>\n",
       "      <th>month</th>\n",
       "      <th>day</th>\n",
       "      <th>type</th>\n",
       "      <th>length</th>\n",
       "      <th>profile_score</th>\n",
       "      <th>avg_speed</th>\n",
       "      <th>vertical_meters</th>\n",
       "      <th>won_how</th>\n",
       "      <th>place</th>\n",
       "      <th>rider</th>\n",
       "      <th>team</th>\n",
       "      <th>age</th>\n",
       "      <th>time</th>\n",
       "    </tr>\n",
       "  </thead>\n",
       "  <tbody>\n",
       "    <tr>\n",
       "      <th>0</th>\n",
       "      <td>tour-de-france</td>\n",
       "      <td>stage-1</td>\n",
       "      <td>GT.A.Stage</td>\n",
       "      <td>p3</td>\n",
       "      <td>2021.0</td>\n",
       "      <td>6.0</td>\n",
       "      <td>26.0</td>\n",
       "      <td>standard</td>\n",
       "      <td>197.8</td>\n",
       "      <td>109.0</td>\n",
       "      <td>42.525 km/h</td>\n",
       "      <td>2843.0</td>\n",
       "      <td>2.2 km solo</td>\n",
       "      <td>1.0</td>\n",
       "      <td>ALAPHILIPPE Julian</td>\n",
       "      <td>Deceuninck - Quick Step</td>\n",
       "      <td>29.0</td>\n",
       "      <td>0.0</td>\n",
       "    </tr>\n",
       "    <tr>\n",
       "      <th>1</th>\n",
       "      <td>tour-de-france</td>\n",
       "      <td>stage-1</td>\n",
       "      <td>GT.A.Stage</td>\n",
       "      <td>p3</td>\n",
       "      <td>2021.0</td>\n",
       "      <td>6.0</td>\n",
       "      <td>26.0</td>\n",
       "      <td>standard</td>\n",
       "      <td>197.8</td>\n",
       "      <td>109.0</td>\n",
       "      <td>42.525 km/h</td>\n",
       "      <td>2843.0</td>\n",
       "      <td>2.2 km solo</td>\n",
       "      <td>2.0</td>\n",
       "      <td>MATTHEWS Michael</td>\n",
       "      <td>Team BikeExchange</td>\n",
       "      <td>30.0</td>\n",
       "      <td>8.0</td>\n",
       "    </tr>\n",
       "    <tr>\n",
       "      <th>2</th>\n",
       "      <td>tour-de-france</td>\n",
       "      <td>stage-1</td>\n",
       "      <td>GT.A.Stage</td>\n",
       "      <td>p3</td>\n",
       "      <td>2021.0</td>\n",
       "      <td>6.0</td>\n",
       "      <td>26.0</td>\n",
       "      <td>standard</td>\n",
       "      <td>197.8</td>\n",
       "      <td>109.0</td>\n",
       "      <td>42.525 km/h</td>\n",
       "      <td>2843.0</td>\n",
       "      <td>2.2 km solo</td>\n",
       "      <td>3.0</td>\n",
       "      <td>ROGLIČ Primož</td>\n",
       "      <td>Team Jumbo-Visma</td>\n",
       "      <td>31.0</td>\n",
       "      <td>8.0</td>\n",
       "    </tr>\n",
       "    <tr>\n",
       "      <th>3</th>\n",
       "      <td>tour-de-france</td>\n",
       "      <td>stage-1</td>\n",
       "      <td>GT.A.Stage</td>\n",
       "      <td>p3</td>\n",
       "      <td>2021.0</td>\n",
       "      <td>6.0</td>\n",
       "      <td>26.0</td>\n",
       "      <td>standard</td>\n",
       "      <td>197.8</td>\n",
       "      <td>109.0</td>\n",
       "      <td>42.525 km/h</td>\n",
       "      <td>2843.0</td>\n",
       "      <td>2.2 km solo</td>\n",
       "      <td>4.0</td>\n",
       "      <td>HAIG Jack</td>\n",
       "      <td>Bahrain - Victorious</td>\n",
       "      <td>27.0</td>\n",
       "      <td>8.0</td>\n",
       "    </tr>\n",
       "    <tr>\n",
       "      <th>4</th>\n",
       "      <td>tour-de-france</td>\n",
       "      <td>stage-1</td>\n",
       "      <td>GT.A.Stage</td>\n",
       "      <td>p3</td>\n",
       "      <td>2021.0</td>\n",
       "      <td>6.0</td>\n",
       "      <td>26.0</td>\n",
       "      <td>standard</td>\n",
       "      <td>197.8</td>\n",
       "      <td>109.0</td>\n",
       "      <td>42.525 km/h</td>\n",
       "      <td>2843.0</td>\n",
       "      <td>2.2 km solo</td>\n",
       "      <td>5.0</td>\n",
       "      <td>KELDERMAN Wilco</td>\n",
       "      <td>BORA - hansgrohe</td>\n",
       "      <td>30.0</td>\n",
       "      <td>8.0</td>\n",
       "    </tr>\n",
       "  </tbody>\n",
       "</table>\n",
       "</div>"
      ],
      "text/plain": [
       "             name    stage points_scale parcours_type    year  month   day  \\\n",
       "0  tour-de-france  stage-1   GT.A.Stage            p3  2021.0    6.0  26.0   \n",
       "1  tour-de-france  stage-1   GT.A.Stage            p3  2021.0    6.0  26.0   \n",
       "2  tour-de-france  stage-1   GT.A.Stage            p3  2021.0    6.0  26.0   \n",
       "3  tour-de-france  stage-1   GT.A.Stage            p3  2021.0    6.0  26.0   \n",
       "4  tour-de-france  stage-1   GT.A.Stage            p3  2021.0    6.0  26.0   \n",
       "\n",
       "       type  length  profile_score    avg_speed  vertical_meters      won_how  \\\n",
       "0  standard   197.8          109.0  42.525 km/h           2843.0  2.2 km solo   \n",
       "1  standard   197.8          109.0  42.525 km/h           2843.0  2.2 km solo   \n",
       "2  standard   197.8          109.0  42.525 km/h           2843.0  2.2 km solo   \n",
       "3  standard   197.8          109.0  42.525 km/h           2843.0  2.2 km solo   \n",
       "4  standard   197.8          109.0  42.525 km/h           2843.0  2.2 km solo   \n",
       "\n",
       "   place               rider                     team   age  time  \n",
       "0    1.0  ALAPHILIPPE Julian  Deceuninck - Quick Step  29.0   0.0  \n",
       "1    2.0    MATTHEWS Michael        Team BikeExchange  30.0   8.0  \n",
       "2    3.0       ROGLIČ Primož         Team Jumbo-Visma  31.0   8.0  \n",
       "3    4.0           HAIG Jack     Bahrain - Victorious  27.0   8.0  \n",
       "4    5.0     KELDERMAN Wilco         BORA - hansgrohe  30.0   8.0  "
      ]
     },
     "execution_count": 173,
     "metadata": {},
     "output_type": "execute_result"
    }
   ],
   "source": [
    "ratings = pd.read_csv(RATINGS_DATA_PATH)\n",
    "results = pd.read_csv(RACE_RESULTS_PATH)\n",
    "\n",
    "display(ratings.head(5))\n",
    "results.head(5)"
   ]
  },
  {
   "cell_type": "code",
   "execution_count": 174,
   "metadata": {},
   "outputs": [],
   "source": [
    "def gen_table_figure(df, title, width = 1300, height = 650):\n",
    "    \n",
    "    fig = go.Figure(\n",
    "        \n",
    "        # table data\n",
    "        data = [\n",
    "            go.Table(\n",
    "                header = dict(\n",
    "                    values = list(df.columns),\n",
    "                    font_color = 'black',\n",
    "                    fill_color = '#FF8500',\n",
    "                    align = 'center'\n",
    "                ),\n",
    "                cells = dict(\n",
    "                    values = [df.Rank, df.Rider, df.Team, df.Rating],\n",
    "                    font_color = 'black',\n",
    "                    fill_color = 'white',\n",
    "                    align = 'center'\n",
    "                )\n",
    "            )\n",
    "        ],\n",
    "        \n",
    "        # table layout settings\n",
    "        layout = go.Layout(\n",
    "            title = dict(\n",
    "                text = title,\n",
    "                x = 0.5,\n",
    "                font_color = 'black'\n",
    "            ),\n",
    "            \n",
    "            width = width,\n",
    "            height = height,\n",
    "        )\n",
    "    )\n",
    "    \n",
    "    return fig\n",
    "\n",
    "def gen_rankings_viz(ratings, results, rating_limit = 20, title = '', fname = None):\n",
    "    \"\"\"\n",
    "    Given both ranking and race results data, output a table displaying the rankings\n",
    "    in order for this race type and gender. If a filename is given with the fname\n",
    "    variable, then the image will be saved.\n",
    "    \"\"\"\n",
    "    \n",
    "    # ensure df is sorted chronologically\n",
    "    sorted_ratings = ratings.sort_values(by = ['year', 'month', 'day'])\n",
    "    \n",
    "    # get most recent ranking\n",
    "    most_recent_ratings = sorted_ratings.iloc[-1, :]\n",
    "    \n",
    "    # get date of most recent ranking and then drop date cols\n",
    "    ranking_date = date(\n",
    "        year = int(most_recent_ratings['year']),\n",
    "        month = int(most_recent_ratings['month']),\n",
    "        day = int(most_recent_ratings['day'])\n",
    "    )\n",
    "    most_recent_ratings = most_recent_ratings.drop(index = ['year', 'month', 'day'])\n",
    "    \n",
    "    # get rider names and ratings\n",
    "    riders = sorted(list(zip(\n",
    "        list(most_recent_ratings.index),\n",
    "        [round(r, 2) for r in most_recent_ratings]\n",
    "    )), key = lambda t: t[1], reverse = True)[0: rating_limit]\n",
    "    \n",
    "    # get only rider individual race days\n",
    "    indiv_race_days = results[results['type'] != 'gc']\n",
    "    \n",
    "    # get rider race days and teams\n",
    "    race_days = []\n",
    "    teams = []\n",
    "    for rider in riders:\n",
    "\n",
    "        rider_res = indiv_race_days[indiv_race_days['rider'] == rider[0]].sort_values(by = ['year', 'month', 'day'])\n",
    "        teams.append(rider_res['team'].iloc[-1])\n",
    "        \n",
    "        rider_year_df = rider_res[rider_res['year'] == ranking_date.year]\n",
    "        race_days.append(len(rider_year_df.index))\n",
    "    \n",
    "    \n",
    "    table_df = pd.DataFrame(data = {\n",
    "        'Rank': [i + 1 for i in range(len(riders))],\n",
    "        'Rider': [t[0] for t in riders],\n",
    "        'Team': teams,\n",
    "        'Rating': [t[1] for t in riders],\n",
    "    })\n",
    "    \n",
    "    fig = gen_table_figure(table_df, title)\n",
    "    \n",
    "    if fname is not None:\n",
    "        fig.write_image(f'figures/{fname}')\n",
    "    \n",
    "    return fig"
   ]
  },
  {
   "cell_type": "code",
   "execution_count": 175,
   "metadata": {
    "scrolled": false
   },
   "outputs": [
    {
     "data": {
      "application/vnd.plotly.v1+json": {
       "config": {
        "plotlyServerURL": "https://plot.ly"
       },
       "data": [
        {
         "cells": {
          "align": "center",
          "fill": {
           "color": "white"
          },
          "font": {
           "color": "black"
          },
          "values": [
           [
            1,
            2,
            3,
            4,
            5,
            6,
            7,
            8,
            9,
            10,
            11,
            12,
            13,
            14,
            15,
            16,
            17,
            18,
            19,
            20
           ],
           [
            "POGAČAR Tadej",
            "ROGLIČ Primož",
            "HINDLEY Jai",
            "VINGEGAARD Jonas",
            "CARAPAZ Richard",
            "BERNAL Egan",
            "VLASOV Aleksandr",
            "YATES Adam",
            "YATES Simon",
            "LANDA Mikel",
            "MARTÍNEZ Daniel Felipe",
            "MAS Enric",
            "PORTE Richie",
            "EVENEPOEL Remco",
            "BILBAO Pello",
            "THOMAS Geraint",
            "HAIG Jack",
            "CARUSO Damiano",
            "ALMEIDA João",
            "HIGUITA Sergio"
           ],
           [
            "UAE Team Emirates",
            "Jumbo-Visma",
            "BORA - hansgrohe",
            "Jumbo-Visma",
            "INEOS Grenadiers",
            "INEOS Grenadiers",
            "BORA - hansgrohe",
            "INEOS Grenadiers",
            "Team BikeExchange - Jayco",
            "Bahrain - Victorious",
            "INEOS Grenadiers",
            "Movistar Team",
            "INEOS Grenadiers",
            "Quick-Step Alpha Vinyl Team",
            "Bahrain - Victorious",
            "INEOS Grenadiers",
            "Bahrain - Victorious",
            "Bahrain - Victorious",
            "UAE Team Emirates",
            "BORA - hansgrohe"
           ],
           [
            1898.2,
            1809.02,
            1791.54,
            1722.25,
            1718.27,
            1710.05,
            1681.06,
            1668.66,
            1667.64,
            1664.77,
            1664.38,
            1660.39,
            1654.75,
            1631.55,
            1620.45,
            1619.7,
            1619.19,
            1618.46,
            1618.03,
            1616.15
           ]
          ]
         },
         "header": {
          "align": "center",
          "fill": {
           "color": "#FF8500"
          },
          "font": {
           "color": "black"
          },
          "values": [
           "Rank",
           "Rider",
           "Team",
           "Rating"
          ]
         },
         "type": "table"
        }
       ],
       "layout": {
        "height": 650,
        "template": {
         "data": {
          "bar": [
           {
            "error_x": {
             "color": "#2a3f5f"
            },
            "error_y": {
             "color": "#2a3f5f"
            },
            "marker": {
             "line": {
              "color": "#E5ECF6",
              "width": 0.5
             }
            },
            "type": "bar"
           }
          ],
          "barpolar": [
           {
            "marker": {
             "line": {
              "color": "#E5ECF6",
              "width": 0.5
             }
            },
            "type": "barpolar"
           }
          ],
          "carpet": [
           {
            "aaxis": {
             "endlinecolor": "#2a3f5f",
             "gridcolor": "white",
             "linecolor": "white",
             "minorgridcolor": "white",
             "startlinecolor": "#2a3f5f"
            },
            "baxis": {
             "endlinecolor": "#2a3f5f",
             "gridcolor": "white",
             "linecolor": "white",
             "minorgridcolor": "white",
             "startlinecolor": "#2a3f5f"
            },
            "type": "carpet"
           }
          ],
          "choropleth": [
           {
            "colorbar": {
             "outlinewidth": 0,
             "ticks": ""
            },
            "type": "choropleth"
           }
          ],
          "contour": [
           {
            "colorbar": {
             "outlinewidth": 0,
             "ticks": ""
            },
            "colorscale": [
             [
              0,
              "#0d0887"
             ],
             [
              0.1111111111111111,
              "#46039f"
             ],
             [
              0.2222222222222222,
              "#7201a8"
             ],
             [
              0.3333333333333333,
              "#9c179e"
             ],
             [
              0.4444444444444444,
              "#bd3786"
             ],
             [
              0.5555555555555556,
              "#d8576b"
             ],
             [
              0.6666666666666666,
              "#ed7953"
             ],
             [
              0.7777777777777778,
              "#fb9f3a"
             ],
             [
              0.8888888888888888,
              "#fdca26"
             ],
             [
              1,
              "#f0f921"
             ]
            ],
            "type": "contour"
           }
          ],
          "contourcarpet": [
           {
            "colorbar": {
             "outlinewidth": 0,
             "ticks": ""
            },
            "type": "contourcarpet"
           }
          ],
          "heatmap": [
           {
            "colorbar": {
             "outlinewidth": 0,
             "ticks": ""
            },
            "colorscale": [
             [
              0,
              "#0d0887"
             ],
             [
              0.1111111111111111,
              "#46039f"
             ],
             [
              0.2222222222222222,
              "#7201a8"
             ],
             [
              0.3333333333333333,
              "#9c179e"
             ],
             [
              0.4444444444444444,
              "#bd3786"
             ],
             [
              0.5555555555555556,
              "#d8576b"
             ],
             [
              0.6666666666666666,
              "#ed7953"
             ],
             [
              0.7777777777777778,
              "#fb9f3a"
             ],
             [
              0.8888888888888888,
              "#fdca26"
             ],
             [
              1,
              "#f0f921"
             ]
            ],
            "type": "heatmap"
           }
          ],
          "heatmapgl": [
           {
            "colorbar": {
             "outlinewidth": 0,
             "ticks": ""
            },
            "colorscale": [
             [
              0,
              "#0d0887"
             ],
             [
              0.1111111111111111,
              "#46039f"
             ],
             [
              0.2222222222222222,
              "#7201a8"
             ],
             [
              0.3333333333333333,
              "#9c179e"
             ],
             [
              0.4444444444444444,
              "#bd3786"
             ],
             [
              0.5555555555555556,
              "#d8576b"
             ],
             [
              0.6666666666666666,
              "#ed7953"
             ],
             [
              0.7777777777777778,
              "#fb9f3a"
             ],
             [
              0.8888888888888888,
              "#fdca26"
             ],
             [
              1,
              "#f0f921"
             ]
            ],
            "type": "heatmapgl"
           }
          ],
          "histogram": [
           {
            "marker": {
             "colorbar": {
              "outlinewidth": 0,
              "ticks": ""
             }
            },
            "type": "histogram"
           }
          ],
          "histogram2d": [
           {
            "colorbar": {
             "outlinewidth": 0,
             "ticks": ""
            },
            "colorscale": [
             [
              0,
              "#0d0887"
             ],
             [
              0.1111111111111111,
              "#46039f"
             ],
             [
              0.2222222222222222,
              "#7201a8"
             ],
             [
              0.3333333333333333,
              "#9c179e"
             ],
             [
              0.4444444444444444,
              "#bd3786"
             ],
             [
              0.5555555555555556,
              "#d8576b"
             ],
             [
              0.6666666666666666,
              "#ed7953"
             ],
             [
              0.7777777777777778,
              "#fb9f3a"
             ],
             [
              0.8888888888888888,
              "#fdca26"
             ],
             [
              1,
              "#f0f921"
             ]
            ],
            "type": "histogram2d"
           }
          ],
          "histogram2dcontour": [
           {
            "colorbar": {
             "outlinewidth": 0,
             "ticks": ""
            },
            "colorscale": [
             [
              0,
              "#0d0887"
             ],
             [
              0.1111111111111111,
              "#46039f"
             ],
             [
              0.2222222222222222,
              "#7201a8"
             ],
             [
              0.3333333333333333,
              "#9c179e"
             ],
             [
              0.4444444444444444,
              "#bd3786"
             ],
             [
              0.5555555555555556,
              "#d8576b"
             ],
             [
              0.6666666666666666,
              "#ed7953"
             ],
             [
              0.7777777777777778,
              "#fb9f3a"
             ],
             [
              0.8888888888888888,
              "#fdca26"
             ],
             [
              1,
              "#f0f921"
             ]
            ],
            "type": "histogram2dcontour"
           }
          ],
          "mesh3d": [
           {
            "colorbar": {
             "outlinewidth": 0,
             "ticks": ""
            },
            "type": "mesh3d"
           }
          ],
          "parcoords": [
           {
            "line": {
             "colorbar": {
              "outlinewidth": 0,
              "ticks": ""
             }
            },
            "type": "parcoords"
           }
          ],
          "pie": [
           {
            "automargin": true,
            "type": "pie"
           }
          ],
          "scatter": [
           {
            "marker": {
             "colorbar": {
              "outlinewidth": 0,
              "ticks": ""
             }
            },
            "type": "scatter"
           }
          ],
          "scatter3d": [
           {
            "line": {
             "colorbar": {
              "outlinewidth": 0,
              "ticks": ""
             }
            },
            "marker": {
             "colorbar": {
              "outlinewidth": 0,
              "ticks": ""
             }
            },
            "type": "scatter3d"
           }
          ],
          "scattercarpet": [
           {
            "marker": {
             "colorbar": {
              "outlinewidth": 0,
              "ticks": ""
             }
            },
            "type": "scattercarpet"
           }
          ],
          "scattergeo": [
           {
            "marker": {
             "colorbar": {
              "outlinewidth": 0,
              "ticks": ""
             }
            },
            "type": "scattergeo"
           }
          ],
          "scattergl": [
           {
            "marker": {
             "colorbar": {
              "outlinewidth": 0,
              "ticks": ""
             }
            },
            "type": "scattergl"
           }
          ],
          "scattermapbox": [
           {
            "marker": {
             "colorbar": {
              "outlinewidth": 0,
              "ticks": ""
             }
            },
            "type": "scattermapbox"
           }
          ],
          "scatterpolar": [
           {
            "marker": {
             "colorbar": {
              "outlinewidth": 0,
              "ticks": ""
             }
            },
            "type": "scatterpolar"
           }
          ],
          "scatterpolargl": [
           {
            "marker": {
             "colorbar": {
              "outlinewidth": 0,
              "ticks": ""
             }
            },
            "type": "scatterpolargl"
           }
          ],
          "scatterternary": [
           {
            "marker": {
             "colorbar": {
              "outlinewidth": 0,
              "ticks": ""
             }
            },
            "type": "scatterternary"
           }
          ],
          "surface": [
           {
            "colorbar": {
             "outlinewidth": 0,
             "ticks": ""
            },
            "colorscale": [
             [
              0,
              "#0d0887"
             ],
             [
              0.1111111111111111,
              "#46039f"
             ],
             [
              0.2222222222222222,
              "#7201a8"
             ],
             [
              0.3333333333333333,
              "#9c179e"
             ],
             [
              0.4444444444444444,
              "#bd3786"
             ],
             [
              0.5555555555555556,
              "#d8576b"
             ],
             [
              0.6666666666666666,
              "#ed7953"
             ],
             [
              0.7777777777777778,
              "#fb9f3a"
             ],
             [
              0.8888888888888888,
              "#fdca26"
             ],
             [
              1,
              "#f0f921"
             ]
            ],
            "type": "surface"
           }
          ],
          "table": [
           {
            "cells": {
             "fill": {
              "color": "#EBF0F8"
             },
             "line": {
              "color": "white"
             }
            },
            "header": {
             "fill": {
              "color": "#C8D4E3"
             },
             "line": {
              "color": "white"
             }
            },
            "type": "table"
           }
          ]
         },
         "layout": {
          "annotationdefaults": {
           "arrowcolor": "#2a3f5f",
           "arrowhead": 0,
           "arrowwidth": 1
          },
          "coloraxis": {
           "colorbar": {
            "outlinewidth": 0,
            "ticks": ""
           }
          },
          "colorscale": {
           "diverging": [
            [
             0,
             "#8e0152"
            ],
            [
             0.1,
             "#c51b7d"
            ],
            [
             0.2,
             "#de77ae"
            ],
            [
             0.3,
             "#f1b6da"
            ],
            [
             0.4,
             "#fde0ef"
            ],
            [
             0.5,
             "#f7f7f7"
            ],
            [
             0.6,
             "#e6f5d0"
            ],
            [
             0.7,
             "#b8e186"
            ],
            [
             0.8,
             "#7fbc41"
            ],
            [
             0.9,
             "#4d9221"
            ],
            [
             1,
             "#276419"
            ]
           ],
           "sequential": [
            [
             0,
             "#0d0887"
            ],
            [
             0.1111111111111111,
             "#46039f"
            ],
            [
             0.2222222222222222,
             "#7201a8"
            ],
            [
             0.3333333333333333,
             "#9c179e"
            ],
            [
             0.4444444444444444,
             "#bd3786"
            ],
            [
             0.5555555555555556,
             "#d8576b"
            ],
            [
             0.6666666666666666,
             "#ed7953"
            ],
            [
             0.7777777777777778,
             "#fb9f3a"
            ],
            [
             0.8888888888888888,
             "#fdca26"
            ],
            [
             1,
             "#f0f921"
            ]
           ],
           "sequentialminus": [
            [
             0,
             "#0d0887"
            ],
            [
             0.1111111111111111,
             "#46039f"
            ],
            [
             0.2222222222222222,
             "#7201a8"
            ],
            [
             0.3333333333333333,
             "#9c179e"
            ],
            [
             0.4444444444444444,
             "#bd3786"
            ],
            [
             0.5555555555555556,
             "#d8576b"
            ],
            [
             0.6666666666666666,
             "#ed7953"
            ],
            [
             0.7777777777777778,
             "#fb9f3a"
            ],
            [
             0.8888888888888888,
             "#fdca26"
            ],
            [
             1,
             "#f0f921"
            ]
           ]
          },
          "colorway": [
           "#636efa",
           "#EF553B",
           "#00cc96",
           "#ab63fa",
           "#FFA15A",
           "#19d3f3",
           "#FF6692",
           "#B6E880",
           "#FF97FF",
           "#FECB52"
          ],
          "font": {
           "color": "#2a3f5f"
          },
          "geo": {
           "bgcolor": "white",
           "lakecolor": "white",
           "landcolor": "#E5ECF6",
           "showlakes": true,
           "showland": true,
           "subunitcolor": "white"
          },
          "hoverlabel": {
           "align": "left"
          },
          "hovermode": "closest",
          "mapbox": {
           "style": "light"
          },
          "paper_bgcolor": "white",
          "plot_bgcolor": "#E5ECF6",
          "polar": {
           "angularaxis": {
            "gridcolor": "white",
            "linecolor": "white",
            "ticks": ""
           },
           "bgcolor": "#E5ECF6",
           "radialaxis": {
            "gridcolor": "white",
            "linecolor": "white",
            "ticks": ""
           }
          },
          "scene": {
           "xaxis": {
            "backgroundcolor": "#E5ECF6",
            "gridcolor": "white",
            "gridwidth": 2,
            "linecolor": "white",
            "showbackground": true,
            "ticks": "",
            "zerolinecolor": "white"
           },
           "yaxis": {
            "backgroundcolor": "#E5ECF6",
            "gridcolor": "white",
            "gridwidth": 2,
            "linecolor": "white",
            "showbackground": true,
            "ticks": "",
            "zerolinecolor": "white"
           },
           "zaxis": {
            "backgroundcolor": "#E5ECF6",
            "gridcolor": "white",
            "gridwidth": 2,
            "linecolor": "white",
            "showbackground": true,
            "ticks": "",
            "zerolinecolor": "white"
           }
          },
          "shapedefaults": {
           "line": {
            "color": "#2a3f5f"
           }
          },
          "ternary": {
           "aaxis": {
            "gridcolor": "white",
            "linecolor": "white",
            "ticks": ""
           },
           "baxis": {
            "gridcolor": "white",
            "linecolor": "white",
            "ticks": ""
           },
           "bgcolor": "#E5ECF6",
           "caxis": {
            "gridcolor": "white",
            "linecolor": "white",
            "ticks": ""
           }
          },
          "title": {
           "x": 0.05
          },
          "xaxis": {
           "automargin": true,
           "gridcolor": "white",
           "linecolor": "white",
           "ticks": "",
           "title": {
            "standoff": 15
           },
           "zerolinecolor": "white",
           "zerolinewidth": 2
          },
          "yaxis": {
           "automargin": true,
           "gridcolor": "white",
           "linecolor": "white",
           "ticks": "",
           "title": {
            "standoff": 15
           },
           "zerolinecolor": "white",
           "zerolinewidth": 2
          }
         }
        },
        "title": {
         "font": {
          "color": "black"
         },
         "text": "Gc Elo Ranking",
         "x": 0.5
        },
        "width": 1300
       }
      },
      "text/html": [
       "<div>                            <div id=\"1aaf1713-6ecc-44ed-b868-a49ed7a827cd\" class=\"plotly-graph-div\" style=\"height:650px; width:1300px;\"></div>            <script type=\"text/javascript\">                require([\"plotly\"], function(Plotly) {                    window.PLOTLYENV=window.PLOTLYENV || {};                                    if (document.getElementById(\"1aaf1713-6ecc-44ed-b868-a49ed7a827cd\")) {                    Plotly.newPlot(                        \"1aaf1713-6ecc-44ed-b868-a49ed7a827cd\",                        [{\"cells\": {\"align\": \"center\", \"fill\": {\"color\": \"white\"}, \"font\": {\"color\": \"black\"}, \"values\": [[1, 2, 3, 4, 5, 6, 7, 8, 9, 10, 11, 12, 13, 14, 15, 16, 17, 18, 19, 20], [\"POGA\\u010cAR Tadej\", \"ROGLI\\u010c Primo\\u017e\", \"HINDLEY Jai\", \"VINGEGAARD Jonas\", \"CARAPAZ Richard\", \"BERNAL Egan\", \"VLASOV Aleksandr\", \"YATES Adam\", \"YATES Simon\", \"LANDA Mikel\", \"MART\\u00cdNEZ Daniel Felipe\", \"MAS Enric\", \"PORTE Richie\", \"EVENEPOEL Remco\", \"BILBAO Pello\", \"THOMAS Geraint\", \"HAIG Jack\", \"CARUSO Damiano\", \"ALMEIDA Jo\\u00e3o\", \"HIGUITA Sergio\"], [\"UAE Team Emirates\", \"Jumbo-Visma\", \"BORA - hansgrohe\", \"Jumbo-Visma\", \"INEOS Grenadiers\", \"INEOS Grenadiers\", \"BORA - hansgrohe\", \"INEOS Grenadiers\", \"Team BikeExchange - Jayco\", \"Bahrain - Victorious\", \"INEOS Grenadiers\", \"Movistar Team\", \"INEOS Grenadiers\", \"Quick-Step Alpha Vinyl Team\", \"Bahrain - Victorious\", \"INEOS Grenadiers\", \"Bahrain - Victorious\", \"Bahrain - Victorious\", \"UAE Team Emirates\", \"BORA - hansgrohe\"], [1898.2, 1809.02, 1791.54, 1722.25, 1718.27, 1710.05, 1681.06, 1668.66, 1667.64, 1664.77, 1664.38, 1660.39, 1654.75, 1631.55, 1620.45, 1619.7, 1619.19, 1618.46, 1618.03, 1616.15]]}, \"header\": {\"align\": \"center\", \"fill\": {\"color\": \"#FF8500\"}, \"font\": {\"color\": \"black\"}, \"values\": [\"Rank\", \"Rider\", \"Team\", \"Rating\"]}, \"type\": \"table\"}],                        {\"height\": 650, \"template\": {\"data\": {\"bar\": [{\"error_x\": {\"color\": \"#2a3f5f\"}, \"error_y\": {\"color\": \"#2a3f5f\"}, \"marker\": {\"line\": {\"color\": \"#E5ECF6\", \"width\": 0.5}}, \"type\": \"bar\"}], \"barpolar\": [{\"marker\": {\"line\": {\"color\": \"#E5ECF6\", \"width\": 0.5}}, \"type\": \"barpolar\"}], \"carpet\": [{\"aaxis\": {\"endlinecolor\": \"#2a3f5f\", \"gridcolor\": \"white\", \"linecolor\": \"white\", \"minorgridcolor\": \"white\", \"startlinecolor\": \"#2a3f5f\"}, \"baxis\": {\"endlinecolor\": \"#2a3f5f\", \"gridcolor\": \"white\", \"linecolor\": \"white\", \"minorgridcolor\": \"white\", \"startlinecolor\": \"#2a3f5f\"}, \"type\": \"carpet\"}], \"choropleth\": [{\"colorbar\": {\"outlinewidth\": 0, \"ticks\": \"\"}, \"type\": \"choropleth\"}], \"contour\": [{\"colorbar\": {\"outlinewidth\": 0, \"ticks\": \"\"}, \"colorscale\": [[0.0, \"#0d0887\"], [0.1111111111111111, \"#46039f\"], [0.2222222222222222, \"#7201a8\"], [0.3333333333333333, \"#9c179e\"], [0.4444444444444444, \"#bd3786\"], [0.5555555555555556, \"#d8576b\"], [0.6666666666666666, \"#ed7953\"], [0.7777777777777778, \"#fb9f3a\"], [0.8888888888888888, \"#fdca26\"], [1.0, \"#f0f921\"]], \"type\": \"contour\"}], \"contourcarpet\": [{\"colorbar\": {\"outlinewidth\": 0, \"ticks\": \"\"}, \"type\": \"contourcarpet\"}], \"heatmap\": [{\"colorbar\": {\"outlinewidth\": 0, \"ticks\": \"\"}, \"colorscale\": [[0.0, \"#0d0887\"], [0.1111111111111111, \"#46039f\"], [0.2222222222222222, \"#7201a8\"], [0.3333333333333333, \"#9c179e\"], [0.4444444444444444, \"#bd3786\"], [0.5555555555555556, \"#d8576b\"], [0.6666666666666666, \"#ed7953\"], [0.7777777777777778, \"#fb9f3a\"], [0.8888888888888888, \"#fdca26\"], [1.0, \"#f0f921\"]], \"type\": \"heatmap\"}], \"heatmapgl\": [{\"colorbar\": {\"outlinewidth\": 0, \"ticks\": \"\"}, \"colorscale\": [[0.0, \"#0d0887\"], [0.1111111111111111, \"#46039f\"], [0.2222222222222222, \"#7201a8\"], [0.3333333333333333, \"#9c179e\"], [0.4444444444444444, \"#bd3786\"], [0.5555555555555556, \"#d8576b\"], [0.6666666666666666, \"#ed7953\"], [0.7777777777777778, \"#fb9f3a\"], [0.8888888888888888, \"#fdca26\"], [1.0, \"#f0f921\"]], \"type\": \"heatmapgl\"}], \"histogram\": [{\"marker\": {\"colorbar\": {\"outlinewidth\": 0, \"ticks\": \"\"}}, \"type\": \"histogram\"}], \"histogram2d\": [{\"colorbar\": {\"outlinewidth\": 0, \"ticks\": \"\"}, \"colorscale\": [[0.0, \"#0d0887\"], [0.1111111111111111, \"#46039f\"], [0.2222222222222222, \"#7201a8\"], [0.3333333333333333, \"#9c179e\"], [0.4444444444444444, \"#bd3786\"], [0.5555555555555556, \"#d8576b\"], [0.6666666666666666, \"#ed7953\"], [0.7777777777777778, \"#fb9f3a\"], [0.8888888888888888, \"#fdca26\"], [1.0, \"#f0f921\"]], \"type\": \"histogram2d\"}], \"histogram2dcontour\": [{\"colorbar\": {\"outlinewidth\": 0, \"ticks\": \"\"}, \"colorscale\": [[0.0, \"#0d0887\"], [0.1111111111111111, \"#46039f\"], [0.2222222222222222, \"#7201a8\"], [0.3333333333333333, \"#9c179e\"], [0.4444444444444444, \"#bd3786\"], [0.5555555555555556, \"#d8576b\"], [0.6666666666666666, \"#ed7953\"], [0.7777777777777778, \"#fb9f3a\"], [0.8888888888888888, \"#fdca26\"], [1.0, \"#f0f921\"]], \"type\": \"histogram2dcontour\"}], \"mesh3d\": [{\"colorbar\": {\"outlinewidth\": 0, \"ticks\": \"\"}, \"type\": \"mesh3d\"}], \"parcoords\": [{\"line\": {\"colorbar\": {\"outlinewidth\": 0, \"ticks\": \"\"}}, \"type\": \"parcoords\"}], \"pie\": [{\"automargin\": true, \"type\": \"pie\"}], \"scatter\": [{\"marker\": {\"colorbar\": {\"outlinewidth\": 0, \"ticks\": \"\"}}, \"type\": \"scatter\"}], \"scatter3d\": [{\"line\": {\"colorbar\": {\"outlinewidth\": 0, \"ticks\": \"\"}}, \"marker\": {\"colorbar\": {\"outlinewidth\": 0, \"ticks\": \"\"}}, \"type\": \"scatter3d\"}], \"scattercarpet\": [{\"marker\": {\"colorbar\": {\"outlinewidth\": 0, \"ticks\": \"\"}}, \"type\": \"scattercarpet\"}], \"scattergeo\": [{\"marker\": {\"colorbar\": {\"outlinewidth\": 0, \"ticks\": \"\"}}, \"type\": \"scattergeo\"}], \"scattergl\": [{\"marker\": {\"colorbar\": {\"outlinewidth\": 0, \"ticks\": \"\"}}, \"type\": \"scattergl\"}], \"scattermapbox\": [{\"marker\": {\"colorbar\": {\"outlinewidth\": 0, \"ticks\": \"\"}}, \"type\": \"scattermapbox\"}], \"scatterpolar\": [{\"marker\": {\"colorbar\": {\"outlinewidth\": 0, \"ticks\": \"\"}}, \"type\": \"scatterpolar\"}], \"scatterpolargl\": [{\"marker\": {\"colorbar\": {\"outlinewidth\": 0, \"ticks\": \"\"}}, \"type\": \"scatterpolargl\"}], \"scatterternary\": [{\"marker\": {\"colorbar\": {\"outlinewidth\": 0, \"ticks\": \"\"}}, \"type\": \"scatterternary\"}], \"surface\": [{\"colorbar\": {\"outlinewidth\": 0, \"ticks\": \"\"}, \"colorscale\": [[0.0, \"#0d0887\"], [0.1111111111111111, \"#46039f\"], [0.2222222222222222, \"#7201a8\"], [0.3333333333333333, \"#9c179e\"], [0.4444444444444444, \"#bd3786\"], [0.5555555555555556, \"#d8576b\"], [0.6666666666666666, \"#ed7953\"], [0.7777777777777778, \"#fb9f3a\"], [0.8888888888888888, \"#fdca26\"], [1.0, \"#f0f921\"]], \"type\": \"surface\"}], \"table\": [{\"cells\": {\"fill\": {\"color\": \"#EBF0F8\"}, \"line\": {\"color\": \"white\"}}, \"header\": {\"fill\": {\"color\": \"#C8D4E3\"}, \"line\": {\"color\": \"white\"}}, \"type\": \"table\"}]}, \"layout\": {\"annotationdefaults\": {\"arrowcolor\": \"#2a3f5f\", \"arrowhead\": 0, \"arrowwidth\": 1}, \"coloraxis\": {\"colorbar\": {\"outlinewidth\": 0, \"ticks\": \"\"}}, \"colorscale\": {\"diverging\": [[0, \"#8e0152\"], [0.1, \"#c51b7d\"], [0.2, \"#de77ae\"], [0.3, \"#f1b6da\"], [0.4, \"#fde0ef\"], [0.5, \"#f7f7f7\"], [0.6, \"#e6f5d0\"], [0.7, \"#b8e186\"], [0.8, \"#7fbc41\"], [0.9, \"#4d9221\"], [1, \"#276419\"]], \"sequential\": [[0.0, \"#0d0887\"], [0.1111111111111111, \"#46039f\"], [0.2222222222222222, \"#7201a8\"], [0.3333333333333333, \"#9c179e\"], [0.4444444444444444, \"#bd3786\"], [0.5555555555555556, \"#d8576b\"], [0.6666666666666666, \"#ed7953\"], [0.7777777777777778, \"#fb9f3a\"], [0.8888888888888888, \"#fdca26\"], [1.0, \"#f0f921\"]], \"sequentialminus\": [[0.0, \"#0d0887\"], [0.1111111111111111, \"#46039f\"], [0.2222222222222222, \"#7201a8\"], [0.3333333333333333, \"#9c179e\"], [0.4444444444444444, \"#bd3786\"], [0.5555555555555556, \"#d8576b\"], [0.6666666666666666, \"#ed7953\"], [0.7777777777777778, \"#fb9f3a\"], [0.8888888888888888, \"#fdca26\"], [1.0, \"#f0f921\"]]}, \"colorway\": [\"#636efa\", \"#EF553B\", \"#00cc96\", \"#ab63fa\", \"#FFA15A\", \"#19d3f3\", \"#FF6692\", \"#B6E880\", \"#FF97FF\", \"#FECB52\"], \"font\": {\"color\": \"#2a3f5f\"}, \"geo\": {\"bgcolor\": \"white\", \"lakecolor\": \"white\", \"landcolor\": \"#E5ECF6\", \"showlakes\": true, \"showland\": true, \"subunitcolor\": \"white\"}, \"hoverlabel\": {\"align\": \"left\"}, \"hovermode\": \"closest\", \"mapbox\": {\"style\": \"light\"}, \"paper_bgcolor\": \"white\", \"plot_bgcolor\": \"#E5ECF6\", \"polar\": {\"angularaxis\": {\"gridcolor\": \"white\", \"linecolor\": \"white\", \"ticks\": \"\"}, \"bgcolor\": \"#E5ECF6\", \"radialaxis\": {\"gridcolor\": \"white\", \"linecolor\": \"white\", \"ticks\": \"\"}}, \"scene\": {\"xaxis\": {\"backgroundcolor\": \"#E5ECF6\", \"gridcolor\": \"white\", \"gridwidth\": 2, \"linecolor\": \"white\", \"showbackground\": true, \"ticks\": \"\", \"zerolinecolor\": \"white\"}, \"yaxis\": {\"backgroundcolor\": \"#E5ECF6\", \"gridcolor\": \"white\", \"gridwidth\": 2, \"linecolor\": \"white\", \"showbackground\": true, \"ticks\": \"\", \"zerolinecolor\": \"white\"}, \"zaxis\": {\"backgroundcolor\": \"#E5ECF6\", \"gridcolor\": \"white\", \"gridwidth\": 2, \"linecolor\": \"white\", \"showbackground\": true, \"ticks\": \"\", \"zerolinecolor\": \"white\"}}, \"shapedefaults\": {\"line\": {\"color\": \"#2a3f5f\"}}, \"ternary\": {\"aaxis\": {\"gridcolor\": \"white\", \"linecolor\": \"white\", \"ticks\": \"\"}, \"baxis\": {\"gridcolor\": \"white\", \"linecolor\": \"white\", \"ticks\": \"\"}, \"bgcolor\": \"#E5ECF6\", \"caxis\": {\"gridcolor\": \"white\", \"linecolor\": \"white\", \"ticks\": \"\"}}, \"title\": {\"x\": 0.05}, \"xaxis\": {\"automargin\": true, \"gridcolor\": \"white\", \"linecolor\": \"white\", \"ticks\": \"\", \"title\": {\"standoff\": 15}, \"zerolinecolor\": \"white\", \"zerolinewidth\": 2}, \"yaxis\": {\"automargin\": true, \"gridcolor\": \"white\", \"linecolor\": \"white\", \"ticks\": \"\", \"title\": {\"standoff\": 15}, \"zerolinecolor\": \"white\", \"zerolinewidth\": 2}}}, \"title\": {\"font\": {\"color\": \"black\"}, \"text\": \"Gc Elo Ranking\", \"x\": 0.5}, \"width\": 1300},                        {\"responsive\": true}                    ).then(function(){\n",
       "                            \n",
       "var gd = document.getElementById('1aaf1713-6ecc-44ed-b868-a49ed7a827cd');\n",
       "var x = new MutationObserver(function (mutations, observer) {{\n",
       "        var display = window.getComputedStyle(gd).display;\n",
       "        if (!display || display === 'none') {{\n",
       "            console.log([gd, 'removed!']);\n",
       "            Plotly.purge(gd);\n",
       "            observer.disconnect();\n",
       "        }}\n",
       "}});\n",
       "\n",
       "// Listen for the removal of the full notebook cells\n",
       "var notebookContainer = gd.closest('#notebook-container');\n",
       "if (notebookContainer) {{\n",
       "    x.observe(notebookContainer, {childList: true});\n",
       "}}\n",
       "\n",
       "// Listen for the clearing of the current output cell\n",
       "var outputEl = gd.closest('.output');\n",
       "if (outputEl) {{\n",
       "    x.observe(outputEl, {childList: true});\n",
       "}}\n",
       "\n",
       "                        })                };                });            </script>        </div>"
      ]
     },
     "metadata": {},
     "output_type": "display_data"
    }
   ],
   "source": [
    "# ===== generate and save most recent rankings for RACE_TYPE ===== #\n",
    "curr_date = datetime.today().strftime('%Y%m%d')\n",
    "fname = f'{RACE_TYPE.lower()}-{GENDER}-{curr_date}.png'\n",
    "gen_rankings_viz(ratings, results, title = f'{RACE_TYPE.title()} Elo Ranking', fname = fname)"
   ]
  },
  {
   "cell_type": "code",
   "execution_count": 176,
   "metadata": {},
   "outputs": [],
   "source": [
    "def get_startlist(name, year):\n",
    "    \"\"\"\n",
    "    Given the name of a race and the year, return a list of riders on the startlist\n",
    "    for the race.\n",
    "    \n",
    "    NOTE: name param must be given in the format which ProCyclingStats uses in its\n",
    "    links. For example, if you'd like the startlist for the Tour de Suisse, you would\n",
    "    given 'tour-de-suisse' as the name param.\n",
    "    \"\"\"\n",
    "    \n",
    "    # get page html\n",
    "    link = f'https://www.procyclingstats.com/race/{name}/{year}/gc/startlist'\n",
    "    page = requests.get(link)\n",
    "    soup = BeautifulSoup(page.content, 'html.parser')\n",
    "    \n",
    "    # get the riders from each team starting the race\n",
    "    teams = {}\n",
    "    lis = soup.find_all('li', class_ = 'team')\n",
    "    for li in lis:\n",
    "        team = li.find_all('a')[0].text\n",
    "        uls = li.find_all('ul')[0]\n",
    "        roster = [rider.find_all('a')[0].text for rider in uls.find_all('li')]\n",
    "        teams[team] = roster\n",
    "    \n",
    "    # return the startlist as a list of rider names\n",
    "    startlist = [rider for team in teams for rider in teams[team]]\n",
    "    return startlist"
   ]
  },
  {
   "cell_type": "code",
   "execution_count": 177,
   "metadata": {},
   "outputs": [],
   "source": [
    "def gen_lolli_plot(startlist_ratings, startlist, race_name, rating_type, year, width = 1000, height = 750):\n",
    "    \"\"\"\n",
    "    Given the starlist for a race, output a lollipop plot ranking the riders\n",
    "    by their Elo rating.\n",
    "    \"\"\"\n",
    "    \n",
    "    # get the rating for each rider in the order that they appear in startlist\n",
    "    ratings = [startlist_ratings[rider].iloc[-1] for rider in startlist]\n",
    "    \n",
    "    fig = go.Figure()\n",
    "    \n",
    "    # add a line for each rider in the given startlist\n",
    "    for i in range(0, len(startlist)):\n",
    "        fig.add_shape(\n",
    "            type = 'line',\n",
    "            \n",
    "            # x and y coordinates determine the length of the line\n",
    "            x0 = min(ratings) - 50,\n",
    "            y0 = i,\n",
    "            x1 = list(reversed(ratings))[i],\n",
    "            y1 = i,\n",
    "\n",
    "            line = dict(color = 'darkblue', width = 3)\n",
    "        )\n",
    "    \n",
    "    # rider ratings are effectively a scatterplot, with rider name as the y axis\n",
    "    ratings_rev = [round(r, 2) for r in list(reversed(ratings))]\n",
    "    riders_rev = list(reversed(startlist))\n",
    "    fig.add_trace(\n",
    "        go.Scatter(\n",
    "            x = ratings_rev, \n",
    "            y = riders_rev,\n",
    "            text = ratings_rev,\n",
    "            mode = 'markers+text',\n",
    "            marker_color = 'darkblue',\n",
    "            marker_size = 14,\n",
    "            textposition = 'top center'\n",
    "    ))\n",
    "    \n",
    "    # ensure the race name to be ranked is formatted properly\n",
    "    race_name = race_name.replace('-', ' ').title()\n",
    "    \n",
    "    # update the layout of the plot to add finishing touches\n",
    "    fig.update_layout(\n",
    "        title = dict(\n",
    "            text = f'{race_name} {year} {rating_type} Contenders',\n",
    "            x = 0.5,\n",
    "            y = 0.9,\n",
    "            font_color = 'black'\n",
    "        ),\n",
    "        \n",
    "        width = width,\n",
    "        height = height,\n",
    "        \n",
    "        paper_bgcolor = 'white',\n",
    "        plot_bgcolor = 'white',\n",
    "        xaxis = dict(showgrid = False),\n",
    "        yaxis = dict(showgrid = False)\n",
    "    )\n",
    "\n",
    "    return fig\n",
    "\n",
    "def plot_startlist_timeseries(ratings, given_startlist, race_name, \n",
    "            year, rating_type, fname = None, riders_to_plot = 20):\n",
    "    \"\"\"\n",
    "    Driver method for generating the lolliplop plot from the given startlist of a race. Can be applied\n",
    "    to the Elo ratings of all riders (not just the startlist of a given race) if given_startlist is None.\n",
    "    \n",
    "    As with the table above, the figure can be saved if a filename is given using the fname param.\n",
    "    \"\"\"\n",
    "    \n",
    "    if given_startlist is None:\n",
    "        given_startlist = [col for col in ratings.columns if col not in ['year', 'month', 'day']]\n",
    "    \n",
    "    # adjust the given Elo ratings to include only the ratings of the top riders in the startlist\n",
    "    startlist = [rider for rider in given_startlist if rider in ratings.columns]\n",
    "    startlist.sort(key = lambda rider: ratings.iloc[-1, :].loc[rider], reverse = True)\n",
    "    startlist = startlist[0: riders_to_plot]\n",
    "    startlist_ratings = ratings[['year', 'month', 'day'] + startlist]\n",
    "    \n",
    "    # generate lollipop figure\n",
    "    fig = gen_lolli_plot(startlist_ratings, startlist, race_name, rating_type, year)\n",
    "    \n",
    "    if fname is not None:\n",
    "        fig.write_image(f'figures/{fname}')\n",
    "    \n",
    "    return fig"
   ]
  },
  {
   "cell_type": "code",
   "execution_count": 178,
   "metadata": {},
   "outputs": [
    {
     "data": {
      "application/vnd.plotly.v1+json": {
       "config": {
        "plotlyServerURL": "https://plot.ly"
       },
       "data": [
        {
         "marker": {
          "color": "darkblue",
          "size": 14
         },
         "mode": "markers+text",
         "text": [
          "1553.16",
          "1558.75",
          "1561.6",
          "1566.1",
          "1579.28",
          "1582.64",
          "1594.24",
          "1597.22",
          "1609.28",
          "1616.15",
          "1619.7",
          "1631.55",
          "1664.38",
          "1668.66",
          "1681.06"
         ],
         "textposition": "top center",
         "type": "scatter",
         "x": [
          1553.16,
          1558.75,
          1561.6,
          1566.1,
          1579.28,
          1582.64,
          1594.24,
          1597.22,
          1609.28,
          1616.15,
          1619.7,
          1631.55,
          1664.38,
          1668.66,
          1681.06
         ],
         "y": [
          "KUSS Sepp",
          "POZZOVIVO Domenico",
          "SOLER Marc",
          "PINOT Thibaut",
          "MÄDER Gino",
          "FUGLSANG Jakob",
          "IZAGIRRE Ion",
          "LUTSENKO Alexey",
          "SCHACHMANN Maximilian",
          "HIGUITA Sergio",
          "THOMAS Geraint",
          "EVENEPOEL Remco",
          "MARTÍNEZ Daniel Felipe",
          "YATES Adam",
          "VLASOV Aleksandr"
         ]
        }
       ],
       "layout": {
        "height": 750,
        "paper_bgcolor": "white",
        "plot_bgcolor": "white",
        "shapes": [
         {
          "line": {
           "color": "darkblue",
           "width": 3
          },
          "type": "line",
          "x0": 1503.1625752131101,
          "x1": 1553.1625752131101,
          "y0": 0,
          "y1": 0
         },
         {
          "line": {
           "color": "darkblue",
           "width": 3
          },
          "type": "line",
          "x0": 1503.1625752131101,
          "x1": 1558.7478602385947,
          "y0": 1,
          "y1": 1
         },
         {
          "line": {
           "color": "darkblue",
           "width": 3
          },
          "type": "line",
          "x0": 1503.1625752131101,
          "x1": 1561.5968063754815,
          "y0": 2,
          "y1": 2
         },
         {
          "line": {
           "color": "darkblue",
           "width": 3
          },
          "type": "line",
          "x0": 1503.1625752131101,
          "x1": 1566.0976494941376,
          "y0": 3,
          "y1": 3
         },
         {
          "line": {
           "color": "darkblue",
           "width": 3
          },
          "type": "line",
          "x0": 1503.1625752131101,
          "x1": 1579.278415046623,
          "y0": 4,
          "y1": 4
         },
         {
          "line": {
           "color": "darkblue",
           "width": 3
          },
          "type": "line",
          "x0": 1503.1625752131101,
          "x1": 1582.6428874940573,
          "y0": 5,
          "y1": 5
         },
         {
          "line": {
           "color": "darkblue",
           "width": 3
          },
          "type": "line",
          "x0": 1503.1625752131101,
          "x1": 1594.2364015035237,
          "y0": 6,
          "y1": 6
         },
         {
          "line": {
           "color": "darkblue",
           "width": 3
          },
          "type": "line",
          "x0": 1503.1625752131101,
          "x1": 1597.2230655619348,
          "y0": 7,
          "y1": 7
         },
         {
          "line": {
           "color": "darkblue",
           "width": 3
          },
          "type": "line",
          "x0": 1503.1625752131101,
          "x1": 1609.2789248349516,
          "y0": 8,
          "y1": 8
         },
         {
          "line": {
           "color": "darkblue",
           "width": 3
          },
          "type": "line",
          "x0": 1503.1625752131101,
          "x1": 1616.1462441898175,
          "y0": 9,
          "y1": 9
         },
         {
          "line": {
           "color": "darkblue",
           "width": 3
          },
          "type": "line",
          "x0": 1503.1625752131101,
          "x1": 1619.7036792962624,
          "y0": 10,
          "y1": 10
         },
         {
          "line": {
           "color": "darkblue",
           "width": 3
          },
          "type": "line",
          "x0": 1503.1625752131101,
          "x1": 1631.552229605261,
          "y0": 11,
          "y1": 11
         },
         {
          "line": {
           "color": "darkblue",
           "width": 3
          },
          "type": "line",
          "x0": 1503.1625752131101,
          "x1": 1664.3824694253738,
          "y0": 12,
          "y1": 12
         },
         {
          "line": {
           "color": "darkblue",
           "width": 3
          },
          "type": "line",
          "x0": 1503.1625752131101,
          "x1": 1668.6551335596735,
          "y0": 13,
          "y1": 13
         },
         {
          "line": {
           "color": "darkblue",
           "width": 3
          },
          "type": "line",
          "x0": 1503.1625752131101,
          "x1": 1681.055877172715,
          "y0": 14,
          "y1": 14
         }
        ],
        "template": {
         "data": {
          "bar": [
           {
            "error_x": {
             "color": "#2a3f5f"
            },
            "error_y": {
             "color": "#2a3f5f"
            },
            "marker": {
             "line": {
              "color": "#E5ECF6",
              "width": 0.5
             }
            },
            "type": "bar"
           }
          ],
          "barpolar": [
           {
            "marker": {
             "line": {
              "color": "#E5ECF6",
              "width": 0.5
             }
            },
            "type": "barpolar"
           }
          ],
          "carpet": [
           {
            "aaxis": {
             "endlinecolor": "#2a3f5f",
             "gridcolor": "white",
             "linecolor": "white",
             "minorgridcolor": "white",
             "startlinecolor": "#2a3f5f"
            },
            "baxis": {
             "endlinecolor": "#2a3f5f",
             "gridcolor": "white",
             "linecolor": "white",
             "minorgridcolor": "white",
             "startlinecolor": "#2a3f5f"
            },
            "type": "carpet"
           }
          ],
          "choropleth": [
           {
            "colorbar": {
             "outlinewidth": 0,
             "ticks": ""
            },
            "type": "choropleth"
           }
          ],
          "contour": [
           {
            "colorbar": {
             "outlinewidth": 0,
             "ticks": ""
            },
            "colorscale": [
             [
              0,
              "#0d0887"
             ],
             [
              0.1111111111111111,
              "#46039f"
             ],
             [
              0.2222222222222222,
              "#7201a8"
             ],
             [
              0.3333333333333333,
              "#9c179e"
             ],
             [
              0.4444444444444444,
              "#bd3786"
             ],
             [
              0.5555555555555556,
              "#d8576b"
             ],
             [
              0.6666666666666666,
              "#ed7953"
             ],
             [
              0.7777777777777778,
              "#fb9f3a"
             ],
             [
              0.8888888888888888,
              "#fdca26"
             ],
             [
              1,
              "#f0f921"
             ]
            ],
            "type": "contour"
           }
          ],
          "contourcarpet": [
           {
            "colorbar": {
             "outlinewidth": 0,
             "ticks": ""
            },
            "type": "contourcarpet"
           }
          ],
          "heatmap": [
           {
            "colorbar": {
             "outlinewidth": 0,
             "ticks": ""
            },
            "colorscale": [
             [
              0,
              "#0d0887"
             ],
             [
              0.1111111111111111,
              "#46039f"
             ],
             [
              0.2222222222222222,
              "#7201a8"
             ],
             [
              0.3333333333333333,
              "#9c179e"
             ],
             [
              0.4444444444444444,
              "#bd3786"
             ],
             [
              0.5555555555555556,
              "#d8576b"
             ],
             [
              0.6666666666666666,
              "#ed7953"
             ],
             [
              0.7777777777777778,
              "#fb9f3a"
             ],
             [
              0.8888888888888888,
              "#fdca26"
             ],
             [
              1,
              "#f0f921"
             ]
            ],
            "type": "heatmap"
           }
          ],
          "heatmapgl": [
           {
            "colorbar": {
             "outlinewidth": 0,
             "ticks": ""
            },
            "colorscale": [
             [
              0,
              "#0d0887"
             ],
             [
              0.1111111111111111,
              "#46039f"
             ],
             [
              0.2222222222222222,
              "#7201a8"
             ],
             [
              0.3333333333333333,
              "#9c179e"
             ],
             [
              0.4444444444444444,
              "#bd3786"
             ],
             [
              0.5555555555555556,
              "#d8576b"
             ],
             [
              0.6666666666666666,
              "#ed7953"
             ],
             [
              0.7777777777777778,
              "#fb9f3a"
             ],
             [
              0.8888888888888888,
              "#fdca26"
             ],
             [
              1,
              "#f0f921"
             ]
            ],
            "type": "heatmapgl"
           }
          ],
          "histogram": [
           {
            "marker": {
             "colorbar": {
              "outlinewidth": 0,
              "ticks": ""
             }
            },
            "type": "histogram"
           }
          ],
          "histogram2d": [
           {
            "colorbar": {
             "outlinewidth": 0,
             "ticks": ""
            },
            "colorscale": [
             [
              0,
              "#0d0887"
             ],
             [
              0.1111111111111111,
              "#46039f"
             ],
             [
              0.2222222222222222,
              "#7201a8"
             ],
             [
              0.3333333333333333,
              "#9c179e"
             ],
             [
              0.4444444444444444,
              "#bd3786"
             ],
             [
              0.5555555555555556,
              "#d8576b"
             ],
             [
              0.6666666666666666,
              "#ed7953"
             ],
             [
              0.7777777777777778,
              "#fb9f3a"
             ],
             [
              0.8888888888888888,
              "#fdca26"
             ],
             [
              1,
              "#f0f921"
             ]
            ],
            "type": "histogram2d"
           }
          ],
          "histogram2dcontour": [
           {
            "colorbar": {
             "outlinewidth": 0,
             "ticks": ""
            },
            "colorscale": [
             [
              0,
              "#0d0887"
             ],
             [
              0.1111111111111111,
              "#46039f"
             ],
             [
              0.2222222222222222,
              "#7201a8"
             ],
             [
              0.3333333333333333,
              "#9c179e"
             ],
             [
              0.4444444444444444,
              "#bd3786"
             ],
             [
              0.5555555555555556,
              "#d8576b"
             ],
             [
              0.6666666666666666,
              "#ed7953"
             ],
             [
              0.7777777777777778,
              "#fb9f3a"
             ],
             [
              0.8888888888888888,
              "#fdca26"
             ],
             [
              1,
              "#f0f921"
             ]
            ],
            "type": "histogram2dcontour"
           }
          ],
          "mesh3d": [
           {
            "colorbar": {
             "outlinewidth": 0,
             "ticks": ""
            },
            "type": "mesh3d"
           }
          ],
          "parcoords": [
           {
            "line": {
             "colorbar": {
              "outlinewidth": 0,
              "ticks": ""
             }
            },
            "type": "parcoords"
           }
          ],
          "pie": [
           {
            "automargin": true,
            "type": "pie"
           }
          ],
          "scatter": [
           {
            "marker": {
             "colorbar": {
              "outlinewidth": 0,
              "ticks": ""
             }
            },
            "type": "scatter"
           }
          ],
          "scatter3d": [
           {
            "line": {
             "colorbar": {
              "outlinewidth": 0,
              "ticks": ""
             }
            },
            "marker": {
             "colorbar": {
              "outlinewidth": 0,
              "ticks": ""
             }
            },
            "type": "scatter3d"
           }
          ],
          "scattercarpet": [
           {
            "marker": {
             "colorbar": {
              "outlinewidth": 0,
              "ticks": ""
             }
            },
            "type": "scattercarpet"
           }
          ],
          "scattergeo": [
           {
            "marker": {
             "colorbar": {
              "outlinewidth": 0,
              "ticks": ""
             }
            },
            "type": "scattergeo"
           }
          ],
          "scattergl": [
           {
            "marker": {
             "colorbar": {
              "outlinewidth": 0,
              "ticks": ""
             }
            },
            "type": "scattergl"
           }
          ],
          "scattermapbox": [
           {
            "marker": {
             "colorbar": {
              "outlinewidth": 0,
              "ticks": ""
             }
            },
            "type": "scattermapbox"
           }
          ],
          "scatterpolar": [
           {
            "marker": {
             "colorbar": {
              "outlinewidth": 0,
              "ticks": ""
             }
            },
            "type": "scatterpolar"
           }
          ],
          "scatterpolargl": [
           {
            "marker": {
             "colorbar": {
              "outlinewidth": 0,
              "ticks": ""
             }
            },
            "type": "scatterpolargl"
           }
          ],
          "scatterternary": [
           {
            "marker": {
             "colorbar": {
              "outlinewidth": 0,
              "ticks": ""
             }
            },
            "type": "scatterternary"
           }
          ],
          "surface": [
           {
            "colorbar": {
             "outlinewidth": 0,
             "ticks": ""
            },
            "colorscale": [
             [
              0,
              "#0d0887"
             ],
             [
              0.1111111111111111,
              "#46039f"
             ],
             [
              0.2222222222222222,
              "#7201a8"
             ],
             [
              0.3333333333333333,
              "#9c179e"
             ],
             [
              0.4444444444444444,
              "#bd3786"
             ],
             [
              0.5555555555555556,
              "#d8576b"
             ],
             [
              0.6666666666666666,
              "#ed7953"
             ],
             [
              0.7777777777777778,
              "#fb9f3a"
             ],
             [
              0.8888888888888888,
              "#fdca26"
             ],
             [
              1,
              "#f0f921"
             ]
            ],
            "type": "surface"
           }
          ],
          "table": [
           {
            "cells": {
             "fill": {
              "color": "#EBF0F8"
             },
             "line": {
              "color": "white"
             }
            },
            "header": {
             "fill": {
              "color": "#C8D4E3"
             },
             "line": {
              "color": "white"
             }
            },
            "type": "table"
           }
          ]
         },
         "layout": {
          "annotationdefaults": {
           "arrowcolor": "#2a3f5f",
           "arrowhead": 0,
           "arrowwidth": 1
          },
          "coloraxis": {
           "colorbar": {
            "outlinewidth": 0,
            "ticks": ""
           }
          },
          "colorscale": {
           "diverging": [
            [
             0,
             "#8e0152"
            ],
            [
             0.1,
             "#c51b7d"
            ],
            [
             0.2,
             "#de77ae"
            ],
            [
             0.3,
             "#f1b6da"
            ],
            [
             0.4,
             "#fde0ef"
            ],
            [
             0.5,
             "#f7f7f7"
            ],
            [
             0.6,
             "#e6f5d0"
            ],
            [
             0.7,
             "#b8e186"
            ],
            [
             0.8,
             "#7fbc41"
            ],
            [
             0.9,
             "#4d9221"
            ],
            [
             1,
             "#276419"
            ]
           ],
           "sequential": [
            [
             0,
             "#0d0887"
            ],
            [
             0.1111111111111111,
             "#46039f"
            ],
            [
             0.2222222222222222,
             "#7201a8"
            ],
            [
             0.3333333333333333,
             "#9c179e"
            ],
            [
             0.4444444444444444,
             "#bd3786"
            ],
            [
             0.5555555555555556,
             "#d8576b"
            ],
            [
             0.6666666666666666,
             "#ed7953"
            ],
            [
             0.7777777777777778,
             "#fb9f3a"
            ],
            [
             0.8888888888888888,
             "#fdca26"
            ],
            [
             1,
             "#f0f921"
            ]
           ],
           "sequentialminus": [
            [
             0,
             "#0d0887"
            ],
            [
             0.1111111111111111,
             "#46039f"
            ],
            [
             0.2222222222222222,
             "#7201a8"
            ],
            [
             0.3333333333333333,
             "#9c179e"
            ],
            [
             0.4444444444444444,
             "#bd3786"
            ],
            [
             0.5555555555555556,
             "#d8576b"
            ],
            [
             0.6666666666666666,
             "#ed7953"
            ],
            [
             0.7777777777777778,
             "#fb9f3a"
            ],
            [
             0.8888888888888888,
             "#fdca26"
            ],
            [
             1,
             "#f0f921"
            ]
           ]
          },
          "colorway": [
           "#636efa",
           "#EF553B",
           "#00cc96",
           "#ab63fa",
           "#FFA15A",
           "#19d3f3",
           "#FF6692",
           "#B6E880",
           "#FF97FF",
           "#FECB52"
          ],
          "font": {
           "color": "#2a3f5f"
          },
          "geo": {
           "bgcolor": "white",
           "lakecolor": "white",
           "landcolor": "#E5ECF6",
           "showlakes": true,
           "showland": true,
           "subunitcolor": "white"
          },
          "hoverlabel": {
           "align": "left"
          },
          "hovermode": "closest",
          "mapbox": {
           "style": "light"
          },
          "paper_bgcolor": "white",
          "plot_bgcolor": "#E5ECF6",
          "polar": {
           "angularaxis": {
            "gridcolor": "white",
            "linecolor": "white",
            "ticks": ""
           },
           "bgcolor": "#E5ECF6",
           "radialaxis": {
            "gridcolor": "white",
            "linecolor": "white",
            "ticks": ""
           }
          },
          "scene": {
           "xaxis": {
            "backgroundcolor": "#E5ECF6",
            "gridcolor": "white",
            "gridwidth": 2,
            "linecolor": "white",
            "showbackground": true,
            "ticks": "",
            "zerolinecolor": "white"
           },
           "yaxis": {
            "backgroundcolor": "#E5ECF6",
            "gridcolor": "white",
            "gridwidth": 2,
            "linecolor": "white",
            "showbackground": true,
            "ticks": "",
            "zerolinecolor": "white"
           },
           "zaxis": {
            "backgroundcolor": "#E5ECF6",
            "gridcolor": "white",
            "gridwidth": 2,
            "linecolor": "white",
            "showbackground": true,
            "ticks": "",
            "zerolinecolor": "white"
           }
          },
          "shapedefaults": {
           "line": {
            "color": "#2a3f5f"
           }
          },
          "ternary": {
           "aaxis": {
            "gridcolor": "white",
            "linecolor": "white",
            "ticks": ""
           },
           "baxis": {
            "gridcolor": "white",
            "linecolor": "white",
            "ticks": ""
           },
           "bgcolor": "#E5ECF6",
           "caxis": {
            "gridcolor": "white",
            "linecolor": "white",
            "ticks": ""
           }
          },
          "title": {
           "x": 0.05
          },
          "xaxis": {
           "automargin": true,
           "gridcolor": "white",
           "linecolor": "white",
           "ticks": "",
           "title": {
            "standoff": 15
           },
           "zerolinecolor": "white",
           "zerolinewidth": 2
          },
          "yaxis": {
           "automargin": true,
           "gridcolor": "white",
           "linecolor": "white",
           "ticks": "",
           "title": {
            "standoff": 15
           },
           "zerolinecolor": "white",
           "zerolinewidth": 2
          }
         }
        },
        "title": {
         "font": {
          "color": "black"
         },
         "text": "Tour De Suisse 2022 GC Contenders",
         "x": 0.5,
         "y": 0.9
        },
        "width": 1000,
        "xaxis": {
         "showgrid": false
        },
        "yaxis": {
         "showgrid": false
        }
       }
      },
      "text/html": [
       "<div>                            <div id=\"5bb06582-061e-40d6-9927-0db69e18893f\" class=\"plotly-graph-div\" style=\"height:750px; width:1000px;\"></div>            <script type=\"text/javascript\">                require([\"plotly\"], function(Plotly) {                    window.PLOTLYENV=window.PLOTLYENV || {};                                    if (document.getElementById(\"5bb06582-061e-40d6-9927-0db69e18893f\")) {                    Plotly.newPlot(                        \"5bb06582-061e-40d6-9927-0db69e18893f\",                        [{\"marker\": {\"color\": \"darkblue\", \"size\": 14}, \"mode\": \"markers+text\", \"text\": [\"1553.16\", \"1558.75\", \"1561.6\", \"1566.1\", \"1579.28\", \"1582.64\", \"1594.24\", \"1597.22\", \"1609.28\", \"1616.15\", \"1619.7\", \"1631.55\", \"1664.38\", \"1668.66\", \"1681.06\"], \"textposition\": \"top center\", \"type\": \"scatter\", \"x\": [1553.16, 1558.75, 1561.6, 1566.1, 1579.28, 1582.64, 1594.24, 1597.22, 1609.28, 1616.15, 1619.7, 1631.55, 1664.38, 1668.66, 1681.06], \"y\": [\"KUSS Sepp\", \"POZZOVIVO Domenico\", \"SOLER Marc\", \"PINOT Thibaut\", \"M\\u00c4DER Gino\", \"FUGLSANG Jakob\", \"IZAGIRRE Ion\", \"LUTSENKO Alexey\", \"SCHACHMANN Maximilian\", \"HIGUITA Sergio\", \"THOMAS Geraint\", \"EVENEPOEL Remco\", \"MART\\u00cdNEZ Daniel Felipe\", \"YATES Adam\", \"VLASOV Aleksandr\"]}],                        {\"height\": 750, \"paper_bgcolor\": \"white\", \"plot_bgcolor\": \"white\", \"shapes\": [{\"line\": {\"color\": \"darkblue\", \"width\": 3}, \"type\": \"line\", \"x0\": 1503.1625752131101, \"x1\": 1553.1625752131101, \"y0\": 0, \"y1\": 0}, {\"line\": {\"color\": \"darkblue\", \"width\": 3}, \"type\": \"line\", \"x0\": 1503.1625752131101, \"x1\": 1558.7478602385947, \"y0\": 1, \"y1\": 1}, {\"line\": {\"color\": \"darkblue\", \"width\": 3}, \"type\": \"line\", \"x0\": 1503.1625752131101, \"x1\": 1561.5968063754815, \"y0\": 2, \"y1\": 2}, {\"line\": {\"color\": \"darkblue\", \"width\": 3}, \"type\": \"line\", \"x0\": 1503.1625752131101, \"x1\": 1566.0976494941376, \"y0\": 3, \"y1\": 3}, {\"line\": {\"color\": \"darkblue\", \"width\": 3}, \"type\": \"line\", \"x0\": 1503.1625752131101, \"x1\": 1579.278415046623, \"y0\": 4, \"y1\": 4}, {\"line\": {\"color\": \"darkblue\", \"width\": 3}, \"type\": \"line\", \"x0\": 1503.1625752131101, \"x1\": 1582.6428874940573, \"y0\": 5, \"y1\": 5}, {\"line\": {\"color\": \"darkblue\", \"width\": 3}, \"type\": \"line\", \"x0\": 1503.1625752131101, \"x1\": 1594.2364015035237, \"y0\": 6, \"y1\": 6}, {\"line\": {\"color\": \"darkblue\", \"width\": 3}, \"type\": \"line\", \"x0\": 1503.1625752131101, \"x1\": 1597.2230655619348, \"y0\": 7, \"y1\": 7}, {\"line\": {\"color\": \"darkblue\", \"width\": 3}, \"type\": \"line\", \"x0\": 1503.1625752131101, \"x1\": 1609.2789248349516, \"y0\": 8, \"y1\": 8}, {\"line\": {\"color\": \"darkblue\", \"width\": 3}, \"type\": \"line\", \"x0\": 1503.1625752131101, \"x1\": 1616.1462441898175, \"y0\": 9, \"y1\": 9}, {\"line\": {\"color\": \"darkblue\", \"width\": 3}, \"type\": \"line\", \"x0\": 1503.1625752131101, \"x1\": 1619.7036792962624, \"y0\": 10, \"y1\": 10}, {\"line\": {\"color\": \"darkblue\", \"width\": 3}, \"type\": \"line\", \"x0\": 1503.1625752131101, \"x1\": 1631.552229605261, \"y0\": 11, \"y1\": 11}, {\"line\": {\"color\": \"darkblue\", \"width\": 3}, \"type\": \"line\", \"x0\": 1503.1625752131101, \"x1\": 1664.3824694253738, \"y0\": 12, \"y1\": 12}, {\"line\": {\"color\": \"darkblue\", \"width\": 3}, \"type\": \"line\", \"x0\": 1503.1625752131101, \"x1\": 1668.6551335596735, \"y0\": 13, \"y1\": 13}, {\"line\": {\"color\": \"darkblue\", \"width\": 3}, \"type\": \"line\", \"x0\": 1503.1625752131101, \"x1\": 1681.055877172715, \"y0\": 14, \"y1\": 14}], \"template\": {\"data\": {\"bar\": [{\"error_x\": {\"color\": \"#2a3f5f\"}, \"error_y\": {\"color\": \"#2a3f5f\"}, \"marker\": {\"line\": {\"color\": \"#E5ECF6\", \"width\": 0.5}}, \"type\": \"bar\"}], \"barpolar\": [{\"marker\": {\"line\": {\"color\": \"#E5ECF6\", \"width\": 0.5}}, \"type\": \"barpolar\"}], \"carpet\": [{\"aaxis\": {\"endlinecolor\": \"#2a3f5f\", \"gridcolor\": \"white\", \"linecolor\": \"white\", \"minorgridcolor\": \"white\", \"startlinecolor\": \"#2a3f5f\"}, \"baxis\": {\"endlinecolor\": \"#2a3f5f\", \"gridcolor\": \"white\", \"linecolor\": \"white\", \"minorgridcolor\": \"white\", \"startlinecolor\": \"#2a3f5f\"}, \"type\": \"carpet\"}], \"choropleth\": [{\"colorbar\": {\"outlinewidth\": 0, \"ticks\": \"\"}, \"type\": \"choropleth\"}], \"contour\": [{\"colorbar\": {\"outlinewidth\": 0, \"ticks\": \"\"}, \"colorscale\": [[0.0, \"#0d0887\"], [0.1111111111111111, \"#46039f\"], [0.2222222222222222, \"#7201a8\"], [0.3333333333333333, \"#9c179e\"], [0.4444444444444444, \"#bd3786\"], [0.5555555555555556, \"#d8576b\"], [0.6666666666666666, \"#ed7953\"], [0.7777777777777778, \"#fb9f3a\"], [0.8888888888888888, \"#fdca26\"], [1.0, \"#f0f921\"]], \"type\": \"contour\"}], \"contourcarpet\": [{\"colorbar\": {\"outlinewidth\": 0, \"ticks\": \"\"}, \"type\": \"contourcarpet\"}], \"heatmap\": [{\"colorbar\": {\"outlinewidth\": 0, \"ticks\": \"\"}, \"colorscale\": [[0.0, \"#0d0887\"], [0.1111111111111111, \"#46039f\"], [0.2222222222222222, \"#7201a8\"], [0.3333333333333333, \"#9c179e\"], [0.4444444444444444, \"#bd3786\"], [0.5555555555555556, \"#d8576b\"], [0.6666666666666666, \"#ed7953\"], [0.7777777777777778, \"#fb9f3a\"], [0.8888888888888888, \"#fdca26\"], [1.0, \"#f0f921\"]], \"type\": \"heatmap\"}], \"heatmapgl\": [{\"colorbar\": {\"outlinewidth\": 0, \"ticks\": \"\"}, \"colorscale\": [[0.0, \"#0d0887\"], [0.1111111111111111, \"#46039f\"], [0.2222222222222222, \"#7201a8\"], [0.3333333333333333, \"#9c179e\"], [0.4444444444444444, \"#bd3786\"], [0.5555555555555556, \"#d8576b\"], [0.6666666666666666, \"#ed7953\"], [0.7777777777777778, \"#fb9f3a\"], [0.8888888888888888, \"#fdca26\"], [1.0, \"#f0f921\"]], \"type\": \"heatmapgl\"}], \"histogram\": [{\"marker\": {\"colorbar\": {\"outlinewidth\": 0, \"ticks\": \"\"}}, \"type\": \"histogram\"}], \"histogram2d\": [{\"colorbar\": {\"outlinewidth\": 0, \"ticks\": \"\"}, \"colorscale\": [[0.0, \"#0d0887\"], [0.1111111111111111, \"#46039f\"], [0.2222222222222222, \"#7201a8\"], [0.3333333333333333, \"#9c179e\"], [0.4444444444444444, \"#bd3786\"], [0.5555555555555556, \"#d8576b\"], [0.6666666666666666, \"#ed7953\"], [0.7777777777777778, \"#fb9f3a\"], [0.8888888888888888, \"#fdca26\"], [1.0, \"#f0f921\"]], \"type\": \"histogram2d\"}], \"histogram2dcontour\": [{\"colorbar\": {\"outlinewidth\": 0, \"ticks\": \"\"}, \"colorscale\": [[0.0, \"#0d0887\"], [0.1111111111111111, \"#46039f\"], [0.2222222222222222, \"#7201a8\"], [0.3333333333333333, \"#9c179e\"], [0.4444444444444444, \"#bd3786\"], [0.5555555555555556, \"#d8576b\"], [0.6666666666666666, \"#ed7953\"], [0.7777777777777778, \"#fb9f3a\"], [0.8888888888888888, \"#fdca26\"], [1.0, \"#f0f921\"]], \"type\": \"histogram2dcontour\"}], \"mesh3d\": [{\"colorbar\": {\"outlinewidth\": 0, \"ticks\": \"\"}, \"type\": \"mesh3d\"}], \"parcoords\": [{\"line\": {\"colorbar\": {\"outlinewidth\": 0, \"ticks\": \"\"}}, \"type\": \"parcoords\"}], \"pie\": [{\"automargin\": true, \"type\": \"pie\"}], \"scatter\": [{\"marker\": {\"colorbar\": {\"outlinewidth\": 0, \"ticks\": \"\"}}, \"type\": \"scatter\"}], \"scatter3d\": [{\"line\": {\"colorbar\": {\"outlinewidth\": 0, \"ticks\": \"\"}}, \"marker\": {\"colorbar\": {\"outlinewidth\": 0, \"ticks\": \"\"}}, \"type\": \"scatter3d\"}], \"scattercarpet\": [{\"marker\": {\"colorbar\": {\"outlinewidth\": 0, \"ticks\": \"\"}}, \"type\": \"scattercarpet\"}], \"scattergeo\": [{\"marker\": {\"colorbar\": {\"outlinewidth\": 0, \"ticks\": \"\"}}, \"type\": \"scattergeo\"}], \"scattergl\": [{\"marker\": {\"colorbar\": {\"outlinewidth\": 0, \"ticks\": \"\"}}, \"type\": \"scattergl\"}], \"scattermapbox\": [{\"marker\": {\"colorbar\": {\"outlinewidth\": 0, \"ticks\": \"\"}}, \"type\": \"scattermapbox\"}], \"scatterpolar\": [{\"marker\": {\"colorbar\": {\"outlinewidth\": 0, \"ticks\": \"\"}}, \"type\": \"scatterpolar\"}], \"scatterpolargl\": [{\"marker\": {\"colorbar\": {\"outlinewidth\": 0, \"ticks\": \"\"}}, \"type\": \"scatterpolargl\"}], \"scatterternary\": [{\"marker\": {\"colorbar\": {\"outlinewidth\": 0, \"ticks\": \"\"}}, \"type\": \"scatterternary\"}], \"surface\": [{\"colorbar\": {\"outlinewidth\": 0, \"ticks\": \"\"}, \"colorscale\": [[0.0, \"#0d0887\"], [0.1111111111111111, \"#46039f\"], [0.2222222222222222, \"#7201a8\"], [0.3333333333333333, \"#9c179e\"], [0.4444444444444444, \"#bd3786\"], [0.5555555555555556, \"#d8576b\"], [0.6666666666666666, \"#ed7953\"], [0.7777777777777778, \"#fb9f3a\"], [0.8888888888888888, \"#fdca26\"], [1.0, \"#f0f921\"]], \"type\": \"surface\"}], \"table\": [{\"cells\": {\"fill\": {\"color\": \"#EBF0F8\"}, \"line\": {\"color\": \"white\"}}, \"header\": {\"fill\": {\"color\": \"#C8D4E3\"}, \"line\": {\"color\": \"white\"}}, \"type\": \"table\"}]}, \"layout\": {\"annotationdefaults\": {\"arrowcolor\": \"#2a3f5f\", \"arrowhead\": 0, \"arrowwidth\": 1}, \"coloraxis\": {\"colorbar\": {\"outlinewidth\": 0, \"ticks\": \"\"}}, \"colorscale\": {\"diverging\": [[0, \"#8e0152\"], [0.1, \"#c51b7d\"], [0.2, \"#de77ae\"], [0.3, \"#f1b6da\"], [0.4, \"#fde0ef\"], [0.5, \"#f7f7f7\"], [0.6, \"#e6f5d0\"], [0.7, \"#b8e186\"], [0.8, \"#7fbc41\"], [0.9, \"#4d9221\"], [1, \"#276419\"]], \"sequential\": [[0.0, \"#0d0887\"], [0.1111111111111111, \"#46039f\"], [0.2222222222222222, \"#7201a8\"], [0.3333333333333333, \"#9c179e\"], [0.4444444444444444, \"#bd3786\"], [0.5555555555555556, \"#d8576b\"], [0.6666666666666666, \"#ed7953\"], [0.7777777777777778, \"#fb9f3a\"], [0.8888888888888888, \"#fdca26\"], [1.0, \"#f0f921\"]], \"sequentialminus\": [[0.0, \"#0d0887\"], [0.1111111111111111, \"#46039f\"], [0.2222222222222222, \"#7201a8\"], [0.3333333333333333, \"#9c179e\"], [0.4444444444444444, \"#bd3786\"], [0.5555555555555556, \"#d8576b\"], [0.6666666666666666, \"#ed7953\"], [0.7777777777777778, \"#fb9f3a\"], [0.8888888888888888, \"#fdca26\"], [1.0, \"#f0f921\"]]}, \"colorway\": [\"#636efa\", \"#EF553B\", \"#00cc96\", \"#ab63fa\", \"#FFA15A\", \"#19d3f3\", \"#FF6692\", \"#B6E880\", \"#FF97FF\", \"#FECB52\"], \"font\": {\"color\": \"#2a3f5f\"}, \"geo\": {\"bgcolor\": \"white\", \"lakecolor\": \"white\", \"landcolor\": \"#E5ECF6\", \"showlakes\": true, \"showland\": true, \"subunitcolor\": \"white\"}, \"hoverlabel\": {\"align\": \"left\"}, \"hovermode\": \"closest\", \"mapbox\": {\"style\": \"light\"}, \"paper_bgcolor\": \"white\", \"plot_bgcolor\": \"#E5ECF6\", \"polar\": {\"angularaxis\": {\"gridcolor\": \"white\", \"linecolor\": \"white\", \"ticks\": \"\"}, \"bgcolor\": \"#E5ECF6\", \"radialaxis\": {\"gridcolor\": \"white\", \"linecolor\": \"white\", \"ticks\": \"\"}}, \"scene\": {\"xaxis\": {\"backgroundcolor\": \"#E5ECF6\", \"gridcolor\": \"white\", \"gridwidth\": 2, \"linecolor\": \"white\", \"showbackground\": true, \"ticks\": \"\", \"zerolinecolor\": \"white\"}, \"yaxis\": {\"backgroundcolor\": \"#E5ECF6\", \"gridcolor\": \"white\", \"gridwidth\": 2, \"linecolor\": \"white\", \"showbackground\": true, \"ticks\": \"\", \"zerolinecolor\": \"white\"}, \"zaxis\": {\"backgroundcolor\": \"#E5ECF6\", \"gridcolor\": \"white\", \"gridwidth\": 2, \"linecolor\": \"white\", \"showbackground\": true, \"ticks\": \"\", \"zerolinecolor\": \"white\"}}, \"shapedefaults\": {\"line\": {\"color\": \"#2a3f5f\"}}, \"ternary\": {\"aaxis\": {\"gridcolor\": \"white\", \"linecolor\": \"white\", \"ticks\": \"\"}, \"baxis\": {\"gridcolor\": \"white\", \"linecolor\": \"white\", \"ticks\": \"\"}, \"bgcolor\": \"#E5ECF6\", \"caxis\": {\"gridcolor\": \"white\", \"linecolor\": \"white\", \"ticks\": \"\"}}, \"title\": {\"x\": 0.05}, \"xaxis\": {\"automargin\": true, \"gridcolor\": \"white\", \"linecolor\": \"white\", \"ticks\": \"\", \"title\": {\"standoff\": 15}, \"zerolinecolor\": \"white\", \"zerolinewidth\": 2}, \"yaxis\": {\"automargin\": true, \"gridcolor\": \"white\", \"linecolor\": \"white\", \"ticks\": \"\", \"title\": {\"standoff\": 15}, \"zerolinecolor\": \"white\", \"zerolinewidth\": 2}}}, \"title\": {\"font\": {\"color\": \"black\"}, \"text\": \"Tour De Suisse 2022 GC Contenders\", \"x\": 0.5, \"y\": 0.9}, \"width\": 1000, \"xaxis\": {\"showgrid\": false}, \"yaxis\": {\"showgrid\": false}},                        {\"responsive\": true}                    ).then(function(){\n",
       "                            \n",
       "var gd = document.getElementById('5bb06582-061e-40d6-9927-0db69e18893f');\n",
       "var x = new MutationObserver(function (mutations, observer) {{\n",
       "        var display = window.getComputedStyle(gd).display;\n",
       "        if (!display || display === 'none') {{\n",
       "            console.log([gd, 'removed!']);\n",
       "            Plotly.purge(gd);\n",
       "            observer.disconnect();\n",
       "        }}\n",
       "}});\n",
       "\n",
       "// Listen for the removal of the full notebook cells\n",
       "var notebookContainer = gd.closest('#notebook-container');\n",
       "if (notebookContainer) {{\n",
       "    x.observe(notebookContainer, {childList: true});\n",
       "}}\n",
       "\n",
       "// Listen for the clearing of the current output cell\n",
       "var outputEl = gd.closest('.output');\n",
       "if (outputEl) {{\n",
       "    x.observe(outputEl, {childList: true});\n",
       "}}\n",
       "\n",
       "                        })                };                });            </script>        </div>"
      ]
     },
     "metadata": {},
     "output_type": "display_data"
    }
   ],
   "source": [
    "# get a startlist to plot\n",
    "race = 'tour-de-suisse'\n",
    "year = 2022\n",
    "startlist = [rider for rider in get_startlist(race, year) if rider in ratings.columns]\n",
    "\n",
    "# plot the lollipop\n",
    "plot_startlist_timeseries(\n",
    "    ratings, startlist, 'Tour de Suisse', year, RACE_TYPE,\n",
    "    riders_to_plot = 15, fname = f'{race}-{year}-{RACE_TYPE.lower()}-{GENDER}-lollipop.png'\n",
    ")"
   ]
  },
  {
   "cell_type": "code",
   "execution_count": null,
   "metadata": {},
   "outputs": [],
   "source": []
  }
 ],
 "metadata": {
  "kernelspec": {
   "display_name": "Python 3",
   "language": "python",
   "name": "python3"
  },
  "language_info": {
   "codemirror_mode": {
    "name": "ipython",
    "version": 3
   },
   "file_extension": ".py",
   "mimetype": "text/x-python",
   "name": "python",
   "nbconvert_exporter": "python",
   "pygments_lexer": "ipython3",
   "version": "3.7.6"
  }
 },
 "nbformat": 4,
 "nbformat_minor": 4
}
