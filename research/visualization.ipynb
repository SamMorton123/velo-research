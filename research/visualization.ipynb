{
 "cells": [
  {
   "cell_type": "markdown",
   "metadata": {},
   "source": [
    "## Ratings visualization notebook\n",
    "\n",
    "Notebook containing implementations for different Elo rating visualizations. I figured\n",
    "this would be a little more intuitive than yet another script."
   ]
  },
  {
   "cell_type": "code",
   "execution_count": 56,
   "metadata": {},
   "outputs": [],
   "source": [
    "from bs4 import BeautifulSoup\n",
    "from datetime import date, datetime, timedelta\n",
    "import matplotlib.pyplot as plt\n",
    "import os\n",
    "import pandas as pd\n",
    "import plotly.graph_objects as go\n",
    "import requests\n",
    "import sys\n",
    "\n",
    "sys.path.append('/Users/samuelhmorton/indiv_projects/work/velo-research')\n",
    "from ratings import utils"
   ]
  },
  {
   "cell_type": "code",
   "execution_count": 57,
   "metadata": {},
   "outputs": [],
   "source": [
    "# ===== notebook constants ===== #\n",
    "RACE_TYPE = 'GC'\n",
    "GENDER = 'men'\n",
    "RATINGS_DATA_PATH = f'../data/system-data/{RACE_TYPE.lower()}_{GENDER}.csv'\n",
    "RACE_RESULTS_PATH = f'../data/{GENDER}_velodata.csv'\n",
    "LOLLI_RIDERS_TO_PLOT = 15\n",
    "\n",
    "# ===== individual race params ===== #\n",
    "RACE = 'vuelta-a-espana'\n",
    "YEAR = 2022"
   ]
  },
  {
   "cell_type": "code",
   "execution_count": 58,
   "metadata": {},
   "outputs": [],
   "source": [
    "# ===== brief constant compatibility check ===== #\n",
    "if RACE_TYPE not in ['GC', 'ITT', 'Sprints']:\n",
    "    raise ValueError('Given race type must be GC, ITT, or Sprints.')\n",
    "\n",
    "if GENDER not in ['men', 'women']:\n",
    "    raise ValueError('Given gender must be men or women.')\n",
    "\n",
    "if not os.path.exists(RATINGS_DATA_PATH):\n",
    "    raise ValueError(f'Something went wrong. Given ratings path, {RATINGS_DATA_PATH}, does not exist.')\n",
    "\n",
    "if not os.path.exists(RACE_RESULTS_PATH):\n",
    "    raise ValueError(f'Something went wrong. Given race results path, {RACE_RESULTS_PATH}, does not exist.')"
   ]
  },
  {
   "cell_type": "code",
   "execution_count": 59,
   "metadata": {},
   "outputs": [
    {
     "data": {
      "text/html": [
       "<div>\n",
       "<style scoped>\n",
       "    .dataframe tbody tr th:only-of-type {\n",
       "        vertical-align: middle;\n",
       "    }\n",
       "\n",
       "    .dataframe tbody tr th {\n",
       "        vertical-align: top;\n",
       "    }\n",
       "\n",
       "    .dataframe thead th {\n",
       "        text-align: right;\n",
       "    }\n",
       "</style>\n",
       "<table border=\"1\" class=\"dataframe\">\n",
       "  <thead>\n",
       "    <tr style=\"text-align: right;\">\n",
       "      <th></th>\n",
       "      <th>year</th>\n",
       "      <th>month</th>\n",
       "      <th>day</th>\n",
       "      <th>NOCENTINI Rinaldo</th>\n",
       "      <th>REBELLIN Davide</th>\n",
       "      <th>RUTKIEWICZ Marek</th>\n",
       "      <th>PLAZA Rubén</th>\n",
       "      <th>HAYMAN Mathew</th>\n",
       "      <th>VALVERDE Alejandro</th>\n",
       "      <th>LAVERDE Luis Felipe</th>\n",
       "      <th>...</th>\n",
       "      <th>JEROMEL Vid</th>\n",
       "      <th>SANCHEZ Pablo</th>\n",
       "      <th>KRALJ Fabijan</th>\n",
       "      <th>YOUNG Xeno</th>\n",
       "      <th>ŠARC Leon</th>\n",
       "      <th>WATTS Kiaan</th>\n",
       "      <th>LOHINSKÝ Filip</th>\n",
       "      <th>JOALLAND Yaël</th>\n",
       "      <th>MURIAS Jakub</th>\n",
       "      <th>TRONCHON Bastien</th>\n",
       "    </tr>\n",
       "  </thead>\n",
       "  <tbody>\n",
       "    <tr>\n",
       "      <th>0</th>\n",
       "      <td>2000</td>\n",
       "      <td>3</td>\n",
       "      <td>11</td>\n",
       "      <td>1497.894057</td>\n",
       "      <td>1500.000000</td>\n",
       "      <td>1500.0</td>\n",
       "      <td>1500.0</td>\n",
       "      <td>1500.0</td>\n",
       "      <td>1500.0</td>\n",
       "      <td>1500.0</td>\n",
       "      <td>...</td>\n",
       "      <td>1500.0</td>\n",
       "      <td>1500.0</td>\n",
       "      <td>1500.0</td>\n",
       "      <td>1500.0</td>\n",
       "      <td>1500.0</td>\n",
       "      <td>1500.0</td>\n",
       "      <td>1500.0</td>\n",
       "      <td>1500.0</td>\n",
       "      <td>1500.0</td>\n",
       "      <td>1500.0</td>\n",
       "    </tr>\n",
       "    <tr>\n",
       "      <th>1</th>\n",
       "      <td>2000</td>\n",
       "      <td>3</td>\n",
       "      <td>15</td>\n",
       "      <td>1497.894057</td>\n",
       "      <td>1507.483303</td>\n",
       "      <td>1500.0</td>\n",
       "      <td>1500.0</td>\n",
       "      <td>1500.0</td>\n",
       "      <td>1500.0</td>\n",
       "      <td>1500.0</td>\n",
       "      <td>...</td>\n",
       "      <td>1500.0</td>\n",
       "      <td>1500.0</td>\n",
       "      <td>1500.0</td>\n",
       "      <td>1500.0</td>\n",
       "      <td>1500.0</td>\n",
       "      <td>1500.0</td>\n",
       "      <td>1500.0</td>\n",
       "      <td>1500.0</td>\n",
       "      <td>1500.0</td>\n",
       "      <td>1500.0</td>\n",
       "    </tr>\n",
       "    <tr>\n",
       "      <th>2</th>\n",
       "      <td>2000</td>\n",
       "      <td>4</td>\n",
       "      <td>7</td>\n",
       "      <td>1491.477570</td>\n",
       "      <td>1531.808422</td>\n",
       "      <td>1500.0</td>\n",
       "      <td>1500.0</td>\n",
       "      <td>1500.0</td>\n",
       "      <td>1500.0</td>\n",
       "      <td>1500.0</td>\n",
       "      <td>...</td>\n",
       "      <td>1500.0</td>\n",
       "      <td>1500.0</td>\n",
       "      <td>1500.0</td>\n",
       "      <td>1500.0</td>\n",
       "      <td>1500.0</td>\n",
       "      <td>1500.0</td>\n",
       "      <td>1500.0</td>\n",
       "      <td>1500.0</td>\n",
       "      <td>1500.0</td>\n",
       "      <td>1500.0</td>\n",
       "    </tr>\n",
       "    <tr>\n",
       "      <th>3</th>\n",
       "      <td>2000</td>\n",
       "      <td>4</td>\n",
       "      <td>26</td>\n",
       "      <td>1491.477570</td>\n",
       "      <td>1531.808422</td>\n",
       "      <td>1500.0</td>\n",
       "      <td>1500.0</td>\n",
       "      <td>1500.0</td>\n",
       "      <td>1500.0</td>\n",
       "      <td>1500.0</td>\n",
       "      <td>...</td>\n",
       "      <td>1500.0</td>\n",
       "      <td>1500.0</td>\n",
       "      <td>1500.0</td>\n",
       "      <td>1500.0</td>\n",
       "      <td>1500.0</td>\n",
       "      <td>1500.0</td>\n",
       "      <td>1500.0</td>\n",
       "      <td>1500.0</td>\n",
       "      <td>1500.0</td>\n",
       "      <td>1500.0</td>\n",
       "    </tr>\n",
       "    <tr>\n",
       "      <th>4</th>\n",
       "      <td>2000</td>\n",
       "      <td>5</td>\n",
       "      <td>7</td>\n",
       "      <td>1491.477570</td>\n",
       "      <td>1531.808422</td>\n",
       "      <td>1500.0</td>\n",
       "      <td>1500.0</td>\n",
       "      <td>1500.0</td>\n",
       "      <td>1500.0</td>\n",
       "      <td>1500.0</td>\n",
       "      <td>...</td>\n",
       "      <td>1500.0</td>\n",
       "      <td>1500.0</td>\n",
       "      <td>1500.0</td>\n",
       "      <td>1500.0</td>\n",
       "      <td>1500.0</td>\n",
       "      <td>1500.0</td>\n",
       "      <td>1500.0</td>\n",
       "      <td>1500.0</td>\n",
       "      <td>1500.0</td>\n",
       "      <td>1500.0</td>\n",
       "    </tr>\n",
       "  </tbody>\n",
       "</table>\n",
       "<p>5 rows × 2812 columns</p>\n",
       "</div>"
      ],
      "text/plain": [
       "   year  month  day  NOCENTINI Rinaldo  REBELLIN Davide  RUTKIEWICZ Marek  \\\n",
       "0  2000      3   11        1497.894057      1500.000000            1500.0   \n",
       "1  2000      3   15        1497.894057      1507.483303            1500.0   \n",
       "2  2000      4    7        1491.477570      1531.808422            1500.0   \n",
       "3  2000      4   26        1491.477570      1531.808422            1500.0   \n",
       "4  2000      5    7        1491.477570      1531.808422            1500.0   \n",
       "\n",
       "   PLAZA Rubén  HAYMAN Mathew  VALVERDE Alejandro  LAVERDE Luis Felipe  ...  \\\n",
       "0       1500.0         1500.0              1500.0               1500.0  ...   \n",
       "1       1500.0         1500.0              1500.0               1500.0  ...   \n",
       "2       1500.0         1500.0              1500.0               1500.0  ...   \n",
       "3       1500.0         1500.0              1500.0               1500.0  ...   \n",
       "4       1500.0         1500.0              1500.0               1500.0  ...   \n",
       "\n",
       "   JEROMEL Vid  SANCHEZ Pablo  KRALJ Fabijan  YOUNG Xeno  ŠARC Leon  \\\n",
       "0       1500.0         1500.0         1500.0      1500.0     1500.0   \n",
       "1       1500.0         1500.0         1500.0      1500.0     1500.0   \n",
       "2       1500.0         1500.0         1500.0      1500.0     1500.0   \n",
       "3       1500.0         1500.0         1500.0      1500.0     1500.0   \n",
       "4       1500.0         1500.0         1500.0      1500.0     1500.0   \n",
       "\n",
       "   WATTS Kiaan  LOHINSKÝ Filip  JOALLAND Yaël  MURIAS Jakub  TRONCHON Bastien  \n",
       "0       1500.0          1500.0         1500.0        1500.0            1500.0  \n",
       "1       1500.0          1500.0         1500.0        1500.0            1500.0  \n",
       "2       1500.0          1500.0         1500.0        1500.0            1500.0  \n",
       "3       1500.0          1500.0         1500.0        1500.0            1500.0  \n",
       "4       1500.0          1500.0         1500.0        1500.0            1500.0  \n",
       "\n",
       "[5 rows x 2812 columns]"
      ]
     },
     "metadata": {},
     "output_type": "display_data"
    },
    {
     "data": {
      "text/html": [
       "<div>\n",
       "<style scoped>\n",
       "    .dataframe tbody tr th:only-of-type {\n",
       "        vertical-align: middle;\n",
       "    }\n",
       "\n",
       "    .dataframe tbody tr th {\n",
       "        vertical-align: top;\n",
       "    }\n",
       "\n",
       "    .dataframe thead th {\n",
       "        text-align: right;\n",
       "    }\n",
       "</style>\n",
       "<table border=\"1\" class=\"dataframe\">\n",
       "  <thead>\n",
       "    <tr style=\"text-align: right;\">\n",
       "      <th></th>\n",
       "      <th>name</th>\n",
       "      <th>stage</th>\n",
       "      <th>points_scale</th>\n",
       "      <th>parcours_type</th>\n",
       "      <th>year</th>\n",
       "      <th>month</th>\n",
       "      <th>day</th>\n",
       "      <th>type</th>\n",
       "      <th>length</th>\n",
       "      <th>profile_score</th>\n",
       "      <th>avg_speed</th>\n",
       "      <th>vertical_meters</th>\n",
       "      <th>won_how</th>\n",
       "      <th>place</th>\n",
       "      <th>rider</th>\n",
       "      <th>team</th>\n",
       "      <th>age</th>\n",
       "      <th>time</th>\n",
       "    </tr>\n",
       "  </thead>\n",
       "  <tbody>\n",
       "    <tr>\n",
       "      <th>0</th>\n",
       "      <td>tour-de-france</td>\n",
       "      <td>stage-1</td>\n",
       "      <td>GT.A.Stage</td>\n",
       "      <td>p3</td>\n",
       "      <td>2021.0</td>\n",
       "      <td>6.0</td>\n",
       "      <td>26.0</td>\n",
       "      <td>standard</td>\n",
       "      <td>197.8</td>\n",
       "      <td>109.0</td>\n",
       "      <td>42.525 km/h</td>\n",
       "      <td>2843.0</td>\n",
       "      <td>2.2 km solo</td>\n",
       "      <td>1.0</td>\n",
       "      <td>ALAPHILIPPE Julian</td>\n",
       "      <td>Deceuninck - Quick Step</td>\n",
       "      <td>29.0</td>\n",
       "      <td>0.0</td>\n",
       "    </tr>\n",
       "    <tr>\n",
       "      <th>1</th>\n",
       "      <td>tour-de-france</td>\n",
       "      <td>stage-1</td>\n",
       "      <td>GT.A.Stage</td>\n",
       "      <td>p3</td>\n",
       "      <td>2021.0</td>\n",
       "      <td>6.0</td>\n",
       "      <td>26.0</td>\n",
       "      <td>standard</td>\n",
       "      <td>197.8</td>\n",
       "      <td>109.0</td>\n",
       "      <td>42.525 km/h</td>\n",
       "      <td>2843.0</td>\n",
       "      <td>2.2 km solo</td>\n",
       "      <td>2.0</td>\n",
       "      <td>MATTHEWS Michael</td>\n",
       "      <td>Team BikeExchange</td>\n",
       "      <td>30.0</td>\n",
       "      <td>8.0</td>\n",
       "    </tr>\n",
       "    <tr>\n",
       "      <th>2</th>\n",
       "      <td>tour-de-france</td>\n",
       "      <td>stage-1</td>\n",
       "      <td>GT.A.Stage</td>\n",
       "      <td>p3</td>\n",
       "      <td>2021.0</td>\n",
       "      <td>6.0</td>\n",
       "      <td>26.0</td>\n",
       "      <td>standard</td>\n",
       "      <td>197.8</td>\n",
       "      <td>109.0</td>\n",
       "      <td>42.525 km/h</td>\n",
       "      <td>2843.0</td>\n",
       "      <td>2.2 km solo</td>\n",
       "      <td>3.0</td>\n",
       "      <td>ROGLIČ Primož</td>\n",
       "      <td>Team Jumbo-Visma</td>\n",
       "      <td>31.0</td>\n",
       "      <td>8.0</td>\n",
       "    </tr>\n",
       "    <tr>\n",
       "      <th>3</th>\n",
       "      <td>tour-de-france</td>\n",
       "      <td>stage-1</td>\n",
       "      <td>GT.A.Stage</td>\n",
       "      <td>p3</td>\n",
       "      <td>2021.0</td>\n",
       "      <td>6.0</td>\n",
       "      <td>26.0</td>\n",
       "      <td>standard</td>\n",
       "      <td>197.8</td>\n",
       "      <td>109.0</td>\n",
       "      <td>42.525 km/h</td>\n",
       "      <td>2843.0</td>\n",
       "      <td>2.2 km solo</td>\n",
       "      <td>4.0</td>\n",
       "      <td>HAIG Jack</td>\n",
       "      <td>Bahrain - Victorious</td>\n",
       "      <td>27.0</td>\n",
       "      <td>8.0</td>\n",
       "    </tr>\n",
       "    <tr>\n",
       "      <th>4</th>\n",
       "      <td>tour-de-france</td>\n",
       "      <td>stage-1</td>\n",
       "      <td>GT.A.Stage</td>\n",
       "      <td>p3</td>\n",
       "      <td>2021.0</td>\n",
       "      <td>6.0</td>\n",
       "      <td>26.0</td>\n",
       "      <td>standard</td>\n",
       "      <td>197.8</td>\n",
       "      <td>109.0</td>\n",
       "      <td>42.525 km/h</td>\n",
       "      <td>2843.0</td>\n",
       "      <td>2.2 km solo</td>\n",
       "      <td>5.0</td>\n",
       "      <td>KELDERMAN Wilco</td>\n",
       "      <td>BORA - hansgrohe</td>\n",
       "      <td>30.0</td>\n",
       "      <td>8.0</td>\n",
       "    </tr>\n",
       "  </tbody>\n",
       "</table>\n",
       "</div>"
      ],
      "text/plain": [
       "             name    stage points_scale parcours_type    year  month   day  \\\n",
       "0  tour-de-france  stage-1   GT.A.Stage            p3  2021.0    6.0  26.0   \n",
       "1  tour-de-france  stage-1   GT.A.Stage            p3  2021.0    6.0  26.0   \n",
       "2  tour-de-france  stage-1   GT.A.Stage            p3  2021.0    6.0  26.0   \n",
       "3  tour-de-france  stage-1   GT.A.Stage            p3  2021.0    6.0  26.0   \n",
       "4  tour-de-france  stage-1   GT.A.Stage            p3  2021.0    6.0  26.0   \n",
       "\n",
       "       type  length  profile_score    avg_speed  vertical_meters      won_how  \\\n",
       "0  standard   197.8          109.0  42.525 km/h           2843.0  2.2 km solo   \n",
       "1  standard   197.8          109.0  42.525 km/h           2843.0  2.2 km solo   \n",
       "2  standard   197.8          109.0  42.525 km/h           2843.0  2.2 km solo   \n",
       "3  standard   197.8          109.0  42.525 km/h           2843.0  2.2 km solo   \n",
       "4  standard   197.8          109.0  42.525 km/h           2843.0  2.2 km solo   \n",
       "\n",
       "   place               rider                     team   age  time  \n",
       "0    1.0  ALAPHILIPPE Julian  Deceuninck - Quick Step  29.0   0.0  \n",
       "1    2.0    MATTHEWS Michael        Team BikeExchange  30.0   8.0  \n",
       "2    3.0       ROGLIČ Primož         Team Jumbo-Visma  31.0   8.0  \n",
       "3    4.0           HAIG Jack     Bahrain - Victorious  27.0   8.0  \n",
       "4    5.0     KELDERMAN Wilco         BORA - hansgrohe  30.0   8.0  "
      ]
     },
     "execution_count": 59,
     "metadata": {},
     "output_type": "execute_result"
    }
   ],
   "source": [
    "ratings = pd.read_csv(RATINGS_DATA_PATH)\n",
    "results = pd.read_csv(RACE_RESULTS_PATH)\n",
    "\n",
    "display(ratings.head(5))\n",
    "results.head(5)"
   ]
  },
  {
   "cell_type": "code",
   "execution_count": null,
   "metadata": {},
   "outputs": [],
   "source": []
  },
  {
   "cell_type": "code",
   "execution_count": 60,
   "metadata": {},
   "outputs": [],
   "source": [
    "STARTLIST = [rider for rider in utils.get_startlist(RACE, YEAR) if rider in ratings.columns]"
   ]
  },
  {
   "cell_type": "code",
   "execution_count": 61,
   "metadata": {},
   "outputs": [],
   "source": [
    "def gen_table_figure(df, title, width = 1300, height = 650):\n",
    "    \n",
    "#     n = len(df.index)\n",
    "#     font_color = []\n",
    "#     for col in ['Rank', 'Rider', 'Delta', 'Team', 'Rating']:\n",
    "#         if col == 'Delta':\n",
    "            \n",
    "#             delta_font = []\n",
    "#             for val in df.Delta:\n",
    "#                 if val == '':\n",
    "#                     delta_font.append('black')\n",
    "#                 elif val > 0:\n",
    "#                     delta_font.append('green')\n",
    "#                 else:\n",
    "#                     delta_font.append('red')\n",
    "#             font_color.append(delta_font)\n",
    "        \n",
    "#         else:\n",
    "#             font_color.append(['black'] * n)\n",
    "    \n",
    "    fig = go.Figure(\n",
    "        \n",
    "        # table data\n",
    "        data = [\n",
    "            go.Table(\n",
    "                header = dict(\n",
    "                    values = list(df.columns),\n",
    "                    font_color = 'black',\n",
    "                    fill_color = '#FF8500',\n",
    "                    align = 'center'\n",
    "                ),\n",
    "                cells = dict(\n",
    "                    values = [df.Rank, df.Rider, df.Team, df.Rating],\n",
    "                    #font_color = font_color,\n",
    "                    fill_color = 'white',\n",
    "                    align = 'center'\n",
    "                )\n",
    "            )\n",
    "        ],\n",
    "        \n",
    "        # table layout settings\n",
    "        layout = go.Layout(\n",
    "            title = dict(\n",
    "                text = title,\n",
    "                x = 0.5,\n",
    "                font_color = 'black'\n",
    "            ),\n",
    "            \n",
    "            width = width,\n",
    "            height = height,\n",
    "        )\n",
    "    )\n",
    "    \n",
    "    return fig\n",
    "\n",
    "def gen_rankings_viz(ratings, results, rating_limit = 20, \n",
    "                     period_date = date(year = 2022, month = 6, day = 12), title = '', fname = None):\n",
    "    \"\"\"\n",
    "    Given both ranking and race results data, output a table displaying the rankings\n",
    "    in order for this race type and gender. If a filename is given with the fname\n",
    "    variable, then the image will be saved.\n",
    "    \"\"\"\n",
    "    \n",
    "    # ensure df is sorted chronologically\n",
    "    sorted_ratings = ratings#ratings.sort_values(by = ['year', 'month', 'day'])\n",
    "    \n",
    "    # get most recent ranking\n",
    "    most_recent_ratings = sorted_ratings.iloc[-1, :]\n",
    "    \n",
    "    # get date of most recent ranking and then drop date cols\n",
    "    ranking_date = date(\n",
    "        year = int(most_recent_ratings['year']),\n",
    "        month = int(most_recent_ratings['month']),\n",
    "        day = int(most_recent_ratings['day'])\n",
    "    )\n",
    "    most_recent_ratings = most_recent_ratings.drop(index = ['year', 'month', 'day'])\n",
    "    \n",
    "    delta_idx = len(ratings.index) - 1\n",
    "    deltas = {}\n",
    "    for i in range(len(ratings.index) - 1, -1, -1):\n",
    "        idx_date = date(\n",
    "            year = int(ratings['year'].iloc[i]),\n",
    "            month = int(ratings['month'].iloc[i]),\n",
    "            day = int(ratings['day'].iloc[i])\n",
    "        )\n",
    "        if idx_date >= period_date:\n",
    "            delta_idx = i\n",
    "        else:\n",
    "            break\n",
    "    \n",
    "    deltas = [\n",
    "            round(most_recent_ratings[col] - ratings[col].iloc[delta_idx], 2)\n",
    "            for col in most_recent_ratings.index\n",
    "    ]\n",
    "    for col in most_recent_ratings.index:\n",
    "        rating_diff = most_recent_ratings[col] - ratings[col].iloc[delta_idx]\n",
    "        if col == 'GROENEWEGEN Dylan':\n",
    "            print(most_recent_ratings[col], ratings[col].iloc[delta_idx])\n",
    "    #deltas = [d if d != 0 else '' for d in deltas]\n",
    "    \n",
    "    # get rider names and ratings\n",
    "    riders = sorted(list(zip(\n",
    "        list(most_recent_ratings.index),\n",
    "        [round(r, 2) for r in most_recent_ratings],\n",
    "        deltas\n",
    "    )), key = lambda t: t[1], reverse = True)\n",
    "    \n",
    "    # get only rider individual race days\n",
    "    indiv_race_days = results[results['type'] != 'gc']\n",
    "    \n",
    "    # get rider race days and teams\n",
    "    rider_names = []\n",
    "    rider_ratings = []\n",
    "    rider_deltas = []\n",
    "    race_days = []\n",
    "    teams = []\n",
    "    num = 0\n",
    "    for rider in riders:\n",
    "\n",
    "        rider_res = indiv_race_days[indiv_race_days['rider'] == rider[0]].sort_values(by = ['year', 'month', 'day'])\n",
    "        rider_year_df = rider_res[rider_res['year'] == ranking_date.year]\n",
    "        \n",
    "        if len(rider_year_df.index) > 0:\n",
    "            rider_names.append(rider[0])\n",
    "            rider_ratings.append(rider[1])\n",
    "            rider_deltas.append(rider[2])\n",
    "            teams.append(rider_res['team'].iloc[-1])\n",
    "            race_days.append(len(rider_year_df.index))\n",
    "            num += 1\n",
    "        \n",
    "        if num >= rating_limit:\n",
    "            break\n",
    "    \n",
    "    table_df = pd.DataFrame(data = {\n",
    "        'Rank': [i + 1 for i in range(len(rider_names))],\n",
    "        'Rider': rider_names,\n",
    "        #'Delta': rider_deltas,\n",
    "        'Team': teams,\n",
    "        'Rating': rider_ratings,\n",
    "    })\n",
    "    \n",
    "    fig = gen_table_figure(table_df, title)\n",
    "    \n",
    "    if fname is not None:\n",
    "        fig.write_image(f'figures/{fname}')\n",
    "    \n",
    "    return fig"
   ]
  },
  {
   "cell_type": "code",
   "execution_count": 62,
   "metadata": {
    "scrolled": false
   },
   "outputs": [
    {
     "name": "stdout",
     "output_type": "stream",
     "text": [
      "1458.0007030223346 1470.8120794127842\n"
     ]
    },
    {
     "data": {
      "application/vnd.plotly.v1+json": {
       "config": {
        "plotlyServerURL": "https://plot.ly"
       },
       "data": [
        {
         "cells": {
          "align": "center",
          "fill": {
           "color": "white"
          },
          "values": [
           [
            1,
            2,
            3,
            4,
            5,
            6,
            7,
            8,
            9,
            10,
            11,
            12,
            13,
            14,
            15,
            16,
            17,
            18,
            19,
            20
           ],
           [
            "VINGEGAARD Jonas",
            "ROGLIČ Primož",
            "POGAČAR Tadej",
            "HINDLEY Jai",
            "THOMAS Geraint",
            "CARAPAZ Richard",
            "VLASOV Aleksandr",
            "GAUDU David",
            "YATES Simon",
            "LANDA Mikel",
            "MAS Enric",
            "PORTE Richie",
            "HIGUITA Sergio",
            "O'CONNOR Ben",
            "YATES Adam",
            "CARUSO Damiano",
            "QUINTANA Nairo",
            "MARTÍNEZ Daniel Felipe",
            "HAIG Jack",
            "EVENEPOEL Remco"
           ],
           [
            "Jumbo-Visma",
            "Jumbo-Visma",
            "UAE Team Emirates",
            "BORA - hansgrohe",
            "INEOS Grenadiers",
            "INEOS Grenadiers",
            "BORA - hansgrohe",
            "Groupama - FDJ",
            "Team BikeExchange - Jayco",
            "Bahrain - Victorious",
            "Movistar Team",
            "INEOS Grenadiers",
            "BORA - hansgrohe",
            "AG2R Citroën Team",
            "INEOS Grenadiers",
            "Bahrain - Victorious",
            "Team Arkéa Samsic",
            "INEOS Grenadiers",
            "Bahrain - Victorious",
            "Quick-Step Alpha Vinyl Team"
           ],
           [
            2227.72,
            2063.87,
            2053.57,
            1980.27,
            1923.52,
            1892.07,
            1843.09,
            1832.52,
            1830.41,
            1822.43,
            1817.94,
            1810.73,
            1788.52,
            1787.87,
            1786.83,
            1781.43,
            1776.8,
            1771.5,
            1764.89,
            1759.51
           ]
          ]
         },
         "header": {
          "align": "center",
          "fill": {
           "color": "#FF8500"
          },
          "font": {
           "color": "black"
          },
          "values": [
           "Rank",
           "Rider",
           "Team",
           "Rating"
          ]
         },
         "type": "table"
        }
       ],
       "layout": {
        "height": 650,
        "template": {
         "data": {
          "bar": [
           {
            "error_x": {
             "color": "#2a3f5f"
            },
            "error_y": {
             "color": "#2a3f5f"
            },
            "marker": {
             "line": {
              "color": "#E5ECF6",
              "width": 0.5
             },
             "pattern": {
              "fillmode": "overlay",
              "size": 10,
              "solidity": 0.2
             }
            },
            "type": "bar"
           }
          ],
          "barpolar": [
           {
            "marker": {
             "line": {
              "color": "#E5ECF6",
              "width": 0.5
             },
             "pattern": {
              "fillmode": "overlay",
              "size": 10,
              "solidity": 0.2
             }
            },
            "type": "barpolar"
           }
          ],
          "carpet": [
           {
            "aaxis": {
             "endlinecolor": "#2a3f5f",
             "gridcolor": "white",
             "linecolor": "white",
             "minorgridcolor": "white",
             "startlinecolor": "#2a3f5f"
            },
            "baxis": {
             "endlinecolor": "#2a3f5f",
             "gridcolor": "white",
             "linecolor": "white",
             "minorgridcolor": "white",
             "startlinecolor": "#2a3f5f"
            },
            "type": "carpet"
           }
          ],
          "choropleth": [
           {
            "colorbar": {
             "outlinewidth": 0,
             "ticks": ""
            },
            "type": "choropleth"
           }
          ],
          "contour": [
           {
            "colorbar": {
             "outlinewidth": 0,
             "ticks": ""
            },
            "colorscale": [
             [
              0,
              "#0d0887"
             ],
             [
              0.1111111111111111,
              "#46039f"
             ],
             [
              0.2222222222222222,
              "#7201a8"
             ],
             [
              0.3333333333333333,
              "#9c179e"
             ],
             [
              0.4444444444444444,
              "#bd3786"
             ],
             [
              0.5555555555555556,
              "#d8576b"
             ],
             [
              0.6666666666666666,
              "#ed7953"
             ],
             [
              0.7777777777777778,
              "#fb9f3a"
             ],
             [
              0.8888888888888888,
              "#fdca26"
             ],
             [
              1,
              "#f0f921"
             ]
            ],
            "type": "contour"
           }
          ],
          "contourcarpet": [
           {
            "colorbar": {
             "outlinewidth": 0,
             "ticks": ""
            },
            "type": "contourcarpet"
           }
          ],
          "heatmap": [
           {
            "colorbar": {
             "outlinewidth": 0,
             "ticks": ""
            },
            "colorscale": [
             [
              0,
              "#0d0887"
             ],
             [
              0.1111111111111111,
              "#46039f"
             ],
             [
              0.2222222222222222,
              "#7201a8"
             ],
             [
              0.3333333333333333,
              "#9c179e"
             ],
             [
              0.4444444444444444,
              "#bd3786"
             ],
             [
              0.5555555555555556,
              "#d8576b"
             ],
             [
              0.6666666666666666,
              "#ed7953"
             ],
             [
              0.7777777777777778,
              "#fb9f3a"
             ],
             [
              0.8888888888888888,
              "#fdca26"
             ],
             [
              1,
              "#f0f921"
             ]
            ],
            "type": "heatmap"
           }
          ],
          "heatmapgl": [
           {
            "colorbar": {
             "outlinewidth": 0,
             "ticks": ""
            },
            "colorscale": [
             [
              0,
              "#0d0887"
             ],
             [
              0.1111111111111111,
              "#46039f"
             ],
             [
              0.2222222222222222,
              "#7201a8"
             ],
             [
              0.3333333333333333,
              "#9c179e"
             ],
             [
              0.4444444444444444,
              "#bd3786"
             ],
             [
              0.5555555555555556,
              "#d8576b"
             ],
             [
              0.6666666666666666,
              "#ed7953"
             ],
             [
              0.7777777777777778,
              "#fb9f3a"
             ],
             [
              0.8888888888888888,
              "#fdca26"
             ],
             [
              1,
              "#f0f921"
             ]
            ],
            "type": "heatmapgl"
           }
          ],
          "histogram": [
           {
            "marker": {
             "pattern": {
              "fillmode": "overlay",
              "size": 10,
              "solidity": 0.2
             }
            },
            "type": "histogram"
           }
          ],
          "histogram2d": [
           {
            "colorbar": {
             "outlinewidth": 0,
             "ticks": ""
            },
            "colorscale": [
             [
              0,
              "#0d0887"
             ],
             [
              0.1111111111111111,
              "#46039f"
             ],
             [
              0.2222222222222222,
              "#7201a8"
             ],
             [
              0.3333333333333333,
              "#9c179e"
             ],
             [
              0.4444444444444444,
              "#bd3786"
             ],
             [
              0.5555555555555556,
              "#d8576b"
             ],
             [
              0.6666666666666666,
              "#ed7953"
             ],
             [
              0.7777777777777778,
              "#fb9f3a"
             ],
             [
              0.8888888888888888,
              "#fdca26"
             ],
             [
              1,
              "#f0f921"
             ]
            ],
            "type": "histogram2d"
           }
          ],
          "histogram2dcontour": [
           {
            "colorbar": {
             "outlinewidth": 0,
             "ticks": ""
            },
            "colorscale": [
             [
              0,
              "#0d0887"
             ],
             [
              0.1111111111111111,
              "#46039f"
             ],
             [
              0.2222222222222222,
              "#7201a8"
             ],
             [
              0.3333333333333333,
              "#9c179e"
             ],
             [
              0.4444444444444444,
              "#bd3786"
             ],
             [
              0.5555555555555556,
              "#d8576b"
             ],
             [
              0.6666666666666666,
              "#ed7953"
             ],
             [
              0.7777777777777778,
              "#fb9f3a"
             ],
             [
              0.8888888888888888,
              "#fdca26"
             ],
             [
              1,
              "#f0f921"
             ]
            ],
            "type": "histogram2dcontour"
           }
          ],
          "mesh3d": [
           {
            "colorbar": {
             "outlinewidth": 0,
             "ticks": ""
            },
            "type": "mesh3d"
           }
          ],
          "parcoords": [
           {
            "line": {
             "colorbar": {
              "outlinewidth": 0,
              "ticks": ""
             }
            },
            "type": "parcoords"
           }
          ],
          "pie": [
           {
            "automargin": true,
            "type": "pie"
           }
          ],
          "scatter": [
           {
            "fillpattern": {
             "fillmode": "overlay",
             "size": 10,
             "solidity": 0.2
            },
            "type": "scatter"
           }
          ],
          "scatter3d": [
           {
            "line": {
             "colorbar": {
              "outlinewidth": 0,
              "ticks": ""
             }
            },
            "marker": {
             "colorbar": {
              "outlinewidth": 0,
              "ticks": ""
             }
            },
            "type": "scatter3d"
           }
          ],
          "scattercarpet": [
           {
            "marker": {
             "colorbar": {
              "outlinewidth": 0,
              "ticks": ""
             }
            },
            "type": "scattercarpet"
           }
          ],
          "scattergeo": [
           {
            "marker": {
             "colorbar": {
              "outlinewidth": 0,
              "ticks": ""
             }
            },
            "type": "scattergeo"
           }
          ],
          "scattergl": [
           {
            "marker": {
             "colorbar": {
              "outlinewidth": 0,
              "ticks": ""
             }
            },
            "type": "scattergl"
           }
          ],
          "scattermapbox": [
           {
            "marker": {
             "colorbar": {
              "outlinewidth": 0,
              "ticks": ""
             }
            },
            "type": "scattermapbox"
           }
          ],
          "scatterpolar": [
           {
            "marker": {
             "colorbar": {
              "outlinewidth": 0,
              "ticks": ""
             }
            },
            "type": "scatterpolar"
           }
          ],
          "scatterpolargl": [
           {
            "marker": {
             "colorbar": {
              "outlinewidth": 0,
              "ticks": ""
             }
            },
            "type": "scatterpolargl"
           }
          ],
          "scatterternary": [
           {
            "marker": {
             "colorbar": {
              "outlinewidth": 0,
              "ticks": ""
             }
            },
            "type": "scatterternary"
           }
          ],
          "surface": [
           {
            "colorbar": {
             "outlinewidth": 0,
             "ticks": ""
            },
            "colorscale": [
             [
              0,
              "#0d0887"
             ],
             [
              0.1111111111111111,
              "#46039f"
             ],
             [
              0.2222222222222222,
              "#7201a8"
             ],
             [
              0.3333333333333333,
              "#9c179e"
             ],
             [
              0.4444444444444444,
              "#bd3786"
             ],
             [
              0.5555555555555556,
              "#d8576b"
             ],
             [
              0.6666666666666666,
              "#ed7953"
             ],
             [
              0.7777777777777778,
              "#fb9f3a"
             ],
             [
              0.8888888888888888,
              "#fdca26"
             ],
             [
              1,
              "#f0f921"
             ]
            ],
            "type": "surface"
           }
          ],
          "table": [
           {
            "cells": {
             "fill": {
              "color": "#EBF0F8"
             },
             "line": {
              "color": "white"
             }
            },
            "header": {
             "fill": {
              "color": "#C8D4E3"
             },
             "line": {
              "color": "white"
             }
            },
            "type": "table"
           }
          ]
         },
         "layout": {
          "annotationdefaults": {
           "arrowcolor": "#2a3f5f",
           "arrowhead": 0,
           "arrowwidth": 1
          },
          "autotypenumbers": "strict",
          "coloraxis": {
           "colorbar": {
            "outlinewidth": 0,
            "ticks": ""
           }
          },
          "colorscale": {
           "diverging": [
            [
             0,
             "#8e0152"
            ],
            [
             0.1,
             "#c51b7d"
            ],
            [
             0.2,
             "#de77ae"
            ],
            [
             0.3,
             "#f1b6da"
            ],
            [
             0.4,
             "#fde0ef"
            ],
            [
             0.5,
             "#f7f7f7"
            ],
            [
             0.6,
             "#e6f5d0"
            ],
            [
             0.7,
             "#b8e186"
            ],
            [
             0.8,
             "#7fbc41"
            ],
            [
             0.9,
             "#4d9221"
            ],
            [
             1,
             "#276419"
            ]
           ],
           "sequential": [
            [
             0,
             "#0d0887"
            ],
            [
             0.1111111111111111,
             "#46039f"
            ],
            [
             0.2222222222222222,
             "#7201a8"
            ],
            [
             0.3333333333333333,
             "#9c179e"
            ],
            [
             0.4444444444444444,
             "#bd3786"
            ],
            [
             0.5555555555555556,
             "#d8576b"
            ],
            [
             0.6666666666666666,
             "#ed7953"
            ],
            [
             0.7777777777777778,
             "#fb9f3a"
            ],
            [
             0.8888888888888888,
             "#fdca26"
            ],
            [
             1,
             "#f0f921"
            ]
           ],
           "sequentialminus": [
            [
             0,
             "#0d0887"
            ],
            [
             0.1111111111111111,
             "#46039f"
            ],
            [
             0.2222222222222222,
             "#7201a8"
            ],
            [
             0.3333333333333333,
             "#9c179e"
            ],
            [
             0.4444444444444444,
             "#bd3786"
            ],
            [
             0.5555555555555556,
             "#d8576b"
            ],
            [
             0.6666666666666666,
             "#ed7953"
            ],
            [
             0.7777777777777778,
             "#fb9f3a"
            ],
            [
             0.8888888888888888,
             "#fdca26"
            ],
            [
             1,
             "#f0f921"
            ]
           ]
          },
          "colorway": [
           "#636efa",
           "#EF553B",
           "#00cc96",
           "#ab63fa",
           "#FFA15A",
           "#19d3f3",
           "#FF6692",
           "#B6E880",
           "#FF97FF",
           "#FECB52"
          ],
          "font": {
           "color": "#2a3f5f"
          },
          "geo": {
           "bgcolor": "white",
           "lakecolor": "white",
           "landcolor": "#E5ECF6",
           "showlakes": true,
           "showland": true,
           "subunitcolor": "white"
          },
          "hoverlabel": {
           "align": "left"
          },
          "hovermode": "closest",
          "mapbox": {
           "style": "light"
          },
          "paper_bgcolor": "white",
          "plot_bgcolor": "#E5ECF6",
          "polar": {
           "angularaxis": {
            "gridcolor": "white",
            "linecolor": "white",
            "ticks": ""
           },
           "bgcolor": "#E5ECF6",
           "radialaxis": {
            "gridcolor": "white",
            "linecolor": "white",
            "ticks": ""
           }
          },
          "scene": {
           "xaxis": {
            "backgroundcolor": "#E5ECF6",
            "gridcolor": "white",
            "gridwidth": 2,
            "linecolor": "white",
            "showbackground": true,
            "ticks": "",
            "zerolinecolor": "white"
           },
           "yaxis": {
            "backgroundcolor": "#E5ECF6",
            "gridcolor": "white",
            "gridwidth": 2,
            "linecolor": "white",
            "showbackground": true,
            "ticks": "",
            "zerolinecolor": "white"
           },
           "zaxis": {
            "backgroundcolor": "#E5ECF6",
            "gridcolor": "white",
            "gridwidth": 2,
            "linecolor": "white",
            "showbackground": true,
            "ticks": "",
            "zerolinecolor": "white"
           }
          },
          "shapedefaults": {
           "line": {
            "color": "#2a3f5f"
           }
          },
          "ternary": {
           "aaxis": {
            "gridcolor": "white",
            "linecolor": "white",
            "ticks": ""
           },
           "baxis": {
            "gridcolor": "white",
            "linecolor": "white",
            "ticks": ""
           },
           "bgcolor": "#E5ECF6",
           "caxis": {
            "gridcolor": "white",
            "linecolor": "white",
            "ticks": ""
           }
          },
          "title": {
           "x": 0.05
          },
          "xaxis": {
           "automargin": true,
           "gridcolor": "white",
           "linecolor": "white",
           "ticks": "",
           "title": {
            "standoff": 15
           },
           "zerolinecolor": "white",
           "zerolinewidth": 2
          },
          "yaxis": {
           "automargin": true,
           "gridcolor": "white",
           "linecolor": "white",
           "ticks": "",
           "title": {
            "standoff": 15
           },
           "zerolinecolor": "white",
           "zerolinewidth": 2
          }
         }
        },
        "title": {
         "font": {
          "color": "black"
         },
         "text": "GC Elo Ranking",
         "x": 0.5
        },
        "width": 1300
       }
      },
      "text/html": [
       "<div>                            <div id=\"8520b096-1e51-4b08-b190-abd374df303e\" class=\"plotly-graph-div\" style=\"height:650px; width:1300px;\"></div>            <script type=\"text/javascript\">                require([\"plotly\"], function(Plotly) {                    window.PLOTLYENV=window.PLOTLYENV || {};                                    if (document.getElementById(\"8520b096-1e51-4b08-b190-abd374df303e\")) {                    Plotly.newPlot(                        \"8520b096-1e51-4b08-b190-abd374df303e\",                        [{\"cells\":{\"align\":\"center\",\"fill\":{\"color\":\"white\"},\"values\":[[1,2,3,4,5,6,7,8,9,10,11,12,13,14,15,16,17,18,19,20],[\"VINGEGAARD Jonas\",\"ROGLI\\u010c Primo\\u017e\",\"POGA\\u010cAR Tadej\",\"HINDLEY Jai\",\"THOMAS Geraint\",\"CARAPAZ Richard\",\"VLASOV Aleksandr\",\"GAUDU David\",\"YATES Simon\",\"LANDA Mikel\",\"MAS Enric\",\"PORTE Richie\",\"HIGUITA Sergio\",\"O'CONNOR Ben\",\"YATES Adam\",\"CARUSO Damiano\",\"QUINTANA Nairo\",\"MART\\u00cdNEZ Daniel Felipe\",\"HAIG Jack\",\"EVENEPOEL Remco\"],[\"Jumbo-Visma\",\"Jumbo-Visma\",\"UAE Team Emirates\",\"BORA - hansgrohe\",\"INEOS Grenadiers\",\"INEOS Grenadiers\",\"BORA - hansgrohe\",\"Groupama - FDJ\",\"Team BikeExchange - Jayco\",\"Bahrain - Victorious\",\"Movistar Team\",\"INEOS Grenadiers\",\"BORA - hansgrohe\",\"AG2R Citro\\u00ebn Team\",\"INEOS Grenadiers\",\"Bahrain - Victorious\",\"Team Ark\\u00e9a Samsic\",\"INEOS Grenadiers\",\"Bahrain - Victorious\",\"Quick-Step Alpha Vinyl Team\"],[2227.72,2063.87,2053.57,1980.27,1923.52,1892.07,1843.09,1832.52,1830.41,1822.43,1817.94,1810.73,1788.52,1787.87,1786.83,1781.43,1776.8,1771.5,1764.89,1759.51]]},\"header\":{\"align\":\"center\",\"fill\":{\"color\":\"#FF8500\"},\"font\":{\"color\":\"black\"},\"values\":[\"Rank\",\"Rider\",\"Team\",\"Rating\"]},\"type\":\"table\"}],                        {\"height\":650,\"title\":{\"font\":{\"color\":\"black\"},\"text\":\"GC Elo Ranking\",\"x\":0.5},\"width\":1300,\"template\":{\"data\":{\"histogram2dcontour\":[{\"type\":\"histogram2dcontour\",\"colorbar\":{\"outlinewidth\":0,\"ticks\":\"\"},\"colorscale\":[[0.0,\"#0d0887\"],[0.1111111111111111,\"#46039f\"],[0.2222222222222222,\"#7201a8\"],[0.3333333333333333,\"#9c179e\"],[0.4444444444444444,\"#bd3786\"],[0.5555555555555556,\"#d8576b\"],[0.6666666666666666,\"#ed7953\"],[0.7777777777777778,\"#fb9f3a\"],[0.8888888888888888,\"#fdca26\"],[1.0,\"#f0f921\"]]}],\"choropleth\":[{\"type\":\"choropleth\",\"colorbar\":{\"outlinewidth\":0,\"ticks\":\"\"}}],\"histogram2d\":[{\"type\":\"histogram2d\",\"colorbar\":{\"outlinewidth\":0,\"ticks\":\"\"},\"colorscale\":[[0.0,\"#0d0887\"],[0.1111111111111111,\"#46039f\"],[0.2222222222222222,\"#7201a8\"],[0.3333333333333333,\"#9c179e\"],[0.4444444444444444,\"#bd3786\"],[0.5555555555555556,\"#d8576b\"],[0.6666666666666666,\"#ed7953\"],[0.7777777777777778,\"#fb9f3a\"],[0.8888888888888888,\"#fdca26\"],[1.0,\"#f0f921\"]]}],\"heatmap\":[{\"type\":\"heatmap\",\"colorbar\":{\"outlinewidth\":0,\"ticks\":\"\"},\"colorscale\":[[0.0,\"#0d0887\"],[0.1111111111111111,\"#46039f\"],[0.2222222222222222,\"#7201a8\"],[0.3333333333333333,\"#9c179e\"],[0.4444444444444444,\"#bd3786\"],[0.5555555555555556,\"#d8576b\"],[0.6666666666666666,\"#ed7953\"],[0.7777777777777778,\"#fb9f3a\"],[0.8888888888888888,\"#fdca26\"],[1.0,\"#f0f921\"]]}],\"heatmapgl\":[{\"type\":\"heatmapgl\",\"colorbar\":{\"outlinewidth\":0,\"ticks\":\"\"},\"colorscale\":[[0.0,\"#0d0887\"],[0.1111111111111111,\"#46039f\"],[0.2222222222222222,\"#7201a8\"],[0.3333333333333333,\"#9c179e\"],[0.4444444444444444,\"#bd3786\"],[0.5555555555555556,\"#d8576b\"],[0.6666666666666666,\"#ed7953\"],[0.7777777777777778,\"#fb9f3a\"],[0.8888888888888888,\"#fdca26\"],[1.0,\"#f0f921\"]]}],\"contourcarpet\":[{\"type\":\"contourcarpet\",\"colorbar\":{\"outlinewidth\":0,\"ticks\":\"\"}}],\"contour\":[{\"type\":\"contour\",\"colorbar\":{\"outlinewidth\":0,\"ticks\":\"\"},\"colorscale\":[[0.0,\"#0d0887\"],[0.1111111111111111,\"#46039f\"],[0.2222222222222222,\"#7201a8\"],[0.3333333333333333,\"#9c179e\"],[0.4444444444444444,\"#bd3786\"],[0.5555555555555556,\"#d8576b\"],[0.6666666666666666,\"#ed7953\"],[0.7777777777777778,\"#fb9f3a\"],[0.8888888888888888,\"#fdca26\"],[1.0,\"#f0f921\"]]}],\"surface\":[{\"type\":\"surface\",\"colorbar\":{\"outlinewidth\":0,\"ticks\":\"\"},\"colorscale\":[[0.0,\"#0d0887\"],[0.1111111111111111,\"#46039f\"],[0.2222222222222222,\"#7201a8\"],[0.3333333333333333,\"#9c179e\"],[0.4444444444444444,\"#bd3786\"],[0.5555555555555556,\"#d8576b\"],[0.6666666666666666,\"#ed7953\"],[0.7777777777777778,\"#fb9f3a\"],[0.8888888888888888,\"#fdca26\"],[1.0,\"#f0f921\"]]}],\"mesh3d\":[{\"type\":\"mesh3d\",\"colorbar\":{\"outlinewidth\":0,\"ticks\":\"\"}}],\"scatter\":[{\"fillpattern\":{\"fillmode\":\"overlay\",\"size\":10,\"solidity\":0.2},\"type\":\"scatter\"}],\"parcoords\":[{\"type\":\"parcoords\",\"line\":{\"colorbar\":{\"outlinewidth\":0,\"ticks\":\"\"}}}],\"scatterpolargl\":[{\"type\":\"scatterpolargl\",\"marker\":{\"colorbar\":{\"outlinewidth\":0,\"ticks\":\"\"}}}],\"bar\":[{\"error_x\":{\"color\":\"#2a3f5f\"},\"error_y\":{\"color\":\"#2a3f5f\"},\"marker\":{\"line\":{\"color\":\"#E5ECF6\",\"width\":0.5},\"pattern\":{\"fillmode\":\"overlay\",\"size\":10,\"solidity\":0.2}},\"type\":\"bar\"}],\"scattergeo\":[{\"type\":\"scattergeo\",\"marker\":{\"colorbar\":{\"outlinewidth\":0,\"ticks\":\"\"}}}],\"scatterpolar\":[{\"type\":\"scatterpolar\",\"marker\":{\"colorbar\":{\"outlinewidth\":0,\"ticks\":\"\"}}}],\"histogram\":[{\"marker\":{\"pattern\":{\"fillmode\":\"overlay\",\"size\":10,\"solidity\":0.2}},\"type\":\"histogram\"}],\"scattergl\":[{\"type\":\"scattergl\",\"marker\":{\"colorbar\":{\"outlinewidth\":0,\"ticks\":\"\"}}}],\"scatter3d\":[{\"type\":\"scatter3d\",\"line\":{\"colorbar\":{\"outlinewidth\":0,\"ticks\":\"\"}},\"marker\":{\"colorbar\":{\"outlinewidth\":0,\"ticks\":\"\"}}}],\"scattermapbox\":[{\"type\":\"scattermapbox\",\"marker\":{\"colorbar\":{\"outlinewidth\":0,\"ticks\":\"\"}}}],\"scatterternary\":[{\"type\":\"scatterternary\",\"marker\":{\"colorbar\":{\"outlinewidth\":0,\"ticks\":\"\"}}}],\"scattercarpet\":[{\"type\":\"scattercarpet\",\"marker\":{\"colorbar\":{\"outlinewidth\":0,\"ticks\":\"\"}}}],\"carpet\":[{\"aaxis\":{\"endlinecolor\":\"#2a3f5f\",\"gridcolor\":\"white\",\"linecolor\":\"white\",\"minorgridcolor\":\"white\",\"startlinecolor\":\"#2a3f5f\"},\"baxis\":{\"endlinecolor\":\"#2a3f5f\",\"gridcolor\":\"white\",\"linecolor\":\"white\",\"minorgridcolor\":\"white\",\"startlinecolor\":\"#2a3f5f\"},\"type\":\"carpet\"}],\"table\":[{\"cells\":{\"fill\":{\"color\":\"#EBF0F8\"},\"line\":{\"color\":\"white\"}},\"header\":{\"fill\":{\"color\":\"#C8D4E3\"},\"line\":{\"color\":\"white\"}},\"type\":\"table\"}],\"barpolar\":[{\"marker\":{\"line\":{\"color\":\"#E5ECF6\",\"width\":0.5},\"pattern\":{\"fillmode\":\"overlay\",\"size\":10,\"solidity\":0.2}},\"type\":\"barpolar\"}],\"pie\":[{\"automargin\":true,\"type\":\"pie\"}]},\"layout\":{\"autotypenumbers\":\"strict\",\"colorway\":[\"#636efa\",\"#EF553B\",\"#00cc96\",\"#ab63fa\",\"#FFA15A\",\"#19d3f3\",\"#FF6692\",\"#B6E880\",\"#FF97FF\",\"#FECB52\"],\"font\":{\"color\":\"#2a3f5f\"},\"hovermode\":\"closest\",\"hoverlabel\":{\"align\":\"left\"},\"paper_bgcolor\":\"white\",\"plot_bgcolor\":\"#E5ECF6\",\"polar\":{\"bgcolor\":\"#E5ECF6\",\"angularaxis\":{\"gridcolor\":\"white\",\"linecolor\":\"white\",\"ticks\":\"\"},\"radialaxis\":{\"gridcolor\":\"white\",\"linecolor\":\"white\",\"ticks\":\"\"}},\"ternary\":{\"bgcolor\":\"#E5ECF6\",\"aaxis\":{\"gridcolor\":\"white\",\"linecolor\":\"white\",\"ticks\":\"\"},\"baxis\":{\"gridcolor\":\"white\",\"linecolor\":\"white\",\"ticks\":\"\"},\"caxis\":{\"gridcolor\":\"white\",\"linecolor\":\"white\",\"ticks\":\"\"}},\"coloraxis\":{\"colorbar\":{\"outlinewidth\":0,\"ticks\":\"\"}},\"colorscale\":{\"sequential\":[[0.0,\"#0d0887\"],[0.1111111111111111,\"#46039f\"],[0.2222222222222222,\"#7201a8\"],[0.3333333333333333,\"#9c179e\"],[0.4444444444444444,\"#bd3786\"],[0.5555555555555556,\"#d8576b\"],[0.6666666666666666,\"#ed7953\"],[0.7777777777777778,\"#fb9f3a\"],[0.8888888888888888,\"#fdca26\"],[1.0,\"#f0f921\"]],\"sequentialminus\":[[0.0,\"#0d0887\"],[0.1111111111111111,\"#46039f\"],[0.2222222222222222,\"#7201a8\"],[0.3333333333333333,\"#9c179e\"],[0.4444444444444444,\"#bd3786\"],[0.5555555555555556,\"#d8576b\"],[0.6666666666666666,\"#ed7953\"],[0.7777777777777778,\"#fb9f3a\"],[0.8888888888888888,\"#fdca26\"],[1.0,\"#f0f921\"]],\"diverging\":[[0,\"#8e0152\"],[0.1,\"#c51b7d\"],[0.2,\"#de77ae\"],[0.3,\"#f1b6da\"],[0.4,\"#fde0ef\"],[0.5,\"#f7f7f7\"],[0.6,\"#e6f5d0\"],[0.7,\"#b8e186\"],[0.8,\"#7fbc41\"],[0.9,\"#4d9221\"],[1,\"#276419\"]]},\"xaxis\":{\"gridcolor\":\"white\",\"linecolor\":\"white\",\"ticks\":\"\",\"title\":{\"standoff\":15},\"zerolinecolor\":\"white\",\"automargin\":true,\"zerolinewidth\":2},\"yaxis\":{\"gridcolor\":\"white\",\"linecolor\":\"white\",\"ticks\":\"\",\"title\":{\"standoff\":15},\"zerolinecolor\":\"white\",\"automargin\":true,\"zerolinewidth\":2},\"scene\":{\"xaxis\":{\"backgroundcolor\":\"#E5ECF6\",\"gridcolor\":\"white\",\"linecolor\":\"white\",\"showbackground\":true,\"ticks\":\"\",\"zerolinecolor\":\"white\",\"gridwidth\":2},\"yaxis\":{\"backgroundcolor\":\"#E5ECF6\",\"gridcolor\":\"white\",\"linecolor\":\"white\",\"showbackground\":true,\"ticks\":\"\",\"zerolinecolor\":\"white\",\"gridwidth\":2},\"zaxis\":{\"backgroundcolor\":\"#E5ECF6\",\"gridcolor\":\"white\",\"linecolor\":\"white\",\"showbackground\":true,\"ticks\":\"\",\"zerolinecolor\":\"white\",\"gridwidth\":2}},\"shapedefaults\":{\"line\":{\"color\":\"#2a3f5f\"}},\"annotationdefaults\":{\"arrowcolor\":\"#2a3f5f\",\"arrowhead\":0,\"arrowwidth\":1},\"geo\":{\"bgcolor\":\"white\",\"landcolor\":\"#E5ECF6\",\"subunitcolor\":\"white\",\"showland\":true,\"showlakes\":true,\"lakecolor\":\"white\"},\"title\":{\"x\":0.05},\"mapbox\":{\"style\":\"light\"}}}},                        {\"responsive\": true}                    ).then(function(){\n",
       "                            \n",
       "var gd = document.getElementById('8520b096-1e51-4b08-b190-abd374df303e');\n",
       "var x = new MutationObserver(function (mutations, observer) {{\n",
       "        var display = window.getComputedStyle(gd).display;\n",
       "        if (!display || display === 'none') {{\n",
       "            console.log([gd, 'removed!']);\n",
       "            Plotly.purge(gd);\n",
       "            observer.disconnect();\n",
       "        }}\n",
       "}});\n",
       "\n",
       "// Listen for the removal of the full notebook cells\n",
       "var notebookContainer = gd.closest('#notebook-container');\n",
       "if (notebookContainer) {{\n",
       "    x.observe(notebookContainer, {childList: true});\n",
       "}}\n",
       "\n",
       "// Listen for the clearing of the current output cell\n",
       "var outputEl = gd.closest('.output');\n",
       "if (outputEl) {{\n",
       "    x.observe(outputEl, {childList: true});\n",
       "}}\n",
       "\n",
       "                        })                };                });            </script>        </div>"
      ]
     },
     "metadata": {},
     "output_type": "display_data"
    }
   ],
   "source": [
    "# ===== generate and save most recent rankings for RACE_TYPE ===== #\n",
    "curr_date = datetime.today().strftime('%Y%m%d')\n",
    "fname = f'{RACE_TYPE.lower()}-{GENDER}-{curr_date}.png'\n",
    "gen_rankings_viz(ratings, results, title = f'{RACE_TYPE} Elo Ranking', fname = fname)"
   ]
  },
  {
   "cell_type": "code",
   "execution_count": 63,
   "metadata": {},
   "outputs": [],
   "source": [
    "def gen_lolli_plot(startlist_ratings, startlist, race_name, rating_type, year, width = 1000, height = 750):\n",
    "    \"\"\"\n",
    "    Given the starlist for a race, output a lollipop plot ranking the riders\n",
    "    by their Elo rating.\n",
    "    \"\"\"\n",
    "    \n",
    "    # get the rating for each rider in the order that they appear in startlist\n",
    "    ratings = [startlist_ratings[rider].iloc[-1] for rider in startlist]\n",
    "    \n",
    "    fig = go.Figure()\n",
    "    \n",
    "    # add a line for each rider in the given startlist\n",
    "    for i in range(0, len(startlist)):\n",
    "        fig.add_shape(\n",
    "            type = 'line',\n",
    "            \n",
    "            # x and y coordinates determine the length of the line\n",
    "            x0 = min(ratings) - 50,\n",
    "            y0 = i,\n",
    "            x1 = list(reversed(ratings))[i],\n",
    "            y1 = i,\n",
    "\n",
    "            line = dict(color = 'darkblue', width = 3)\n",
    "        )\n",
    "    \n",
    "    # rider ratings are effectively a scatterplot, with rider name as the y axis\n",
    "    ratings_rev = [round(r, 2) for r in list(reversed(ratings))]\n",
    "    riders_rev = list(reversed(startlist))\n",
    "    fig.add_trace(\n",
    "        go.Scatter(\n",
    "            x = ratings_rev, \n",
    "            y = riders_rev,\n",
    "            text = ratings_rev,\n",
    "            mode = 'markers+text',\n",
    "            marker_color = 'darkblue',\n",
    "            marker_size = 14,\n",
    "            textposition = 'top center'\n",
    "    ))\n",
    "    \n",
    "    # ensure the race name to be ranked is formatted properly\n",
    "    race_name = race_name.replace('-', ' ').title()\n",
    "    \n",
    "    # update the layout of the plot to add finishing touches\n",
    "    fig.update_layout(\n",
    "        title = dict(\n",
    "            text = f'{race_name} {year} {rating_type} Contenders',\n",
    "            x = 0.5,\n",
    "            y = 0.9,\n",
    "            font_color = 'black'\n",
    "        ),\n",
    "        \n",
    "        width = width,\n",
    "        height = height,\n",
    "        \n",
    "        paper_bgcolor = 'white',\n",
    "        plot_bgcolor = 'white',\n",
    "        xaxis = dict(showgrid = False),\n",
    "        yaxis = dict(showgrid = False)\n",
    "    )\n",
    "\n",
    "    return fig\n",
    "\n",
    "def plot_startlist_timeseries(ratings, given_startlist, race_name, \n",
    "            year, rating_type, fname = None, riders_to_plot = 20):\n",
    "    \"\"\"\n",
    "    Driver method for generating the lolliplop plot from the given startlist of a race. Can be applied\n",
    "    to the Elo ratings of all riders (not just the startlist of a given race) if given_startlist is None.\n",
    "    \n",
    "    As with the table above, the figure can be saved if a filename is given using the fname param.\n",
    "    \"\"\"\n",
    "    \n",
    "    if given_startlist is None:\n",
    "        given_startlist = [col for col in ratings.columns if col not in ['year', 'month', 'day']]\n",
    "    \n",
    "    # adjust the given Elo ratings to include only the ratings of the top riders in the startlist\n",
    "    startlist = [rider for rider in given_startlist if rider in ratings.columns]\n",
    "    startlist.sort(key = lambda rider: ratings.iloc[-1, :].loc[rider], reverse = True)\n",
    "    startlist = startlist[0: riders_to_plot]\n",
    "    startlist_ratings = ratings[['year', 'month', 'day'] + startlist]\n",
    "    \n",
    "    # generate lollipop figure\n",
    "    fig = gen_lolli_plot(startlist_ratings, startlist, race_name, rating_type, year)\n",
    "    \n",
    "    if fname is not None:\n",
    "        fig.write_image(f'figures/lollis/{fname}')\n",
    "    \n",
    "    return fig"
   ]
  },
  {
   "cell_type": "code",
   "execution_count": 64,
   "metadata": {},
   "outputs": [
    {
     "data": {
      "application/vnd.plotly.v1+json": {
       "config": {
        "plotlyServerURL": "https://plot.ly"
       },
       "data": [
        {
         "marker": {
          "color": "darkblue",
          "size": 14
         },
         "mode": "markers+text",
         "text": [
          "1702.17",
          "1713.91",
          "1718.4",
          "1746.73",
          "1759.51",
          "1764.89",
          "1776.8",
          "1787.87",
          "1788.52",
          "1817.94",
          "1822.43",
          "1830.41",
          "1892.07",
          "1980.27",
          "2063.87"
         ],
         "textposition": "top center",
         "type": "scatter",
         "x": [
          1702.17,
          1713.91,
          1718.4,
          1746.73,
          1759.51,
          1764.89,
          1776.8,
          1787.87,
          1788.52,
          1817.94,
          1822.43,
          1830.41,
          1892.07,
          1980.27,
          2063.87
         ],
         "y": [
          "LÓPEZ Miguel Ángel",
          "MEINTJES Louis",
          "NIBALI Vincenzo",
          "ALMEIDA João",
          "EVENEPOEL Remco",
          "HAIG Jack",
          "QUINTANA Nairo",
          "O'CONNOR Ben",
          "HIGUITA Sergio",
          "MAS Enric",
          "LANDA Mikel",
          "YATES Simon",
          "CARAPAZ Richard",
          "HINDLEY Jai",
          "ROGLIČ Primož"
         ]
        }
       ],
       "layout": {
        "height": 750,
        "paper_bgcolor": "white",
        "plot_bgcolor": "white",
        "shapes": [
         {
          "line": {
           "color": "darkblue",
           "width": 3
          },
          "type": "line",
          "x0": 1652.1702941963547,
          "x1": 1702.1702941963547,
          "y0": 0,
          "y1": 0
         },
         {
          "line": {
           "color": "darkblue",
           "width": 3
          },
          "type": "line",
          "x0": 1652.1702941963547,
          "x1": 1713.9094771471655,
          "y0": 1,
          "y1": 1
         },
         {
          "line": {
           "color": "darkblue",
           "width": 3
          },
          "type": "line",
          "x0": 1652.1702941963547,
          "x1": 1718.4036650426913,
          "y0": 2,
          "y1": 2
         },
         {
          "line": {
           "color": "darkblue",
           "width": 3
          },
          "type": "line",
          "x0": 1652.1702941963547,
          "x1": 1746.726170504747,
          "y0": 3,
          "y1": 3
         },
         {
          "line": {
           "color": "darkblue",
           "width": 3
          },
          "type": "line",
          "x0": 1652.1702941963547,
          "x1": 1759.508461710015,
          "y0": 4,
          "y1": 4
         },
         {
          "line": {
           "color": "darkblue",
           "width": 3
          },
          "type": "line",
          "x0": 1652.1702941963547,
          "x1": 1764.8860109995455,
          "y0": 5,
          "y1": 5
         },
         {
          "line": {
           "color": "darkblue",
           "width": 3
          },
          "type": "line",
          "x0": 1652.1702941963547,
          "x1": 1776.8019928268866,
          "y0": 6,
          "y1": 6
         },
         {
          "line": {
           "color": "darkblue",
           "width": 3
          },
          "type": "line",
          "x0": 1652.1702941963547,
          "x1": 1787.8657704124332,
          "y0": 7,
          "y1": 7
         },
         {
          "line": {
           "color": "darkblue",
           "width": 3
          },
          "type": "line",
          "x0": 1652.1702941963547,
          "x1": 1788.5175682024749,
          "y0": 8,
          "y1": 8
         },
         {
          "line": {
           "color": "darkblue",
           "width": 3
          },
          "type": "line",
          "x0": 1652.1702941963547,
          "x1": 1817.9353323126486,
          "y0": 9,
          "y1": 9
         },
         {
          "line": {
           "color": "darkblue",
           "width": 3
          },
          "type": "line",
          "x0": 1652.1702941963547,
          "x1": 1822.4273858924764,
          "y0": 10,
          "y1": 10
         },
         {
          "line": {
           "color": "darkblue",
           "width": 3
          },
          "type": "line",
          "x0": 1652.1702941963547,
          "x1": 1830.4111281537562,
          "y0": 11,
          "y1": 11
         },
         {
          "line": {
           "color": "darkblue",
           "width": 3
          },
          "type": "line",
          "x0": 1652.1702941963547,
          "x1": 1892.0702727881826,
          "y0": 12,
          "y1": 12
         },
         {
          "line": {
           "color": "darkblue",
           "width": 3
          },
          "type": "line",
          "x0": 1652.1702941963547,
          "x1": 1980.2699959118765,
          "y0": 13,
          "y1": 13
         },
         {
          "line": {
           "color": "darkblue",
           "width": 3
          },
          "type": "line",
          "x0": 1652.1702941963547,
          "x1": 2063.8698368800056,
          "y0": 14,
          "y1": 14
         }
        ],
        "template": {
         "data": {
          "bar": [
           {
            "error_x": {
             "color": "#2a3f5f"
            },
            "error_y": {
             "color": "#2a3f5f"
            },
            "marker": {
             "line": {
              "color": "#E5ECF6",
              "width": 0.5
             },
             "pattern": {
              "fillmode": "overlay",
              "size": 10,
              "solidity": 0.2
             }
            },
            "type": "bar"
           }
          ],
          "barpolar": [
           {
            "marker": {
             "line": {
              "color": "#E5ECF6",
              "width": 0.5
             },
             "pattern": {
              "fillmode": "overlay",
              "size": 10,
              "solidity": 0.2
             }
            },
            "type": "barpolar"
           }
          ],
          "carpet": [
           {
            "aaxis": {
             "endlinecolor": "#2a3f5f",
             "gridcolor": "white",
             "linecolor": "white",
             "minorgridcolor": "white",
             "startlinecolor": "#2a3f5f"
            },
            "baxis": {
             "endlinecolor": "#2a3f5f",
             "gridcolor": "white",
             "linecolor": "white",
             "minorgridcolor": "white",
             "startlinecolor": "#2a3f5f"
            },
            "type": "carpet"
           }
          ],
          "choropleth": [
           {
            "colorbar": {
             "outlinewidth": 0,
             "ticks": ""
            },
            "type": "choropleth"
           }
          ],
          "contour": [
           {
            "colorbar": {
             "outlinewidth": 0,
             "ticks": ""
            },
            "colorscale": [
             [
              0,
              "#0d0887"
             ],
             [
              0.1111111111111111,
              "#46039f"
             ],
             [
              0.2222222222222222,
              "#7201a8"
             ],
             [
              0.3333333333333333,
              "#9c179e"
             ],
             [
              0.4444444444444444,
              "#bd3786"
             ],
             [
              0.5555555555555556,
              "#d8576b"
             ],
             [
              0.6666666666666666,
              "#ed7953"
             ],
             [
              0.7777777777777778,
              "#fb9f3a"
             ],
             [
              0.8888888888888888,
              "#fdca26"
             ],
             [
              1,
              "#f0f921"
             ]
            ],
            "type": "contour"
           }
          ],
          "contourcarpet": [
           {
            "colorbar": {
             "outlinewidth": 0,
             "ticks": ""
            },
            "type": "contourcarpet"
           }
          ],
          "heatmap": [
           {
            "colorbar": {
             "outlinewidth": 0,
             "ticks": ""
            },
            "colorscale": [
             [
              0,
              "#0d0887"
             ],
             [
              0.1111111111111111,
              "#46039f"
             ],
             [
              0.2222222222222222,
              "#7201a8"
             ],
             [
              0.3333333333333333,
              "#9c179e"
             ],
             [
              0.4444444444444444,
              "#bd3786"
             ],
             [
              0.5555555555555556,
              "#d8576b"
             ],
             [
              0.6666666666666666,
              "#ed7953"
             ],
             [
              0.7777777777777778,
              "#fb9f3a"
             ],
             [
              0.8888888888888888,
              "#fdca26"
             ],
             [
              1,
              "#f0f921"
             ]
            ],
            "type": "heatmap"
           }
          ],
          "heatmapgl": [
           {
            "colorbar": {
             "outlinewidth": 0,
             "ticks": ""
            },
            "colorscale": [
             [
              0,
              "#0d0887"
             ],
             [
              0.1111111111111111,
              "#46039f"
             ],
             [
              0.2222222222222222,
              "#7201a8"
             ],
             [
              0.3333333333333333,
              "#9c179e"
             ],
             [
              0.4444444444444444,
              "#bd3786"
             ],
             [
              0.5555555555555556,
              "#d8576b"
             ],
             [
              0.6666666666666666,
              "#ed7953"
             ],
             [
              0.7777777777777778,
              "#fb9f3a"
             ],
             [
              0.8888888888888888,
              "#fdca26"
             ],
             [
              1,
              "#f0f921"
             ]
            ],
            "type": "heatmapgl"
           }
          ],
          "histogram": [
           {
            "marker": {
             "pattern": {
              "fillmode": "overlay",
              "size": 10,
              "solidity": 0.2
             }
            },
            "type": "histogram"
           }
          ],
          "histogram2d": [
           {
            "colorbar": {
             "outlinewidth": 0,
             "ticks": ""
            },
            "colorscale": [
             [
              0,
              "#0d0887"
             ],
             [
              0.1111111111111111,
              "#46039f"
             ],
             [
              0.2222222222222222,
              "#7201a8"
             ],
             [
              0.3333333333333333,
              "#9c179e"
             ],
             [
              0.4444444444444444,
              "#bd3786"
             ],
             [
              0.5555555555555556,
              "#d8576b"
             ],
             [
              0.6666666666666666,
              "#ed7953"
             ],
             [
              0.7777777777777778,
              "#fb9f3a"
             ],
             [
              0.8888888888888888,
              "#fdca26"
             ],
             [
              1,
              "#f0f921"
             ]
            ],
            "type": "histogram2d"
           }
          ],
          "histogram2dcontour": [
           {
            "colorbar": {
             "outlinewidth": 0,
             "ticks": ""
            },
            "colorscale": [
             [
              0,
              "#0d0887"
             ],
             [
              0.1111111111111111,
              "#46039f"
             ],
             [
              0.2222222222222222,
              "#7201a8"
             ],
             [
              0.3333333333333333,
              "#9c179e"
             ],
             [
              0.4444444444444444,
              "#bd3786"
             ],
             [
              0.5555555555555556,
              "#d8576b"
             ],
             [
              0.6666666666666666,
              "#ed7953"
             ],
             [
              0.7777777777777778,
              "#fb9f3a"
             ],
             [
              0.8888888888888888,
              "#fdca26"
             ],
             [
              1,
              "#f0f921"
             ]
            ],
            "type": "histogram2dcontour"
           }
          ],
          "mesh3d": [
           {
            "colorbar": {
             "outlinewidth": 0,
             "ticks": ""
            },
            "type": "mesh3d"
           }
          ],
          "parcoords": [
           {
            "line": {
             "colorbar": {
              "outlinewidth": 0,
              "ticks": ""
             }
            },
            "type": "parcoords"
           }
          ],
          "pie": [
           {
            "automargin": true,
            "type": "pie"
           }
          ],
          "scatter": [
           {
            "fillpattern": {
             "fillmode": "overlay",
             "size": 10,
             "solidity": 0.2
            },
            "type": "scatter"
           }
          ],
          "scatter3d": [
           {
            "line": {
             "colorbar": {
              "outlinewidth": 0,
              "ticks": ""
             }
            },
            "marker": {
             "colorbar": {
              "outlinewidth": 0,
              "ticks": ""
             }
            },
            "type": "scatter3d"
           }
          ],
          "scattercarpet": [
           {
            "marker": {
             "colorbar": {
              "outlinewidth": 0,
              "ticks": ""
             }
            },
            "type": "scattercarpet"
           }
          ],
          "scattergeo": [
           {
            "marker": {
             "colorbar": {
              "outlinewidth": 0,
              "ticks": ""
             }
            },
            "type": "scattergeo"
           }
          ],
          "scattergl": [
           {
            "marker": {
             "colorbar": {
              "outlinewidth": 0,
              "ticks": ""
             }
            },
            "type": "scattergl"
           }
          ],
          "scattermapbox": [
           {
            "marker": {
             "colorbar": {
              "outlinewidth": 0,
              "ticks": ""
             }
            },
            "type": "scattermapbox"
           }
          ],
          "scatterpolar": [
           {
            "marker": {
             "colorbar": {
              "outlinewidth": 0,
              "ticks": ""
             }
            },
            "type": "scatterpolar"
           }
          ],
          "scatterpolargl": [
           {
            "marker": {
             "colorbar": {
              "outlinewidth": 0,
              "ticks": ""
             }
            },
            "type": "scatterpolargl"
           }
          ],
          "scatterternary": [
           {
            "marker": {
             "colorbar": {
              "outlinewidth": 0,
              "ticks": ""
             }
            },
            "type": "scatterternary"
           }
          ],
          "surface": [
           {
            "colorbar": {
             "outlinewidth": 0,
             "ticks": ""
            },
            "colorscale": [
             [
              0,
              "#0d0887"
             ],
             [
              0.1111111111111111,
              "#46039f"
             ],
             [
              0.2222222222222222,
              "#7201a8"
             ],
             [
              0.3333333333333333,
              "#9c179e"
             ],
             [
              0.4444444444444444,
              "#bd3786"
             ],
             [
              0.5555555555555556,
              "#d8576b"
             ],
             [
              0.6666666666666666,
              "#ed7953"
             ],
             [
              0.7777777777777778,
              "#fb9f3a"
             ],
             [
              0.8888888888888888,
              "#fdca26"
             ],
             [
              1,
              "#f0f921"
             ]
            ],
            "type": "surface"
           }
          ],
          "table": [
           {
            "cells": {
             "fill": {
              "color": "#EBF0F8"
             },
             "line": {
              "color": "white"
             }
            },
            "header": {
             "fill": {
              "color": "#C8D4E3"
             },
             "line": {
              "color": "white"
             }
            },
            "type": "table"
           }
          ]
         },
         "layout": {
          "annotationdefaults": {
           "arrowcolor": "#2a3f5f",
           "arrowhead": 0,
           "arrowwidth": 1
          },
          "autotypenumbers": "strict",
          "coloraxis": {
           "colorbar": {
            "outlinewidth": 0,
            "ticks": ""
           }
          },
          "colorscale": {
           "diverging": [
            [
             0,
             "#8e0152"
            ],
            [
             0.1,
             "#c51b7d"
            ],
            [
             0.2,
             "#de77ae"
            ],
            [
             0.3,
             "#f1b6da"
            ],
            [
             0.4,
             "#fde0ef"
            ],
            [
             0.5,
             "#f7f7f7"
            ],
            [
             0.6,
             "#e6f5d0"
            ],
            [
             0.7,
             "#b8e186"
            ],
            [
             0.8,
             "#7fbc41"
            ],
            [
             0.9,
             "#4d9221"
            ],
            [
             1,
             "#276419"
            ]
           ],
           "sequential": [
            [
             0,
             "#0d0887"
            ],
            [
             0.1111111111111111,
             "#46039f"
            ],
            [
             0.2222222222222222,
             "#7201a8"
            ],
            [
             0.3333333333333333,
             "#9c179e"
            ],
            [
             0.4444444444444444,
             "#bd3786"
            ],
            [
             0.5555555555555556,
             "#d8576b"
            ],
            [
             0.6666666666666666,
             "#ed7953"
            ],
            [
             0.7777777777777778,
             "#fb9f3a"
            ],
            [
             0.8888888888888888,
             "#fdca26"
            ],
            [
             1,
             "#f0f921"
            ]
           ],
           "sequentialminus": [
            [
             0,
             "#0d0887"
            ],
            [
             0.1111111111111111,
             "#46039f"
            ],
            [
             0.2222222222222222,
             "#7201a8"
            ],
            [
             0.3333333333333333,
             "#9c179e"
            ],
            [
             0.4444444444444444,
             "#bd3786"
            ],
            [
             0.5555555555555556,
             "#d8576b"
            ],
            [
             0.6666666666666666,
             "#ed7953"
            ],
            [
             0.7777777777777778,
             "#fb9f3a"
            ],
            [
             0.8888888888888888,
             "#fdca26"
            ],
            [
             1,
             "#f0f921"
            ]
           ]
          },
          "colorway": [
           "#636efa",
           "#EF553B",
           "#00cc96",
           "#ab63fa",
           "#FFA15A",
           "#19d3f3",
           "#FF6692",
           "#B6E880",
           "#FF97FF",
           "#FECB52"
          ],
          "font": {
           "color": "#2a3f5f"
          },
          "geo": {
           "bgcolor": "white",
           "lakecolor": "white",
           "landcolor": "#E5ECF6",
           "showlakes": true,
           "showland": true,
           "subunitcolor": "white"
          },
          "hoverlabel": {
           "align": "left"
          },
          "hovermode": "closest",
          "mapbox": {
           "style": "light"
          },
          "paper_bgcolor": "white",
          "plot_bgcolor": "#E5ECF6",
          "polar": {
           "angularaxis": {
            "gridcolor": "white",
            "linecolor": "white",
            "ticks": ""
           },
           "bgcolor": "#E5ECF6",
           "radialaxis": {
            "gridcolor": "white",
            "linecolor": "white",
            "ticks": ""
           }
          },
          "scene": {
           "xaxis": {
            "backgroundcolor": "#E5ECF6",
            "gridcolor": "white",
            "gridwidth": 2,
            "linecolor": "white",
            "showbackground": true,
            "ticks": "",
            "zerolinecolor": "white"
           },
           "yaxis": {
            "backgroundcolor": "#E5ECF6",
            "gridcolor": "white",
            "gridwidth": 2,
            "linecolor": "white",
            "showbackground": true,
            "ticks": "",
            "zerolinecolor": "white"
           },
           "zaxis": {
            "backgroundcolor": "#E5ECF6",
            "gridcolor": "white",
            "gridwidth": 2,
            "linecolor": "white",
            "showbackground": true,
            "ticks": "",
            "zerolinecolor": "white"
           }
          },
          "shapedefaults": {
           "line": {
            "color": "#2a3f5f"
           }
          },
          "ternary": {
           "aaxis": {
            "gridcolor": "white",
            "linecolor": "white",
            "ticks": ""
           },
           "baxis": {
            "gridcolor": "white",
            "linecolor": "white",
            "ticks": ""
           },
           "bgcolor": "#E5ECF6",
           "caxis": {
            "gridcolor": "white",
            "linecolor": "white",
            "ticks": ""
           }
          },
          "title": {
           "x": 0.05
          },
          "xaxis": {
           "automargin": true,
           "gridcolor": "white",
           "linecolor": "white",
           "ticks": "",
           "title": {
            "standoff": 15
           },
           "zerolinecolor": "white",
           "zerolinewidth": 2
          },
          "yaxis": {
           "automargin": true,
           "gridcolor": "white",
           "linecolor": "white",
           "ticks": "",
           "title": {
            "standoff": 15
           },
           "zerolinecolor": "white",
           "zerolinewidth": 2
          }
         }
        },
        "title": {
         "font": {
          "color": "black"
         },
         "text": "Vuelta A Espana 2022 GC Contenders",
         "x": 0.5,
         "y": 0.9
        },
        "width": 1000,
        "xaxis": {
         "showgrid": false
        },
        "yaxis": {
         "showgrid": false
        }
       }
      },
      "text/html": [
       "<div>                            <div id=\"c77a9669-680b-4694-bb07-a4d4a7a38f8f\" class=\"plotly-graph-div\" style=\"height:750px; width:1000px;\"></div>            <script type=\"text/javascript\">                require([\"plotly\"], function(Plotly) {                    window.PLOTLYENV=window.PLOTLYENV || {};                                    if (document.getElementById(\"c77a9669-680b-4694-bb07-a4d4a7a38f8f\")) {                    Plotly.newPlot(                        \"c77a9669-680b-4694-bb07-a4d4a7a38f8f\",                        [{\"marker\":{\"color\":\"darkblue\",\"size\":14},\"mode\":\"markers+text\",\"text\":[\"1702.17\",\"1713.91\",\"1718.4\",\"1746.73\",\"1759.51\",\"1764.89\",\"1776.8\",\"1787.87\",\"1788.52\",\"1817.94\",\"1822.43\",\"1830.41\",\"1892.07\",\"1980.27\",\"2063.87\"],\"textposition\":\"top center\",\"x\":[1702.17,1713.91,1718.4,1746.73,1759.51,1764.89,1776.8,1787.87,1788.52,1817.94,1822.43,1830.41,1892.07,1980.27,2063.87],\"y\":[\"L\\u00d3PEZ Miguel \\u00c1ngel\",\"MEINTJES Louis\",\"NIBALI Vincenzo\",\"ALMEIDA Jo\\u00e3o\",\"EVENEPOEL Remco\",\"HAIG Jack\",\"QUINTANA Nairo\",\"O'CONNOR Ben\",\"HIGUITA Sergio\",\"MAS Enric\",\"LANDA Mikel\",\"YATES Simon\",\"CARAPAZ Richard\",\"HINDLEY Jai\",\"ROGLI\\u010c Primo\\u017e\"],\"type\":\"scatter\"}],                        {\"template\":{\"data\":{\"histogram2dcontour\":[{\"type\":\"histogram2dcontour\",\"colorbar\":{\"outlinewidth\":0,\"ticks\":\"\"},\"colorscale\":[[0.0,\"#0d0887\"],[0.1111111111111111,\"#46039f\"],[0.2222222222222222,\"#7201a8\"],[0.3333333333333333,\"#9c179e\"],[0.4444444444444444,\"#bd3786\"],[0.5555555555555556,\"#d8576b\"],[0.6666666666666666,\"#ed7953\"],[0.7777777777777778,\"#fb9f3a\"],[0.8888888888888888,\"#fdca26\"],[1.0,\"#f0f921\"]]}],\"choropleth\":[{\"type\":\"choropleth\",\"colorbar\":{\"outlinewidth\":0,\"ticks\":\"\"}}],\"histogram2d\":[{\"type\":\"histogram2d\",\"colorbar\":{\"outlinewidth\":0,\"ticks\":\"\"},\"colorscale\":[[0.0,\"#0d0887\"],[0.1111111111111111,\"#46039f\"],[0.2222222222222222,\"#7201a8\"],[0.3333333333333333,\"#9c179e\"],[0.4444444444444444,\"#bd3786\"],[0.5555555555555556,\"#d8576b\"],[0.6666666666666666,\"#ed7953\"],[0.7777777777777778,\"#fb9f3a\"],[0.8888888888888888,\"#fdca26\"],[1.0,\"#f0f921\"]]}],\"heatmap\":[{\"type\":\"heatmap\",\"colorbar\":{\"outlinewidth\":0,\"ticks\":\"\"},\"colorscale\":[[0.0,\"#0d0887\"],[0.1111111111111111,\"#46039f\"],[0.2222222222222222,\"#7201a8\"],[0.3333333333333333,\"#9c179e\"],[0.4444444444444444,\"#bd3786\"],[0.5555555555555556,\"#d8576b\"],[0.6666666666666666,\"#ed7953\"],[0.7777777777777778,\"#fb9f3a\"],[0.8888888888888888,\"#fdca26\"],[1.0,\"#f0f921\"]]}],\"heatmapgl\":[{\"type\":\"heatmapgl\",\"colorbar\":{\"outlinewidth\":0,\"ticks\":\"\"},\"colorscale\":[[0.0,\"#0d0887\"],[0.1111111111111111,\"#46039f\"],[0.2222222222222222,\"#7201a8\"],[0.3333333333333333,\"#9c179e\"],[0.4444444444444444,\"#bd3786\"],[0.5555555555555556,\"#d8576b\"],[0.6666666666666666,\"#ed7953\"],[0.7777777777777778,\"#fb9f3a\"],[0.8888888888888888,\"#fdca26\"],[1.0,\"#f0f921\"]]}],\"contourcarpet\":[{\"type\":\"contourcarpet\",\"colorbar\":{\"outlinewidth\":0,\"ticks\":\"\"}}],\"contour\":[{\"type\":\"contour\",\"colorbar\":{\"outlinewidth\":0,\"ticks\":\"\"},\"colorscale\":[[0.0,\"#0d0887\"],[0.1111111111111111,\"#46039f\"],[0.2222222222222222,\"#7201a8\"],[0.3333333333333333,\"#9c179e\"],[0.4444444444444444,\"#bd3786\"],[0.5555555555555556,\"#d8576b\"],[0.6666666666666666,\"#ed7953\"],[0.7777777777777778,\"#fb9f3a\"],[0.8888888888888888,\"#fdca26\"],[1.0,\"#f0f921\"]]}],\"surface\":[{\"type\":\"surface\",\"colorbar\":{\"outlinewidth\":0,\"ticks\":\"\"},\"colorscale\":[[0.0,\"#0d0887\"],[0.1111111111111111,\"#46039f\"],[0.2222222222222222,\"#7201a8\"],[0.3333333333333333,\"#9c179e\"],[0.4444444444444444,\"#bd3786\"],[0.5555555555555556,\"#d8576b\"],[0.6666666666666666,\"#ed7953\"],[0.7777777777777778,\"#fb9f3a\"],[0.8888888888888888,\"#fdca26\"],[1.0,\"#f0f921\"]]}],\"mesh3d\":[{\"type\":\"mesh3d\",\"colorbar\":{\"outlinewidth\":0,\"ticks\":\"\"}}],\"scatter\":[{\"fillpattern\":{\"fillmode\":\"overlay\",\"size\":10,\"solidity\":0.2},\"type\":\"scatter\"}],\"parcoords\":[{\"type\":\"parcoords\",\"line\":{\"colorbar\":{\"outlinewidth\":0,\"ticks\":\"\"}}}],\"scatterpolargl\":[{\"type\":\"scatterpolargl\",\"marker\":{\"colorbar\":{\"outlinewidth\":0,\"ticks\":\"\"}}}],\"bar\":[{\"error_x\":{\"color\":\"#2a3f5f\"},\"error_y\":{\"color\":\"#2a3f5f\"},\"marker\":{\"line\":{\"color\":\"#E5ECF6\",\"width\":0.5},\"pattern\":{\"fillmode\":\"overlay\",\"size\":10,\"solidity\":0.2}},\"type\":\"bar\"}],\"scattergeo\":[{\"type\":\"scattergeo\",\"marker\":{\"colorbar\":{\"outlinewidth\":0,\"ticks\":\"\"}}}],\"scatterpolar\":[{\"type\":\"scatterpolar\",\"marker\":{\"colorbar\":{\"outlinewidth\":0,\"ticks\":\"\"}}}],\"histogram\":[{\"marker\":{\"pattern\":{\"fillmode\":\"overlay\",\"size\":10,\"solidity\":0.2}},\"type\":\"histogram\"}],\"scattergl\":[{\"type\":\"scattergl\",\"marker\":{\"colorbar\":{\"outlinewidth\":0,\"ticks\":\"\"}}}],\"scatter3d\":[{\"type\":\"scatter3d\",\"line\":{\"colorbar\":{\"outlinewidth\":0,\"ticks\":\"\"}},\"marker\":{\"colorbar\":{\"outlinewidth\":0,\"ticks\":\"\"}}}],\"scattermapbox\":[{\"type\":\"scattermapbox\",\"marker\":{\"colorbar\":{\"outlinewidth\":0,\"ticks\":\"\"}}}],\"scatterternary\":[{\"type\":\"scatterternary\",\"marker\":{\"colorbar\":{\"outlinewidth\":0,\"ticks\":\"\"}}}],\"scattercarpet\":[{\"type\":\"scattercarpet\",\"marker\":{\"colorbar\":{\"outlinewidth\":0,\"ticks\":\"\"}}}],\"carpet\":[{\"aaxis\":{\"endlinecolor\":\"#2a3f5f\",\"gridcolor\":\"white\",\"linecolor\":\"white\",\"minorgridcolor\":\"white\",\"startlinecolor\":\"#2a3f5f\"},\"baxis\":{\"endlinecolor\":\"#2a3f5f\",\"gridcolor\":\"white\",\"linecolor\":\"white\",\"minorgridcolor\":\"white\",\"startlinecolor\":\"#2a3f5f\"},\"type\":\"carpet\"}],\"table\":[{\"cells\":{\"fill\":{\"color\":\"#EBF0F8\"},\"line\":{\"color\":\"white\"}},\"header\":{\"fill\":{\"color\":\"#C8D4E3\"},\"line\":{\"color\":\"white\"}},\"type\":\"table\"}],\"barpolar\":[{\"marker\":{\"line\":{\"color\":\"#E5ECF6\",\"width\":0.5},\"pattern\":{\"fillmode\":\"overlay\",\"size\":10,\"solidity\":0.2}},\"type\":\"barpolar\"}],\"pie\":[{\"automargin\":true,\"type\":\"pie\"}]},\"layout\":{\"autotypenumbers\":\"strict\",\"colorway\":[\"#636efa\",\"#EF553B\",\"#00cc96\",\"#ab63fa\",\"#FFA15A\",\"#19d3f3\",\"#FF6692\",\"#B6E880\",\"#FF97FF\",\"#FECB52\"],\"font\":{\"color\":\"#2a3f5f\"},\"hovermode\":\"closest\",\"hoverlabel\":{\"align\":\"left\"},\"paper_bgcolor\":\"white\",\"plot_bgcolor\":\"#E5ECF6\",\"polar\":{\"bgcolor\":\"#E5ECF6\",\"angularaxis\":{\"gridcolor\":\"white\",\"linecolor\":\"white\",\"ticks\":\"\"},\"radialaxis\":{\"gridcolor\":\"white\",\"linecolor\":\"white\",\"ticks\":\"\"}},\"ternary\":{\"bgcolor\":\"#E5ECF6\",\"aaxis\":{\"gridcolor\":\"white\",\"linecolor\":\"white\",\"ticks\":\"\"},\"baxis\":{\"gridcolor\":\"white\",\"linecolor\":\"white\",\"ticks\":\"\"},\"caxis\":{\"gridcolor\":\"white\",\"linecolor\":\"white\",\"ticks\":\"\"}},\"coloraxis\":{\"colorbar\":{\"outlinewidth\":0,\"ticks\":\"\"}},\"colorscale\":{\"sequential\":[[0.0,\"#0d0887\"],[0.1111111111111111,\"#46039f\"],[0.2222222222222222,\"#7201a8\"],[0.3333333333333333,\"#9c179e\"],[0.4444444444444444,\"#bd3786\"],[0.5555555555555556,\"#d8576b\"],[0.6666666666666666,\"#ed7953\"],[0.7777777777777778,\"#fb9f3a\"],[0.8888888888888888,\"#fdca26\"],[1.0,\"#f0f921\"]],\"sequentialminus\":[[0.0,\"#0d0887\"],[0.1111111111111111,\"#46039f\"],[0.2222222222222222,\"#7201a8\"],[0.3333333333333333,\"#9c179e\"],[0.4444444444444444,\"#bd3786\"],[0.5555555555555556,\"#d8576b\"],[0.6666666666666666,\"#ed7953\"],[0.7777777777777778,\"#fb9f3a\"],[0.8888888888888888,\"#fdca26\"],[1.0,\"#f0f921\"]],\"diverging\":[[0,\"#8e0152\"],[0.1,\"#c51b7d\"],[0.2,\"#de77ae\"],[0.3,\"#f1b6da\"],[0.4,\"#fde0ef\"],[0.5,\"#f7f7f7\"],[0.6,\"#e6f5d0\"],[0.7,\"#b8e186\"],[0.8,\"#7fbc41\"],[0.9,\"#4d9221\"],[1,\"#276419\"]]},\"xaxis\":{\"gridcolor\":\"white\",\"linecolor\":\"white\",\"ticks\":\"\",\"title\":{\"standoff\":15},\"zerolinecolor\":\"white\",\"automargin\":true,\"zerolinewidth\":2},\"yaxis\":{\"gridcolor\":\"white\",\"linecolor\":\"white\",\"ticks\":\"\",\"title\":{\"standoff\":15},\"zerolinecolor\":\"white\",\"automargin\":true,\"zerolinewidth\":2},\"scene\":{\"xaxis\":{\"backgroundcolor\":\"#E5ECF6\",\"gridcolor\":\"white\",\"linecolor\":\"white\",\"showbackground\":true,\"ticks\":\"\",\"zerolinecolor\":\"white\",\"gridwidth\":2},\"yaxis\":{\"backgroundcolor\":\"#E5ECF6\",\"gridcolor\":\"white\",\"linecolor\":\"white\",\"showbackground\":true,\"ticks\":\"\",\"zerolinecolor\":\"white\",\"gridwidth\":2},\"zaxis\":{\"backgroundcolor\":\"#E5ECF6\",\"gridcolor\":\"white\",\"linecolor\":\"white\",\"showbackground\":true,\"ticks\":\"\",\"zerolinecolor\":\"white\",\"gridwidth\":2}},\"shapedefaults\":{\"line\":{\"color\":\"#2a3f5f\"}},\"annotationdefaults\":{\"arrowcolor\":\"#2a3f5f\",\"arrowhead\":0,\"arrowwidth\":1},\"geo\":{\"bgcolor\":\"white\",\"landcolor\":\"#E5ECF6\",\"subunitcolor\":\"white\",\"showland\":true,\"showlakes\":true,\"lakecolor\":\"white\"},\"title\":{\"x\":0.05},\"mapbox\":{\"style\":\"light\"}}},\"shapes\":[{\"line\":{\"color\":\"darkblue\",\"width\":3},\"type\":\"line\",\"x0\":1652.1702941963547,\"x1\":1702.1702941963547,\"y0\":0,\"y1\":0},{\"line\":{\"color\":\"darkblue\",\"width\":3},\"type\":\"line\",\"x0\":1652.1702941963547,\"x1\":1713.9094771471655,\"y0\":1,\"y1\":1},{\"line\":{\"color\":\"darkblue\",\"width\":3},\"type\":\"line\",\"x0\":1652.1702941963547,\"x1\":1718.4036650426913,\"y0\":2,\"y1\":2},{\"line\":{\"color\":\"darkblue\",\"width\":3},\"type\":\"line\",\"x0\":1652.1702941963547,\"x1\":1746.726170504747,\"y0\":3,\"y1\":3},{\"line\":{\"color\":\"darkblue\",\"width\":3},\"type\":\"line\",\"x0\":1652.1702941963547,\"x1\":1759.508461710015,\"y0\":4,\"y1\":4},{\"line\":{\"color\":\"darkblue\",\"width\":3},\"type\":\"line\",\"x0\":1652.1702941963547,\"x1\":1764.8860109995455,\"y0\":5,\"y1\":5},{\"line\":{\"color\":\"darkblue\",\"width\":3},\"type\":\"line\",\"x0\":1652.1702941963547,\"x1\":1776.8019928268866,\"y0\":6,\"y1\":6},{\"line\":{\"color\":\"darkblue\",\"width\":3},\"type\":\"line\",\"x0\":1652.1702941963547,\"x1\":1787.8657704124332,\"y0\":7,\"y1\":7},{\"line\":{\"color\":\"darkblue\",\"width\":3},\"type\":\"line\",\"x0\":1652.1702941963547,\"x1\":1788.5175682024749,\"y0\":8,\"y1\":8},{\"line\":{\"color\":\"darkblue\",\"width\":3},\"type\":\"line\",\"x0\":1652.1702941963547,\"x1\":1817.9353323126486,\"y0\":9,\"y1\":9},{\"line\":{\"color\":\"darkblue\",\"width\":3},\"type\":\"line\",\"x0\":1652.1702941963547,\"x1\":1822.4273858924764,\"y0\":10,\"y1\":10},{\"line\":{\"color\":\"darkblue\",\"width\":3},\"type\":\"line\",\"x0\":1652.1702941963547,\"x1\":1830.4111281537562,\"y0\":11,\"y1\":11},{\"line\":{\"color\":\"darkblue\",\"width\":3},\"type\":\"line\",\"x0\":1652.1702941963547,\"x1\":1892.0702727881826,\"y0\":12,\"y1\":12},{\"line\":{\"color\":\"darkblue\",\"width\":3},\"type\":\"line\",\"x0\":1652.1702941963547,\"x1\":1980.2699959118765,\"y0\":13,\"y1\":13},{\"line\":{\"color\":\"darkblue\",\"width\":3},\"type\":\"line\",\"x0\":1652.1702941963547,\"x1\":2063.8698368800056,\"y0\":14,\"y1\":14}],\"title\":{\"font\":{\"color\":\"black\"},\"text\":\"Vuelta A Espana 2022 GC Contenders\",\"x\":0.5,\"y\":0.9},\"xaxis\":{\"showgrid\":false},\"yaxis\":{\"showgrid\":false},\"width\":1000,\"height\":750,\"paper_bgcolor\":\"white\",\"plot_bgcolor\":\"white\"},                        {\"responsive\": true}                    ).then(function(){\n",
       "                            \n",
       "var gd = document.getElementById('c77a9669-680b-4694-bb07-a4d4a7a38f8f');\n",
       "var x = new MutationObserver(function (mutations, observer) {{\n",
       "        var display = window.getComputedStyle(gd).display;\n",
       "        if (!display || display === 'none') {{\n",
       "            console.log([gd, 'removed!']);\n",
       "            Plotly.purge(gd);\n",
       "            observer.disconnect();\n",
       "        }}\n",
       "}});\n",
       "\n",
       "// Listen for the removal of the full notebook cells\n",
       "var notebookContainer = gd.closest('#notebook-container');\n",
       "if (notebookContainer) {{\n",
       "    x.observe(notebookContainer, {childList: true});\n",
       "}}\n",
       "\n",
       "// Listen for the clearing of the current output cell\n",
       "var outputEl = gd.closest('.output');\n",
       "if (outputEl) {{\n",
       "    x.observe(outputEl, {childList: true});\n",
       "}}\n",
       "\n",
       "                        })                };                });            </script>        </div>"
      ]
     },
     "metadata": {},
     "output_type": "display_data"
    }
   ],
   "source": [
    "# plot the lollipop\n",
    "plot_startlist_timeseries(\n",
    "    ratings, STARTLIST, RACE.replace('-', ' ').title(), YEAR, RACE_TYPE,\n",
    "    riders_to_plot = LOLLI_RIDERS_TO_PLOT, fname = f'{RACE}-{YEAR}-{RACE_TYPE.lower()}-{GENDER}-lollipop.png'\n",
    ")"
   ]
  },
  {
   "cell_type": "code",
   "execution_count": 65,
   "metadata": {
    "scrolled": false
   },
   "outputs": [],
   "source": [
    "def heatmap(ratings, startlist, race_name, year, rating_type, to_include = 15, q_base = 10, q_div = 400, fname = None):    \n",
    "    startlist_ratings = {rider: ratings[rider].iloc[-1] for rider in startlist if rider in ratings.columns}\n",
    "    startlist_ratings = list(sorted(startlist_ratings.items(), key = lambda tup: tup[1], reverse = True))[0: to_include]\n",
    "    \n",
    "    to_include = to_include if to_include <= len(startlist) else len(startlist)\n",
    "    \n",
    "    Z = [\n",
    "        [\n",
    "            round(\n",
    "                utils.get_elo_probabilities(\n",
    "                    startlist_ratings[i][1],\n",
    "                    startlist_ratings[j][1],\n",
    "                    q_base, q_div\n",
    "                )[0],\n",
    "                3\n",
    "            )\n",
    "            if startlist_ratings[i] != startlist_ratings[j] else None \n",
    "            for j in range(to_include)\n",
    "        ]\n",
    "        for i in range(to_include - 1, -1, -1)\n",
    "    ]\n",
    "    \n",
    "\n",
    "    fig = go.Figure(\n",
    "        data = go.Heatmap(\n",
    "            z = Z,\n",
    "            x = [t[0] for t in startlist_ratings][0: to_include],\n",
    "            y = list(reversed([t[0] for t in startlist_ratings][0: to_include])),\n",
    "            text = Z,\n",
    "            texttemplate = \"%{text}\",\n",
    "            textfont = {\"size\": 10},\n",
    "            colorscale = 'blues'\n",
    "    ))\n",
    "    fig.update_layout(\n",
    "        title = dict(\n",
    "                text = f'{race_name} {year} {rating_type} Contenders',\n",
    "                x = 0.5,\n",
    "                y = 0.9,\n",
    "                font_color = 'black'\n",
    "            ),\n",
    "            xaxis = dict(side = 'bottom'),\n",
    "            plot_bgcolor = 'white',\n",
    "            width = 1000,\n",
    "            height = 600\n",
    "    )\n",
    "#     ), layout = go.Layout(\n",
    "#             title = dict(\n",
    "#                 text = f'{race_name} {year} {rating_type} Contenders',\n",
    "#                 x = 0.5,\n",
    "#                 y = 0.9,\n",
    "#                 font_color = 'black'\n",
    "#             ),\n",
    "#             xaxis = dict(side = 'bottom'), plot_bgcolor = 'white'),\n",
    "#             width = 1000\n",
    "#     )\n",
    "    \n",
    "    if fname is not None:\n",
    "        fig.write_image(f'figures/heatmaps/{fname}')\n",
    "\n",
    "    return fig"
   ]
  },
  {
   "cell_type": "code",
   "execution_count": 66,
   "metadata": {},
   "outputs": [
    {
     "data": {
      "application/vnd.plotly.v1+json": {
       "config": {
        "plotlyServerURL": "https://plot.ly"
       },
       "data": [
        {
         "colorscale": [
          [
           0,
           "rgb(247,251,255)"
          ],
          [
           0.125,
           "rgb(222,235,247)"
          ],
          [
           0.25,
           "rgb(198,219,239)"
          ],
          [
           0.375,
           "rgb(158,202,225)"
          ],
          [
           0.5,
           "rgb(107,174,214)"
          ],
          [
           0.625,
           "rgb(66,146,198)"
          ],
          [
           0.75,
           "rgb(33,113,181)"
          ],
          [
           0.875,
           "rgb(8,81,156)"
          ],
          [
           1,
           "rgb(8,48,107)"
          ]
         ],
         "text": [
          [
           0.01,
           0.035,
           0.124,
           0.268,
           0.292,
           0.307,
           0.41,
           0.413,
           0.454,
           null
          ],
          [
           0.012,
           0.042,
           0.146,
           0.305,
           0.332,
           0.347,
           0.455,
           0.458,
           null,
           0.546
          ],
          [
           0.014,
           0.05,
           0.168,
           0.342,
           0.37,
           0.387,
           0.497,
           null,
           0.542,
           0.587
          ],
          [
           0.014,
           0.05,
           0.169,
           0.345,
           0.373,
           0.389,
           null,
           0.503,
           0.545,
           0.59
          ],
          [
           0.022,
           0.076,
           0.243,
           0.452,
           0.483,
           null,
           0.611,
           0.613,
           0.653,
           0.693
          ],
          [
           0.024,
           0.081,
           0.256,
           0.469,
           null,
           0.517,
           0.627,
           0.63,
           0.668,
           0.708
          ],
          [
           0.027,
           0.091,
           0.28,
           null,
           0.531,
           0.548,
           0.655,
           0.658,
           0.695,
           0.732
          ],
          [
           0.067,
           0.205,
           null,
           0.72,
           0.744,
           0.757,
           0.831,
           0.832,
           0.854,
           0.876
          ],
          [
           0.217,
           null,
           0.795,
           0.909,
           0.919,
           0.924,
           0.95,
           0.95,
           0.958,
           0.965
          ],
          [
           null,
           0.783,
           0.933,
           0.973,
           0.976,
           0.978,
           0.986,
           0.986,
           0.988,
           0.99
          ]
         ],
         "textfont": {
          "size": 10
         },
         "texttemplate": "%{text}",
         "type": "heatmap",
         "x": [
          "ROGLIČ Primož",
          "HINDLEY Jai",
          "CARAPAZ Richard",
          "YATES Simon",
          "LANDA Mikel",
          "MAS Enric",
          "HIGUITA Sergio",
          "O'CONNOR Ben",
          "QUINTANA Nairo",
          "HAIG Jack"
         ],
         "y": [
          "HAIG Jack",
          "QUINTANA Nairo",
          "O'CONNOR Ben",
          "HIGUITA Sergio",
          "MAS Enric",
          "LANDA Mikel",
          "YATES Simon",
          "CARAPAZ Richard",
          "HINDLEY Jai",
          "ROGLIČ Primož"
         ],
         "z": [
          [
           0.01,
           0.035,
           0.124,
           0.268,
           0.292,
           0.307,
           0.41,
           0.413,
           0.454,
           null
          ],
          [
           0.012,
           0.042,
           0.146,
           0.305,
           0.332,
           0.347,
           0.455,
           0.458,
           null,
           0.546
          ],
          [
           0.014,
           0.05,
           0.168,
           0.342,
           0.37,
           0.387,
           0.497,
           null,
           0.542,
           0.587
          ],
          [
           0.014,
           0.05,
           0.169,
           0.345,
           0.373,
           0.389,
           null,
           0.503,
           0.545,
           0.59
          ],
          [
           0.022,
           0.076,
           0.243,
           0.452,
           0.483,
           null,
           0.611,
           0.613,
           0.653,
           0.693
          ],
          [
           0.024,
           0.081,
           0.256,
           0.469,
           null,
           0.517,
           0.627,
           0.63,
           0.668,
           0.708
          ],
          [
           0.027,
           0.091,
           0.28,
           null,
           0.531,
           0.548,
           0.655,
           0.658,
           0.695,
           0.732
          ],
          [
           0.067,
           0.205,
           null,
           0.72,
           0.744,
           0.757,
           0.831,
           0.832,
           0.854,
           0.876
          ],
          [
           0.217,
           null,
           0.795,
           0.909,
           0.919,
           0.924,
           0.95,
           0.95,
           0.958,
           0.965
          ],
          [
           null,
           0.783,
           0.933,
           0.973,
           0.976,
           0.978,
           0.986,
           0.986,
           0.988,
           0.99
          ]
         ]
        }
       ],
       "layout": {
        "height": 600,
        "plot_bgcolor": "white",
        "template": {
         "data": {
          "bar": [
           {
            "error_x": {
             "color": "#2a3f5f"
            },
            "error_y": {
             "color": "#2a3f5f"
            },
            "marker": {
             "line": {
              "color": "#E5ECF6",
              "width": 0.5
             },
             "pattern": {
              "fillmode": "overlay",
              "size": 10,
              "solidity": 0.2
             }
            },
            "type": "bar"
           }
          ],
          "barpolar": [
           {
            "marker": {
             "line": {
              "color": "#E5ECF6",
              "width": 0.5
             },
             "pattern": {
              "fillmode": "overlay",
              "size": 10,
              "solidity": 0.2
             }
            },
            "type": "barpolar"
           }
          ],
          "carpet": [
           {
            "aaxis": {
             "endlinecolor": "#2a3f5f",
             "gridcolor": "white",
             "linecolor": "white",
             "minorgridcolor": "white",
             "startlinecolor": "#2a3f5f"
            },
            "baxis": {
             "endlinecolor": "#2a3f5f",
             "gridcolor": "white",
             "linecolor": "white",
             "minorgridcolor": "white",
             "startlinecolor": "#2a3f5f"
            },
            "type": "carpet"
           }
          ],
          "choropleth": [
           {
            "colorbar": {
             "outlinewidth": 0,
             "ticks": ""
            },
            "type": "choropleth"
           }
          ],
          "contour": [
           {
            "colorbar": {
             "outlinewidth": 0,
             "ticks": ""
            },
            "colorscale": [
             [
              0,
              "#0d0887"
             ],
             [
              0.1111111111111111,
              "#46039f"
             ],
             [
              0.2222222222222222,
              "#7201a8"
             ],
             [
              0.3333333333333333,
              "#9c179e"
             ],
             [
              0.4444444444444444,
              "#bd3786"
             ],
             [
              0.5555555555555556,
              "#d8576b"
             ],
             [
              0.6666666666666666,
              "#ed7953"
             ],
             [
              0.7777777777777778,
              "#fb9f3a"
             ],
             [
              0.8888888888888888,
              "#fdca26"
             ],
             [
              1,
              "#f0f921"
             ]
            ],
            "type": "contour"
           }
          ],
          "contourcarpet": [
           {
            "colorbar": {
             "outlinewidth": 0,
             "ticks": ""
            },
            "type": "contourcarpet"
           }
          ],
          "heatmap": [
           {
            "colorbar": {
             "outlinewidth": 0,
             "ticks": ""
            },
            "colorscale": [
             [
              0,
              "#0d0887"
             ],
             [
              0.1111111111111111,
              "#46039f"
             ],
             [
              0.2222222222222222,
              "#7201a8"
             ],
             [
              0.3333333333333333,
              "#9c179e"
             ],
             [
              0.4444444444444444,
              "#bd3786"
             ],
             [
              0.5555555555555556,
              "#d8576b"
             ],
             [
              0.6666666666666666,
              "#ed7953"
             ],
             [
              0.7777777777777778,
              "#fb9f3a"
             ],
             [
              0.8888888888888888,
              "#fdca26"
             ],
             [
              1,
              "#f0f921"
             ]
            ],
            "type": "heatmap"
           }
          ],
          "heatmapgl": [
           {
            "colorbar": {
             "outlinewidth": 0,
             "ticks": ""
            },
            "colorscale": [
             [
              0,
              "#0d0887"
             ],
             [
              0.1111111111111111,
              "#46039f"
             ],
             [
              0.2222222222222222,
              "#7201a8"
             ],
             [
              0.3333333333333333,
              "#9c179e"
             ],
             [
              0.4444444444444444,
              "#bd3786"
             ],
             [
              0.5555555555555556,
              "#d8576b"
             ],
             [
              0.6666666666666666,
              "#ed7953"
             ],
             [
              0.7777777777777778,
              "#fb9f3a"
             ],
             [
              0.8888888888888888,
              "#fdca26"
             ],
             [
              1,
              "#f0f921"
             ]
            ],
            "type": "heatmapgl"
           }
          ],
          "histogram": [
           {
            "marker": {
             "pattern": {
              "fillmode": "overlay",
              "size": 10,
              "solidity": 0.2
             }
            },
            "type": "histogram"
           }
          ],
          "histogram2d": [
           {
            "colorbar": {
             "outlinewidth": 0,
             "ticks": ""
            },
            "colorscale": [
             [
              0,
              "#0d0887"
             ],
             [
              0.1111111111111111,
              "#46039f"
             ],
             [
              0.2222222222222222,
              "#7201a8"
             ],
             [
              0.3333333333333333,
              "#9c179e"
             ],
             [
              0.4444444444444444,
              "#bd3786"
             ],
             [
              0.5555555555555556,
              "#d8576b"
             ],
             [
              0.6666666666666666,
              "#ed7953"
             ],
             [
              0.7777777777777778,
              "#fb9f3a"
             ],
             [
              0.8888888888888888,
              "#fdca26"
             ],
             [
              1,
              "#f0f921"
             ]
            ],
            "type": "histogram2d"
           }
          ],
          "histogram2dcontour": [
           {
            "colorbar": {
             "outlinewidth": 0,
             "ticks": ""
            },
            "colorscale": [
             [
              0,
              "#0d0887"
             ],
             [
              0.1111111111111111,
              "#46039f"
             ],
             [
              0.2222222222222222,
              "#7201a8"
             ],
             [
              0.3333333333333333,
              "#9c179e"
             ],
             [
              0.4444444444444444,
              "#bd3786"
             ],
             [
              0.5555555555555556,
              "#d8576b"
             ],
             [
              0.6666666666666666,
              "#ed7953"
             ],
             [
              0.7777777777777778,
              "#fb9f3a"
             ],
             [
              0.8888888888888888,
              "#fdca26"
             ],
             [
              1,
              "#f0f921"
             ]
            ],
            "type": "histogram2dcontour"
           }
          ],
          "mesh3d": [
           {
            "colorbar": {
             "outlinewidth": 0,
             "ticks": ""
            },
            "type": "mesh3d"
           }
          ],
          "parcoords": [
           {
            "line": {
             "colorbar": {
              "outlinewidth": 0,
              "ticks": ""
             }
            },
            "type": "parcoords"
           }
          ],
          "pie": [
           {
            "automargin": true,
            "type": "pie"
           }
          ],
          "scatter": [
           {
            "fillpattern": {
             "fillmode": "overlay",
             "size": 10,
             "solidity": 0.2
            },
            "type": "scatter"
           }
          ],
          "scatter3d": [
           {
            "line": {
             "colorbar": {
              "outlinewidth": 0,
              "ticks": ""
             }
            },
            "marker": {
             "colorbar": {
              "outlinewidth": 0,
              "ticks": ""
             }
            },
            "type": "scatter3d"
           }
          ],
          "scattercarpet": [
           {
            "marker": {
             "colorbar": {
              "outlinewidth": 0,
              "ticks": ""
             }
            },
            "type": "scattercarpet"
           }
          ],
          "scattergeo": [
           {
            "marker": {
             "colorbar": {
              "outlinewidth": 0,
              "ticks": ""
             }
            },
            "type": "scattergeo"
           }
          ],
          "scattergl": [
           {
            "marker": {
             "colorbar": {
              "outlinewidth": 0,
              "ticks": ""
             }
            },
            "type": "scattergl"
           }
          ],
          "scattermapbox": [
           {
            "marker": {
             "colorbar": {
              "outlinewidth": 0,
              "ticks": ""
             }
            },
            "type": "scattermapbox"
           }
          ],
          "scatterpolar": [
           {
            "marker": {
             "colorbar": {
              "outlinewidth": 0,
              "ticks": ""
             }
            },
            "type": "scatterpolar"
           }
          ],
          "scatterpolargl": [
           {
            "marker": {
             "colorbar": {
              "outlinewidth": 0,
              "ticks": ""
             }
            },
            "type": "scatterpolargl"
           }
          ],
          "scatterternary": [
           {
            "marker": {
             "colorbar": {
              "outlinewidth": 0,
              "ticks": ""
             }
            },
            "type": "scatterternary"
           }
          ],
          "surface": [
           {
            "colorbar": {
             "outlinewidth": 0,
             "ticks": ""
            },
            "colorscale": [
             [
              0,
              "#0d0887"
             ],
             [
              0.1111111111111111,
              "#46039f"
             ],
             [
              0.2222222222222222,
              "#7201a8"
             ],
             [
              0.3333333333333333,
              "#9c179e"
             ],
             [
              0.4444444444444444,
              "#bd3786"
             ],
             [
              0.5555555555555556,
              "#d8576b"
             ],
             [
              0.6666666666666666,
              "#ed7953"
             ],
             [
              0.7777777777777778,
              "#fb9f3a"
             ],
             [
              0.8888888888888888,
              "#fdca26"
             ],
             [
              1,
              "#f0f921"
             ]
            ],
            "type": "surface"
           }
          ],
          "table": [
           {
            "cells": {
             "fill": {
              "color": "#EBF0F8"
             },
             "line": {
              "color": "white"
             }
            },
            "header": {
             "fill": {
              "color": "#C8D4E3"
             },
             "line": {
              "color": "white"
             }
            },
            "type": "table"
           }
          ]
         },
         "layout": {
          "annotationdefaults": {
           "arrowcolor": "#2a3f5f",
           "arrowhead": 0,
           "arrowwidth": 1
          },
          "autotypenumbers": "strict",
          "coloraxis": {
           "colorbar": {
            "outlinewidth": 0,
            "ticks": ""
           }
          },
          "colorscale": {
           "diverging": [
            [
             0,
             "#8e0152"
            ],
            [
             0.1,
             "#c51b7d"
            ],
            [
             0.2,
             "#de77ae"
            ],
            [
             0.3,
             "#f1b6da"
            ],
            [
             0.4,
             "#fde0ef"
            ],
            [
             0.5,
             "#f7f7f7"
            ],
            [
             0.6,
             "#e6f5d0"
            ],
            [
             0.7,
             "#b8e186"
            ],
            [
             0.8,
             "#7fbc41"
            ],
            [
             0.9,
             "#4d9221"
            ],
            [
             1,
             "#276419"
            ]
           ],
           "sequential": [
            [
             0,
             "#0d0887"
            ],
            [
             0.1111111111111111,
             "#46039f"
            ],
            [
             0.2222222222222222,
             "#7201a8"
            ],
            [
             0.3333333333333333,
             "#9c179e"
            ],
            [
             0.4444444444444444,
             "#bd3786"
            ],
            [
             0.5555555555555556,
             "#d8576b"
            ],
            [
             0.6666666666666666,
             "#ed7953"
            ],
            [
             0.7777777777777778,
             "#fb9f3a"
            ],
            [
             0.8888888888888888,
             "#fdca26"
            ],
            [
             1,
             "#f0f921"
            ]
           ],
           "sequentialminus": [
            [
             0,
             "#0d0887"
            ],
            [
             0.1111111111111111,
             "#46039f"
            ],
            [
             0.2222222222222222,
             "#7201a8"
            ],
            [
             0.3333333333333333,
             "#9c179e"
            ],
            [
             0.4444444444444444,
             "#bd3786"
            ],
            [
             0.5555555555555556,
             "#d8576b"
            ],
            [
             0.6666666666666666,
             "#ed7953"
            ],
            [
             0.7777777777777778,
             "#fb9f3a"
            ],
            [
             0.8888888888888888,
             "#fdca26"
            ],
            [
             1,
             "#f0f921"
            ]
           ]
          },
          "colorway": [
           "#636efa",
           "#EF553B",
           "#00cc96",
           "#ab63fa",
           "#FFA15A",
           "#19d3f3",
           "#FF6692",
           "#B6E880",
           "#FF97FF",
           "#FECB52"
          ],
          "font": {
           "color": "#2a3f5f"
          },
          "geo": {
           "bgcolor": "white",
           "lakecolor": "white",
           "landcolor": "#E5ECF6",
           "showlakes": true,
           "showland": true,
           "subunitcolor": "white"
          },
          "hoverlabel": {
           "align": "left"
          },
          "hovermode": "closest",
          "mapbox": {
           "style": "light"
          },
          "paper_bgcolor": "white",
          "plot_bgcolor": "#E5ECF6",
          "polar": {
           "angularaxis": {
            "gridcolor": "white",
            "linecolor": "white",
            "ticks": ""
           },
           "bgcolor": "#E5ECF6",
           "radialaxis": {
            "gridcolor": "white",
            "linecolor": "white",
            "ticks": ""
           }
          },
          "scene": {
           "xaxis": {
            "backgroundcolor": "#E5ECF6",
            "gridcolor": "white",
            "gridwidth": 2,
            "linecolor": "white",
            "showbackground": true,
            "ticks": "",
            "zerolinecolor": "white"
           },
           "yaxis": {
            "backgroundcolor": "#E5ECF6",
            "gridcolor": "white",
            "gridwidth": 2,
            "linecolor": "white",
            "showbackground": true,
            "ticks": "",
            "zerolinecolor": "white"
           },
           "zaxis": {
            "backgroundcolor": "#E5ECF6",
            "gridcolor": "white",
            "gridwidth": 2,
            "linecolor": "white",
            "showbackground": true,
            "ticks": "",
            "zerolinecolor": "white"
           }
          },
          "shapedefaults": {
           "line": {
            "color": "#2a3f5f"
           }
          },
          "ternary": {
           "aaxis": {
            "gridcolor": "white",
            "linecolor": "white",
            "ticks": ""
           },
           "baxis": {
            "gridcolor": "white",
            "linecolor": "white",
            "ticks": ""
           },
           "bgcolor": "#E5ECF6",
           "caxis": {
            "gridcolor": "white",
            "linecolor": "white",
            "ticks": ""
           }
          },
          "title": {
           "x": 0.05
          },
          "xaxis": {
           "automargin": true,
           "gridcolor": "white",
           "linecolor": "white",
           "ticks": "",
           "title": {
            "standoff": 15
           },
           "zerolinecolor": "white",
           "zerolinewidth": 2
          },
          "yaxis": {
           "automargin": true,
           "gridcolor": "white",
           "linecolor": "white",
           "ticks": "",
           "title": {
            "standoff": 15
           },
           "zerolinecolor": "white",
           "zerolinewidth": 2
          }
         }
        },
        "title": {
         "font": {
          "color": "black"
         },
         "text": "Vuelta A Espana 2022 GC Contenders",
         "x": 0.5,
         "y": 0.9
        },
        "width": 1000,
        "xaxis": {
         "side": "bottom"
        }
       }
      },
      "text/html": [
       "<div>                            <div id=\"cc24143b-f4fb-454f-9f87-069673a3264c\" class=\"plotly-graph-div\" style=\"height:600px; width:1000px;\"></div>            <script type=\"text/javascript\">                require([\"plotly\"], function(Plotly) {                    window.PLOTLYENV=window.PLOTLYENV || {};                                    if (document.getElementById(\"cc24143b-f4fb-454f-9f87-069673a3264c\")) {                    Plotly.newPlot(                        \"cc24143b-f4fb-454f-9f87-069673a3264c\",                        [{\"colorscale\":[[0.0,\"rgb(247,251,255)\"],[0.125,\"rgb(222,235,247)\"],[0.25,\"rgb(198,219,239)\"],[0.375,\"rgb(158,202,225)\"],[0.5,\"rgb(107,174,214)\"],[0.625,\"rgb(66,146,198)\"],[0.75,\"rgb(33,113,181)\"],[0.875,\"rgb(8,81,156)\"],[1.0,\"rgb(8,48,107)\"]],\"text\":[[0.01,0.035,0.124,0.268,0.292,0.307,0.41,0.413,0.454,null],[0.012,0.042,0.146,0.305,0.332,0.347,0.455,0.458,null,0.546],[0.014,0.05,0.168,0.342,0.37,0.387,0.497,null,0.542,0.587],[0.014,0.05,0.169,0.345,0.373,0.389,null,0.503,0.545,0.59],[0.022,0.076,0.243,0.452,0.483,null,0.611,0.613,0.653,0.693],[0.024,0.081,0.256,0.469,null,0.517,0.627,0.63,0.668,0.708],[0.027,0.091,0.28,null,0.531,0.548,0.655,0.658,0.695,0.732],[0.067,0.205,null,0.72,0.744,0.757,0.831,0.832,0.854,0.876],[0.217,null,0.795,0.909,0.919,0.924,0.95,0.95,0.958,0.965],[null,0.783,0.933,0.973,0.976,0.978,0.986,0.986,0.988,0.99]],\"textfont\":{\"size\":10},\"texttemplate\":\"%{text}\",\"x\":[\"ROGLI\\u010c Primo\\u017e\",\"HINDLEY Jai\",\"CARAPAZ Richard\",\"YATES Simon\",\"LANDA Mikel\",\"MAS Enric\",\"HIGUITA Sergio\",\"O'CONNOR Ben\",\"QUINTANA Nairo\",\"HAIG Jack\"],\"y\":[\"HAIG Jack\",\"QUINTANA Nairo\",\"O'CONNOR Ben\",\"HIGUITA Sergio\",\"MAS Enric\",\"LANDA Mikel\",\"YATES Simon\",\"CARAPAZ Richard\",\"HINDLEY Jai\",\"ROGLI\\u010c Primo\\u017e\"],\"z\":[[0.01,0.035,0.124,0.268,0.292,0.307,0.41,0.413,0.454,null],[0.012,0.042,0.146,0.305,0.332,0.347,0.455,0.458,null,0.546],[0.014,0.05,0.168,0.342,0.37,0.387,0.497,null,0.542,0.587],[0.014,0.05,0.169,0.345,0.373,0.389,null,0.503,0.545,0.59],[0.022,0.076,0.243,0.452,0.483,null,0.611,0.613,0.653,0.693],[0.024,0.081,0.256,0.469,null,0.517,0.627,0.63,0.668,0.708],[0.027,0.091,0.28,null,0.531,0.548,0.655,0.658,0.695,0.732],[0.067,0.205,null,0.72,0.744,0.757,0.831,0.832,0.854,0.876],[0.217,null,0.795,0.909,0.919,0.924,0.95,0.95,0.958,0.965],[null,0.783,0.933,0.973,0.976,0.978,0.986,0.986,0.988,0.99]],\"type\":\"heatmap\"}],                        {\"template\":{\"data\":{\"histogram2dcontour\":[{\"type\":\"histogram2dcontour\",\"colorbar\":{\"outlinewidth\":0,\"ticks\":\"\"},\"colorscale\":[[0.0,\"#0d0887\"],[0.1111111111111111,\"#46039f\"],[0.2222222222222222,\"#7201a8\"],[0.3333333333333333,\"#9c179e\"],[0.4444444444444444,\"#bd3786\"],[0.5555555555555556,\"#d8576b\"],[0.6666666666666666,\"#ed7953\"],[0.7777777777777778,\"#fb9f3a\"],[0.8888888888888888,\"#fdca26\"],[1.0,\"#f0f921\"]]}],\"choropleth\":[{\"type\":\"choropleth\",\"colorbar\":{\"outlinewidth\":0,\"ticks\":\"\"}}],\"histogram2d\":[{\"type\":\"histogram2d\",\"colorbar\":{\"outlinewidth\":0,\"ticks\":\"\"},\"colorscale\":[[0.0,\"#0d0887\"],[0.1111111111111111,\"#46039f\"],[0.2222222222222222,\"#7201a8\"],[0.3333333333333333,\"#9c179e\"],[0.4444444444444444,\"#bd3786\"],[0.5555555555555556,\"#d8576b\"],[0.6666666666666666,\"#ed7953\"],[0.7777777777777778,\"#fb9f3a\"],[0.8888888888888888,\"#fdca26\"],[1.0,\"#f0f921\"]]}],\"heatmap\":[{\"type\":\"heatmap\",\"colorbar\":{\"outlinewidth\":0,\"ticks\":\"\"},\"colorscale\":[[0.0,\"#0d0887\"],[0.1111111111111111,\"#46039f\"],[0.2222222222222222,\"#7201a8\"],[0.3333333333333333,\"#9c179e\"],[0.4444444444444444,\"#bd3786\"],[0.5555555555555556,\"#d8576b\"],[0.6666666666666666,\"#ed7953\"],[0.7777777777777778,\"#fb9f3a\"],[0.8888888888888888,\"#fdca26\"],[1.0,\"#f0f921\"]]}],\"heatmapgl\":[{\"type\":\"heatmapgl\",\"colorbar\":{\"outlinewidth\":0,\"ticks\":\"\"},\"colorscale\":[[0.0,\"#0d0887\"],[0.1111111111111111,\"#46039f\"],[0.2222222222222222,\"#7201a8\"],[0.3333333333333333,\"#9c179e\"],[0.4444444444444444,\"#bd3786\"],[0.5555555555555556,\"#d8576b\"],[0.6666666666666666,\"#ed7953\"],[0.7777777777777778,\"#fb9f3a\"],[0.8888888888888888,\"#fdca26\"],[1.0,\"#f0f921\"]]}],\"contourcarpet\":[{\"type\":\"contourcarpet\",\"colorbar\":{\"outlinewidth\":0,\"ticks\":\"\"}}],\"contour\":[{\"type\":\"contour\",\"colorbar\":{\"outlinewidth\":0,\"ticks\":\"\"},\"colorscale\":[[0.0,\"#0d0887\"],[0.1111111111111111,\"#46039f\"],[0.2222222222222222,\"#7201a8\"],[0.3333333333333333,\"#9c179e\"],[0.4444444444444444,\"#bd3786\"],[0.5555555555555556,\"#d8576b\"],[0.6666666666666666,\"#ed7953\"],[0.7777777777777778,\"#fb9f3a\"],[0.8888888888888888,\"#fdca26\"],[1.0,\"#f0f921\"]]}],\"surface\":[{\"type\":\"surface\",\"colorbar\":{\"outlinewidth\":0,\"ticks\":\"\"},\"colorscale\":[[0.0,\"#0d0887\"],[0.1111111111111111,\"#46039f\"],[0.2222222222222222,\"#7201a8\"],[0.3333333333333333,\"#9c179e\"],[0.4444444444444444,\"#bd3786\"],[0.5555555555555556,\"#d8576b\"],[0.6666666666666666,\"#ed7953\"],[0.7777777777777778,\"#fb9f3a\"],[0.8888888888888888,\"#fdca26\"],[1.0,\"#f0f921\"]]}],\"mesh3d\":[{\"type\":\"mesh3d\",\"colorbar\":{\"outlinewidth\":0,\"ticks\":\"\"}}],\"scatter\":[{\"fillpattern\":{\"fillmode\":\"overlay\",\"size\":10,\"solidity\":0.2},\"type\":\"scatter\"}],\"parcoords\":[{\"type\":\"parcoords\",\"line\":{\"colorbar\":{\"outlinewidth\":0,\"ticks\":\"\"}}}],\"scatterpolargl\":[{\"type\":\"scatterpolargl\",\"marker\":{\"colorbar\":{\"outlinewidth\":0,\"ticks\":\"\"}}}],\"bar\":[{\"error_x\":{\"color\":\"#2a3f5f\"},\"error_y\":{\"color\":\"#2a3f5f\"},\"marker\":{\"line\":{\"color\":\"#E5ECF6\",\"width\":0.5},\"pattern\":{\"fillmode\":\"overlay\",\"size\":10,\"solidity\":0.2}},\"type\":\"bar\"}],\"scattergeo\":[{\"type\":\"scattergeo\",\"marker\":{\"colorbar\":{\"outlinewidth\":0,\"ticks\":\"\"}}}],\"scatterpolar\":[{\"type\":\"scatterpolar\",\"marker\":{\"colorbar\":{\"outlinewidth\":0,\"ticks\":\"\"}}}],\"histogram\":[{\"marker\":{\"pattern\":{\"fillmode\":\"overlay\",\"size\":10,\"solidity\":0.2}},\"type\":\"histogram\"}],\"scattergl\":[{\"type\":\"scattergl\",\"marker\":{\"colorbar\":{\"outlinewidth\":0,\"ticks\":\"\"}}}],\"scatter3d\":[{\"type\":\"scatter3d\",\"line\":{\"colorbar\":{\"outlinewidth\":0,\"ticks\":\"\"}},\"marker\":{\"colorbar\":{\"outlinewidth\":0,\"ticks\":\"\"}}}],\"scattermapbox\":[{\"type\":\"scattermapbox\",\"marker\":{\"colorbar\":{\"outlinewidth\":0,\"ticks\":\"\"}}}],\"scatterternary\":[{\"type\":\"scatterternary\",\"marker\":{\"colorbar\":{\"outlinewidth\":0,\"ticks\":\"\"}}}],\"scattercarpet\":[{\"type\":\"scattercarpet\",\"marker\":{\"colorbar\":{\"outlinewidth\":0,\"ticks\":\"\"}}}],\"carpet\":[{\"aaxis\":{\"endlinecolor\":\"#2a3f5f\",\"gridcolor\":\"white\",\"linecolor\":\"white\",\"minorgridcolor\":\"white\",\"startlinecolor\":\"#2a3f5f\"},\"baxis\":{\"endlinecolor\":\"#2a3f5f\",\"gridcolor\":\"white\",\"linecolor\":\"white\",\"minorgridcolor\":\"white\",\"startlinecolor\":\"#2a3f5f\"},\"type\":\"carpet\"}],\"table\":[{\"cells\":{\"fill\":{\"color\":\"#EBF0F8\"},\"line\":{\"color\":\"white\"}},\"header\":{\"fill\":{\"color\":\"#C8D4E3\"},\"line\":{\"color\":\"white\"}},\"type\":\"table\"}],\"barpolar\":[{\"marker\":{\"line\":{\"color\":\"#E5ECF6\",\"width\":0.5},\"pattern\":{\"fillmode\":\"overlay\",\"size\":10,\"solidity\":0.2}},\"type\":\"barpolar\"}],\"pie\":[{\"automargin\":true,\"type\":\"pie\"}]},\"layout\":{\"autotypenumbers\":\"strict\",\"colorway\":[\"#636efa\",\"#EF553B\",\"#00cc96\",\"#ab63fa\",\"#FFA15A\",\"#19d3f3\",\"#FF6692\",\"#B6E880\",\"#FF97FF\",\"#FECB52\"],\"font\":{\"color\":\"#2a3f5f\"},\"hovermode\":\"closest\",\"hoverlabel\":{\"align\":\"left\"},\"paper_bgcolor\":\"white\",\"plot_bgcolor\":\"#E5ECF6\",\"polar\":{\"bgcolor\":\"#E5ECF6\",\"angularaxis\":{\"gridcolor\":\"white\",\"linecolor\":\"white\",\"ticks\":\"\"},\"radialaxis\":{\"gridcolor\":\"white\",\"linecolor\":\"white\",\"ticks\":\"\"}},\"ternary\":{\"bgcolor\":\"#E5ECF6\",\"aaxis\":{\"gridcolor\":\"white\",\"linecolor\":\"white\",\"ticks\":\"\"},\"baxis\":{\"gridcolor\":\"white\",\"linecolor\":\"white\",\"ticks\":\"\"},\"caxis\":{\"gridcolor\":\"white\",\"linecolor\":\"white\",\"ticks\":\"\"}},\"coloraxis\":{\"colorbar\":{\"outlinewidth\":0,\"ticks\":\"\"}},\"colorscale\":{\"sequential\":[[0.0,\"#0d0887\"],[0.1111111111111111,\"#46039f\"],[0.2222222222222222,\"#7201a8\"],[0.3333333333333333,\"#9c179e\"],[0.4444444444444444,\"#bd3786\"],[0.5555555555555556,\"#d8576b\"],[0.6666666666666666,\"#ed7953\"],[0.7777777777777778,\"#fb9f3a\"],[0.8888888888888888,\"#fdca26\"],[1.0,\"#f0f921\"]],\"sequentialminus\":[[0.0,\"#0d0887\"],[0.1111111111111111,\"#46039f\"],[0.2222222222222222,\"#7201a8\"],[0.3333333333333333,\"#9c179e\"],[0.4444444444444444,\"#bd3786\"],[0.5555555555555556,\"#d8576b\"],[0.6666666666666666,\"#ed7953\"],[0.7777777777777778,\"#fb9f3a\"],[0.8888888888888888,\"#fdca26\"],[1.0,\"#f0f921\"]],\"diverging\":[[0,\"#8e0152\"],[0.1,\"#c51b7d\"],[0.2,\"#de77ae\"],[0.3,\"#f1b6da\"],[0.4,\"#fde0ef\"],[0.5,\"#f7f7f7\"],[0.6,\"#e6f5d0\"],[0.7,\"#b8e186\"],[0.8,\"#7fbc41\"],[0.9,\"#4d9221\"],[1,\"#276419\"]]},\"xaxis\":{\"gridcolor\":\"white\",\"linecolor\":\"white\",\"ticks\":\"\",\"title\":{\"standoff\":15},\"zerolinecolor\":\"white\",\"automargin\":true,\"zerolinewidth\":2},\"yaxis\":{\"gridcolor\":\"white\",\"linecolor\":\"white\",\"ticks\":\"\",\"title\":{\"standoff\":15},\"zerolinecolor\":\"white\",\"automargin\":true,\"zerolinewidth\":2},\"scene\":{\"xaxis\":{\"backgroundcolor\":\"#E5ECF6\",\"gridcolor\":\"white\",\"linecolor\":\"white\",\"showbackground\":true,\"ticks\":\"\",\"zerolinecolor\":\"white\",\"gridwidth\":2},\"yaxis\":{\"backgroundcolor\":\"#E5ECF6\",\"gridcolor\":\"white\",\"linecolor\":\"white\",\"showbackground\":true,\"ticks\":\"\",\"zerolinecolor\":\"white\",\"gridwidth\":2},\"zaxis\":{\"backgroundcolor\":\"#E5ECF6\",\"gridcolor\":\"white\",\"linecolor\":\"white\",\"showbackground\":true,\"ticks\":\"\",\"zerolinecolor\":\"white\",\"gridwidth\":2}},\"shapedefaults\":{\"line\":{\"color\":\"#2a3f5f\"}},\"annotationdefaults\":{\"arrowcolor\":\"#2a3f5f\",\"arrowhead\":0,\"arrowwidth\":1},\"geo\":{\"bgcolor\":\"white\",\"landcolor\":\"#E5ECF6\",\"subunitcolor\":\"white\",\"showland\":true,\"showlakes\":true,\"lakecolor\":\"white\"},\"title\":{\"x\":0.05},\"mapbox\":{\"style\":\"light\"}}},\"title\":{\"font\":{\"color\":\"black\"},\"text\":\"Vuelta A Espana 2022 GC Contenders\",\"x\":0.5,\"y\":0.9},\"xaxis\":{\"side\":\"bottom\"},\"plot_bgcolor\":\"white\",\"width\":1000,\"height\":600},                        {\"responsive\": true}                    ).then(function(){\n",
       "                            \n",
       "var gd = document.getElementById('cc24143b-f4fb-454f-9f87-069673a3264c');\n",
       "var x = new MutationObserver(function (mutations, observer) {{\n",
       "        var display = window.getComputedStyle(gd).display;\n",
       "        if (!display || display === 'none') {{\n",
       "            console.log([gd, 'removed!']);\n",
       "            Plotly.purge(gd);\n",
       "            observer.disconnect();\n",
       "        }}\n",
       "}});\n",
       "\n",
       "// Listen for the removal of the full notebook cells\n",
       "var notebookContainer = gd.closest('#notebook-container');\n",
       "if (notebookContainer) {{\n",
       "    x.observe(notebookContainer, {childList: true});\n",
       "}}\n",
       "\n",
       "// Listen for the clearing of the current output cell\n",
       "var outputEl = gd.closest('.output');\n",
       "if (outputEl) {{\n",
       "    x.observe(outputEl, {childList: true});\n",
       "}}\n",
       "\n",
       "                        })                };                });            </script>        </div>"
      ]
     },
     "metadata": {},
     "output_type": "display_data"
    }
   ],
   "source": [
    "heatmap(ratings, STARTLIST, RACE.replace('-', ' ').title(), YEAR, RACE_TYPE,\n",
    "        to_include = 10, q_base = 10, q_div = 150,\n",
    "        fname = f'{RACE}-{YEAR}-{RACE_TYPE.lower()}-{GENDER}-heatmap.png')"
   ]
  },
  {
   "cell_type": "code",
   "execution_count": null,
   "metadata": {},
   "outputs": [],
   "source": []
  }
 ],
 "metadata": {
  "kernelspec": {
   "display_name": "Python 3",
   "language": "python",
   "name": "python3"
  },
  "language_info": {
   "codemirror_mode": {
    "name": "ipython",
    "version": 3
   },
   "file_extension": ".py",
   "mimetype": "text/x-python",
   "name": "python",
   "nbconvert_exporter": "python",
   "pygments_lexer": "ipython3",
   "version": "3.7.6"
  }
 },
 "nbformat": 4,
 "nbformat_minor": 4
}
